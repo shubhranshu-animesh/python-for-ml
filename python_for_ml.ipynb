{
  "nbformat": 4,
  "nbformat_minor": 0,
  "metadata": {
    "colab": {
      "provenance": [],
      "collapsed_sections": [
        "WWczpLrDNgLN",
        "cC6i4EbMoyg8"
      ]
    },
    "kernelspec": {
      "name": "python3",
      "display_name": "Python 3"
    },
    "language_info": {
      "name": "python"
    }
  },
  "cells": [
    {
      "cell_type": "markdown",
      "metadata": {
        "id": "WyV51KhTND16"
      },
      "source": [
        "# **PYTHON (Practice):**"
      ]
    },
    {
      "cell_type": "markdown",
      "source": [
        "**References:**\n",
        "* Mainly: [Derek Banas - Python Playlist](https://www.youtube.com/playlist?list=PLGLfVvz_LVvTn3cK5e6LjhgGiSeVlIRwt): Videos 1-6\n",
        "* [W3Schools - Python](https://www.w3schools.com/python/python_strings.asp)\n",
        "* [Kaggle Python Course](https://www.kaggle.com/learn/python)"
      ],
      "metadata": {
        "id": "3OwhDpSyszhA"
      }
    },
    {
      "cell_type": "code",
      "source": [
        "x = input()\n",
        "print(type(x))\n",
        "x=int(x)\n",
        "type(x)"
      ],
      "metadata": {
        "colab": {
          "base_uri": "https://localhost:8080/"
        },
        "id": "N0ygulCE9zlS",
        "outputId": "ab10c908-bb3d-49d0-dcf1-84eaef35d8fc"
      },
      "execution_count": 1,
      "outputs": [
        {
          "output_type": "stream",
          "name": "stdout",
          "text": [
            "5\n",
            "<class 'str'>\n"
          ]
        },
        {
          "output_type": "execute_result",
          "data": {
            "text/plain": [
              "int"
            ]
          },
          "metadata": {},
          "execution_count": 1
        }
      ]
    },
    {
      "cell_type": "code",
      "metadata": {
        "colab": {
          "base_uri": "https://localhost:8080/"
        },
        "id": "CI3RaP8VNDeA",
        "outputId": "82917cef-505b-4a59-d322-d2e0ea9f048c"
      },
      "source": [
        "x = int(input(\"Enter Miles: \"))\n",
        "km = x*1.60934\n",
        "print(\"{} miles equals {} kilometres\".format(x,km))"
      ],
      "execution_count": 2,
      "outputs": [
        {
          "output_type": "stream",
          "name": "stdout",
          "text": [
            "Enter Miles: 5\n",
            "5 miles equals 8.0467 kilometres\n"
          ]
        }
      ]
    },
    {
      "cell_type": "code",
      "metadata": {
        "colab": {
          "base_uri": "https://localhost:8080/"
        },
        "id": "RLB5Hm1D3K15",
        "outputId": "5551f04a-1bac-4f44-ff13-f5e9c6fc76c1"
      },
      "source": [
        "float_no = float(input(\"Enter a float: \"))\n",
        "print(\"Rounded to 2 decimals: {:.2f}\".format(float_no))"
      ],
      "execution_count": 3,
      "outputs": [
        {
          "output_type": "stream",
          "name": "stdout",
          "text": [
            "Enter a float: 6.747\n",
            "Rounded to 2 decimals: 6.75\n"
          ]
        }
      ]
    },
    {
      "cell_type": "code",
      "source": [
        "print(\"Print statement\") # python automatically adds a new line when using print()\n",
        "print(\"by default, ends with a\")\n",
        "print(\"newline \", end=\"\")\n",
        "print(\"unless you do\", end=\" \")\n",
        "print(\"this\")"
      ],
      "metadata": {
        "colab": {
          "base_uri": "https://localhost:8080/"
        },
        "id": "PksreGjOAeFe",
        "outputId": "41ebdaf0-46a3-4be7-b02b-eeb1e6c03508"
      },
      "execution_count": 4,
      "outputs": [
        {
          "output_type": "stream",
          "name": "stdout",
          "text": [
            "Print statement\n",
            "by default, ends with a\n",
            "newline unless you do this\n"
          ]
        }
      ]
    },
    {
      "cell_type": "code",
      "metadata": {
        "id": "2r2WoxbG5z0o",
        "colab": {
          "base_uri": "https://localhost:8080/"
        },
        "outputId": "be8bfc10-f6bd-4a2d-af70-e11f9f328e24"
      },
      "source": [
        "import random\n",
        "\n",
        "randi_num = random.randrange(1, 51)\n",
        "\n",
        "print(randi_num)"
      ],
      "execution_count": 5,
      "outputs": [
        {
          "output_type": "stream",
          "name": "stdout",
          "text": [
            "1\n"
          ]
        }
      ]
    },
    {
      "cell_type": "code",
      "metadata": {
        "colab": {
          "base_uri": "https://localhost:8080/"
        },
        "id": "aNrU2kAGOF8i",
        "outputId": "2eaeebff-2f93-4f3e-bc80-5c51e55dd61d"
      },
      "source": [
        "#Enter Calculation: 5 * 6\n",
        "x, op, y = input(\"Enter Calculation: \").split()\n",
        "x = int(x)\n",
        "y = int(y)\n",
        "\n",
        "if op=='+':\n",
        "  print(\"{} + {} = {}\".format(x, y, x+y))\n",
        "\n",
        "elif op=='-':\n",
        "  print(\"{} - {} = {}\".format(x, y, x-y))\n",
        "\n",
        "elif op=='*':\n",
        "  print(\"{} * {} = {}\".format(x, y, x*y))\n",
        "\n",
        "elif op=='/':\n",
        "  print(\"{} / {} = {}\".format(x, y, x/y))\n",
        "\n",
        "elif op=='%':\n",
        "  print(\"{} % {} = {}\".format(x, y, x%y))\n",
        "\n",
        "else:\n",
        "  print(\"Invalid operator\")"
      ],
      "execution_count": 6,
      "outputs": [
        {
          "output_type": "stream",
          "name": "stdout",
          "text": [
            "Enter Calculation: 7 / 4\n",
            "7 / 4 = 1.75\n"
          ]
        }
      ]
    },
    {
      "cell_type": "code",
      "metadata": {
        "colab": {
          "base_uri": "https://localhost:8080/"
        },
        "id": "Gwo7hTCFO_Ql",
        "outputId": "d768d2f8-9b59-4104-9963-d06a8d58c565"
      },
      "source": [
        "#Compare 3 numbers and print greatest no.:\n",
        "a, b, c = input(\"Enter 3 numbers: \").split()\n",
        "\n",
        "\n",
        "if (a<b):\n",
        "  if (b<c):\n",
        "    print(c)\n",
        "  else:\n",
        "    print(b)\n",
        "\n",
        "else:\n",
        "  if (b>c):\n",
        "    print(a)\n",
        "  else:\n",
        "    if (a>c):\n",
        "      print(a)\n",
        "    else:\n",
        "      print(c)"
      ],
      "execution_count": 7,
      "outputs": [
        {
          "output_type": "stream",
          "name": "stdout",
          "text": [
            "Enter 3 numbers: 6 4 9\n",
            "9\n"
          ]
        }
      ]
    },
    {
      "cell_type": "code",
      "metadata": {
        "colab": {
          "base_uri": "https://localhost:8080/"
        },
        "id": "VZKuH5bOTcgN",
        "outputId": "28a5d03f-01e7-463b-b142-7dd28d853690"
      },
      "source": [
        "x, y, z = \"ten\", 4, '3'\n",
        "print(x, y, z)\n",
        "print(type(x))\n",
        "print(type(y))\n",
        "print(type(z))"
      ],
      "execution_count": 8,
      "outputs": [
        {
          "output_type": "stream",
          "name": "stdout",
          "text": [
            "ten 4 3\n",
            "<class 'str'>\n",
            "<class 'int'>\n",
            "<class 'str'>\n"
          ]
        }
      ]
    },
    {
      "cell_type": "code",
      "metadata": {
        "colab": {
          "base_uri": "https://localhost:8080/"
        },
        "id": "jDBSySpJ3Ksh",
        "outputId": "ae9c2920-6c94-492a-d990-3ce7f866dc4a"
      },
      "source": [
        "#for loop\n",
        "x = int(20)\n",
        "for i in range(x): #from 0 to x-1\n",
        "  if(i%2==0):\n",
        "    print(i)"
      ],
      "execution_count": 9,
      "outputs": [
        {
          "output_type": "stream",
          "name": "stdout",
          "text": [
            "0\n",
            "2\n",
            "4\n",
            "6\n",
            "8\n",
            "10\n",
            "12\n",
            "14\n",
            "16\n",
            "18\n"
          ]
        }
      ]
    },
    {
      "cell_type": "code",
      "metadata": {
        "colab": {
          "base_uri": "https://localhost:8080/"
        },
        "id": "ldmGTjje55Cw",
        "outputId": "b9b96801-8e55-463e-b1ec-da5838268fe0"
      },
      "source": [
        "#while loop\n",
        "\n",
        "i = 1\n",
        "\n",
        "while i<=20:\n",
        "\n",
        "  if i%2 == 0:\n",
        "    i+=1\n",
        "    continue\n",
        "\n",
        "  if i == 15:\n",
        "    break\n",
        "\n",
        "  print (i)\n",
        "\n",
        "  i+=1"
      ],
      "execution_count": 10,
      "outputs": [
        {
          "output_type": "stream",
          "name": "stdout",
          "text": [
            "1\n",
            "3\n",
            "5\n",
            "7\n",
            "9\n",
            "11\n",
            "13\n"
          ]
        }
      ]
    },
    {
      "cell_type": "code",
      "metadata": {
        "colab": {
          "base_uri": "https://localhost:8080/"
        },
        "id": "yMvEeCMa8O6m",
        "outputId": "37f6dd7a-d692-4ed2-bdac-fa071cac878d"
      },
      "source": [
        "#print pine tree\n",
        "\n",
        "n = int(input(\"Enter tree height: \"))\n",
        "\n",
        "spaces = n-1\n",
        "hashes = 1\n",
        "\n",
        "bottom_spaces = n-1\n",
        "\n",
        "while n!=0:\n",
        "  for i in range(spaces):\n",
        "    print(' ', end=\"\") #print( , end=\"\") used so that line doesn't change\n",
        "\n",
        "  for i in range(hashes):\n",
        "    print(\"#\", end=\"\")\n",
        "\n",
        "  print()  #for newline (after each row is printed)\n",
        "\n",
        "  spaces-=1\n",
        "  hashes+=2\n",
        "\n",
        "  n-=1\n",
        "\n",
        "for i in range(bottom_spaces):\n",
        "    print(' ', end=\"\")\n",
        "print(\"#\")"
      ],
      "execution_count": 11,
      "outputs": [
        {
          "output_type": "stream",
          "name": "stdout",
          "text": [
            "Enter tree height: 5\n",
            "    #\n",
            "   ###\n",
            "  #####\n",
            " #######\n",
            "#########\n",
            "    #\n"
          ]
        }
      ]
    },
    {
      "cell_type": "code",
      "metadata": {
        "colab": {
          "base_uri": "https://localhost:8080/"
        },
        "id": "ibDt5ohgJb70",
        "outputId": "05e2b95b-8dd9-4831-9d96-0fcff3995a22"
      },
      "source": [
        "from decimal import Decimal as D\n",
        "sum=0\n",
        "sum+=D(\"0.1\")\n",
        "sum+=D(\"0.1\")\n",
        "sum+=D(\"0.1\")\n",
        "sum-=D(\"0.3\")\n",
        "\n",
        "print(sum)\n",
        "print(0.1+0.1+0.1-0.3) #thus use decimal library function"
      ],
      "execution_count": 12,
      "outputs": [
        {
          "output_type": "stream",
          "name": "stdout",
          "text": [
            "0.0\n",
            "5.551115123125783e-17\n"
          ]
        }
      ]
    },
    {
      "cell_type": "code",
      "metadata": {
        "colab": {
          "base_uri": "https://localhost:8080/"
        },
        "id": "TrLx25sYKNTD",
        "outputId": "d48177a3-2de7-42a1-8164-aec8999f8aa7"
      },
      "source": [
        "#STRINGS\n",
        "\n",
        "sample_string = \"I am the best.\"\n",
        "\n",
        "print (sample_string[0]) #1st element\n",
        "print (sample_string[1]) #2nd element: which is a space here\n",
        "print (sample_string[-1]) #for last element\n",
        "print (sample_string[-2]) #2nd last element\n",
        "\n",
        "print() #for newline\n",
        "\n",
        "print (sample_string[0:4]) #last element of slicing not included: which is a space here\n",
        "print (sample_string[:-1])\n",
        "print (sample_string[2:]) #to get all elements till last starting from 3rd\n",
        "print (sample_string[:]) #to get everything\n",
        "\n",
        "print()\n",
        "\n",
        "print(len(sample_string))\n",
        "print(sample_string*5)\n",
        "\n",
        "print()\n",
        "\n",
        "for char in sample_string:\n",
        "  print(char)\n",
        "\n",
        "print()\n",
        "\n",
        "for i in range(1,len(sample_string)-1):\n",
        "  print(sample_string[i]+sample_string[i+1])"
      ],
      "execution_count": 13,
      "outputs": [
        {
          "output_type": "stream",
          "name": "stdout",
          "text": [
            "I\n",
            " \n",
            ".\n",
            "t\n",
            "\n",
            "I am\n",
            "I am the best\n",
            "am the best.\n",
            "I am the best.\n",
            "\n",
            "14\n",
            "I am the best.I am the best.I am the best.I am the best.I am the best.\n",
            "\n",
            "I\n",
            " \n",
            "a\n",
            "m\n",
            " \n",
            "t\n",
            "h\n",
            "e\n",
            " \n",
            "b\n",
            "e\n",
            "s\n",
            "t\n",
            ".\n",
            "\n",
            " a\n",
            "am\n",
            "m \n",
            " t\n",
            "th\n",
            "he\n",
            "e \n",
            " b\n",
            "be\n",
            "es\n",
            "st\n",
            "t.\n"
          ]
        }
      ]
    },
    {
      "cell_type": "code",
      "metadata": {
        "colab": {
          "base_uri": "https://localhost:8080/"
        },
        "id": "HyhfLiEHObn0",
        "outputId": "a6e00ae2-f88f-4a3e-fd53-6200b1f635c8"
      },
      "source": [
        "'''\n",
        "#Unicode\n",
        "\n",
        "A-Z: 65-90\n",
        "a-z: 97-122\n",
        "'''\n",
        "\n",
        "print(\"A = \", ord(\"A\"))\n",
        "print(\"65 = \", chr(65))"
      ],
      "execution_count": 14,
      "outputs": [
        {
          "output_type": "stream",
          "name": "stdout",
          "text": [
            "A =  65\n",
            "65 =  A\n"
          ]
        }
      ]
    },
    {
      "cell_type": "code",
      "metadata": {
        "colab": {
          "base_uri": "https://localhost:8080/"
        },
        "id": "yRy__4pJMlNP",
        "outputId": "6c4df925-4834-424d-a181-cbea2783fae0"
      },
      "source": [
        "original = input(\"Enter a String: \")\n",
        "\n",
        "secret = \"\"\n",
        "\n",
        "for char in original:\n",
        "  secret += str(ord(char))\n",
        "\n",
        "print(\"Secret message: \", secret)\n",
        "\n",
        "original = \"\"\n",
        "\n",
        "for i in range(0, len(secret)-1, 2):\n",
        "  code = secret[i] + secret[i+1]\n",
        "  original += chr(int(code))\n",
        "\n",
        "print(\"Original decrypted message: \", original)"
      ],
      "execution_count": 15,
      "outputs": [
        {
          "output_type": "stream",
          "name": "stdout",
          "text": [
            "Enter a String: Animesh\n",
            "Secret message:  65110105109101115104\n",
            "Original decrypted message:  A\u000b\u0001\u0005\n",
            "[\u0001\u000b3\u0004\n"
          ]
        }
      ]
    },
    {
      "cell_type": "code",
      "source": [
        "help(list)"
      ],
      "metadata": {
        "colab": {
          "base_uri": "https://localhost:8080/"
        },
        "id": "_FpuXPmFCIGD",
        "outputId": "13025573-d01d-4613-8ba0-66ac81105fe1"
      },
      "execution_count": 16,
      "outputs": [
        {
          "output_type": "stream",
          "name": "stdout",
          "text": [
            "Help on class list in module builtins:\n",
            "\n",
            "class list(object)\n",
            " |  list(iterable=(), /)\n",
            " |  \n",
            " |  Built-in mutable sequence.\n",
            " |  \n",
            " |  If no argument is given, the constructor creates a new empty list.\n",
            " |  The argument must be an iterable if specified.\n",
            " |  \n",
            " |  Methods defined here:\n",
            " |  \n",
            " |  __add__(self, value, /)\n",
            " |      Return self+value.\n",
            " |  \n",
            " |  __contains__(self, key, /)\n",
            " |      Return key in self.\n",
            " |  \n",
            " |  __delitem__(self, key, /)\n",
            " |      Delete self[key].\n",
            " |  \n",
            " |  __eq__(self, value, /)\n",
            " |      Return self==value.\n",
            " |  \n",
            " |  __ge__(self, value, /)\n",
            " |      Return self>=value.\n",
            " |  \n",
            " |  __getattribute__(self, name, /)\n",
            " |      Return getattr(self, name).\n",
            " |  \n",
            " |  __getitem__(...)\n",
            " |      x.__getitem__(y) <==> x[y]\n",
            " |  \n",
            " |  __gt__(self, value, /)\n",
            " |      Return self>value.\n",
            " |  \n",
            " |  __iadd__(self, value, /)\n",
            " |      Implement self+=value.\n",
            " |  \n",
            " |  __imul__(self, value, /)\n",
            " |      Implement self*=value.\n",
            " |  \n",
            " |  __init__(self, /, *args, **kwargs)\n",
            " |      Initialize self.  See help(type(self)) for accurate signature.\n",
            " |  \n",
            " |  __iter__(self, /)\n",
            " |      Implement iter(self).\n",
            " |  \n",
            " |  __le__(self, value, /)\n",
            " |      Return self<=value.\n",
            " |  \n",
            " |  __len__(self, /)\n",
            " |      Return len(self).\n",
            " |  \n",
            " |  __lt__(self, value, /)\n",
            " |      Return self<value.\n",
            " |  \n",
            " |  __mul__(self, value, /)\n",
            " |      Return self*value.\n",
            " |  \n",
            " |  __ne__(self, value, /)\n",
            " |      Return self!=value.\n",
            " |  \n",
            " |  __repr__(self, /)\n",
            " |      Return repr(self).\n",
            " |  \n",
            " |  __reversed__(self, /)\n",
            " |      Return a reverse iterator over the list.\n",
            " |  \n",
            " |  __rmul__(self, value, /)\n",
            " |      Return value*self.\n",
            " |  \n",
            " |  __setitem__(self, key, value, /)\n",
            " |      Set self[key] to value.\n",
            " |  \n",
            " |  __sizeof__(self, /)\n",
            " |      Return the size of the list in memory, in bytes.\n",
            " |  \n",
            " |  append(self, object, /)\n",
            " |      Append object to the end of the list.\n",
            " |  \n",
            " |  clear(self, /)\n",
            " |      Remove all items from list.\n",
            " |  \n",
            " |  copy(self, /)\n",
            " |      Return a shallow copy of the list.\n",
            " |  \n",
            " |  count(self, value, /)\n",
            " |      Return number of occurrences of value.\n",
            " |  \n",
            " |  extend(self, iterable, /)\n",
            " |      Extend list by appending elements from the iterable.\n",
            " |  \n",
            " |  index(self, value, start=0, stop=9223372036854775807, /)\n",
            " |      Return first index of value.\n",
            " |      \n",
            " |      Raises ValueError if the value is not present.\n",
            " |  \n",
            " |  insert(self, index, object, /)\n",
            " |      Insert object before index.\n",
            " |  \n",
            " |  pop(self, index=-1, /)\n",
            " |      Remove and return item at index (default last).\n",
            " |      \n",
            " |      Raises IndexError if list is empty or index is out of range.\n",
            " |  \n",
            " |  remove(self, value, /)\n",
            " |      Remove first occurrence of value.\n",
            " |      \n",
            " |      Raises ValueError if the value is not present.\n",
            " |  \n",
            " |  reverse(self, /)\n",
            " |      Reverse *IN PLACE*.\n",
            " |  \n",
            " |  sort(self, /, *, key=None, reverse=False)\n",
            " |      Sort the list in ascending order and return None.\n",
            " |      \n",
            " |      The sort is in-place (i.e. the list itself is modified) and stable (i.e. the\n",
            " |      order of two equal elements is maintained).\n",
            " |      \n",
            " |      If a key function is given, apply it once to each list item and sort them,\n",
            " |      ascending or descending, according to their function values.\n",
            " |      \n",
            " |      The reverse flag can be set to sort in descending order.\n",
            " |  \n",
            " |  ----------------------------------------------------------------------\n",
            " |  Class methods defined here:\n",
            " |  \n",
            " |  __class_getitem__(...) from builtins.type\n",
            " |      See PEP 585\n",
            " |  \n",
            " |  ----------------------------------------------------------------------\n",
            " |  Static methods defined here:\n",
            " |  \n",
            " |  __new__(*args, **kwargs) from builtins.type\n",
            " |      Create and return a new object.  See help(type) for accurate signature.\n",
            " |  \n",
            " |  ----------------------------------------------------------------------\n",
            " |  Data and other attributes defined here:\n",
            " |  \n",
            " |  __hash__ = None\n",
            "\n"
          ]
        }
      ]
    },
    {
      "cell_type": "code",
      "source": [
        "num = [1, 2, 3, 4]"
      ],
      "metadata": {
        "id": "e_tsOjlgGbHe"
      },
      "execution_count": 17,
      "outputs": []
    },
    {
      "cell_type": "markdown",
      "metadata": {
        "id": "jUI9qFDb0tXM"
      },
      "source": [
        "**Functions:**"
      ]
    },
    {
      "cell_type": "code",
      "metadata": {
        "colab": {
          "base_uri": "https://localhost:8080/"
        },
        "id": "TNJbv8l01DSg",
        "outputId": "3965216d-88e2-4ff4-b211-5848e0ade035"
      },
      "source": [
        "#Solve for x: x + 4 = 9\n",
        "\n",
        "def solve_eq(eq):\n",
        "  x, plus, y, equals, z = eq.split()\n",
        "  y, z = int(y), int(z)\n",
        "  return \"x = \" + str(z-y)\n",
        "\n",
        "print (solve_eq (\"x + 4 = 9\"))"
      ],
      "execution_count": 18,
      "outputs": [
        {
          "output_type": "stream",
          "name": "stdout",
          "text": [
            "x = 5\n"
          ]
        }
      ]
    },
    {
      "cell_type": "code",
      "metadata": {
        "colab": {
          "base_uri": "https://localhost:8080/"
        },
        "id": "TGZC4N3I4LTe",
        "outputId": "79996c50-92b7-495c-9e0a-cd418f1cd4f1"
      },
      "source": [
        "#return multiple values\n",
        "\n",
        "def add_divide(a, b):\n",
        "  return (a+b), a/b\n",
        "\n",
        "add, div = add_divide(5, 4)\n",
        "\n",
        "print(add, div)"
      ],
      "execution_count": 19,
      "outputs": [
        {
          "output_type": "stream",
          "name": "stdout",
          "text": [
            "9 1.25\n"
          ]
        }
      ]
    },
    {
      "cell_type": "code",
      "metadata": {
        "colab": {
          "base_uri": "https://localhost:8080/"
        },
        "id": "7Jnj6fec8oY4",
        "outputId": "59f5b35d-7ff9-4abd-a775-2b8f31b00b65"
      },
      "source": [
        "def isPrime(num):\n",
        "  for i in range (2, num):\n",
        "    if (num%i)==0:\n",
        "      return False\n",
        "  return True\n",
        "\n",
        "def get_primes(max):\n",
        "  listofprimes=[]\n",
        "  for i in range(2, max):\n",
        "    if isPrime(i):\n",
        "      listofprimes.append(i)\n",
        "\n",
        "  return listofprimes\n",
        "\n",
        "max_num = int(input(\"Enter number: \"))\n",
        "print(get_primes(max_num))"
      ],
      "execution_count": 20,
      "outputs": [
        {
          "output_type": "stream",
          "name": "stdout",
          "text": [
            "Enter number: 73\n",
            "[2, 3, 5, 7, 11, 13, 17, 19, 23, 29, 31, 37, 41, 43, 47, 53, 59, 61, 67, 71]\n"
          ]
        }
      ]
    },
    {
      "cell_type": "code",
      "source": [
        "def isPrime(n):\n",
        "  count = 0\n",
        "  for i in range(1, n+1):\n",
        "    if (n%i) == 0:\n",
        "      count+=1\n",
        "  if count == 2:\n",
        "    return True\n",
        "  else:\n",
        "    return False"
      ],
      "metadata": {
        "id": "XHMGGWnJgPDy"
      },
      "execution_count": 21,
      "outputs": []
    },
    {
      "cell_type": "code",
      "source": [
        "isPrime(5)"
      ],
      "metadata": {
        "colab": {
          "base_uri": "https://localhost:8080/"
        },
        "id": "zjlHthoWg88R",
        "outputId": "70077582-2dac-4819-8389-cf8ebade04d8"
      },
      "execution_count": 22,
      "outputs": [
        {
          "output_type": "execute_result",
          "data": {
            "text/plain": [
              "True"
            ]
          },
          "metadata": {},
          "execution_count": 22
        }
      ]
    },
    {
      "cell_type": "code",
      "source": [
        "#primes <= n\n",
        "no = int(input())\n",
        "for i in range(1, no+1):\n",
        "  if isPrime(i):\n",
        "    print(i, end=\" \")"
      ],
      "metadata": {
        "colab": {
          "base_uri": "https://localhost:8080/"
        },
        "id": "TUF949JvhBao",
        "outputId": "5276d911-16c7-45cb-b41f-4964fb9f9fb1"
      },
      "execution_count": 23,
      "outputs": [
        {
          "output_type": "stream",
          "name": "stdout",
          "text": [
            "6\n",
            "2 3 5 "
          ]
        }
      ]
    },
    {
      "cell_type": "code",
      "source": [
        "help(max)"
      ],
      "metadata": {
        "colab": {
          "base_uri": "https://localhost:8080/"
        },
        "id": "BVJG6ZwHsDKS",
        "outputId": "194dd693-7d02-49db-b54b-56a25e05e3b8"
      },
      "execution_count": 24,
      "outputs": [
        {
          "output_type": "stream",
          "name": "stdout",
          "text": [
            "Help on built-in function max in module builtins:\n",
            "\n",
            "max(...)\n",
            "    max(iterable, *[, default=obj, key=func]) -> value\n",
            "    max(arg1, arg2, *args, *[, key=func]) -> value\n",
            "    \n",
            "    With a single iterable argument, return its biggest item. The\n",
            "    default keyword-only argument specifies an object to return if\n",
            "    the provided iterable is empty.\n",
            "    With two or more arguments, return the largest argument.\n",
            "\n"
          ]
        }
      ]
    },
    {
      "cell_type": "code",
      "source": [
        "help(round)"
      ],
      "metadata": {
        "colab": {
          "base_uri": "https://localhost:8080/"
        },
        "id": "cg-z7xNRtGjU",
        "outputId": "6f594b51-0fb1-44f1-f389-a09e8f7194a4"
      },
      "execution_count": 25,
      "outputs": [
        {
          "output_type": "stream",
          "name": "stdout",
          "text": [
            "Help on built-in function round in module builtins:\n",
            "\n",
            "round(number, ndigits=None)\n",
            "    Round a number to a given precision in decimal digits.\n",
            "    \n",
            "    The return value is an integer if ndigits is omitted or None.  Otherwise\n",
            "    the return value has the same type as the number.  ndigits may be negative.\n",
            "\n"
          ]
        }
      ]
    },
    {
      "cell_type": "code",
      "source": [
        "txt = \"The best things in life are free!\"\n",
        "\"free\" in txt"
      ],
      "metadata": {
        "colab": {
          "base_uri": "https://localhost:8080/"
        },
        "id": "LpJ2Mjx5nCAG",
        "outputId": "48177eae-fef0-437c-b7b9-8dce04112413"
      },
      "execution_count": 26,
      "outputs": [
        {
          "output_type": "execute_result",
          "data": {
            "text/plain": [
              "True"
            ]
          },
          "metadata": {},
          "execution_count": 26
        }
      ]
    },
    {
      "cell_type": "code",
      "source": [
        "# help(str)"
      ],
      "metadata": {
        "id": "Hp0F3_qRnIgy"
      },
      "execution_count": 27,
      "outputs": []
    },
    {
      "cell_type": "code",
      "source": [
        "print(\"3532.434234 to 4 significant digits = {:.4}\".format(3532.434234))"
      ],
      "metadata": {
        "colab": {
          "base_uri": "https://localhost:8080/"
        },
        "id": "q5EgF3W44yXC",
        "outputId": "4466eec6-8336-45eb-8df7-527bdbca8465"
      },
      "execution_count": 28,
      "outputs": [
        {
          "output_type": "stream",
          "name": "stdout",
          "text": [
            "3532.434234 to 4 significant digits = 3.532e+03\n"
          ]
        }
      ]
    },
    {
      "cell_type": "code",
      "source": [
        "import math as mt"
      ],
      "metadata": {
        "id": "sC8afZFV5PVq"
      },
      "execution_count": 29,
      "outputs": []
    },
    {
      "cell_type": "code",
      "source": [
        "mt.log(8, 2)"
      ],
      "metadata": {
        "colab": {
          "base_uri": "https://localhost:8080/"
        },
        "id": "SG-T5OO-5H39",
        "outputId": "e87998a4-af3d-4d0f-c5f0-7f1b6a18b3b2"
      },
      "execution_count": 30,
      "outputs": [
        {
          "output_type": "execute_result",
          "data": {
            "text/plain": [
              "3.0"
            ]
          },
          "metadata": {},
          "execution_count": 30
        }
      ]
    },
    {
      "cell_type": "code",
      "source": [
        "list = [1, 2, 3, 4, 5, 6, 7, 8, 9, 10]\n",
        "list"
      ],
      "metadata": {
        "colab": {
          "base_uri": "https://localhost:8080/"
        },
        "id": "qz_vtYv5eIZS",
        "outputId": "ee4775e1-d0f3-410d-c1f4-dcecb19fc0f3"
      },
      "execution_count": 31,
      "outputs": [
        {
          "output_type": "execute_result",
          "data": {
            "text/plain": [
              "[1, 2, 3, 4, 5, 6, 7, 8, 9, 10]"
            ]
          },
          "metadata": {},
          "execution_count": 31
        }
      ]
    },
    {
      "cell_type": "code",
      "source": [
        "list[1:]"
      ],
      "metadata": {
        "colab": {
          "base_uri": "https://localhost:8080/"
        },
        "id": "t06fd5MWnZOY",
        "outputId": "0a9d20a2-0f39-4ab3-ceb4-d26741c4c3c0"
      },
      "execution_count": 34,
      "outputs": [
        {
          "output_type": "execute_result",
          "data": {
            "text/plain": [
              "[2, 3, 4, 5, 6, 7, 8, 9, 10]"
            ]
          },
          "metadata": {},
          "execution_count": 34
        }
      ]
    },
    {
      "cell_type": "code",
      "source": [
        "list[-1:-6:-1]"
      ],
      "metadata": {
        "colab": {
          "base_uri": "https://localhost:8080/"
        },
        "id": "3pTUloqreOlN",
        "outputId": "e2f6ce20-0f77-41a5-feb7-da2f20445ec2"
      },
      "execution_count": 35,
      "outputs": [
        {
          "output_type": "execute_result",
          "data": {
            "text/plain": [
              "[10, 9, 8, 7, 6]"
            ]
          },
          "metadata": {},
          "execution_count": 35
        }
      ]
    },
    {
      "cell_type": "code",
      "source": [
        "2**2"
      ],
      "metadata": {
        "colab": {
          "base_uri": "https://localhost:8080/"
        },
        "id": "BUe6z4YpfkM7",
        "outputId": "21c8f24f-bb91-4396-dd12-bc3b2b9ef337"
      },
      "execution_count": 36,
      "outputs": [
        {
          "output_type": "execute_result",
          "data": {
            "text/plain": [
              "4"
            ]
          },
          "metadata": {},
          "execution_count": 36
        }
      ]
    },
    {
      "cell_type": "code",
      "source": [
        "line = \"10.1.2.1 - car [01/Mar/2022:13:05:05 +0900] GET /python HTTP/1.0 200 2222\""
      ],
      "metadata": {
        "id": "E94Lw9P7hT5s"
      },
      "execution_count": 37,
      "outputs": []
    },
    {
      "cell_type": "code",
      "source": [
        "print(line.split(\"[\")[1].split(\"]\")[0])"
      ],
      "metadata": {
        "colab": {
          "base_uri": "https://localhost:8080/"
        },
        "id": "LLv775Qghw81",
        "outputId": "e9e71eb7-e974-40b1-97d4-0f663611d5d7"
      },
      "execution_count": 38,
      "outputs": [
        {
          "output_type": "stream",
          "name": "stdout",
          "text": [
            "01/Mar/2022:13:05:05 +0900\n"
          ]
        }
      ]
    },
    {
      "cell_type": "code",
      "source": [
        "print(line.split()[3].strip(\"[]\"))"
      ],
      "metadata": {
        "colab": {
          "base_uri": "https://localhost:8080/"
        },
        "id": "afrdYjOnh6Y5",
        "outputId": "46ddd733-7708-49e4-b6c8-329930ea7d1a"
      },
      "execution_count": 39,
      "outputs": [
        {
          "output_type": "stream",
          "name": "stdout",
          "text": [
            "01/Mar/2022:13:05:05\n"
          ]
        }
      ]
    },
    {
      "cell_type": "code",
      "source": [
        "print(\"\".join(line.split(\"[\" or \"]\")[3:5]))"
      ],
      "metadata": {
        "colab": {
          "base_uri": "https://localhost:8080/"
        },
        "id": "xsicqZHOiB4H",
        "outputId": "bf3529fb-52d7-4673-f93e-fd81c6bb626e"
      },
      "execution_count": 40,
      "outputs": [
        {
          "output_type": "stream",
          "name": "stdout",
          "text": [
            "\n"
          ]
        }
      ]
    },
    {
      "cell_type": "code",
      "source": [
        "print(\" \".join(line.split()[3:5]).strip(\"[]\"))"
      ],
      "metadata": {
        "colab": {
          "base_uri": "https://localhost:8080/"
        },
        "id": "XKh1lglKiXq0",
        "outputId": "e5a397bf-23e4-44b4-f730-1c652579c065"
      },
      "execution_count": 41,
      "outputs": [
        {
          "output_type": "stream",
          "name": "stdout",
          "text": [
            "01/Mar/2022:13:05:05 +0900\n"
          ]
        }
      ]
    },
    {
      "cell_type": "markdown",
      "source": [
        "# **NumPy**"
      ],
      "metadata": {
        "id": "WWczpLrDNgLN"
      }
    },
    {
      "cell_type": "markdown",
      "source": [
        "**References:**\n",
        "* YouTube Video: [Numpy Tut 2021 by Derek Bananas](https://www.youtube.com/watch?v=8Y0qQEh7dJg&list=PLGLfVvz_LVvQy4mkmEvtFwZGg1S38MUmn&index=3&t=2020s)\n",
        "* Jupyter Notebook used in video: [Notebook - GitHub Link](https://github.com/derekbanas/NumPy-Tutorial/blob/master/NumPy%20Tut.ipynb)"
      ],
      "metadata": {
        "id": "CchJm3NWRziM"
      }
    },
    {
      "cell_type": "code",
      "source": [
        "import numpy as np\n",
        "import pandas as pd\n",
        "import matplotlib.pylab as plt\n",
        "from numpy import random"
      ],
      "metadata": {
        "id": "BMZrE2mQNqRh"
      },
      "execution_count": 43,
      "outputs": []
    },
    {
      "cell_type": "markdown",
      "source": [
        "CREATING ARRAYS"
      ],
      "metadata": {
        "id": "lSRQoSXgSrTU"
      }
    },
    {
      "cell_type": "markdown",
      "source": [
        "**Numpy array VS Numpy asarray:**\n",
        "\n",
        "Both numpy array and numpy asarray can convert the data into ndarray. The main difference is that when you try to make a numpy array using np.array, it would create a copy of the object array and not reflect changes to the original array. On the other hand, when you use numpy asarray, it would reflect changes to the original array.\n",
        "\n",
        "With respect to List, both of them behave similarly,i.e. no change."
      ],
      "metadata": {
        "id": "MqHl9Sd0k9GF"
      }
    },
    {
      "cell_type": "code",
      "source": [
        "arr = np.array([5,6,7])\n",
        " \n",
        "x = np.array(arr)\n",
        "y = np.asarray(arr)\n",
        "arr[1] = 0\n",
        " \n",
        "print(\"Array : \",x)\n",
        "print(\"Asarray : \",y)"
      ],
      "metadata": {
        "colab": {
          "base_uri": "https://localhost:8080/"
        },
        "id": "2q3FkkkklQta",
        "outputId": "b4d49012-c056-479d-e5e4-0b0184da2288"
      },
      "execution_count": 44,
      "outputs": [
        {
          "output_type": "stream",
          "name": "stdout",
          "text": [
            "Array :  [5 6 7]\n",
            "Asarray :  [5 0 7]\n"
          ]
        }
      ]
    },
    {
      "cell_type": "code",
      "source": [
        "#Python list\n",
        "list_1 = [1, 2, 3, 4, 5]\n",
        "#NumPy 1-D array\n",
        "np_arr_1 = np.array(list_1, dtype = np.int8)\n",
        "print(np_arr_1, '\\n')\n",
        "\n",
        "#method-2\n",
        "np_arr_2 = np.arange(1, 6)\n",
        "print(np_arr_2)"
      ],
      "metadata": {
        "colab": {
          "base_uri": "https://localhost:8080/"
        },
        "id": "NEz2Lt-mF-HM",
        "outputId": "edde2e63-0a6b-4018-cbd3-7d6b7f6333e3"
      },
      "execution_count": 45,
      "outputs": [
        {
          "output_type": "stream",
          "name": "stdout",
          "text": [
            "[1 2 3 4 5] \n",
            "\n",
            "[1 2 3 4 5]\n"
          ]
        }
      ]
    },
    {
      "cell_type": "code",
      "source": [
        "#multi-D list\n",
        "m_list_1 = [[1, 2, 3], [4, 5, 6], [7, 8, 9]]\n",
        "#multi-D array\n",
        "np_m_arr_1 = np.array(m_list_1)\n",
        "np_m_arr_1"
      ],
      "metadata": {
        "colab": {
          "base_uri": "https://localhost:8080/"
        },
        "id": "-ckIqhhQQE56",
        "outputId": "f009fe90-d35a-46ab-c2b7-b294f0c1325f"
      },
      "execution_count": 46,
      "outputs": [
        {
          "output_type": "execute_result",
          "data": {
            "text/plain": [
              "array([[1, 2, 3],\n",
              "       [4, 5, 6],\n",
              "       [7, 8, 9]])"
            ]
          },
          "metadata": {},
          "execution_count": 46
        }
      ]
    },
    {
      "cell_type": "code",
      "source": [
        "m_list_1[0][0]"
      ],
      "metadata": {
        "colab": {
          "base_uri": "https://localhost:8080/"
        },
        "id": "HvCRyVFuj7eM",
        "outputId": "a016aa9e-87aa-410a-c16e-672c19e87b80"
      },
      "execution_count": 47,
      "outputs": [
        {
          "output_type": "execute_result",
          "data": {
            "text/plain": [
              "1"
            ]
          },
          "metadata": {},
          "execution_count": 47
        }
      ]
    },
    {
      "cell_type": "code",
      "source": [
        "np_m_arr_1[0,0]"
      ],
      "metadata": {
        "colab": {
          "base_uri": "https://localhost:8080/"
        },
        "id": "_gzusLRwkEoU",
        "outputId": "2f114b81-08a7-47db-e190-64cd75b583f2"
      },
      "execution_count": 48,
      "outputs": [
        {
          "output_type": "execute_result",
          "data": {
            "text/plain": [
              "1"
            ]
          },
          "metadata": {},
          "execution_count": 48
        }
      ]
    },
    {
      "cell_type": "code",
      "source": [
        "np_m_arr_1.size"
      ],
      "metadata": {
        "colab": {
          "base_uri": "https://localhost:8080/"
        },
        "id": "1pQIcRtFSAIs",
        "outputId": "49ecb799-3481-4076-8577-c2737a1b704a"
      },
      "execution_count": 49,
      "outputs": [
        {
          "output_type": "execute_result",
          "data": {
            "text/plain": [
              "9"
            ]
          },
          "metadata": {},
          "execution_count": 49
        }
      ]
    },
    {
      "cell_type": "code",
      "source": [
        "np.linspace(0, 4, 6) #start, end, no. of values"
      ],
      "metadata": {
        "colab": {
          "base_uri": "https://localhost:8080/"
        },
        "id": "oOsR8hFmRAYc",
        "outputId": "a81273ff-6024-407f-ad68-23d7798e2183"
      },
      "execution_count": 50,
      "outputs": [
        {
          "output_type": "execute_result",
          "data": {
            "text/plain": [
              "array([0. , 0.8, 1.6, 2.4, 3.2, 4. ])"
            ]
          },
          "metadata": {},
          "execution_count": 50
        }
      ]
    },
    {
      "cell_type": "code",
      "source": [
        "np.ones(4)"
      ],
      "metadata": {
        "colab": {
          "base_uri": "https://localhost:8080/"
        },
        "id": "Qpvd_unAQ31a",
        "outputId": "3c306d35-f113-4dd4-fc20-038b46352e9f"
      },
      "execution_count": 51,
      "outputs": [
        {
          "output_type": "execute_result",
          "data": {
            "text/plain": [
              "array([1., 1., 1., 1.])"
            ]
          },
          "metadata": {},
          "execution_count": 51
        }
      ]
    },
    {
      "cell_type": "code",
      "source": [
        "np.ones((3,4))"
      ],
      "metadata": {
        "colab": {
          "base_uri": "https://localhost:8080/"
        },
        "id": "Djtp7iWkXTh3",
        "outputId": "65c53d5e-28f0-4c5d-fa94-87e181ffef76"
      },
      "execution_count": 52,
      "outputs": [
        {
          "output_type": "execute_result",
          "data": {
            "text/plain": [
              "array([[1., 1., 1., 1.],\n",
              "       [1., 1., 1., 1.],\n",
              "       [1., 1., 1., 1.]])"
            ]
          },
          "metadata": {},
          "execution_count": 52
        }
      ]
    },
    {
      "cell_type": "markdown",
      "source": [
        "SLICING VALUES & INDICES"
      ],
      "metadata": {
        "id": "dVY5nf1BShKq"
      }
    },
    {
      "cell_type": "code",
      "source": [
        "#changing values at index\n",
        "#method-1\n",
        "# np_m_arr_1[0,0] = 10\n",
        "#method-2\n",
        "# np_m_arr_1.itemset((0,1), 11)\n",
        "np_m_arr_1"
      ],
      "metadata": {
        "colab": {
          "base_uri": "https://localhost:8080/"
        },
        "id": "1q14bIHfRtL0",
        "outputId": "52ef07ce-1170-4396-c71e-a297cb2bed3f"
      },
      "execution_count": 53,
      "outputs": [
        {
          "output_type": "execute_result",
          "data": {
            "text/plain": [
              "array([[1, 2, 3],\n",
              "       [4, 5, 6],\n",
              "       [7, 8, 9]])"
            ]
          },
          "metadata": {},
          "execution_count": 53
        }
      ]
    },
    {
      "cell_type": "code",
      "source": [
        "# Get size of array\n",
        "np_m_arr_1.shape"
      ],
      "metadata": {
        "colab": {
          "base_uri": "https://localhost:8080/"
        },
        "id": "E2kYNcAopL1l",
        "outputId": "3e2c0601-3131-4deb-cb38-b442e0fb0198"
      },
      "execution_count": 54,
      "outputs": [
        {
          "output_type": "execute_result",
          "data": {
            "text/plain": [
              "(3, 3)"
            ]
          },
          "metadata": {},
          "execution_count": 54
        }
      ]
    },
    {
      "cell_type": "code",
      "source": [
        "# Get value by index\n",
        "np_m_arr_1[0,1]\n",
        "np_m_arr_1.item(0,1)"
      ],
      "metadata": {
        "colab": {
          "base_uri": "https://localhost:8080/"
        },
        "id": "AtzoLxKHpOxK",
        "outputId": "be3aada5-26dd-4d6b-f579-21778220bd56"
      },
      "execution_count": 55,
      "outputs": [
        {
          "output_type": "execute_result",
          "data": {
            "text/plain": [
              "2"
            ]
          },
          "metadata": {},
          "execution_count": 55
        }
      ]
    },
    {
      "cell_type": "code",
      "source": [
        "# Get specific indices\n",
        "np.take(np_m_arr_1, [0, 3, 6])"
      ],
      "metadata": {
        "colab": {
          "base_uri": "https://localhost:8080/"
        },
        "id": "NJ9Z5dTir1he",
        "outputId": "b6c7599a-bba6-4c03-c178-d9bf37a48998"
      },
      "execution_count": 56,
      "outputs": [
        {
          "output_type": "execute_result",
          "data": {
            "text/plain": [
              "array([1, 4, 7])"
            ]
          },
          "metadata": {},
          "execution_count": 56
        }
      ]
    },
    {
      "cell_type": "code",
      "source": [
        "# Replace provided index values with new values\n",
        "np.put(np_m_arr_1, [0, 3, 6], [11, 11, 11])\n",
        "print(np_m_arr_1)"
      ],
      "metadata": {
        "colab": {
          "base_uri": "https://localhost:8080/"
        },
        "id": "DYVnPHvltXMg",
        "outputId": "8b70dfa2-05f7-4076-ed45-b77ab34693ef"
      },
      "execution_count": 57,
      "outputs": [
        {
          "output_type": "stream",
          "name": "stdout",
          "text": [
            "[[11  2  3]\n",
            " [11  5  6]\n",
            " [11  8  9]]\n"
          ]
        }
      ]
    },
    {
      "cell_type": "code",
      "source": [
        "np_arr_1"
      ],
      "metadata": {
        "colab": {
          "base_uri": "https://localhost:8080/"
        },
        "id": "ZdUeD36zYvLy",
        "outputId": "d1e39d39-8310-4035-ac01-824f2077d852"
      },
      "execution_count": 58,
      "outputs": [
        {
          "output_type": "execute_result",
          "data": {
            "text/plain": [
              "array([1, 2, 3, 4, 5], dtype=int8)"
            ]
          },
          "metadata": {},
          "execution_count": 58
        }
      ]
    },
    {
      "cell_type": "code",
      "source": [
        "np_arr_1[:5:2] #start:end:step"
      ],
      "metadata": {
        "colab": {
          "base_uri": "https://localhost:8080/"
        },
        "id": "tVe3fTMUvTOO",
        "outputId": "d78ddf52-f99b-4ecb-d25a-294409351cc5"
      },
      "execution_count": 59,
      "outputs": [
        {
          "output_type": "execute_result",
          "data": {
            "text/plain": [
              "array([1, 3, 5], dtype=int8)"
            ]
          },
          "metadata": {},
          "execution_count": 59
        }
      ]
    },
    {
      "cell_type": "code",
      "source": [
        "#flip array\n",
        "np_arr_2[::-1]"
      ],
      "metadata": {
        "colab": {
          "base_uri": "https://localhost:8080/"
        },
        "id": "eCxBLJkeB1Lb",
        "outputId": "c745dc3a-53cf-43a5-e74d-624ca7799635"
      },
      "execution_count": 60,
      "outputs": [
        {
          "output_type": "execute_result",
          "data": {
            "text/plain": [
              "array([5, 4, 3, 2, 1])"
            ]
          },
          "metadata": {},
          "execution_count": 60
        }
      ]
    },
    {
      "cell_type": "code",
      "source": [
        "#Get 3rd value from each row\n",
        "np_m_arr_1[:, 2]"
      ],
      "metadata": {
        "colab": {
          "base_uri": "https://localhost:8080/"
        },
        "id": "q-uXSrtMCCZu",
        "outputId": "7cba959c-0b65-44a7-99c9-5b97dfc3a9c9"
      },
      "execution_count": 61,
      "outputs": [
        {
          "output_type": "execute_result",
          "data": {
            "text/plain": [
              "array([3, 6, 9])"
            ]
          },
          "metadata": {},
          "execution_count": 61
        }
      ]
    },
    {
      "cell_type": "code",
      "source": [
        "#applying conditions\n",
        "np_m_arr_1%2!=0"
      ],
      "metadata": {
        "colab": {
          "base_uri": "https://localhost:8080/"
        },
        "id": "gNRDKt2sZAd9",
        "outputId": "531dbe6d-e141-4131-e5f9-218922d00fa0"
      },
      "execution_count": 62,
      "outputs": [
        {
          "output_type": "execute_result",
          "data": {
            "text/plain": [
              "array([[ True, False,  True],\n",
              "       [ True,  True, False],\n",
              "       [ True, False,  True]])"
            ]
          },
          "metadata": {},
          "execution_count": 62
        }
      ]
    },
    {
      "cell_type": "code",
      "source": [
        "#applying conditions\n",
        "#get odd values\n",
        "odds = np_m_arr_1[np_m_arr_1%2!=0]\n",
        "print(odds)"
      ],
      "metadata": {
        "colab": {
          "base_uri": "https://localhost:8080/"
        },
        "id": "GHLrjpfcCTV4",
        "outputId": "f03a3f00-2ac9-4552-ff16-4646c6c1893a"
      },
      "execution_count": 63,
      "outputs": [
        {
          "output_type": "stream",
          "name": "stdout",
          "text": [
            "[11  3 11  5 11  9]\n"
          ]
        }
      ]
    },
    {
      "cell_type": "code",
      "source": [
        "np_m_arr_1[(np_m_arr_1>5) & (np_m_arr_1<12)] #and"
      ],
      "metadata": {
        "colab": {
          "base_uri": "https://localhost:8080/"
        },
        "id": "-EJt7YMKEaa-",
        "outputId": "36f9a8de-39ad-4c69-bd43-1fc8b4d644c8"
      },
      "execution_count": 64,
      "outputs": [
        {
          "output_type": "execute_result",
          "data": {
            "text/plain": [
              "array([11, 11,  6, 11,  8,  9])"
            ]
          },
          "metadata": {},
          "execution_count": 64
        }
      ]
    },
    {
      "cell_type": "code",
      "source": [
        "np_m_arr_1[(np_m_arr_1%2==0) | (np_m_arr_1<12)] #or"
      ],
      "metadata": {
        "colab": {
          "base_uri": "https://localhost:8080/"
        },
        "id": "8ENyIUujE_p1",
        "outputId": "c5fabc1d-d13a-4571-d8d8-cce9e00f9dd3"
      },
      "execution_count": 65,
      "outputs": [
        {
          "output_type": "execute_result",
          "data": {
            "text/plain": [
              "array([11,  2,  3, 11,  5,  6, 11,  8,  9])"
            ]
          },
          "metadata": {},
          "execution_count": 65
        }
      ]
    },
    {
      "cell_type": "code",
      "source": [
        "#find unique values\n",
        "np.unique(np_m_arr_1)"
      ],
      "metadata": {
        "colab": {
          "base_uri": "https://localhost:8080/"
        },
        "id": "m1A4qcNAFRbL",
        "outputId": "92d9343a-fe4e-49f4-96c4-c8d6156c6ff1"
      },
      "execution_count": 66,
      "outputs": [
        {
          "output_type": "execute_result",
          "data": {
            "text/plain": [
              "array([ 2,  3,  5,  6,  8,  9, 11])"
            ]
          },
          "metadata": {},
          "execution_count": 66
        }
      ]
    },
    {
      "cell_type": "markdown",
      "source": [
        "RESHAPING ARRAYS"
      ],
      "metadata": {
        "id": "rkWiqF7OS2R1"
      }
    },
    {
      "cell_type": "code",
      "source": [
        "#reshaping arrays\n",
        "np_m_arr_1.reshape((9, 1))"
      ],
      "metadata": {
        "colab": {
          "base_uri": "https://localhost:8080/"
        },
        "id": "u36TSKbQFc3w",
        "outputId": "8c9dbf86-dcae-4ac5-8023-e69c3f53d74c"
      },
      "execution_count": 67,
      "outputs": [
        {
          "output_type": "execute_result",
          "data": {
            "text/plain": [
              "array([[11],\n",
              "       [ 2],\n",
              "       [ 3],\n",
              "       [11],\n",
              "       [ 5],\n",
              "       [ 6],\n",
              "       [11],\n",
              "       [ 8],\n",
              "       [ 9]])"
            ]
          },
          "metadata": {},
          "execution_count": 67
        }
      ]
    },
    {
      "cell_type": "code",
      "source": [
        "#resizing arrays (items are either lost if final no. of elements is lesser than initial\n",
        "#otherwise elements are repeated for greater)\n",
        "print(np.resize(np_m_arr_1, (2,3)), '\\n')\n",
        "print(np.resize(np_m_arr_1, (2,10)))"
      ],
      "metadata": {
        "colab": {
          "base_uri": "https://localhost:8080/"
        },
        "id": "5wth9G8THDJ4",
        "outputId": "ed07630b-0758-4c55-9a82-394086f22c6a"
      },
      "execution_count": 68,
      "outputs": [
        {
          "output_type": "stream",
          "name": "stdout",
          "text": [
            "[[11  2  3]\n",
            " [11  5  6]] \n",
            "\n",
            "[[11  2  3 11  5  6 11  8  9 11]\n",
            " [ 2  3 11  5  6 11  8  9 11  2]]\n"
          ]
        }
      ]
    },
    {
      "cell_type": "code",
      "source": [
        "# Transpose axes\n",
        "np_m_arr_1.transpose()"
      ],
      "metadata": {
        "colab": {
          "base_uri": "https://localhost:8080/"
        },
        "id": "vBZa7sCUJxWV",
        "outputId": "4c936f4c-6af0-4ad6-a5cf-6ee640cad537"
      },
      "execution_count": 69,
      "outputs": [
        {
          "output_type": "execute_result",
          "data": {
            "text/plain": [
              "array([[11, 11, 11],\n",
              "       [ 2,  5,  8],\n",
              "       [ 3,  6,  9]])"
            ]
          },
          "metadata": {},
          "execution_count": 69
        }
      ]
    },
    {
      "cell_type": "code",
      "source": [
        "# Swap axes \n",
        "np_m_arr_1.swapaxes(0,1)"
      ],
      "metadata": {
        "colab": {
          "base_uri": "https://localhost:8080/"
        },
        "id": "0NBlXFp6KIo9",
        "outputId": "8c6d7a43-7778-4ed5-e1ea-bf0830f803c1"
      },
      "execution_count": 70,
      "outputs": [
        {
          "output_type": "execute_result",
          "data": {
            "text/plain": [
              "array([[11, 11, 11],\n",
              "       [ 2,  5,  8],\n",
              "       [ 3,  6,  9]])"
            ]
          },
          "metadata": {},
          "execution_count": 70
        }
      ]
    },
    {
      "cell_type": "code",
      "source": [
        "# Flatten in order\n",
        "np_m_arr_1.flatten()"
      ],
      "metadata": {
        "colab": {
          "base_uri": "https://localhost:8080/"
        },
        "id": "4-JXj-5bM1iB",
        "outputId": "0f925271-a1ef-4b8a-dcf5-cc0648890438"
      },
      "execution_count": 71,
      "outputs": [
        {
          "output_type": "execute_result",
          "data": {
            "text/plain": [
              "array([11,  2,  3, 11,  5,  6, 11,  8,  9])"
            ]
          },
          "metadata": {},
          "execution_count": 71
        }
      ]
    },
    {
      "cell_type": "code",
      "source": [
        "# Flatten in column order\n",
        "np_m_arr_1.flatten('F')"
      ],
      "metadata": {
        "colab": {
          "base_uri": "https://localhost:8080/"
        },
        "id": "HyGTfOLQr67w",
        "outputId": "d4fadcab-8527-48cf-bf6a-0f4adb531131"
      },
      "execution_count": 72,
      "outputs": [
        {
          "output_type": "execute_result",
          "data": {
            "text/plain": [
              "array([11, 11, 11,  2,  5,  8,  3,  6,  9])"
            ]
          },
          "metadata": {},
          "execution_count": 72
        }
      ]
    },
    {
      "cell_type": "code",
      "source": [
        "# Sort rows (axis=1)\n",
        "# np_m_arr_1.sort(axis=1)\n",
        "# print(np_m_arr_1, '\\n')"
      ],
      "metadata": {
        "id": "XjNZp4peOqBL"
      },
      "execution_count": 73,
      "outputs": []
    },
    {
      "cell_type": "code",
      "source": [
        "#sort columns (axis=0)\n",
        "np_m_arr_1.sort(axis=0)\n",
        "print(np_m_arr_1)"
      ],
      "metadata": {
        "colab": {
          "base_uri": "https://localhost:8080/"
        },
        "id": "ZpTyU5jUse1E",
        "outputId": "c0203880-6d29-45a0-9c89-367c558eccb3"
      },
      "execution_count": 74,
      "outputs": [
        {
          "output_type": "stream",
          "name": "stdout",
          "text": [
            "[[11  2  3]\n",
            " [11  5  6]\n",
            " [11  8  9]]\n"
          ]
        }
      ]
    },
    {
      "cell_type": "markdown",
      "source": [
        "STACKING AND SPLITTING"
      ],
      "metadata": {
        "id": "p9BUMeANX-hE"
      }
    },
    {
      "cell_type": "code",
      "source": [
        "# Generate random arrays\n",
        "ss_arr_1 = np.random.randint(10, size = (3, 3))\n",
        "print(\"ss_arr_1:\\n\", ss_arr_1, '\\n')\n",
        "ss_arr_2 = np.random.randint(10, size = (3, 3))\n",
        "print(\"ss_arr_2:\\n\", ss_arr_2)"
      ],
      "metadata": {
        "colab": {
          "base_uri": "https://localhost:8080/"
        },
        "id": "HjduOj0MX9b0",
        "outputId": "701e77cc-b3bb-4f3e-d121-0cbceb62d5c4"
      },
      "execution_count": 75,
      "outputs": [
        {
          "output_type": "stream",
          "name": "stdout",
          "text": [
            "ss_arr_1:\n",
            " [[1 7 2]\n",
            " [3 3 6]\n",
            " [7 1 8]] \n",
            "\n",
            "ss_arr_2:\n",
            " [[4 0 1]\n",
            " [3 2 1]\n",
            " [1 8 8]]\n"
          ]
        }
      ]
    },
    {
      "cell_type": "code",
      "source": [
        "#stack ss_arr_2 under ss_arr_1 (vertical stack)\n",
        "np.vstack((ss_arr_1, ss_arr_2))"
      ],
      "metadata": {
        "colab": {
          "base_uri": "https://localhost:8080/"
        },
        "id": "gOhsqj5uSGFh",
        "outputId": "58feafe3-7b9f-44f7-9386-49061994be77"
      },
      "execution_count": 76,
      "outputs": [
        {
          "output_type": "execute_result",
          "data": {
            "text/plain": [
              "array([[1, 7, 2],\n",
              "       [3, 3, 6],\n",
              "       [7, 1, 8],\n",
              "       [4, 0, 1],\n",
              "       [3, 2, 1],\n",
              "       [1, 8, 8]])"
            ]
          },
          "metadata": {},
          "execution_count": 76
        }
      ]
    },
    {
      "cell_type": "code",
      "source": [
        "#stack horizantally\n",
        "np.hstack((ss_arr_1, ss_arr_2))"
      ],
      "metadata": {
        "colab": {
          "base_uri": "https://localhost:8080/"
        },
        "id": "ddEkIJagbhxF",
        "outputId": "cdae9410-66e9-41e8-8521-667c4c3c7cbd"
      },
      "execution_count": 77,
      "outputs": [
        {
          "output_type": "execute_result",
          "data": {
            "text/plain": [
              "array([[1, 7, 2, 4, 0, 1],\n",
              "       [3, 3, 6, 3, 2, 1],\n",
              "       [7, 1, 8, 1, 8, 8]])"
            ]
          },
          "metadata": {},
          "execution_count": 77
        }
      ]
    },
    {
      "cell_type": "code",
      "source": [
        "#delete 3rd row on each array\n",
        "ss_arr_3 = np.delete(ss_arr_1, 2, 0) #(array, row no., axis no.)\n",
        "ss_arr_4 = np.delete(ss_arr_2, 2, 0)\n",
        "print(\"ss_arr_3\\n\", ss_arr_3, '\\n')\n",
        "print(\"ss_arr_4\\n\", ss_arr_4)"
      ],
      "metadata": {
        "colab": {
          "base_uri": "https://localhost:8080/"
        },
        "id": "DDLNFHBccW4G",
        "outputId": "ee638ccd-37cc-48df-df3b-289e607a2258"
      },
      "execution_count": 78,
      "outputs": [
        {
          "output_type": "stream",
          "name": "stdout",
          "text": [
            "ss_arr_3\n",
            " [[1 7 2]\n",
            " [3 3 6]] \n",
            "\n",
            "ss_arr_4\n",
            " [[4 0 1]\n",
            " [3 2 1]]\n"
          ]
        }
      ]
    },
    {
      "cell_type": "code",
      "source": [
        "#combine arrays\n",
        "np.column_stack((ss_arr_3, ss_arr_4))"
      ],
      "metadata": {
        "colab": {
          "base_uri": "https://localhost:8080/"
        },
        "id": "PXihWQItqesi",
        "outputId": "7c14997b-2897-4782-cf39-0fa3afc1f24a"
      },
      "execution_count": 79,
      "outputs": [
        {
          "output_type": "execute_result",
          "data": {
            "text/plain": [
              "array([[1, 7, 2, 4, 0, 1],\n",
              "       [3, 3, 6, 3, 2, 1]])"
            ]
          },
          "metadata": {},
          "execution_count": 79
        }
      ]
    },
    {
      "cell_type": "code",
      "source": [
        "#stack in a 2D array\n",
        "np.row_stack((ss_arr_3, ss_arr_4))"
      ],
      "metadata": {
        "colab": {
          "base_uri": "https://localhost:8080/"
        },
        "id": "cY77YoeTrGtY",
        "outputId": "e11f62fd-31b6-4e1e-b253-1ea1361787f9"
      },
      "execution_count": 80,
      "outputs": [
        {
          "output_type": "execute_result",
          "data": {
            "text/plain": [
              "array([[1, 7, 2],\n",
              "       [3, 3, 6],\n",
              "       [4, 0, 1],\n",
              "       [3, 2, 1]])"
            ]
          },
          "metadata": {},
          "execution_count": 80
        }
      ]
    },
    {
      "cell_type": "code",
      "source": [
        "np.row_stack((ss_arr_1, ss_arr_4))"
      ],
      "metadata": {
        "id": "YgYDy0uxvzmy",
        "colab": {
          "base_uri": "https://localhost:8080/"
        },
        "outputId": "65423349-f143-484a-eda3-e2869235a2de"
      },
      "execution_count": 81,
      "outputs": [
        {
          "output_type": "execute_result",
          "data": {
            "text/plain": [
              "array([[1, 7, 2],\n",
              "       [3, 3, 6],\n",
              "       [7, 1, 8],\n",
              "       [4, 0, 1],\n",
              "       [3, 2, 1]])"
            ]
          },
          "metadata": {},
          "execution_count": 81
        }
      ]
    },
    {
      "cell_type": "markdown",
      "source": [
        "BASIC MATHS"
      ],
      "metadata": {
        "id": "fyevCuDaHGA8"
      }
    },
    {
      "cell_type": "code",
      "source": [
        "arr_1 = np.array([[1, 2, 3], [4, 5, 6]])\n",
        "print(arr_1)\n",
        "\n",
        "arr_2 = np.array([[2, 4, 6], [8, 9, 10]])\n",
        "print(arr_2)"
      ],
      "metadata": {
        "colab": {
          "base_uri": "https://localhost:8080/"
        },
        "id": "DiuQVjMFHJvG",
        "outputId": "9d5dd030-b061-4282-b3f1-ac67d8c47bd4"
      },
      "execution_count": 82,
      "outputs": [
        {
          "output_type": "stream",
          "name": "stdout",
          "text": [
            "[[1 2 3]\n",
            " [4 5 6]]\n",
            "[[ 2  4  6]\n",
            " [ 8  9 10]]\n"
          ]
        }
      ]
    },
    {
      "cell_type": "code",
      "source": [
        "arr_2 - arr_1 # METHOD-1 to do element-wise +, -, x, /"
      ],
      "metadata": {
        "colab": {
          "base_uri": "https://localhost:8080/"
        },
        "id": "jV6qDIuLH3q1",
        "outputId": "a84bca6a-f7ff-461d-b12b-346f0778781c"
      },
      "execution_count": 83,
      "outputs": [
        {
          "output_type": "execute_result",
          "data": {
            "text/plain": [
              "array([[1, 2, 3],\n",
              "       [4, 4, 4]])"
            ]
          },
          "metadata": {},
          "execution_count": 83
        }
      ]
    },
    {
      "cell_type": "code",
      "source": [
        "# Add/Subtract arrays element-wise\n",
        "np.add(arr_1, arr_2)\n",
        "np.subtract(arr_1, arr_2)"
      ],
      "metadata": {
        "colab": {
          "base_uri": "https://localhost:8080/"
        },
        "id": "mvz_9FzBKeoc",
        "outputId": "dd5bddc7-660b-456a-f94c-d964e84569f1"
      },
      "execution_count": 84,
      "outputs": [
        {
          "output_type": "execute_result",
          "data": {
            "text/plain": [
              "array([[-1, -2, -3],\n",
              "       [-4, -4, -4]])"
            ]
          },
          "metadata": {},
          "execution_count": 84
        }
      ]
    },
    {
      "cell_type": "code",
      "source": [
        "arr_2*arr_1 #Mthod-1 to element-wise multiplication"
      ],
      "metadata": {
        "colab": {
          "base_uri": "https://localhost:8080/"
        },
        "id": "2CHTmZ-iIFGq",
        "outputId": "1e2ec0ae-2a24-4724-f7e9-1fdd3722676c"
      },
      "execution_count": 85,
      "outputs": [
        {
          "output_type": "execute_result",
          "data": {
            "text/plain": [
              "array([[ 2,  8, 18],\n",
              "       [32, 45, 60]])"
            ]
          },
          "metadata": {},
          "execution_count": 85
        }
      ]
    },
    {
      "cell_type": "code",
      "source": [
        "# Method-2 to Multiply arrays element-wise\n",
        "np.multiply(arr_1, arr_2)"
      ],
      "metadata": {
        "colab": {
          "base_uri": "https://localhost:8080/"
        },
        "id": "R6F0XXAuK5Cq",
        "outputId": "3ace4850-1546-434d-8e0d-495b4e576752"
      },
      "execution_count": 86,
      "outputs": [
        {
          "output_type": "execute_result",
          "data": {
            "text/plain": [
              "array([[ 2,  8, 18],\n",
              "       [32, 45, 60]])"
            ]
          },
          "metadata": {},
          "execution_count": 86
        }
      ]
    },
    {
      "cell_type": "code",
      "source": [
        "#For element-wise division\n",
        "#Method-1:\n",
        "arr_1/arr_2"
      ],
      "metadata": {
        "colab": {
          "base_uri": "https://localhost:8080/"
        },
        "id": "19HrJfsnLmsQ",
        "outputId": "f2fd47b7-08a0-4191-ef15-aa73f39d578e"
      },
      "execution_count": 87,
      "outputs": [
        {
          "output_type": "execute_result",
          "data": {
            "text/plain": [
              "array([[0.5       , 0.5       , 0.5       ],\n",
              "       [0.5       , 0.55555556, 0.6       ]])"
            ]
          },
          "metadata": {},
          "execution_count": 87
        }
      ]
    },
    {
      "cell_type": "code",
      "source": [
        "#Methos-2:\n",
        "np.divide(arr_1, arr_2)"
      ],
      "metadata": {
        "colab": {
          "base_uri": "https://localhost:8080/"
        },
        "id": "BZaJKlSILvsU",
        "outputId": "c96e809a-73ad-4a70-c472-2a784198022a"
      },
      "execution_count": 88,
      "outputs": [
        {
          "output_type": "execute_result",
          "data": {
            "text/plain": [
              "array([[0.5       , 0.5       , 0.5       ],\n",
              "       [0.5       , 0.55555556, 0.6       ]])"
            ]
          },
          "metadata": {},
          "execution_count": 88
        }
      ]
    },
    {
      "cell_type": "code",
      "source": [
        "#element-wise % (modulo)\n",
        "arr_2%arr_1"
      ],
      "metadata": {
        "colab": {
          "base_uri": "https://localhost:8080/"
        },
        "id": "2XpmzwxhL52z",
        "outputId": "7ff7083e-02a2-44e3-e0af-6e952ec11260"
      },
      "execution_count": 89,
      "outputs": [
        {
          "output_type": "execute_result",
          "data": {
            "text/plain": [
              "array([[0, 0, 0],\n",
              "       [0, 4, 4]])"
            ]
          },
          "metadata": {},
          "execution_count": 89
        }
      ]
    },
    {
      "cell_type": "code",
      "source": [
        "np.remainder(arr_2, arr_1)"
      ],
      "metadata": {
        "colab": {
          "base_uri": "https://localhost:8080/"
        },
        "id": "rugIEDfSL8_g",
        "outputId": "e6cbfa96-e979-4248-9934-b99d7de04760"
      },
      "execution_count": 90,
      "outputs": [
        {
          "output_type": "execute_result",
          "data": {
            "text/plain": [
              "array([[0, 0, 0],\n",
              "       [0, 4, 4]])"
            ]
          },
          "metadata": {},
          "execution_count": 90
        }
      ]
    },
    {
      "cell_type": "code",
      "source": [
        "arr_1 + 5 # 5 added to each element of arr_1"
      ],
      "metadata": {
        "colab": {
          "base_uri": "https://localhost:8080/"
        },
        "id": "d8f7oM3HKFup",
        "outputId": "7ac30c29-61e8-42a7-f549-73f1ea3f00e5"
      },
      "execution_count": 91,
      "outputs": [
        {
          "output_type": "execute_result",
          "data": {
            "text/plain": [
              "array([[ 6,  7,  8],\n",
              "       [ 9, 10, 11]])"
            ]
          },
          "metadata": {},
          "execution_count": 91
        }
      ]
    },
    {
      "cell_type": "code",
      "source": [
        "# Add individual numbers to array \n",
        "# similar to arr_1 + 5\n",
        "np.add(arr_1, 5)"
      ],
      "metadata": {
        "colab": {
          "base_uri": "https://localhost:8080/"
        },
        "id": "txDIc-cWKW1c",
        "outputId": "997ac3ea-e78e-4f40-82c0-2fdeb26b35dc"
      },
      "execution_count": 92,
      "outputs": [
        {
          "output_type": "execute_result",
          "data": {
            "text/plain": [
              "array([[ 6,  7,  8],\n",
              "       [ 9, 10, 11]])"
            ]
          },
          "metadata": {},
          "execution_count": 92
        }
      ]
    },
    {
      "cell_type": "code",
      "source": [
        "# Random 4 digit 1D array between 0 to 100\n",
        "arr_3 = random.randint(100, size=(4))\n",
        "print(arr_3)\n",
        "# Random 2 by 3 digit 2D array between 0 to 100\n",
        "arr_4 = random.randint(100, size=(2, 3))\n",
        "print(arr_4)\n"
      ],
      "metadata": {
        "colab": {
          "base_uri": "https://localhost:8080/"
        },
        "id": "7_YC6LILIZ_E",
        "outputId": "4c46a467-5072-452a-f4a5-ab8668f418ac"
      },
      "execution_count": 93,
      "outputs": [
        {
          "output_type": "stream",
          "name": "stdout",
          "text": [
            "[ 7 65 67 76]\n",
            "[[30 31 60]\n",
            " [25 20 45]]\n"
          ]
        }
      ]
    },
    {
      "cell_type": "code",
      "source": [
        "# 4 random floats\n",
        "random.rand(4)"
      ],
      "metadata": {
        "colab": {
          "base_uri": "https://localhost:8080/"
        },
        "id": "8Yfh1zNjI4cd",
        "outputId": "d36d329a-162e-4920-d392-2a6a228331eb"
      },
      "execution_count": 94,
      "outputs": [
        {
          "output_type": "execute_result",
          "data": {
            "text/plain": [
              "array([0.86131111, 0.7882063 , 0.68255551, 0.48673163])"
            ]
          },
          "metadata": {},
          "execution_count": 94
        }
      ]
    },
    {
      "cell_type": "code",
      "source": [
        "# Get random value from a 1-D array\n",
        "random.choice(arr_3)"
      ],
      "metadata": {
        "colab": {
          "base_uri": "https://localhost:8080/"
        },
        "id": "dnqqyav4I-Vc",
        "outputId": "632035d0-f511-4913-c23b-d0428ef0c26f"
      },
      "execution_count": 95,
      "outputs": [
        {
          "output_type": "execute_result",
          "data": {
            "text/plain": [
              "76"
            ]
          },
          "metadata": {},
          "execution_count": 95
        }
      ]
    },
    {
      "cell_type": "code",
      "source": [
        "# Sum of values in n-D array\n",
        "arr_4.sum()"
      ],
      "metadata": {
        "colab": {
          "base_uri": "https://localhost:8080/"
        },
        "id": "aCPIkGXCJKYx",
        "outputId": "fa05b678-4bc0-483a-880d-ae0927a89c5a"
      },
      "execution_count": 96,
      "outputs": [
        {
          "output_type": "execute_result",
          "data": {
            "text/plain": [
              "211"
            ]
          },
          "metadata": {},
          "execution_count": 96
        }
      ]
    },
    {
      "cell_type": "code",
      "source": [
        "# Sum columns\n",
        "print(arr_4)\n",
        "arr_4.sum(axis=0)"
      ],
      "metadata": {
        "colab": {
          "base_uri": "https://localhost:8080/"
        },
        "id": "6IuUqP8XJVoF",
        "outputId": "61848037-2aeb-4f7c-c434-9d68c4a243f3"
      },
      "execution_count": 97,
      "outputs": [
        {
          "output_type": "stream",
          "name": "stdout",
          "text": [
            "[[30 31 60]\n",
            " [25 20 45]]\n"
          ]
        },
        {
          "output_type": "execute_result",
          "data": {
            "text/plain": [
              "array([ 55,  51, 105])"
            ]
          },
          "metadata": {},
          "execution_count": 97
        }
      ]
    },
    {
      "cell_type": "code",
      "source": [
        "# Cumulative sum of rows\n",
        "arr_4.cumsum(axis=1)\n",
        "# each row becomes prefix array"
      ],
      "metadata": {
        "colab": {
          "base_uri": "https://localhost:8080/"
        },
        "id": "jbFAb2nWJgeY",
        "outputId": "5517dc7e-2eca-4184-c243-8e1f12347ca0"
      },
      "execution_count": 98,
      "outputs": [
        {
          "output_type": "execute_result",
          "data": {
            "text/plain": [
              "array([[ 30,  61, 121],\n",
              "       [ 25,  45,  90]])"
            ]
          },
          "metadata": {},
          "execution_count": 98
        }
      ]
    },
    {
      "cell_type": "code",
      "source": [
        "# Min of each row\n",
        "arr_4.min(axis=1)"
      ],
      "metadata": {
        "colab": {
          "base_uri": "https://localhost:8080/"
        },
        "id": "r4enYxSZJ1OC",
        "outputId": "d35bc596-2731-43b8-e766-b1b7d43638f0"
      },
      "execution_count": 99,
      "outputs": [
        {
          "output_type": "execute_result",
          "data": {
            "text/plain": [
              "array([30, 20])"
            ]
          },
          "metadata": {},
          "execution_count": 99
        }
      ]
    },
    {
      "cell_type": "code",
      "source": [
        "# Max of each column\n",
        "arr_4.max(axis=0)"
      ],
      "metadata": {
        "colab": {
          "base_uri": "https://localhost:8080/"
        },
        "id": "VE3oPfrdJ3fn",
        "outputId": "1139effd-7649-45c3-adfc-9c72e27a076d"
      },
      "execution_count": 100,
      "outputs": [
        {
          "output_type": "execute_result",
          "data": {
            "text/plain": [
              "array([30, 31, 60])"
            ]
          },
          "metadata": {},
          "execution_count": 100
        }
      ]
    },
    {
      "cell_type": "code",
      "source": [
        "# Return values in 1st array to powers defined in 2nd array (element-wise)\n",
        "np.power(arr_2, arr_1)"
      ],
      "metadata": {
        "colab": {
          "base_uri": "https://localhost:8080/"
        },
        "id": "BS6mKylgMYbN",
        "outputId": "99daa78c-3245-45cd-8d50-5c4c1fdfe7b4"
      },
      "execution_count": 101,
      "outputs": [
        {
          "output_type": "execute_result",
          "data": {
            "text/plain": [
              "array([[      2,      16,     216],\n",
              "       [   4096,   59049, 1000000]])"
            ]
          },
          "metadata": {},
          "execution_count": 101
        }
      ]
    },
    {
      "cell_type": "code",
      "source": [
        "np.cbrt(arr_3)"
      ],
      "metadata": {
        "colab": {
          "base_uri": "https://localhost:8080/"
        },
        "id": "jcPHrOVZMk5V",
        "outputId": "02a103a8-6c60-43ba-9ae7-3e49ee53ae88"
      },
      "execution_count": 102,
      "outputs": [
        {
          "output_type": "execute_result",
          "data": {
            "text/plain": [
              "array([1.91293118, 4.02072576, 4.0615481 , 4.23582358])"
            ]
          },
          "metadata": {},
          "execution_count": 102
        }
      ]
    },
    {
      "cell_type": "code",
      "source": [
        "# Absolute value of every element\n",
        "np.absolute([-1, -2])"
      ],
      "metadata": {
        "colab": {
          "base_uri": "https://localhost:8080/"
        },
        "id": "I4xS1mtzMs7D",
        "outputId": "993aede5-d024-49ba-efcf-f111da2824e2"
      },
      "execution_count": 103,
      "outputs": [
        {
          "output_type": "execute_result",
          "data": {
            "text/plain": [
              "array([1, 2])"
            ]
          },
          "metadata": {},
          "execution_count": 103
        }
      ]
    },
    {
      "cell_type": "code",
      "source": [
        "# Exponential of all elements in array\n",
        "np.exp(arr_3)"
      ],
      "metadata": {
        "colab": {
          "base_uri": "https://localhost:8080/"
        },
        "id": "FAGsd6fPMyVX",
        "outputId": "82033b8f-08da-4936-daa4-da9b0d33596a"
      },
      "execution_count": 104,
      "outputs": [
        {
          "output_type": "execute_result",
          "data": {
            "text/plain": [
              "array([1.09663316e+03, 1.69488924e+28, 1.25236317e+29, 1.01480039e+33])"
            ]
          },
          "metadata": {},
          "execution_count": 104
        }
      ]
    },
    {
      "cell_type": "code",
      "source": [
        "# log functions\n",
        "np.log(arr_3)\n",
        "np.log2(arr_3)\n",
        "np.log10(arr_3)"
      ],
      "metadata": {
        "colab": {
          "base_uri": "https://localhost:8080/"
        },
        "id": "5JAYlIJcMyoM",
        "outputId": "4104b9aa-f933-4ae0-ff69-ff0239ee9be1"
      },
      "execution_count": 105,
      "outputs": [
        {
          "output_type": "execute_result",
          "data": {
            "text/plain": [
              "array([0.84509804, 1.81291336, 1.8260748 , 1.88081359])"
            ]
          },
          "metadata": {},
          "execution_count": 105
        }
      ]
    },
    {
      "cell_type": "code",
      "source": [
        "# Greatest common divisor\n",
        "np.gcd.reduce([9, 12, 15])"
      ],
      "metadata": {
        "colab": {
          "base_uri": "https://localhost:8080/"
        },
        "id": "8mICvZRdM76N",
        "outputId": "72717d75-bdb4-4a98-e0df-5729eb99f80a"
      },
      "execution_count": 106,
      "outputs": [
        {
          "output_type": "execute_result",
          "data": {
            "text/plain": [
              "3"
            ]
          },
          "metadata": {},
          "execution_count": 106
        }
      ]
    },
    {
      "cell_type": "code",
      "source": [
        "# Lowest common multiple\n",
        "np.lcm.reduce([9, 12, 15])"
      ],
      "metadata": {
        "colab": {
          "base_uri": "https://localhost:8080/"
        },
        "id": "Ro00rLNyM-SB",
        "outputId": "4a6db474-6faa-49f7-e17e-e3dde3114ea2"
      },
      "execution_count": 107,
      "outputs": [
        {
          "output_type": "execute_result",
          "data": {
            "text/plain": [
              "180"
            ]
          },
          "metadata": {},
          "execution_count": 107
        }
      ]
    },
    {
      "cell_type": "code",
      "source": [
        "# Round down\n",
        "np.floor([1.2, 2.5])\n",
        "# Round up\n",
        "np.ceil([1.2, 2.5])"
      ],
      "metadata": {
        "colab": {
          "base_uri": "https://localhost:8080/"
        },
        "id": "qO0cOYfENAEQ",
        "outputId": "2864d301-e067-421f-ebf7-f5129c0df645"
      },
      "execution_count": 108,
      "outputs": [
        {
          "output_type": "execute_result",
          "data": {
            "text/plain": [
              "array([2., 3.])"
            ]
          },
          "metadata": {},
          "execution_count": 108
        }
      ]
    },
    {
      "cell_type": "code",
      "source": [
        "# Can receive 6 values and square them\n",
        "np.arange(6)**2"
      ],
      "metadata": {
        "colab": {
          "base_uri": "https://localhost:8080/"
        },
        "id": "EoMwxhlTNIL7",
        "outputId": "8feda152-56de-47ef-a28c-77462c81e4e0"
      },
      "execution_count": 109,
      "outputs": [
        {
          "output_type": "execute_result",
          "data": {
            "text/plain": [
              "array([ 0,  1,  4,  9, 16, 25])"
            ]
          },
          "metadata": {},
          "execution_count": 109
        }
      ]
    },
    {
      "cell_type": "code",
      "source": [
        "# Can receive 6 values and square them\n",
        "sq_arr = np.arange(10)**2\n",
        "print(arr_1)\n",
        "sq_arr[arr_1]"
      ],
      "metadata": {
        "colab": {
          "base_uri": "https://localhost:8080/"
        },
        "id": "Tr-XEAgVNPEB",
        "outputId": "39453d3d-0f3a-440b-f215-b51b5fd3d33f"
      },
      "execution_count": 110,
      "outputs": [
        {
          "output_type": "stream",
          "name": "stdout",
          "text": [
            "[[1 2 3]\n",
            " [4 5 6]]\n"
          ]
        },
        {
          "output_type": "execute_result",
          "data": {
            "text/plain": [
              "array([[ 1,  4,  9],\n",
              "       [16, 25, 36]])"
            ]
          },
          "metadata": {},
          "execution_count": 110
        }
      ]
    },
    {
      "cell_type": "code",
      "source": [
        "arr_5 = random.randint(100, size=(5, 3))\n",
        "print(\"arr_5\\n\", arr_5)"
      ],
      "metadata": {
        "colab": {
          "base_uri": "https://localhost:8080/"
        },
        "id": "uGlInU0vOFca",
        "outputId": "c0a31b99-d84b-4070-9c9e-c358852d54cc"
      },
      "execution_count": 111,
      "outputs": [
        {
          "output_type": "stream",
          "name": "stdout",
          "text": [
            "arr_5\n",
            " [[ 4 77 66]\n",
            " [11 26 10]\n",
            " [33 83  3]\n",
            " [79 78 33]\n",
            " [54 97 84]]\n"
          ]
        }
      ]
    },
    {
      "cell_type": "code",
      "source": [
        "# Get index for max value per column\n",
        "mc_index = arr_5.argmax(axis=0)\n",
        "mc_index"
      ],
      "metadata": {
        "colab": {
          "base_uri": "https://localhost:8080/"
        },
        "id": "VOFlmyakOMY9",
        "outputId": "0ac20c63-2e88-41cc-8826-1744bdf9f610"
      },
      "execution_count": 112,
      "outputs": [
        {
          "output_type": "execute_result",
          "data": {
            "text/plain": [
              "array([3, 4, 4])"
            ]
          },
          "metadata": {},
          "execution_count": 112
        }
      ]
    },
    {
      "cell_type": "code",
      "source": [
        "# Get rows corresponding to indexes\n",
        "max_nums = arr_5[mc_index]\n",
        "arr_5[mc_index, range(arr_5.shape[1])]"
      ],
      "metadata": {
        "colab": {
          "base_uri": "https://localhost:8080/"
        },
        "id": "W1UrZBOsOWRO",
        "outputId": "d7db0a9a-3c72-4900-8f74-44abcb33a195"
      },
      "execution_count": 113,
      "outputs": [
        {
          "output_type": "execute_result",
          "data": {
            "text/plain": [
              "array([79, 97, 84])"
            ]
          },
          "metadata": {},
          "execution_count": 113
        }
      ]
    },
    {
      "cell_type": "markdown",
      "source": [
        "READING FROM FILES"
      ],
      "metadata": {
        "id": "ZqO2prWkPl0F"
      }
    },
    {
      "cell_type": "code",
      "source": [
        "# Pandas is used to manipulate tabular data and more\n",
        "import pandas as pd\n",
        "# Import using NumPy\n",
        "from numpy import genfromtxt"
      ],
      "metadata": {
        "id": "JcNOvIhrPpAp"
      },
      "execution_count": 114,
      "outputs": []
    },
    {
      "cell_type": "code",
      "source": [
        "# Read table of data from CSV file (using Pandas) and convert to Numpy array\n",
        "housing_train = pd.read_csv('/content/sample_data/california_housing_train.csv').to_numpy()\n",
        "housing_train"
      ],
      "metadata": {
        "colab": {
          "base_uri": "https://localhost:8080/"
        },
        "id": "K3yDca-fPsNa",
        "outputId": "067a18e9-7c40-459b-f31a-f918b7e4f7be"
      },
      "execution_count": 115,
      "outputs": [
        {
          "output_type": "execute_result",
          "data": {
            "text/plain": [
              "array([[-1.1431e+02,  3.4190e+01,  1.5000e+01, ...,  4.7200e+02,\n",
              "         1.4936e+00,  6.6900e+04],\n",
              "       [-1.1447e+02,  3.4400e+01,  1.9000e+01, ...,  4.6300e+02,\n",
              "         1.8200e+00,  8.0100e+04],\n",
              "       [-1.1456e+02,  3.3690e+01,  1.7000e+01, ...,  1.1700e+02,\n",
              "         1.6509e+00,  8.5700e+04],\n",
              "       ...,\n",
              "       [-1.2430e+02,  4.1840e+01,  1.7000e+01, ...,  4.5600e+02,\n",
              "         3.0313e+00,  1.0360e+05],\n",
              "       [-1.2430e+02,  4.1800e+01,  1.9000e+01, ...,  4.7800e+02,\n",
              "         1.9797e+00,  8.5800e+04],\n",
              "       [-1.2435e+02,  4.0540e+01,  5.2000e+01, ...,  2.7000e+02,\n",
              "         3.0147e+00,  9.4600e+04]])"
            ]
          },
          "metadata": {},
          "execution_count": 115
        }
      ]
    },
    {
      "cell_type": "code",
      "source": [
        "# Read data using NumPy\n",
        "housing_train_2 = genfromtxt('/content/sample_data/california_housing_train.csv', delimiter=',')\n",
        "# Remove NANs\n",
        "housing_train_2 = [row[~np.isnan(row)] for row in housing_train_2]\n",
        "housing_train_2"
      ],
      "metadata": {
        "id": "u9eXBg3zQBma",
        "colab": {
          "base_uri": "https://localhost:8080/"
        },
        "outputId": "55f12a5b-6421-4942-8e82-f69c60405f4e"
      },
      "execution_count": 116,
      "outputs": [
        {
          "output_type": "execute_result",
          "data": {
            "text/plain": [
              "[array([], dtype=float64),\n",
              " array([-1.1431e+02,  3.4190e+01,  1.5000e+01,  5.6120e+03,  1.2830e+03,\n",
              "         1.0150e+03,  4.7200e+02,  1.4936e+00,  6.6900e+04]),\n",
              " array([-1.1447e+02,  3.4400e+01,  1.9000e+01,  7.6500e+03,  1.9010e+03,\n",
              "         1.1290e+03,  4.6300e+02,  1.8200e+00,  8.0100e+04]),\n",
              " array([-1.1456e+02,  3.3690e+01,  1.7000e+01,  7.2000e+02,  1.7400e+02,\n",
              "         3.3300e+02,  1.1700e+02,  1.6509e+00,  8.5700e+04]),\n",
              " array([-1.1457e+02,  3.3640e+01,  1.4000e+01,  1.5010e+03,  3.3700e+02,\n",
              "         5.1500e+02,  2.2600e+02,  3.1917e+00,  7.3400e+04]),\n",
              " array([-1.1457e+02,  3.3570e+01,  2.0000e+01,  1.4540e+03,  3.2600e+02,\n",
              "         6.2400e+02,  2.6200e+02,  1.9250e+00,  6.5500e+04]),\n",
              " array([-1.1458e+02,  3.3630e+01,  2.9000e+01,  1.3870e+03,  2.3600e+02,\n",
              "         6.7100e+02,  2.3900e+02,  3.3438e+00,  7.4000e+04]),\n",
              " array([-1.1458e+02,  3.3610e+01,  2.5000e+01,  2.9070e+03,  6.8000e+02,\n",
              "         1.8410e+03,  6.3300e+02,  2.6768e+00,  8.2400e+04]),\n",
              " array([-1.1459e+02,  3.4830e+01,  4.1000e+01,  8.1200e+02,  1.6800e+02,\n",
              "         3.7500e+02,  1.5800e+02,  1.7083e+00,  4.8500e+04]),\n",
              " array([-1.1459e+02,  3.3610e+01,  3.4000e+01,  4.7890e+03,  1.1750e+03,\n",
              "         3.1340e+03,  1.0560e+03,  2.1782e+00,  5.8400e+04]),\n",
              " array([-1.1460e+02,  3.4830e+01,  4.6000e+01,  1.4970e+03,  3.0900e+02,\n",
              "         7.8700e+02,  2.7100e+02,  2.1908e+00,  4.8100e+04]),\n",
              " array([-1.1460e+02,  3.3620e+01,  1.6000e+01,  3.7410e+03,  8.0100e+02,\n",
              "         2.4340e+03,  8.2400e+02,  2.6797e+00,  8.6500e+04]),\n",
              " array([-1.146e+02,  3.360e+01,  2.100e+01,  1.988e+03,  4.830e+02,\n",
              "         1.182e+03,  4.370e+02,  1.625e+00,  6.200e+04]),\n",
              " array([-1.1461e+02,  3.4840e+01,  4.8000e+01,  1.2910e+03,  2.4800e+02,\n",
              "         5.8000e+02,  2.1100e+02,  2.1571e+00,  4.8600e+04]),\n",
              " array([-1.1461e+02,  3.4830e+01,  3.1000e+01,  2.4780e+03,  4.6400e+02,\n",
              "         1.3460e+03,  4.7900e+02,  3.2120e+00,  7.0400e+04]),\n",
              " array([-1.1463e+02,  3.2760e+01,  1.5000e+01,  1.4480e+03,  3.7800e+02,\n",
              "         9.4900e+02,  3.0000e+02,  8.5850e-01,  4.5000e+04]),\n",
              " array([-1.1465e+02,  3.4890e+01,  1.7000e+01,  2.5560e+03,  5.8700e+02,\n",
              "         1.0050e+03,  4.0100e+02,  1.6991e+00,  6.9100e+04]),\n",
              " array([-1.1465e+02,  3.3600e+01,  2.8000e+01,  1.6780e+03,  3.2200e+02,\n",
              "         6.6600e+02,  2.5600e+02,  2.9653e+00,  9.4900e+04]),\n",
              " array([-1.1465e+02,  3.2790e+01,  2.1000e+01,  4.4000e+01,  3.3000e+01,\n",
              "         6.4000e+01,  2.7000e+01,  8.5710e-01,  2.5000e+04]),\n",
              " array([-1.1466e+02,  3.2740e+01,  1.7000e+01,  1.3880e+03,  3.8600e+02,\n",
              "         7.7500e+02,  3.2000e+02,  1.2049e+00,  4.4000e+04]),\n",
              " array([-1.1467e+02,  3.3920e+01,  1.7000e+01,  9.7000e+01,  2.4000e+01,\n",
              "         2.9000e+01,  1.5000e+01,  1.2656e+00,  2.7500e+04]),\n",
              " array([-1.1468e+02,  3.3490e+01,  2.0000e+01,  1.4910e+03,  3.6000e+02,\n",
              "         1.1350e+03,  3.0300e+02,  1.6395e+00,  4.4400e+04]),\n",
              " array([-1.1473e+02,  3.3430e+01,  2.4000e+01,  7.9600e+02,  2.4300e+02,\n",
              "         2.2700e+02,  1.3900e+02,  8.9640e-01,  5.9200e+04]),\n",
              " array([-1.1494e+02,  3.4550e+01,  2.0000e+01,  3.5000e+02,  9.5000e+01,\n",
              "         1.1900e+02,  5.8000e+01,  1.6250e+00,  5.0000e+04]),\n",
              " array([-1.1498e+02,  3.3820e+01,  1.5000e+01,  6.4400e+02,  1.2900e+02,\n",
              "         1.3700e+02,  5.2000e+01,  3.2097e+00,  7.1300e+04]),\n",
              " array([-1.1522e+02,  3.3540e+01,  1.8000e+01,  1.7060e+03,  3.9700e+02,\n",
              "         3.4240e+03,  2.8300e+02,  1.6250e+00,  5.3500e+04]),\n",
              " array([-1.1532e+02,  3.2820e+01,  3.4000e+01,  5.9100e+02,  1.3900e+02,\n",
              "         3.2700e+02,  8.9000e+01,  3.6528e+00,  1.0000e+05]),\n",
              " array([-1.1537e+02,  3.2820e+01,  3.0000e+01,  1.6020e+03,  3.2200e+02,\n",
              "         1.1300e+03,  3.3500e+02,  3.5735e+00,  7.1100e+04]),\n",
              " array([-1.1537e+02,  3.2820e+01,  1.4000e+01,  1.2760e+03,  2.7000e+02,\n",
              "         8.6700e+02,  2.6100e+02,  1.9375e+00,  8.0900e+04]),\n",
              " array([-1.1537e+02,  3.2810e+01,  3.2000e+01,  7.4100e+02,  1.9100e+02,\n",
              "         6.2300e+02,  1.6900e+02,  1.7604e+00,  6.8600e+04]),\n",
              " array([-1.1537e+02,  3.2810e+01,  2.3000e+01,  1.4580e+03,  2.9400e+02,\n",
              "         8.6600e+02,  2.7500e+02,  2.3594e+00,  7.4300e+04]),\n",
              " array([-1.1538e+02,  3.2820e+01,  3.8000e+01,  1.8920e+03,  3.9400e+02,\n",
              "         1.1750e+03,  3.7400e+02,  1.9939e+00,  6.5800e+04]),\n",
              " array([-1.1538e+02,  3.2810e+01,  3.5000e+01,  1.2630e+03,  2.6200e+02,\n",
              "         9.5000e+02,  2.4100e+02,  1.8958e+00,  6.7500e+04]),\n",
              " array([-1.1539e+02,  3.2760e+01,  1.6000e+01,  1.1360e+03,  1.9600e+02,\n",
              "         4.8100e+02,  1.8500e+02,  6.2558e+00,  1.4630e+05]),\n",
              " array([-1.1540e+02,  3.2860e+01,  1.9000e+01,  1.0870e+03,  1.7100e+02,\n",
              "         6.4900e+02,  1.7300e+02,  3.3182e+00,  1.1380e+05]),\n",
              " array([-1.1540e+02,  3.2700e+01,  1.9000e+01,  5.8300e+02,  1.1300e+02,\n",
              "         5.3100e+02,  1.3400e+02,  1.6838e+00,  9.5800e+04]),\n",
              " array([-1.1541e+02,  3.2990e+01,  2.9000e+01,  1.1410e+03,  2.2000e+02,\n",
              "         6.8400e+02,  1.9400e+02,  3.4038e+00,  1.0780e+05]),\n",
              " array([-1.1546e+02,  3.3190e+01,  3.3000e+01,  1.2340e+03,  3.7300e+02,\n",
              "         7.7700e+02,  2.9800e+02,  1.0000e+00,  4.0000e+04]),\n",
              " array([-1.1548e+02,  3.2800e+01,  2.1000e+01,  1.2600e+03,  2.4600e+02,\n",
              "         8.0500e+02,  2.3900e+02,  2.6172e+00,  8.8500e+04]),\n",
              " array([-1.1548e+02,  3.2680e+01,  1.5000e+01,  3.4140e+03,  6.6600e+02,\n",
              "         2.0970e+03,  6.2200e+02,  2.3319e+00,  9.1200e+04]),\n",
              " array([-1.1549e+02,  3.2870e+01,  1.9000e+01,  5.4100e+02,  1.0400e+02,\n",
              "         4.5700e+02,  1.0600e+02,  3.3583e+00,  1.0280e+05]),\n",
              " array([-1.1549e+02,  3.2690e+01,  1.7000e+01,  1.9600e+03,  3.8900e+02,\n",
              "         1.6910e+03,  3.5600e+02,  1.8990e+00,  6.4000e+04]),\n",
              " array([-1.1549e+02,  3.2670e+01,  2.9000e+01,  1.5230e+03,  4.4000e+02,\n",
              "         1.3020e+03,  3.9300e+02,  1.1311e+00,  8.4700e+04]),\n",
              " array([-1.1549e+02,  3.2670e+01,  2.5000e+01,  2.3220e+03,  5.7300e+02,\n",
              "         2.1850e+03,  6.0200e+02,  1.3750e+00,  7.0100e+04]),\n",
              " array([-1.1550e+02,  3.2750e+01,  1.3000e+01,  3.3000e+02,  7.2000e+01,\n",
              "         8.2200e+02,  6.4000e+01,  3.4107e+00,  1.4250e+05]),\n",
              " array([-1.1550e+02,  3.2680e+01,  1.8000e+01,  3.6310e+03,  9.1300e+02,\n",
              "         3.5650e+03,  9.2400e+02,  1.5931e+00,  8.8400e+04]),\n",
              " array([-1.1550e+02,  3.2670e+01,  3.5000e+01,  2.1590e+03,  4.9200e+02,\n",
              "         1.6940e+03,  4.7500e+02,  2.1776e+00,  7.5500e+04]),\n",
              " array([-1.1551e+02,  3.3240e+01,  3.2000e+01,  1.9950e+03,  5.2300e+02,\n",
              "         1.0690e+03,  4.1000e+02,  1.6552e+00,  4.3300e+04]),\n",
              " array([-1.1551e+02,  3.3120e+01,  2.1000e+01,  1.0240e+03,  2.1800e+02,\n",
              "         8.9000e+02,  2.3200e+02,  2.1010e+00,  4.6700e+04]),\n",
              " array([-1.1551e+02,  3.2990e+01,  2.0000e+01,  1.4020e+03,  2.8700e+02,\n",
              "         1.1040e+03,  3.1700e+02,  1.9088e+00,  6.3700e+04]),\n",
              " array([-1.1551e+02,  3.2680e+01,  1.1000e+01,  2.8720e+03,  6.1000e+02,\n",
              "         2.6440e+03,  5.8100e+02,  2.6250e+00,  7.2700e+04]),\n",
              " array([-1.1552e+02,  3.4220e+01,  3.0000e+01,  5.4000e+02,  1.3600e+02,\n",
              "         1.2200e+02,  6.3000e+01,  1.3333e+00,  4.2500e+04]),\n",
              " array([-1.1552e+02,  3.3130e+01,  1.8000e+01,  1.1090e+03,  2.8300e+02,\n",
              "         1.0060e+03,  2.5300e+02,  2.1630e+00,  5.3400e+04]),\n",
              " array([-1.1552e+02,  3.3120e+01,  3.8000e+01,  1.3270e+03,  2.6200e+02,\n",
              "         7.8400e+02,  2.3100e+02,  1.8793e+00,  6.0800e+04]),\n",
              " array([-1.1552e+02,  3.2980e+01,  3.2000e+01,  1.6150e+03,  3.8200e+02,\n",
              "         1.3070e+03,  3.4500e+02,  1.4583e+00,  5.8600e+04]),\n",
              " array([-1.1552e+02,  3.2970e+01,  2.4000e+01,  1.6170e+03,  3.6600e+02,\n",
              "         1.4160e+03,  4.0100e+02,  1.9750e+00,  6.6400e+04]),\n",
              " array([-1.1552e+02,  3.2970e+01,  1.0000e+01,  1.8790e+03,  3.8700e+02,\n",
              "         1.3760e+03,  3.3700e+02,  1.9911e+00,  6.7500e+04]),\n",
              " array([-1.1552e+02,  3.2770e+01,  1.8000e+01,  1.7150e+03,  3.3700e+02,\n",
              "         1.1660e+03,  3.3300e+02,  2.2417e+00,  7.9200e+04]),\n",
              " array([-1.1552e+02,  3.2730e+01,  1.7000e+01,  1.1900e+03,  2.7500e+02,\n",
              "         1.1130e+03,  2.5800e+02,  2.3571e+00,  6.3100e+04]),\n",
              " array([-1.1552e+02,  3.2670e+01,  6.0000e+00,  2.8040e+03,  5.8100e+02,\n",
              "         2.8070e+03,  5.9400e+02,  2.0625e+00,  6.7700e+04]),\n",
              " array([-1.1553e+02,  3.4910e+01,  1.2000e+01,  8.0700e+02,  1.9900e+02,\n",
              "         2.4600e+02,  1.0200e+02,  2.5391e+00,  4.0000e+04]),\n",
              " array([-1.1553e+02,  3.2990e+01,  2.5000e+01,  2.5780e+03,  6.3400e+02,\n",
              "         2.0820e+03,  5.6500e+02,  1.7159e+00,  6.2200e+04]),\n",
              " array([-1.1553e+02,  3.2970e+01,  3.5000e+01,  1.5830e+03,  3.4000e+02,\n",
              "         9.3300e+02,  3.1800e+02,  2.4063e+00,  7.0700e+04]),\n",
              " array([-1.1553e+02,  3.2970e+01,  3.4000e+01,  2.2310e+03,  5.4500e+02,\n",
              "         1.5680e+03,  5.1000e+02,  1.5217e+00,  6.0300e+04]),\n",
              " array([-1.1553e+02,  3.2730e+01,  1.4000e+01,  1.5270e+03,  3.2500e+02,\n",
              "         1.4530e+03,  3.3200e+02,  1.7350e+00,  6.1200e+04]),\n",
              " array([-1.1554e+02,  3.2990e+01,  2.3000e+01,  1.4590e+03,  3.7300e+02,\n",
              "         1.1480e+03,  3.8800e+02,  1.5372e+00,  6.9400e+04]),\n",
              " array([-1.1554e+02,  3.2990e+01,  1.7000e+01,  1.6970e+03,  2.6800e+02,\n",
              "         9.1100e+02,  2.5400e+02,  4.3523e+00,  9.6000e+04]),\n",
              " array([-1.1554e+02,  3.2980e+01,  2.7000e+01,  1.5130e+03,  3.9500e+02,\n",
              "         1.1210e+03,  3.8100e+02,  1.9464e+00,  6.0600e+04]),\n",
              " array([-1.1554e+02,  3.2970e+01,  4.1000e+01,  2.4290e+03,  4.5400e+02,\n",
              "         1.1880e+03,  4.3000e+02,  3.0091e+00,  7.0800e+04]),\n",
              " array([-1.1554e+02,  3.2790e+01,  2.3000e+01,  1.7120e+03,  4.0300e+02,\n",
              "         1.3700e+03,  3.7700e+02,  1.2750e+00,  6.0400e+04]),\n",
              " array([-1.1555e+02,  3.2980e+01,  3.3000e+01,  2.2660e+03,  3.6500e+02,\n",
              "         9.5200e+02,  3.6000e+02,  5.4349e+00,  1.4300e+05]),\n",
              " array([-1.1555e+02,  3.2980e+01,  2.4000e+01,  2.5650e+03,  5.3000e+02,\n",
              "         1.4470e+03,  4.7300e+02,  3.2593e+00,  8.0800e+04]),\n",
              " array([-1.1555e+02,  3.2820e+01,  3.4000e+01,  1.5400e+03,  3.1600e+02,\n",
              "         1.0130e+03,  2.7400e+02,  2.5664e+00,  6.7500e+04]),\n",
              " array([-1.1555e+02,  3.2800e+01,  2.3000e+01,  6.6600e+02,  1.4200e+02,\n",
              "         5.8000e+02,  1.6000e+02,  2.1136e+00,  6.1000e+04]),\n",
              " array([-1.1555e+02,  3.2790e+01,  2.3000e+01,  1.0040e+03,  2.2100e+02,\n",
              "         6.9700e+02,  2.0100e+02,  1.6351e+00,  5.9600e+04]),\n",
              " array([-1.1555e+02,  3.2790e+01,  2.2000e+01,  5.6500e+02,  1.6200e+02,\n",
              "         6.9200e+02,  1.4100e+02,  1.2083e+00,  5.3600e+04]),\n",
              " array([-1.1555e+02,  3.2780e+01,  5.0000e+00,  2.6520e+03,  6.0600e+02,\n",
              "         1.7670e+03,  5.3600e+02,  2.8025e+00,  8.4300e+04]),\n",
              " array([-1.1556e+02,  3.2960e+01,  2.1000e+01,  2.1640e+03,  4.8000e+02,\n",
              "         1.1640e+03,  4.2100e+02,  3.8177e+00,  1.0720e+05]),\n",
              " array([-1.1556e+02,  3.2800e+01,  2.8000e+01,  1.6720e+03,  4.1600e+02,\n",
              "         1.3350e+03,  3.9700e+02,  1.5987e+00,  5.9400e+04]),\n",
              " array([-1.1556e+02,  3.2800e+01,  2.5000e+01,  1.3110e+03,  3.7500e+02,\n",
              "         1.1930e+03,  3.5100e+02,  2.1979e+00,  6.3900e+04]),\n",
              " array([-1.1556e+02,  3.2800e+01,  1.5000e+01,  1.1710e+03,  3.2800e+02,\n",
              "         1.0240e+03,  2.9800e+02,  1.3882e+00,  6.9400e+04]),\n",
              " array([-1.1556e+02,  3.2790e+01,  2.0000e+01,  2.3720e+03,  8.3500e+02,\n",
              "         2.2830e+03,  7.6700e+02,  1.1707e+00,  6.2500e+04]),\n",
              " array([-1.1556e+02,  3.2790e+01,  1.8000e+01,  1.1780e+03,  4.3800e+02,\n",
              "         1.3770e+03,  4.2900e+02,  1.3373e+00,  5.8300e+04]),\n",
              " array([-1.1556e+02,  3.2780e+01,  4.6000e+01,  2.5110e+03,  4.9000e+02,\n",
              "         1.5830e+03,  4.6900e+02,  3.0603e+00,  7.0800e+04]),\n",
              " array([-1.1556e+02,  3.2780e+01,  3.5000e+01,  1.1850e+03,  2.0200e+02,\n",
              "         6.1500e+02,  1.9100e+02,  4.6154e+00,  8.6200e+04]),\n",
              " array([-1.1556e+02,  3.2780e+01,  2.9000e+01,  1.5680e+03,  2.8300e+02,\n",
              "         8.4800e+02,  2.4500e+02,  3.1597e+00,  7.6200e+04]),\n",
              " array([-1.1556e+02,  3.2760e+01,  1.5000e+01,  1.2780e+03,  2.1700e+02,\n",
              "         6.5300e+02,  1.8500e+02,  4.4821e+00,  1.4030e+05]),\n",
              " array([-1.1557e+02,  3.2850e+01,  3.3000e+01,  1.3650e+03,  2.6900e+02,\n",
              "         8.2500e+02,  2.5000e+02,  3.2396e+00,  6.2300e+04]),\n",
              " array([-1.1557e+02,  3.2850e+01,  1.7000e+01,  1.0390e+03,  2.5600e+02,\n",
              "         7.2800e+02,  2.4600e+02,  1.7411e+00,  6.3500e+04]),\n",
              " array([-1.1557e+02,  3.2840e+01,  2.9000e+01,  1.2070e+03,  3.0100e+02,\n",
              "         8.0400e+02,  2.8800e+02,  1.9531e+00,  6.1100e+04]),\n",
              " array([-1.1557e+02,  3.2830e+01,  3.1000e+01,  1.4940e+03,  2.8900e+02,\n",
              "         9.5900e+02,  2.8400e+02,  3.5282e+00,  6.7500e+04]),\n",
              " array([-1.1557e+02,  3.2800e+01,  1.6000e+01,  2.2760e+03,  5.9400e+02,\n",
              "         1.1840e+03,  5.1300e+02,  1.8750e+00,  9.3800e+04]),\n",
              " array([-1.1557e+02,  3.2790e+01,  3.4000e+01,  1.1520e+03,  2.0800e+02,\n",
              "         6.2100e+02,  2.0800e+02,  3.6042e+00,  7.3600e+04]),\n",
              " array([-1.1557e+02,  3.2780e+01,  2.0000e+01,  1.5340e+03,  2.3500e+02,\n",
              "         8.7100e+02,  2.2200e+02,  6.2715e+00,  9.7200e+04]),\n",
              " array([-1.1557e+02,  3.2780e+01,  1.5000e+01,  1.4130e+03,  2.7900e+02,\n",
              "         8.0300e+02,  2.7700e+02,  4.3021e+00,  8.7500e+04]),\n",
              " array([-1.1558e+02,  3.3880e+01,  2.1000e+01,  1.1610e+03,  2.8200e+02,\n",
              "         7.2400e+02,  1.8600e+02,  3.1827e+00,  7.1700e+04]),\n",
              " array([-1.1558e+02,  3.2810e+01,  5.0000e+00,  8.0500e+02,  1.4300e+02,\n",
              "         4.5800e+02,  1.4300e+02,  4.4750e+00,  9.6300e+04]),\n",
              " array([-1.1558e+02,  3.2810e+01,  1.0000e+01,  1.0880e+03,  2.0300e+02,\n",
              "         5.3300e+02,  2.0100e+02,  3.6597e+00,  8.7500e+04]),\n",
              " array([-1.1558e+02,  3.2790e+01,  1.4000e+01,  1.6870e+03,  5.0700e+02,\n",
              "         7.6200e+02,  4.5100e+02,  1.6635e+00,  6.4400e+04]),\n",
              " array([-1.1558e+02,  3.2780e+01,  5.0000e+00,  2.4940e+03,  4.1400e+02,\n",
              "         1.4160e+03,  4.2100e+02,  5.7843e+00,  1.1010e+05]),\n",
              " array([-1.1559e+02,  3.2850e+01,  2.0000e+01,  1.6080e+03,  2.7400e+02,\n",
              "         8.6200e+02,  2.4800e+02,  4.8750e+00,  9.0800e+04]),\n",
              " array([-1.1559e+02,  3.2790e+01,  8.0000e+00,  2.1830e+03,  3.0700e+02,\n",
              "         1.0000e+03,  2.8700e+02,  6.3814e+00,  1.5990e+05]),\n",
              " array([-1.1559e+02,  3.2690e+01,  3.0000e+01,  9.3500e+02,  1.7700e+02,\n",
              "         6.4900e+02,  1.4800e+02,  2.5769e+00,  9.4400e+04]),\n",
              " array([-1.1560e+02,  3.3200e+01,  3.7000e+01,  7.0900e+02,  1.8700e+02,\n",
              "         3.9000e+02,  1.4200e+02,  2.4511e+00,  7.2500e+04]),\n",
              " array([-1.1560e+02,  3.2870e+01,  3.0000e+00,  1.6290e+03,  3.1700e+02,\n",
              "         1.0050e+03,  3.1200e+02,  4.1293e+00,  8.3200e+04]),\n",
              " array([-1.1562e+02,  3.3040e+01,  2.0000e+01,  1.1210e+03,  2.4400e+02,\n",
              "         7.6600e+02,  2.3000e+02,  2.2969e+00,  6.2000e+04]),\n",
              " array([-1.1562e+02,  3.3040e+01,  1.7000e+01,  1.0090e+03,  2.3100e+02,\n",
              "         7.4500e+02,  2.1700e+02,  2.0463e+00,  6.1200e+04]),\n",
              " array([-1.1564e+02,  3.2800e+01,  2.3000e+01,  1.2280e+03,  2.3500e+02,\n",
              "         5.6900e+02,  2.3500e+02,  3.1667e+00,  1.2500e+05]),\n",
              " array([-1.1569e+02,  3.2790e+01,  1.8000e+01,  1.5640e+03,  3.4000e+02,\n",
              "         1.1610e+03,  3.4300e+02,  2.1792e+00,  5.5200e+04]),\n",
              " array([-1.1572e+02,  3.2750e+01,  1.6000e+01,  3.4800e+02,  9.9000e+01,\n",
              "         1.2300e+02,  5.4000e+01,  2.0938e+00,  8.7500e+04]),\n",
              " array([-1.1573e+02,  3.3360e+01,  1.9000e+01,  7.4900e+02,  2.3800e+02,\n",
              "         4.7600e+02,  1.6900e+02,  1.7727e+00,  5.0000e+04]),\n",
              " array([-1.1573e+02,  3.3350e+01,  2.3000e+01,  1.5860e+03,  4.4800e+02,\n",
              "         3.3800e+02,  1.8200e+02,  1.2132e+00,  3.0000e+04]),\n",
              " array([-1.1573e+02,  3.3090e+01,  2.7000e+01,  4.5200e+02,  1.0300e+02,\n",
              "         2.5800e+02,  6.1000e+01,  2.9000e+00,  8.7500e+04]),\n",
              " array([-1.1573e+02,  3.2800e+01,  4.4000e+01,  4.7200e+02,  8.1000e+01,\n",
              "         2.0600e+02,  5.7000e+01,  2.2083e+00,  9.3800e+04]),\n",
              " array([-1.1580e+02,  3.3260e+01,  2.0000e+00,  9.6000e+01,  1.8000e+01,\n",
              "         3.0000e+01,  1.6000e+01,  5.3374e+00,  4.7500e+04]),\n",
              " array([-1.1584e+02,  3.3490e+01,  2.0000e+01,  1.6600e+03,  3.7900e+02,\n",
              "         6.3700e+02,  2.5000e+02,  2.0347e+00,  6.8900e+04]),\n",
              " array([-1.1585e+02,  3.4200e+01,  3.4000e+01,  3.8680e+03,  1.2570e+03,\n",
              "         8.9000e+02,  4.2300e+02,  1.3571e+00,  4.1000e+04]),\n",
              " array([-1.1588e+02,  3.2930e+01,  1.5000e+01,  2.0800e+02,  4.9000e+01,\n",
              "         5.1000e+01,  2.0000e+01,  4.0208e+00,  3.2500e+04]),\n",
              " array([-1.1590e+02,  3.3340e+01,  1.9000e+01,  1.2100e+03,  2.4800e+02,\n",
              "         3.2900e+02,  1.5500e+02,  1.7857e+00,  6.2800e+04]),\n",
              " array([-1.1591e+02,  3.3360e+01,  1.5000e+01,  4.5900e+02,  9.5000e+01,\n",
              "         1.6000e+02,  7.3000e+01,  9.2200e-01,  6.7500e+04]),\n",
              " array([-1.1593e+02,  3.5550e+01,  1.8000e+01,  1.3210e+03,  2.7200e+02,\n",
              "         7.5400e+02,  2.2600e+02,  3.4028e+00,  6.7500e+04]),\n",
              " array([-1.1594e+02,  3.3380e+01,  5.0000e+00,  1.8600e+02,  4.3000e+01,\n",
              "         4.1000e+01,  2.1000e+01,  2.7000e+00,  5.8800e+04]),\n",
              " array([-1.1595e+02,  3.3280e+01,  1.2000e+01,  9.9000e+01,  2.5000e+01,\n",
              "         3.7000e+01,  1.7000e+01,  1.8958e+00,  5.3800e+04]),\n",
              " array([-1.1596e+02,  3.3300e+01,  2.7000e+01,  3.2200e+02,  8.1000e+01,\n",
              "         1.1200e+02,  5.7000e+01,  1.1250e+00,  5.4400e+04]),\n",
              " array([-1.1598e+02,  3.3320e+01,  8.0000e+00,  2.4000e+02,  4.6000e+01,\n",
              "         6.3000e+01,  2.4000e+01,  1.4688e+00,  5.3800e+04]),\n",
              " array([-1.1599e+02,  3.3400e+01,  1.5000e+01,  1.9450e+03,  5.3600e+02,\n",
              "         5.1500e+02,  2.7300e+02,  2.0109e+00,  5.4300e+04]),\n",
              " array([-1.1600e+02,  3.3190e+01,  1.6000e+01,  2.4500e+02,  5.7000e+01,\n",
              "         8.1000e+01,  3.3000e+01,  1.2639e+00,  5.1300e+04]),\n",
              " array([-1.1600e+02,  3.2740e+01,  2.6000e+01,  1.1340e+03,  2.8000e+02,\n",
              "         3.2900e+02,  1.5800e+02,  1.4338e+00,  4.3900e+04]),\n",
              " array([-1.1601e+02,  3.3510e+01,  2.4000e+01,  2.9850e+03,  9.5800e+02,\n",
              "         4.0420e+03,  9.0500e+02,  1.7344e+00,  6.6400e+04]),\n",
              " array([-1.1601e+02,  3.3410e+01,  2.0000e+01,  1.9960e+03,  5.1500e+02,\n",
              "         6.5900e+02,  2.9500e+02,  2.8684e+00,  6.2800e+04]),\n",
              " array([-1.1602e+02,  3.4180e+01,  8.0000e+00,  5.6900e+02,  9.7000e+01,\n",
              "         3.1200e+02,  9.6000e+01,  4.3021e+00,  9.4500e+04]),\n",
              " array([-1.1605e+02,  3.4120e+01,  1.9000e+01,  3.0100e+02,  6.5000e+01,\n",
              "         1.5000e+02,  5.6000e+01,  3.1250e+00,  6.5600e+04]),\n",
              " array([-1.1605e+02,  3.3330e+01,  1.7000e+01,  2.9000e+02,  9.4000e+01,\n",
              "         1.3500e+02,  5.7000e+01,  1.7292e+00,  8.1300e+04]),\n",
              " array([-1.1606e+02,  3.4200e+01,  2.9000e+01,  1.2020e+03,  2.9000e+02,\n",
              "         3.8300e+02,  1.5600e+02,  1.3371e+00,  6.6900e+04]),\n",
              " array([-1.1606e+02,  3.4150e+01,  1.5000e+01,  1.0377e+04,  2.3310e+03,\n",
              "         4.5070e+03,  1.8070e+03,  2.2466e+00,  6.6800e+04]),\n",
              " array([-1.1608e+02,  3.3860e+01,  1.6000e+01,  3.8100e+02,  8.9000e+01,\n",
              "         1.8200e+02,  7.5000e+01,  2.4250e+00,  7.6100e+04]),\n",
              " array([-1.1609e+02,  3.4150e+01,  1.3000e+01,  9.4440e+03,  1.9970e+03,\n",
              "         4.1660e+03,  1.4820e+03,  2.6111e+00,  6.5600e+04]),\n",
              " array([-1.1611e+02,  3.3640e+01,  2.0000e+01,  1.2730e+03,  3.5400e+02,\n",
              "         1.5480e+03,  3.5500e+02,  2.0871e+00,  8.4700e+04]),\n",
              " array([-1.1612e+02,  3.3530e+01,  1.7000e+01,  2.4210e+03,  8.2000e+02,\n",
              "         2.9710e+03,  6.8500e+02,  1.6540e+00,  1.0000e+05]),\n",
              " array([-1.1614e+02,  3.4220e+01,  3.2000e+01,  3.2980e+03,  1.2280e+03,\n",
              "         7.6300e+02,  3.6000e+02,  1.8750e+00,  4.7800e+04]),\n",
              " array([-1.1615e+02,  3.4140e+01,  1.8000e+01,  3.3120e+03,  7.0500e+02,\n",
              "         1.2510e+03,  5.1200e+02,  3.0139e+00,  8.2600e+04]),\n",
              " array([-1.1615e+02,  3.3690e+01,  2.2000e+01,  1.9700e+02,  5.4000e+01,\n",
              "         3.3100e+02,  7.0000e+01,  2.9286e+00,  1.1250e+05]),\n",
              " array([-1.1615e+02,  3.3640e+01,  1.0000e+01,  1.7110e+03,  4.9900e+02,\n",
              "         1.8960e+03,  4.4300e+02,  1.6557e+00,  6.5400e+04]),\n",
              " array([-1.1616e+02,  3.3680e+01,  1.2000e+01,  1.2300e+03,  2.7700e+02,\n",
              "         1.3340e+03,  2.6000e+02,  2.2679e+00,  6.1400e+04]),\n",
              " array([-1.1617e+02,  3.3670e+01,  1.8000e+01,  3.5850e+03,  8.0000e+02,\n",
              "         3.8730e+03,  7.8800e+02,  2.5714e+00,  6.5900e+04]),\n",
              " array([-1.1617e+02,  3.3660e+01,  2.2000e+01,  6.3900e+02,  2.0300e+02,\n",
              "         6.6400e+02,  1.5300e+02,  1.9306e+00,  4.7500e+04]),\n",
              " array([-1.1617e+02,  3.3530e+01,  1.3000e+01,  1.7130e+03,  5.1200e+02,\n",
              "         1.9780e+03,  4.4200e+02,  2.1287e+00,  5.8600e+04]),\n",
              " array([-1.1618e+02,  3.3690e+01,  1.7000e+01,  8.9000e+01,  1.9000e+01,\n",
              "         7.9000e+01,  2.1000e+01,  2.3750e+00,  1.5500e+05]),\n",
              " array([-1.1618e+02,  3.3670e+01,  2.5000e+01,  2.8880e+03,  6.5400e+02,\n",
              "         2.9400e+03,  6.6000e+02,  2.2141e+00,  6.6700e+04]),\n",
              " array([-1.1619e+02,  3.3670e+01,  1.6000e+01,  1.8590e+03,  4.7600e+02,\n",
              "         1.9940e+03,  4.7700e+02,  1.7297e+00,  6.7500e+04]),\n",
              " array([-1.1620e+02,  3.3700e+01,  2.6000e+01,  2.3990e+03,  6.2500e+02,\n",
              "         2.6540e+03,  5.3500e+02,  2.2989e+00,  6.0600e+04]),\n",
              " array([-1.162e+02,  3.363e+01,  2.300e+01,  1.152e+03,  2.730e+02,\n",
              "         1.077e+03,  2.350e+02,  2.500e+00,  9.630e+04]),\n",
              " array([-1.1620e+02,  3.2640e+01,  2.8000e+01,  1.6080e+03,  4.0900e+02,\n",
              "         5.6700e+02,  2.5400e+02,  1.4648e+00,  6.1800e+04]),\n",
              " array([-1.1621e+02,  3.3750e+01,  2.2000e+01,  8.9400e+02,  1.9200e+02,\n",
              "         8.3000e+02,  2.0200e+02,  3.0673e+00,  6.8200e+04]),\n",
              " array([-1.1621e+02,  3.3720e+01,  2.8000e+01,  2.4880e+03,  7.1400e+02,\n",
              "         2.8910e+03,  6.7600e+02,  2.3169e+00,  6.8900e+04]),\n",
              " array([-1.1621e+02,  3.3710e+01,  1.9000e+01,  3.1140e+03,  7.8700e+02,\n",
              "         3.1570e+03,  7.7200e+02,  1.7083e+00,  8.2200e+04]),\n",
              " array([-1.1621e+02,  3.3680e+01,  3.4000e+01,  5.8400e+02,  1.7600e+02,\n",
              "         6.2500e+02,  1.6600e+02,  1.5809e+00,  1.0000e+05]),\n",
              " array([-1.1621e+02,  3.3660e+01,  1.9000e+01,  1.5960e+03,  2.9500e+02,\n",
              "         1.2010e+03,  2.8200e+02,  3.8846e+00,  1.0090e+05]),\n",
              " array([-1.1622e+02,  3.6000e+01,  1.4000e+01,  1.3720e+03,  3.8600e+02,\n",
              "         4.3600e+02,  2.1300e+02,  1.1471e+00,  3.2900e+04]),\n",
              " array([-1.1622e+02,  3.4210e+01,  2.3000e+01,  1.1750e+03,  4.6800e+02,\n",
              "         3.5500e+02,  1.5100e+02,  2.2083e+00,  4.2500e+04]),\n",
              " array([-1.1622e+02,  3.3740e+01,  2.6000e+01,  4.1200e+03,  8.5800e+02,\n",
              "         2.9180e+03,  8.1500e+02,  3.3107e+00,  6.9400e+04]),\n",
              " array([-1.1622e+02,  3.3730e+01,  3.8000e+01,  1.6950e+03,  3.5200e+02,\n",
              "         1.2790e+03,  3.0500e+02,  2.1217e+00,  6.8500e+04]),\n",
              " array([-1.1622e+02,  3.3720e+01,  2.8000e+01,  8.2600e+02,  2.5800e+02,\n",
              "         9.7900e+02,  2.4500e+02,  1.7172e+00,  5.8800e+04]),\n",
              " array([-1.1622e+02,  3.3700e+01,  9.0000e+00,  3.8610e+03,  8.4900e+02,\n",
              "         8.2500e+02,  4.0100e+02,  3.2833e+00,  1.2470e+05]),\n",
              " array([-1.1623e+02,  3.3730e+01,  2.9000e+01,  1.1330e+03,  2.2100e+02,\n",
              "         9.1800e+02,  2.3900e+02,  2.8648e+00,  7.2100e+04]),\n",
              " array([-1.1623e+02,  3.3720e+01,  3.2000e+01,  4.9810e+03,  1.3260e+03,\n",
              "         3.7790e+03,  1.1860e+03,  1.7805e+00,  7.6900e+04]),\n",
              " array([-1.1623e+02,  3.3710e+01,  1.7000e+01,  4.8740e+03,  1.3490e+03,\n",
              "         5.0320e+03,  1.2430e+03,  2.4440e+00,  9.0000e+04]),\n",
              " array([-1.1624e+02,  3.3730e+01,  1.4000e+01,  2.7740e+03,  5.6600e+02,\n",
              "         1.5300e+03,  5.0500e+02,  3.0682e+00,  1.0410e+05]),\n",
              " array([-1.1624e+02,  3.3720e+01,  2.5000e+01,  5.2360e+03,  1.0390e+03,\n",
              "         2.7250e+03,  9.3500e+02,  3.7750e+00,  9.3400e+04]),\n",
              " array([-1.1624e+02,  3.3710e+01,  1.0000e+01,  9.0330e+03,  2.2240e+03,\n",
              "         5.5250e+03,  1.8450e+03,  2.7598e+00,  9.5000e+04]),\n",
              " array([-1.1625e+02,  3.3810e+01,  2.4000e+01,  8.8000e+02,  1.8700e+02,\n",
              "         5.0700e+02,  1.6900e+02,  3.4583e+00,  6.7500e+04]),\n",
              " array([-1.1625e+02,  3.3750e+01,  3.3000e+01,  2.7800e+02,  9.1000e+01,\n",
              "         3.7500e+02,  8.1000e+01,  2.0250e+00,  5.0000e+04]),\n",
              " array([-1.1625e+02,  3.3690e+01,  5.0000e+00,  1.6640e+03,  4.4400e+02,\n",
              "         9.0700e+02,  3.7400e+02,  2.7667e+00,  9.2900e+04]),\n",
              " array([-1.16260e+02,  3.36500e+01,  3.00000e+00,  7.43700e+03,\n",
              "         1.22200e+03,  5.74000e+02,  3.02000e+02,  1.02948e+01,\n",
              "         3.82400e+05]),\n",
              " array([-1.1626e+02,  3.3070e+01,  1.7000e+01,  9.3400e+02,  2.8400e+02,\n",
              "         4.5200e+02,  1.8400e+02,  1.9875e+00,  8.3700e+04]),\n",
              " array([-1.1627e+02,  3.4130e+01,  3.7000e+01,  4.5200e+02,  1.0900e+02,\n",
              "         1.8400e+02,  5.9000e+01,  3.7292e+00,  6.5800e+04]),\n",
              " array([-1.1629e+02,  3.3740e+01,  6.0000e+00,  1.2991e+04,  2.5550e+03,\n",
              "         4.5710e+03,  1.9260e+03,  4.7195e+00,  1.9930e+05]),\n",
              " array([-1.1629e+02,  3.3720e+01,  5.0000e+00,  3.5840e+03,  7.6000e+02,\n",
              "         1.0970e+03,  4.7000e+02,  3.1771e+00,  1.6740e+05]),\n",
              " array([-1.1630e+02,  3.3680e+01,  1.0000e+01,  2.3870e+03,  4.8100e+02,\n",
              "         8.6300e+02,  3.0400e+02,  2.8882e+00,  1.3750e+05]),\n",
              " array([-1.1631e+02,  3.4130e+01,  2.0000e+01,  2.3520e+03,  5.5600e+02,\n",
              "         1.2170e+03,  4.8100e+02,  1.6063e+00,  5.5400e+04]),\n",
              " array([-1.1631e+02,  3.3670e+01,  1.5000e+01,  2.2140e+03,  4.1000e+02,\n",
              "         1.1520e+03,  3.5000e+02,  2.9187e+00,  9.3400e+04]),\n",
              " array([-1.1631e+02,  3.3670e+01,  1.1000e+01,  4.6860e+03,  8.5100e+02,\n",
              "         2.4660e+03,  7.3100e+02,  3.3333e+00,  9.1800e+04]),\n",
              " array([-1.1631e+02,  3.3660e+01,  7.0000e+00,  4.4970e+03,  8.3100e+02,\n",
              "         2.2480e+03,  7.1300e+02,  3.6354e+00,  9.8000e+04]),\n",
              " array([-1.1632e+02,  3.4140e+01,  1.8000e+01,  1.8800e+03,  4.8700e+02,\n",
              "         9.9400e+02,  4.2500e+02,  1.6900e+00,  5.4200e+04]),\n",
              " array([-1.1632e+02,  3.4100e+01,  1.0000e+01,  4.2560e+03,  8.6100e+02,\n",
              "         1.4030e+03,  6.8600e+02,  2.6618e+00,  8.1000e+04]),\n",
              " array([-1.1632e+02,  3.3280e+01,  1.9000e+01,  1.7910e+03,  3.6700e+02,\n",
              "         3.2700e+02,  1.8500e+02,  3.3625e+00,  1.0000e+05]),\n",
              " array([-1.1633e+02,  3.4150e+01,  1.3000e+01,  1.8080e+03,  4.1100e+02,\n",
              "         7.3500e+02,  3.2000e+02,  1.5489e+00,  5.7400e+04]),\n",
              " array([-1.1633e+02,  3.3750e+01,  5.0000e+00,  1.9107e+04,  3.9230e+03,\n",
              "         2.8800e+03,  1.3760e+03,  4.0360e+00,  1.5850e+05]),\n",
              " array([-1.1633e+02,  3.3720e+01,  1.1000e+01,  1.2327e+04,  2.0000e+03,\n",
              "         2.4500e+03,  1.1390e+03,  7.4382e+00,  3.5310e+05]),\n",
              " array([-1.1634e+02,  3.3360e+01,  2.4000e+01,  2.7460e+03,  5.1400e+02,\n",
              "         7.3100e+02,  2.9500e+02,  3.3214e+00,  1.7640e+05]),\n",
              " array([-1.1635e+02,  3.4130e+01,  9.0000e+00,  1.9690e+03,  4.0600e+02,\n",
              "         8.0500e+02,  3.4900e+02,  1.5491e+00,  6.2300e+04]),\n",
              " array([-1.1635e+02,  3.2740e+01,  1.6000e+01,  2.5950e+03,  6.0600e+02,\n",
              "         1.0460e+03,  3.6700e+02,  1.7137e+00,  1.1070e+05]),\n",
              " array([-1.1636e+02,  3.3880e+01,  1.1000e+01,  1.2557e+04,  3.0980e+03,\n",
              "         2.4530e+03,  1.2320e+03,  1.7844e+00,  7.8500e+04]),\n",
              " array([-1.1637e+02,  3.3720e+01,  1.7000e+01,  8.6260e+03,  1.8590e+03,\n",
              "         3.4970e+03,  1.3370e+03,  3.3120e+00,  1.2130e+05]),\n",
              " array([-1.1637e+02,  3.3690e+01,  7.0000e+00,  8.8060e+03,  1.5420e+03,\n",
              "         8.5800e+02,  4.4800e+02,  7.8005e+00,  3.1810e+05]),\n",
              " array([-1.1637e+02,  3.3190e+01,  1.2000e+01,  4.8900e+03,  1.1520e+03,\n",
              "         1.2890e+03,  5.7000e+02,  2.5795e+00,  9.8700e+04]),\n",
              " array([-1.1638e+02,  3.4200e+01,  1.4000e+01,  4.9850e+03,  1.2380e+03,\n",
              "         2.5170e+03,  9.5400e+02,  2.0674e+00,  6.5000e+04]),\n",
              " array([-1.1638e+02,  3.4100e+01,  6.0000e+00,  2.1040e+03,  3.4800e+02,\n",
              "         8.4100e+02,  3.2000e+02,  4.1458e+00,  1.1630e+05]),\n",
              " array([-1.1638e+02,  3.3740e+01,  7.0000e+00,  1.7579e+04,  3.4790e+03,\n",
              "         3.5810e+03,  1.8200e+03,  4.0840e+00,  1.9450e+05]),\n",
              " array([-1.1638e+02,  3.3730e+01,  1.0000e+01,  1.1836e+04,  2.4050e+03,\n",
              "         3.8110e+03,  1.5700e+03,  4.0079e+00,  1.3450e+05]),\n",
              " array([-1.1638e+02,  3.3710e+01,  1.7000e+01,  1.2509e+04,  2.4600e+03,\n",
              "         2.7370e+03,  1.4230e+03,  4.5556e+00,  2.5810e+05]),\n",
              " array([-1.1639e+02,  3.4150e+01,  1.5000e+01,  5.5830e+03,  1.1490e+03,\n",
              "         2.7090e+03,  9.6400e+02,  1.9779e+00,  7.3300e+04]),\n",
              " array([-1.1639e+02,  3.3820e+01,  1.5000e+01,  1.1115e+04,  2.2570e+03,\n",
              "         4.1220e+03,  1.6530e+03,  2.7219e+00,  7.4400e+04]),\n",
              " array([-1.1639e+02,  3.3720e+01,  1.9000e+01,  7.6460e+03,  1.6180e+03,\n",
              "         2.4960e+03,  1.0750e+03,  3.5569e+00,  1.2800e+05]),\n",
              " array([-1.1639e+02,  3.3690e+01,  1.0000e+01,  1.1659e+04,  2.0070e+03,\n",
              "         2.1860e+03,  1.0830e+03,  6.9833e+00,  2.3880e+05]),\n",
              " array([-1.1640e+02,  3.4120e+01,  1.6000e+01,  5.6480e+03,  1.0890e+03,\n",
              "         2.5240e+03,  1.0080e+03,  2.6739e+00,  7.8000e+04]),\n",
              " array([-1.1640e+02,  3.4090e+01,  9.0000e+00,  4.8550e+03,  8.7200e+02,\n",
              "         2.0980e+03,  7.6500e+02,  3.2723e+00,  9.7800e+04]),\n",
              " array([-1.1640e+02,  3.3780e+01,  8.0000e+00,  3.0590e+03,  5.0000e+02,\n",
              "         6.1200e+02,  2.0800e+02,  6.8729e+00,  2.5920e+05]),\n",
              " array([-1.1641e+02,  3.3740e+01,  2.5000e+01,  2.4750e+03,  4.7600e+02,\n",
              "         9.1000e+02,  3.8700e+02,  3.3639e+00,  1.6880e+05]),\n",
              " array([-1.1641e+02,  3.3740e+01,  1.7000e+01,  4.2890e+03,  8.9300e+02,\n",
              "         9.5800e+02,  4.4000e+02,  2.4659e+00,  1.7780e+05]),\n",
              " array([-1.1642e+02,  3.3790e+01,  1.2000e+01,  7.0950e+03,  1.2600e+03,\n",
              "         1.1790e+03,  5.7000e+02,  4.9444e+00,  2.8500e+05]),\n",
              " array([-1.1642e+02,  3.3760e+01,  1.4000e+01,  1.6921e+04,  2.8370e+03,\n",
              "         2.5240e+03,  1.2620e+03,  7.6281e+00,  3.4170e+05]),\n",
              " array([-1.1642e+02,  3.3680e+01,  1.5000e+01,  3.8950e+03,  7.8200e+02,\n",
              "         9.0000e+02,  5.2900e+02,  2.2208e+00,  1.3830e+05]),\n",
              " array([-1.1642e+02,  3.3510e+01,  2.6000e+01,  1.8600e+02,  4.8000e+01,\n",
              "         1.0200e+02,  3.9000e+01,  2.5625e+00,  1.0310e+05]),\n",
              " array([-1.1643e+02,  3.4100e+01,  1.7000e+01,  6.6830e+03,  1.2960e+03,\n",
              "         2.6770e+03,  1.2270e+03,  2.4828e+00,  8.4000e+04]),\n",
              " array([-1.1643e+02,  3.3810e+01,  8.0000e+00,  6.7100e+03,  1.3430e+03,\n",
              "         2.0690e+03,  7.8100e+02,  3.5223e+00,  1.1510e+05]),\n",
              " array([-1.16430e+02,  3.37500e+01,  2.40000e+01,  2.59600e+03,\n",
              "         4.38000e+02,  4.73000e+02,  2.37000e+02,  3.77270e+00,\n",
              "         5.00001e+05]),\n",
              " array([-1.1644e+02,  3.4160e+01,  1.9000e+01,  1.8670e+03,  3.6100e+02,\n",
              "         7.5800e+02,  3.2100e+02,  2.8929e+00,  9.8100e+04]),\n",
              " array([-1.1644e+02,  3.4120e+01,  1.8000e+01,  5.5840e+03,  1.3030e+03,\n",
              "         2.2500e+03,  1.1580e+03,  1.5823e+00,  7.2400e+04]),\n",
              " array([-1.1644e+02,  3.3930e+01,  1.7000e+01,  5.2930e+03,  1.2660e+03,\n",
              "         1.2010e+03,  5.9900e+02,  1.6849e+00,  8.8400e+04]),\n",
              " array([-1.1644e+02,  3.3770e+01,  1.8000e+01,  4.8720e+03,  1.1100e+03,\n",
              "         9.5500e+02,  6.5600e+02,  2.2439e+00,  9.7500e+04]),\n",
              " array([-1.1644e+02,  3.3740e+01,  5.0000e+00,  8.4600e+02,  2.4900e+02,\n",
              "         1.1700e+02,  6.7000e+01,  7.9885e+00,  4.0330e+05]),\n",
              " array([-1.1645e+02,  3.3800e+01,  9.0000e+00,  5.5340e+03,  1.2060e+03,\n",
              "         2.2830e+03,  1.0080e+03,  3.6161e+00,  9.9100e+04]),\n",
              " array([-1.1645e+02,  3.3780e+01,  1.6000e+01,  5.2280e+03,  9.9200e+02,\n",
              "         1.1770e+03,  6.3900e+02,  3.0859e+00,  1.3460e+05]),\n",
              " array([-1.1645e+02,  3.2650e+01,  2.2000e+01,  2.6800e+03,  6.4300e+02,\n",
              "         1.6440e+03,  5.1600e+02,  2.1949e+00,  1.2710e+05]),\n",
              " array([-1.1646e+02,  3.3820e+01,  6.0000e+00,  4.8630e+03,  9.2000e+02,\n",
              "         3.0100e+03,  8.2800e+02,  3.9508e+00,  1.0420e+05]),\n",
              " array([-1.1646e+02,  3.3780e+01,  3.3000e+01,  2.5650e+03,  7.4500e+02,\n",
              "         2.3010e+03,  6.3800e+02,  2.5477e+00,  8.3000e+04]),\n",
              " array([-1.1647e+02,  3.4070e+01,  2.2000e+01,  5.4730e+03,  1.2340e+03,\n",
              "         2.5810e+03,  1.0980e+03,  1.9375e+00,  6.5300e+04]),\n",
              " array([-1.1647e+02,  3.3940e+01,  1.8000e+01,  2.2330e+03,  4.7100e+02,\n",
              "         9.1900e+02,  3.8800e+02,  3.2578e+00,  8.5200e+04]),\n",
              " array([-1.1647e+02,  3.3840e+01,  3.0000e+00,  9.1690e+03,  1.5120e+03,\n",
              "         3.8380e+03,  1.2700e+03,  4.3111e+00,  1.4250e+05]),\n",
              " array([-1.1647e+02,  3.3810e+01,  7.0000e+00,  1.0105e+04,  2.4810e+03,\n",
              "         6.2740e+03,  2.0950e+03,  2.4497e+00,  9.0900e+04]),\n",
              " array([-1.1647e+02,  3.3780e+01,  2.7000e+01,  1.7810e+03,  4.4100e+02,\n",
              "         7.5900e+02,  3.4000e+02,  3.3162e+00,  1.1360e+05]),\n",
              " array([-1.1648e+02,  3.3940e+01,  1.0000e+01,  3.2540e+03,  9.1300e+02,\n",
              "         9.2300e+02,  4.8600e+02,  1.8000e+00,  8.1000e+04]),\n",
              " array([-1.1648e+02,  3.3790e+01,  1.4000e+01,  9.4250e+03,  2.0200e+03,\n",
              "         1.7110e+03,  1.0000e+03,  2.6298e+00,  1.4520e+05]),\n",
              " array([-1.1648e+02,  3.3610e+01,  8.0000e+00,  1.2940e+03,  2.7200e+02,\n",
              "         4.5700e+02,  1.9900e+02,  2.9167e+00,  1.1530e+05]),\n",
              " array([-1.1649e+02,  3.3820e+01,  2.7000e+01,  3.3160e+03,  6.3600e+02,\n",
              "         2.3620e+03,  5.3200e+02,  2.9569e+00,  6.5900e+04]),\n",
              " array([-1.1649e+02,  3.3800e+01,  1.3000e+01,  8.7890e+03,  1.8750e+03,\n",
              "         1.2740e+03,  6.8800e+02,  3.7396e+00,  1.4890e+05]),\n",
              " array([-1.1650e+02,  3.3980e+01,  5.0000e+00,  4.3320e+03,  8.6800e+02,\n",
              "         1.4200e+03,  5.6700e+02,  4.0417e+00,  1.4640e+05]),\n",
              " array([-1.1650e+02,  3.3950e+01,  1.0000e+01,  7.2490e+03,  1.8820e+03,\n",
              "         4.2740e+03,  1.6210e+03,  1.6983e+00,  6.6600e+04]),\n",
              " array([-1.1650e+02,  3.3820e+01,  1.6000e+01,  3.4300e+02,  8.5000e+01,\n",
              "         2.9000e+01,  1.4000e+01,  2.1042e+00,  8.7500e+04]),\n",
              " array([-1.1650e+02,  3.3810e+01,  2.6000e+01,  5.0320e+03,  1.2290e+03,\n",
              "         3.0860e+03,  1.1830e+03,  2.5399e+00,  9.4800e+04]),\n",
              " array([-1.165e+02,  3.369e+01,  2.000e+01,  4.810e+03,  1.074e+03,\n",
              "         1.304e+03,  7.400e+02,  2.250e+00,  2.481e+05]),\n",
              " array([-1.1651e+02,  3.4850e+01,  1.5000e+01,  3.1490e+03,  7.1300e+02,\n",
              "         1.2810e+03,  4.8600e+02,  2.0000e+00,  6.4700e+04]),\n",
              " array([-1.1651e+02,  3.4450e+01,  2.1000e+01,  8.5020e+03,  2.6340e+03,\n",
              "         2.3300e+03,  9.9100e+02,  1.3811e+00,  5.1300e+04]),\n",
              " array([-1.1651e+02,  3.3960e+01,  1.6000e+01,  4.9130e+03,  1.3950e+03,\n",
              "         2.5180e+03,  1.1320e+03,  1.4665e+00,  6.1100e+04]),\n",
              " array([-1.1651e+02,  3.3940e+01,  1.2000e+01,  3.3690e+03,  7.8000e+02,\n",
              "         1.3150e+03,  5.8400e+02,  1.7388e+00,  6.6000e+04]),\n",
              " array([-1.1651e+02,  3.3890e+01,  2.1000e+01,  1.2840e+03,  3.0600e+02,\n",
              "         5.3700e+02,  2.3300e+02,  1.9500e+00,  6.1000e+04]),\n",
              " array([-1.1652e+02,  3.3970e+01,  1.3000e+01,  3.9210e+03,  7.5400e+02,\n",
              "         1.9020e+03,  6.6500e+02,  3.3616e+00,  8.9600e+04]),\n",
              " array([-1.1652e+02,  3.3850e+01,  1.3000e+01,  7.5590e+03,  1.4440e+03,\n",
              "         3.1890e+03,  1.1050e+03,  3.4886e+00,  1.1250e+05]),\n",
              " array([-1.1652e+02,  3.3840e+01,  1.7000e+01,  4.4650e+03,  8.5900e+02,\n",
              "         8.5300e+02,  4.4500e+02,  3.6875e+00,  1.3040e+05]),\n",
              " array([-1.1652e+02,  3.3820e+01,  2.1000e+01,  1.0227e+04,  2.3150e+03,\n",
              "         3.6230e+03,  1.7340e+03,  2.5212e+00,  1.4520e+05]),\n",
              " array([-1.1652e+02,  3.2900e+01,  1.8000e+01,  4.4540e+03,  8.5200e+02,\n",
              "         1.7540e+03,  6.5600e+02,  4.5700e+00,  1.8990e+05]),\n",
              " array([-1.1653e+02,  3.3950e+01,  1.8000e+01,  2.9900e+03,  6.4800e+02,\n",
              "         1.2800e+03,  5.3200e+02,  2.6250e+00,  6.8200e+04]),\n",
              " array([-1.1653e+02,  3.3880e+01,  5.0000e+00,  4.4230e+03,  7.6300e+02,\n",
              "         1.9060e+03,  6.6700e+02,  4.6855e+00,  1.2520e+05]),\n",
              " array([-1.1653e+02,  3.3850e+01,  1.6000e+01,  1.0077e+04,  2.1860e+03,\n",
              "         3.0480e+03,  1.3370e+03,  2.9647e+00,  1.1090e+05]),\n",
              " array([-1.1653e+02,  3.3840e+01,  2.8000e+01,  8.3990e+03,  1.8390e+03,\n",
              "         3.4700e+03,  1.3400e+03,  2.5885e+00,  1.5900e+05]),\n",
              " array([-1.1653e+02,  3.3780e+01,  1.8000e+01,  2.5470e+03,  4.6300e+02,\n",
              "         4.1100e+02,  2.1400e+02,  2.5489e+00,  2.2050e+05]),\n",
              " array([-1.1654e+02,  3.3810e+01,  3.1000e+01,  6.8140e+03,  1.7140e+03,\n",
              "         2.6280e+03,  1.3410e+03,  2.1176e+00,  1.2410e+05]),\n",
              " array([-1.1654e+02,  3.3810e+01,  2.4000e+01,  6.0870e+03,  1.2170e+03,\n",
              "         1.7210e+03,  8.3300e+02,  3.1493e+00,  1.9940e+05]),\n",
              " array([-1.1654e+02,  3.3800e+01,  2.2000e+01,  6.0500e+03,  1.3870e+03,\n",
              "         1.4320e+03,  8.9000e+02,  2.2216e+00,  1.8390e+05]),\n",
              " array([-1.1654e+02,  3.3790e+01,  1.8000e+01,  9.3740e+03,  1.7800e+03,\n",
              "         1.6780e+03,  9.1900e+02,  3.9737e+00,  2.3560e+05]),\n",
              " array([-1.16550e+02,  3.38400e+01,  2.80000e+01,  2.99200e+03,\n",
              "         5.62000e+02,  6.76000e+02,  3.46000e+02,  5.76130e+00,\n",
              "         5.00001e+05]),\n",
              " array([-1.1656e+02,  3.4060e+01,  1.5000e+01,  6.9280e+03,  1.5290e+03,\n",
              "         2.5680e+03,  1.0750e+03,  2.5405e+00,  6.9600e+04]),\n",
              " array([-1.1656e+02,  3.3830e+01,  3.6000e+01,  1.7650e+03,  3.9900e+02,\n",
              "         4.5100e+02,  2.6400e+02,  2.6083e+00,  3.2190e+05]),\n",
              " array([-1.1656e+02,  3.3050e+01,  1.5000e+01,  1.9850e+03,  3.6100e+02,\n",
              "         5.3600e+02,  2.0900e+02,  4.1250e+00,  1.4820e+05]),\n",
              " array([-1.1657e+02,  3.5430e+01,  8.0000e+00,  9.9750e+03,  1.7430e+03,\n",
              "         6.8350e+03,  1.4390e+03,  2.7138e+00,  2.2500e+04]),\n",
              " array([-1.1657e+02,  3.4000e+01,  2.0000e+01,  2.6000e+02,  6.7000e+01,\n",
              "         6.9000e+01,  5.0000e+01,  3.5208e+00,  7.6600e+04]),\n",
              " array([-1.1657e+02,  3.3940e+01,  2.9000e+01,  5.5100e+02,  1.6600e+02,\n",
              "         2.2400e+02,  1.0700e+02,  1.1917e+00,  5.0000e+04]),\n",
              " array([-1.1657e+02,  3.3840e+01,  1.8000e+01,  7.9620e+03,  1.6520e+03,\n",
              "         2.0090e+03,  9.2100e+02,  3.3897e+00,  2.3020e+05]),\n",
              " array([-1.1657e+02,  3.3640e+01,  1.0000e+01,  4.8900e+02,  8.2000e+01,\n",
              "         1.8300e+02,  7.4000e+01,  6.2702e+00,  3.4550e+05]),\n",
              " array([-1.1658e+02,  3.2690e+01,  1.9000e+01,  4.0850e+03,  8.7600e+02,\n",
              "         2.1330e+03,  7.1800e+02,  2.9190e+00,  1.1650e+05]),\n",
              " array([-1.166e+02,  3.349e+01,  1.600e+01,  3.730e+03,  8.270e+02,\n",
              "         1.346e+03,  5.920e+02,  2.183e+00,  1.135e+05]),\n",
              " array([-1.1660e+02,  3.3060e+01,  2.3000e+01,  1.7310e+03,  3.6500e+02,\n",
              "         6.1200e+02,  2.5800e+02,  2.7813e+00,  1.7290e+05]),\n",
              " array([-1.1661e+02,  3.3040e+01,  1.1000e+01,  2.5220e+03,  5.3800e+02,\n",
              "         6.1600e+02,  2.6900e+02,  3.8750e+00,  1.9810e+05]),\n",
              " array([-1.1662e+02,  3.4230e+01,  1.4000e+01,  6.4380e+03,  1.7190e+03,\n",
              "         1.5860e+03,  6.9100e+02,  1.6136e+00,  6.7400e+04]),\n",
              " array([-1.1662e+02,  3.2860e+01,  1.8000e+01,  4.1150e+03,  8.4700e+02,\n",
              "         2.0320e+03,  7.4500e+02,  4.0159e+00,  1.6910e+05]),\n",
              " array([-1.1666e+02,  3.2790e+01,  1.3000e+01,  8.4300e+02,  1.5700e+02,\n",
              "         9.1800e+02,  1.5200e+02,  6.2152e+00,  2.4060e+05]),\n",
              " array([-1.1667e+02,  3.2970e+01,  1.6000e+01,  3.4900e+02,  7.4000e+01,\n",
              "         1.2000e+02,  4.3000e+01,  5.3590e+00,  1.9380e+05]),\n",
              " array([-1.1668e+02,  3.3710e+01,  2.1000e+01,  3.4600e+03,  7.1100e+02,\n",
              "         6.5800e+02,  2.5500e+02,  3.5882e+00,  1.6110e+05]),\n",
              " array([-1.1668e+02,  3.3160e+01,  2.6000e+01,  1.8200e+03,  3.7400e+02,\n",
              "         1.0010e+03,  3.2400e+02,  2.1797e+00,  1.5630e+05]),\n",
              " array([-1.1671e+02,  3.3940e+01,  1.2000e+01,  5.4900e+02,  1.0900e+02,\n",
              "         2.0900e+02,  9.0000e+01,  3.0208e+00,  6.6300e+04]),\n",
              " array([-1.1672e+02,  3.4890e+01,  1.4000e+01,  4.5270e+03,  8.7500e+02,\n",
              "         1.6400e+03,  5.9000e+02,  2.8594e+00,  8.1700e+04]),\n",
              " array([-1.1672e+02,  3.3560e+01,  1.3000e+01,  3.1660e+03,  6.8200e+02,\n",
              "         1.2500e+03,  4.7500e+02,  2.3550e+00,  1.2290e+05]),\n",
              " array([-1.1674e+02,  3.3620e+01,  1.1000e+01,  2.3850e+03,  6.6100e+02,\n",
              "         6.8200e+02,  2.4200e+02,  2.9141e+00,  2.1430e+05]),\n",
              " array([-1.1674e+02,  3.3330e+01,  1.7000e+01,  4.1900e+03,  9.4600e+02,\n",
              "         1.8020e+03,  6.7300e+02,  2.4744e+00,  1.5820e+05]),\n",
              " array([-1.1675e+02,  3.3830e+01,  1.6000e+01,  5.2770e+03,  1.0700e+03,\n",
              "         6.5700e+02,  2.7600e+02,  3.3333e+00,  1.4340e+05]),\n",
              " array([-1.1675e+02,  3.2850e+01,  1.7000e+01,  4.8630e+03,  8.4500e+02,\n",
              "         2.2660e+03,  7.6900e+02,  4.2321e+00,  2.1740e+05]),\n",
              " array([-1.1675e+02,  3.2820e+01,  1.7000e+01,  3.3480e+03,  4.8100e+02,\n",
              "         1.2220e+03,  4.4300e+02,  6.6361e+00,  3.0860e+05]),\n",
              " array([-1.1676e+02,  3.4290e+01,  1.4000e+01,  3.9590e+03,  8.4900e+02,\n",
              "         1.0640e+03,  3.7600e+02,  2.8214e+00,  1.1140e+05]),\n",
              " array([-1.1676e+02,  3.4140e+01,  4.0000e+00,  4.2000e+01,  1.0000e+01,\n",
              "         9.0000e+00,  3.0000e+00,  5.3600e-01,  4.2500e+04]),\n",
              " array([-1.1676e+02,  3.3460e+01,  6.0000e+00,  1.2510e+03,  2.6800e+02,\n",
              "         5.4400e+02,  2.1600e+02,  3.0694e+00,  1.7340e+05]),\n",
              " array([-1.1676e+02,  3.2840e+01,  1.6000e+01,  3.3110e+03,  7.0200e+02,\n",
              "         1.6270e+03,  6.2400e+02,  3.1196e+00,  1.8720e+05]),\n",
              " array([-1.1676e+02,  3.2740e+01,  1.4000e+01,  4.0850e+03,  7.5100e+02,\n",
              "         2.1290e+03,  6.8800e+02,  4.7367e+00,  2.1450e+05]),\n",
              " array([-1.1677e+02,  3.3920e+01,  1.9000e+01,  2.3070e+03,  5.2500e+02,\n",
              "         1.2660e+03,  4.3700e+02,  1.6875e+00,  6.3000e+04]),\n",
              " array([-1.1678e+02,  3.3000e+01,  7.0000e+00,  1.2480e+04,  1.9460e+03,\n",
              "         5.1020e+03,  1.6970e+03,  5.5102e+00,  2.2100e+05]),\n",
              " array([-1.1679e+02,  3.3990e+01,  1.6000e+01,  3.1900e+02,  6.8000e+01,\n",
              "         2.1200e+02,  6.7000e+01,  1.4688e+00,  9.0000e+04]),\n",
              " array([-1.1679e+02,  3.2840e+01,  1.2000e+01,  4.2810e+03,  7.8600e+02,\n",
              "         1.8910e+03,  7.2100e+02,  3.5769e+00,  2.3180e+05]),\n",
              " array([-1.1679e+02,  3.2610e+01,  1.9000e+01,  2.6520e+03,  5.2000e+02,\n",
              "         1.4210e+03,  4.9100e+02,  3.5227e+00,  2.0610e+05]),\n",
              " array([-1.1680e+02,  3.3800e+01,  3.5000e+01,  3.2400e+02,  6.3000e+01,\n",
              "         1.5800e+02,  3.9000e+01,  3.4167e+00,  1.0000e+05]),\n",
              " array([-1.1680e+02,  3.2800e+01,  1.1000e+01,  3.8740e+03,  5.6500e+02,\n",
              "         1.6720e+03,  5.4600e+02,  6.1481e+00,  2.7460e+05]),\n",
              " array([-1.1682e+02,  3.4240e+01,  1.1000e+01,  5.7990e+03,  1.5270e+03,\n",
              "         7.1300e+02,  2.6200e+02,  2.5147e+00,  8.4700e+04]),\n",
              " array([-1.1683e+02,  3.4250e+01,  1.5000e+01,  8.9480e+03,  1.9850e+03,\n",
              "         1.3160e+03,  5.1400e+02,  2.7375e+00,  9.0800e+04]),\n",
              " array([-1.1683e+02,  3.2830e+01,  6.0000e+00,  3.1230e+03,  4.9500e+02,\n",
              "         1.5130e+03,  4.8000e+02,  5.4288e+00,  1.6780e+05]),\n",
              " array([-1.1684e+02,  3.3010e+01,  5.0000e+00,  5.6730e+03,  8.5500e+02,\n",
              "         2.5920e+03,  7.9700e+02,  5.4155e+00,  1.9920e+05]),\n",
              " array([-1.1684e+02,  3.2920e+01,  2.0000e+01,  1.0660e+03,  2.1900e+02,\n",
              "         5.3600e+02,  1.7300e+02,  3.1607e+00,  1.1930e+05]),\n",
              " array([-1.1684e+02,  3.2860e+01,  1.6000e+01,  2.5020e+03,  5.3200e+02,\n",
              "         1.2110e+03,  4.9400e+02,  3.2516e+00,  2.0210e+05]),\n",
              " array([-1.1685e+02,  3.4980e+01,  2.6000e+01,  3.6060e+03,  7.9200e+02,\n",
              "         1.6830e+03,  6.0800e+02,  2.6587e+00,  5.7400e+04]),\n",
              " array([-1.1685e+02,  3.4250e+01,  5.0000e+00,  5.8060e+03,  1.0300e+03,\n",
              "         5.6900e+02,  2.1900e+02,  4.0132e+00,  1.6310e+05]),\n",
              " array([-1.1685e+02,  3.2830e+01,  1.7000e+01,  4.2340e+03,  7.7000e+02,\n",
              "         2.1910e+03,  7.2500e+02,  3.6445e+00,  1.9760e+05]),\n",
              " array([-1.1686e+02,  3.4230e+01,  1.3000e+01,  4.7600e+03,  9.3800e+02,\n",
              "         3.0900e+02,  1.3200e+02,  5.4618e+00,  1.4780e+05]),\n",
              " array([-1.1686e+02,  3.3970e+01,  1.1000e+01,  6.5800e+02,  1.3100e+02,\n",
              "         3.7600e+02,  1.2000e+02,  2.3977e+00,  5.8000e+04]),\n",
              " array([-1.1686e+02,  3.3840e+01,  1.8000e+01,  5.2100e+02,  1.1800e+02,\n",
              "         1.7400e+02,  7.4000e+01,  2.7788e+00,  9.1100e+04]),\n",
              " array([-1.1686e+02,  3.3730e+01,  1.3000e+01,  2.6040e+03,  4.4300e+02,\n",
              "         9.7800e+02,  4.1700e+02,  2.9330e+00,  1.7070e+05]),\n",
              " array([-1.1686e+02,  3.3050e+01,  1.7000e+01,  9.0440e+03,  1.6890e+03,\n",
              "         5.0300e+03,  1.5960e+03,  3.6348e+00,  1.6450e+05]),\n",
              " array([-1.1686e+02,  3.3020e+01,  1.7000e+01,  4.0100e+02,  6.8000e+01,\n",
              "         2.5100e+02,  6.9000e+01,  4.6518e+00,  1.7020e+05]),\n",
              " array([-1.1686e+02,  3.2870e+01,  1.7000e+01,  5.7990e+03,  9.2100e+02,\n",
              "         2.6300e+03,  8.4300e+02,  5.0524e+00,  2.8540e+05]),\n",
              " array([-1.1686e+02,  3.2800e+01,  1.9000e+01,  1.7470e+03,  2.9100e+02,\n",
              "         8.4800e+02,  2.9000e+02,  4.8750e+00,  1.8720e+05]),\n",
              " array([-1.1687e+02,  3.3940e+01,  3.5000e+01,  4.4480e+03,  9.0600e+02,\n",
              "         2.7360e+03,  8.4300e+02,  2.2180e+00,  7.3400e+04]),\n",
              " array([-1.1687e+02,  3.3930e+01,  3.2000e+01,  3.1410e+03,  8.1200e+02,\n",
              "         2.5890e+03,  7.2100e+02,  1.4556e+00,  5.4600e+04]),\n",
              " array([-1.1687e+02,  3.3760e+01,  5.0000e+00,  4.1160e+03,  7.6100e+02,\n",
              "         1.7140e+03,  7.1700e+02,  2.5612e+00,  1.3080e+05]),\n",
              " array([-1.1687e+02,  3.3570e+01,  1.2000e+01,  1.1530e+03,  2.6500e+02,\n",
              "         4.4600e+02,  1.9500e+02,  3.0380e+00,  1.2810e+05]),\n",
              " array([-1.1687e+02,  3.2750e+01,  1.5000e+01,  2.0530e+03,  3.2100e+02,\n",
              "         9.9300e+02,  3.0900e+02,  5.5164e+00,  2.4890e+05]),\n",
              " array([-1.1687e+02,  3.2720e+01,  1.3000e+01,  3.2680e+03,  4.9100e+02,\n",
              "         1.4310e+03,  5.0300e+02,  5.7652e+00,  2.5990e+05]),\n",
              " array([-1.1688e+02,  3.4250e+01,  1.1000e+01,  1.0890e+03,  1.9800e+02,\n",
              "         2.3000e+02,  9.0000e+01,  4.9643e+00,  1.7600e+05]),\n",
              " array([-1.1688e+02,  3.4240e+01,  1.3000e+01,  4.1370e+03,  7.9600e+02,\n",
              "         5.7300e+02,  2.1800e+02,  4.6394e+00,  2.2650e+05]),\n",
              " array([-1.1688e+02,  3.4190e+01,  3.8000e+01,  8.9800e+02,  2.5900e+02,\n",
              "         1.0600e+02,  5.2000e+01,  1.6875e+00,  2.2500e+05]),\n",
              " array([-1.1688e+02,  3.4080e+01,  5.2000e+01,  3.4190e+03,  7.7700e+02,\n",
              "         7.1000e+02,  2.6500e+02,  3.9028e+00,  1.2860e+05]),\n",
              " array([-1.1688e+02,  3.3930e+01,  3.7000e+01,  1.4950e+03,  4.2900e+02,\n",
              "         8.6500e+02,  3.4200e+02,  1.2188e+00,  5.5000e+04]),\n",
              " array([-1.1688e+02,  3.3740e+01,  2.0000e+01,  3.1110e+03,  6.2300e+02,\n",
              "         1.0000e+03,  5.0800e+02,  1.5982e+00,  1.4000e+05]),\n",
              " array([-1.1688e+02,  3.3050e+01,  1.1000e+01,  7.2170e+03,  1.5830e+03,\n",
              "         4.1970e+03,  1.5020e+03,  2.8827e+00,  1.6670e+05]),\n",
              " array([-1.1688e+02,  3.3020e+01,  1.6000e+01,  3.2040e+03,  5.4100e+02,\n",
              "         1.8180e+03,  5.2900e+02,  5.2596e+00,  1.7150e+05]),\n",
              " array([-1.1688e+02,  3.2860e+01,  9.0000e+00,  3.0490e+03,  4.7100e+02,\n",
              "         1.5270e+03,  5.1500e+02,  5.0733e+00,  1.9660e+05]),\n",
              " array([-1.1689e+02,  3.3930e+01,  2.9000e+01,  4.5490e+03,  9.1600e+02,\n",
              "         2.4940e+03,  9.1200e+02,  2.0976e+00,  7.2600e+04]),\n",
              " array([-1.1689e+02,  3.3920e+01,  1.0000e+01,  2.6530e+03,  6.2100e+02,\n",
              "         1.9670e+03,  5.9800e+02,  2.6643e+00,  8.1000e+04]),\n",
              " array([-1.1689e+02,  3.3860e+01,  2.0000e+00,  6.9000e+03,  1.2380e+03,\n",
              "         1.9500e+03,  9.8000e+02,  3.0417e+00,  1.4630e+05]),\n",
              " array([-1.1689e+02,  3.3750e+01,  2.3000e+01,  2.7190e+03,  5.3800e+02,\n",
              "         9.3000e+02,  4.8500e+02,  2.0154e+00,  8.1700e+04]),\n",
              " array([-1.1689e+02,  3.3480e+01,  1.4000e+01,  1.0160e+03,  2.1900e+02,\n",
              "         4.4300e+02,  1.6900e+02,  2.8071e+00,  1.3750e+05]),\n",
              " array([-1.1689e+02,  3.2990e+01,  1.4000e+01,  2.8160e+03,  5.0100e+02,\n",
              "         1.4480e+03,  4.5200e+02,  5.0278e+00,  2.1090e+05]),\n",
              " array([-1.1689e+02,  3.2850e+01,  1.6000e+01,  1.7430e+03,  3.3300e+02,\n",
              "         6.5200e+02,  3.2200e+02,  2.8906e+00,  1.5830e+05]),\n",
              " array([-1.1689e+02,  3.2850e+01,  1.5000e+01,  3.5600e+03,  5.9300e+02,\n",
              "         1.7570e+03,  5.7400e+02,  5.1185e+00,  1.8530e+05]),\n",
              " array([-1.1689e+02,  3.2670e+01,  9.0000e+00,  2.6520e+03,  3.9300e+02,\n",
              "         1.3550e+03,  3.6200e+02,  6.2578e+00,  2.9310e+05]),\n",
              " array([-1.169e+02,  3.469e+01,  1.000e+01,  3.370e+02,  1.020e+02,\n",
              "         1.080e+02,  5.000e+01,  4.999e-01,  5.500e+04]),\n",
              " array([-1.169e+02,  3.452e+01,  2.000e+01,  3.481e+03,  8.400e+02,\n",
              "         1.694e+03,  5.870e+02,  1.400e+00,  7.770e+04]),\n",
              " array([-1.1690e+02,  3.4250e+01,  1.6000e+01,  3.0180e+03,  5.2300e+02,\n",
              "         5.5600e+02,  2.4400e+02,  3.5288e+00,  1.8970e+05]),\n",
              " array([-1.1690e+02,  3.3980e+01,  3.0000e+01,  3.9150e+03,  6.7200e+02,\n",
              "         1.8200e+03,  6.4300e+02,  3.6339e+00,  9.8600e+04]),\n",
              " array([-1.1690e+02,  3.3930e+01,  3.4000e+01,  3.1830e+03,  7.3800e+02,\n",
              "         1.8200e+03,  6.4700e+02,  2.2321e+00,  7.1800e+04]),\n",
              " array([-1.1690e+02,  3.3740e+01,  1.4000e+01,  2.2810e+03,  4.2600e+02,\n",
              "         8.9400e+02,  4.3000e+02,  2.3712e+00,  1.2790e+05]),\n",
              " array([-1.1690e+02,  3.3650e+01,  1.5000e+01,  6.5200e+02,  1.4900e+02,\n",
              "         2.4800e+02,  9.7000e+01,  2.1071e+00,  9.3800e+04]),\n",
              " array([-1.1690e+02,  3.3220e+01,  1.1000e+01,  4.1320e+03,  7.7300e+02,\n",
              "         2.0120e+03,  7.0300e+02,  3.1906e+00,  2.3450e+05]),\n",
              " array([-1.169e+02,  3.303e+01,  1.100e+01,  3.213e+03,  6.340e+02,\n",
              "         1.975e+03,  5.790e+02,  3.475e+00,  1.672e+05]),\n",
              " array([-1.1690e+02,  3.2900e+01,  1.9000e+01,  3.0900e+03,  5.5200e+02,\n",
              "         1.6210e+03,  5.2000e+02,  4.0806e+00,  1.8920e+05]),\n",
              " array([-1.1690e+02,  3.2840e+01,  1.8000e+01,  4.2150e+03,  8.1000e+02,\n",
              "         2.1040e+03,  7.7300e+02,  4.0873e+00,  1.4690e+05]),\n",
              " array([-1.1690e+02,  3.2840e+01,  1.8000e+01,  3.6120e+03,  7.3700e+02,\n",
              "         1.8640e+03,  7.1300e+02,  2.7069e+00,  1.5380e+05]),\n",
              " array([-1.1690e+02,  3.2790e+01,  2.1000e+01,  3.7700e+03,  4.9100e+02,\n",
              "         1.4100e+03,  4.4600e+02,  6.7685e+00,  2.9470e+05]),\n",
              " array([-1.1690e+02,  3.2770e+01,  8.0000e+00,  3.6000e+03,  4.9200e+02,\n",
              "         1.4210e+03,  4.8200e+02,  6.2609e+00,  3.0710e+05]),\n",
              " array([-1.1691e+02,  3.4000e+01,  1.8000e+01,  5.5300e+02,  1.0000e+02,\n",
              "         2.1500e+02,  8.2000e+01,  5.5000e+00,  1.9380e+05]),\n",
              " array([-1.1691e+02,  3.3750e+01,  1.3000e+01,  1.0886e+04,  2.1270e+03,\n",
              "         4.2660e+03,  1.9550e+03,  2.3169e+00,  1.2340e+05]),\n",
              " array([-1.1691e+02,  3.3710e+01,  1.9000e+01,  6.8070e+03,  1.1640e+03,\n",
              "         2.7030e+03,  1.0550e+03,  3.1591e+00,  1.8970e+05]),\n",
              " array([-1.1691e+02,  3.2870e+01,  1.4000e+01,  3.0480e+03,  5.9700e+02,\n",
              "         1.6900e+03,  5.7600e+02,  4.3818e+00,  1.4710e+05]),\n",
              " array([-1.1691e+02,  3.2860e+01,  1.5000e+01,  3.1530e+03,  6.2800e+02,\n",
              "         1.6330e+03,  5.2700e+02,  3.6898e+00,  1.3100e+05]),\n",
              " array([-1.1691e+02,  3.2860e+01,  1.0000e+01,  3.6990e+03,  8.3800e+02,\n",
              "         2.3100e+03,  7.5900e+02,  2.5365e+00,  1.3950e+05]),\n",
              " array([-1.1691e+02,  3.2850e+01,  2.1000e+01,  4.1520e+03,  7.0300e+02,\n",
              "         2.2550e+03,  6.9700e+02,  4.5096e+00,  1.5950e+05]),\n",
              " array([-1.1691e+02,  3.2830e+01,  1.6000e+01,  5.2030e+03,  8.9800e+02,\n",
              "         2.5150e+03,  8.6200e+02,  4.1050e+00,  1.7440e+05]),\n",
              " array([-1.1691e+02,  3.2820e+01,  1.4000e+01,  1.9780e+03,  4.2400e+02,\n",
              "         1.0850e+03,  3.8700e+02,  3.8073e+00,  1.7010e+05]),\n",
              " array([-1.1691e+02,  3.2810e+01,  2.2000e+01,  4.3310e+03,  6.3700e+02,\n",
              "         1.9520e+03,  6.5400e+02,  5.4834e+00,  2.3200e+05]),\n",
              " array([-1.1691e+02,  3.2800e+01,  3.2000e+01,  1.9430e+03,  2.8700e+02,\n",
              "         1.0810e+03,  2.9200e+02,  5.6846e+00,  2.0880e+05]),\n",
              " array([-1.1691e+02,  3.2780e+01,  1.5000e+01,  4.0580e+03,  5.1100e+02,\n",
              "         1.5800e+03,  4.7300e+02,  7.5000e+00,  3.1640e+05]),\n",
              " array([-1.1691e+02,  3.2730e+01,  8.0000e+00,  4.6300e+03,  6.2400e+02,\n",
              "         2.0480e+03,  5.7500e+02,  6.4745e+00,  3.0030e+05]),\n",
              " array([-1.1692e+02,  3.3630e+01,  1.8000e+01,  3.9700e+02,  8.9000e+01,\n",
              "         2.3900e+02,  8.0000e+01,  2.8125e+00,  1.4380e+05]),\n",
              " array([-1.1692e+02,  3.2850e+01,  2.3000e+01,  1.3780e+03,  2.6900e+02,\n",
              "         7.6700e+02,  2.6600e+02,  4.0625e+00,  1.4500e+05]),\n",
              " array([-1.1692e+02,  3.2840e+01,  1.6000e+01,  4.6750e+03,  8.3400e+02,\n",
              "         2.1880e+03,  8.1700e+02,  4.6674e+00,  1.7800e+05]),\n",
              " array([-1.1692e+02,  3.2820e+01,  3.4000e+01,  1.7650e+03,  2.8400e+02,\n",
              "         7.7200e+02,  2.8200e+02,  5.0118e+00,  1.6530e+05]),\n",
              " array([-1.1692e+02,  3.2820e+01,  1.7000e+01,  2.4920e+03,  4.9400e+02,\n",
              "         1.2780e+03,  4.3900e+02,  2.8875e+00,  1.5570e+05]),\n",
              " array([-1.1692e+02,  3.2820e+01,  1.6000e+01,  2.7840e+03,  4.6800e+02,\n",
              "         1.4580e+03,  4.6500e+02,  4.0048e+00,  1.8460e+05]),\n",
              " array([-1.1692e+02,  3.2800e+01,  3.3000e+01,  1.5180e+03,  2.6800e+02,\n",
              "         8.5700e+02,  2.7200e+02,  3.5586e+00,  1.6040e+05]),\n",
              " array([-1.1692e+02,  3.2780e+01,  2.1000e+01,  4.1920e+03,  7.5200e+02,\n",
              "         2.1010e+03,  7.1000e+02,  4.4306e+00,  1.5910e+05]),\n",
              " array([-1.1692e+02,  3.2760e+01,  9.0000e+00,  1.8590e+03,  3.0700e+02,\n",
              "         9.4700e+02,  3.0400e+02,  5.9202e+00,  1.8130e+05]),\n",
              " array([-1.1693e+02,  3.3930e+01,  1.3000e+01,  7.8040e+03,  1.5940e+03,\n",
              "         3.2970e+03,  1.4690e+03,  2.0549e+00,  9.5600e+04]),\n",
              " array([-1.1693e+02,  3.3750e+01,  1.4000e+01,  6.0270e+03,  1.1480e+03,\n",
              "         3.1360e+03,  1.0360e+03,  2.9640e+00,  1.2150e+05]),\n",
              " array([-1.1693e+02,  3.3740e+01,  1.5000e+01,  3.7570e+03,  6.6600e+02,\n",
              "         1.6930e+03,  6.5400e+02,  3.6806e+00,  1.1280e+05]),\n",
              " array([-1.1693e+02,  3.3060e+01,  1.6000e+01,  3.4900e+03,  5.4500e+02,\n",
              "         1.6280e+03,  5.3500e+02,  4.8836e+00,  2.3990e+05]),\n",
              " array([-1.1693e+02,  3.2870e+01,  1.7000e+01,  3.7220e+03,  6.7000e+02,\n",
              "         1.5610e+03,  6.0400e+02,  3.6027e+00,  2.1190e+05]),\n",
              " array([-1.1693e+02,  3.2850e+01,  5.0000e+00,  4.1160e+03,  9.9000e+02,\n",
              "         2.7700e+03,  9.0500e+02,  3.1142e+00,  1.5000e+05]),\n",
              " array([-1.1693e+02,  3.2850e+01,  1.5000e+01,  3.2730e+03,  8.9500e+02,\n",
              "         1.8720e+03,  8.4200e+02,  2.5388e+00,  1.1900e+05]),\n",
              " array([-1.1693e+02,  3.2830e+01,  2.1000e+01,  1.2830e+03,  2.7800e+02,\n",
              "         6.8400e+02,  2.8900e+02,  2.3203e+00,  1.6350e+05]),\n",
              " array([-1.1693e+02,  3.2820e+01,  2.6000e+01,  4.1290e+03,  7.1400e+02,\n",
              "         1.8200e+03,  7.1800e+02,  4.2586e+00,  1.7100e+05]),\n",
              " array([-1.1693e+02,  3.2810e+01,  1.8000e+01,  2.4470e+03,  4.6600e+02,\n",
              "         1.5730e+03,  4.7200e+02,  2.6429e+00,  1.2540e+05]),\n",
              " array([-1.1693e+02,  3.2790e+01,  2.3000e+01,  5.7590e+03,  1.2580e+03,\n",
              "         3.1080e+03,  1.2020e+03,  3.0927e+00,  1.4060e+05]),\n",
              " array([-1.1693e+02,  3.2790e+01,  1.9000e+01,  3.3540e+03,  6.9900e+02,\n",
              "         1.9480e+03,  6.8200e+02,  3.0192e+00,  1.4230e+05]),\n",
              " array([-1.1694e+02,  3.4400e+01,  2.0000e+01,  6.5410e+03,  1.4010e+03,\n",
              "         2.6310e+03,  9.8000e+02,  2.1339e+00,  7.8500e+04]),\n",
              " array([-1.1694e+02,  3.4240e+01,  2.7000e+01,  1.2342e+04,  2.6300e+03,\n",
              "         1.3000e+03,  5.6600e+02,  1.9980e+00,  1.5350e+05]),\n",
              " array([-1.1694e+02,  3.3770e+01,  1.4000e+01,  7.2400e+03,  1.4100e+03,\n",
              "         2.7080e+03,  1.2400e+03,  2.4145e+00,  1.3760e+05]),\n",
              " array([-1.1694e+02,  3.3740e+01,  1.9000e+01,  2.9010e+03,  4.4500e+02,\n",
              "         1.4140e+03,  4.7500e+02,  4.6406e+00,  1.1890e+05]),\n",
              " array([-1.1694e+02,  3.3730e+01,  1.7000e+01,  5.1600e+03,  8.5100e+02,\n",
              "         2.3440e+03,  7.8100e+02,  3.7175e+00,  1.2000e+05]),\n",
              " array([-1.1694e+02,  3.2890e+01,  2.4000e+01,  2.5410e+03,  3.8100e+02,\n",
              "         1.0780e+03,  3.7200e+02,  5.2542e+00,  2.2780e+05]),\n",
              " array([-1.1694e+02,  3.2870e+01,  2.4000e+01,  2.8240e+03,  4.4100e+02,\n",
              "         1.4800e+03,  4.7100e+02,  5.2614e+00,  1.7720e+05]),\n",
              " array([-1.1694e+02,  3.2840e+01,  3.2000e+01,  1.6070e+03,  2.5300e+02,\n",
              "         7.7800e+02,  2.6200e+02,  4.5278e+00,  1.6630e+05]),\n",
              " array([-1.1694e+02,  3.2830e+01,  3.8000e+01,  1.7010e+03,  3.1700e+02,\n",
              "         8.7200e+02,  3.0400e+02,  3.7831e+00,  1.4780e+05]),\n",
              " array([-1.1694e+02,  3.2820e+01,  3.5000e+01,  1.7370e+03,  2.8500e+02,\n",
              "         8.2600e+02,  2.9400e+02,  3.2411e+00,  1.5920e+05]),\n",
              " array([-1.1694e+02,  3.2800e+01,  2.8000e+01,  3.0420e+03,  7.2900e+02,\n",
              "         1.9640e+03,  7.0300e+02,  2.4141e+00,  1.3750e+05]),\n",
              " array([-1.1694e+02,  3.2800e+01,  2.1000e+01,  7.9060e+03,  2.2920e+03,\n",
              "         4.8680e+03,  2.1170e+03,  1.8937e+00,  1.0980e+05]),\n",
              " array([-1.1694e+02,  3.2780e+01,  1.7000e+01,  1.3559e+04,  2.6560e+03,\n",
              "         6.9900e+03,  2.5330e+03,  3.4340e+00,  1.9320e+05]),\n",
              " array([-1.1694e+02,  3.2750e+01,  4.0000e+00,  1.4934e+04,  2.4790e+03,\n",
              "         6.9450e+03,  2.4180e+03,  5.1221e+00,  2.2970e+05]),\n",
              " array([-1.1695e+02,  3.3970e+01,  1.4000e+01,  5.3200e+03,  9.7400e+02,\n",
              "         1.9470e+03,  8.4300e+02,  3.1393e+00,  1.1630e+05]),\n",
              " array([-1.1695e+02,  3.3790e+01,  8.0000e+00,  1.0997e+04,  2.2050e+03,\n",
              "         5.0600e+03,  1.9490e+03,  2.1979e+00,  9.5300e+04]),\n",
              " array([-1.1695e+02,  3.3780e+01,  2.4000e+01,  3.4090e+03,  8.0400e+02,\n",
              "         1.9390e+03,  7.3900e+02,  1.7303e+00,  7.4000e+04]),\n",
              " array([-1.1695e+02,  3.3760e+01,  1.0000e+01,  6.8900e+03,  1.7020e+03,\n",
              "         3.1410e+03,  1.4510e+03,  1.7079e+00,  9.5900e+04]),\n",
              " array([-1.1695e+02,  3.3750e+01,  2.3000e+01,  4.6760e+03,  1.0960e+03,\n",
              "         2.7700e+03,  1.0570e+03,  1.7847e+00,  1.0950e+05]),\n",
              " array([-1.1695e+02,  3.3750e+01,  1.9000e+01,  2.2380e+03,  5.7300e+02,\n",
              "         1.1900e+03,  5.0700e+02,  2.0714e+00,  8.5800e+04]),\n",
              " array([-1.1695e+02,  3.3740e+01,  2.0000e+01,  2.2330e+03,  4.3100e+02,\n",
              "         1.0240e+03,  3.9900e+02,  2.4554e+00,  8.9400e+04]),\n",
              " array([-1.1695e+02,  3.3740e+01,  1.8000e+01,  1.9960e+03,  4.0500e+02,\n",
              "         1.2700e+03,  4.0000e+02,  2.7083e+00,  9.1200e+04]),\n",
              " array([-1.1695e+02,  3.3730e+01,  2.1000e+01,  4.5870e+03,  8.1000e+02,\n",
              "         2.2330e+03,  7.6500e+02,  3.2371e+00,  9.4500e+04]),\n",
              " array([-1.1695e+02,  3.3680e+01,  1.1000e+01,  1.1830e+03,  1.7800e+02,\n",
              "         5.4300e+02,  1.4700e+02,  4.4792e+00,  1.7390e+05]),\n",
              " array([-1.1695e+02,  3.3310e+01,  1.6000e+01,  2.9210e+03,  6.3900e+02,\n",
              "         1.8380e+03,  5.4000e+02,  2.2393e+00,  1.1700e+05]),\n",
              " array([-1.1695e+02,  3.2960e+01,  1.8000e+01,  2.0870e+03,  3.5300e+02,\n",
              "         9.9200e+02,  3.2900e+02,  4.5000e+00,  2.2260e+05]),\n",
              " array([-1.1695e+02,  3.2840e+01,  3.1000e+01,  1.3070e+03,  2.4500e+02,\n",
              "         7.5200e+02,  2.3100e+02,  3.4286e+00,  1.2940e+05]),\n",
              " array([-1.1695e+02,  3.2830e+01,  1.4000e+01,  1.2517e+04,  2.5060e+03,\n",
              "         6.3890e+03,  2.3330e+03,  3.3081e+00,  1.6870e+05]),\n",
              " array([-1.1695e+02,  3.2820e+01,  1.8000e+01,  3.0380e+03,  5.9200e+02,\n",
              "         1.9040e+03,  5.9500e+02,  3.8024e+00,  1.4490e+05]),\n",
              " array([-1.1695e+02,  3.2820e+01,  1.2000e+01,  5.5350e+03,  1.4340e+03,\n",
              "         3.1120e+03,  1.2620e+03,  2.5949e+00,  1.0830e+05]),\n",
              " array([-1.1695e+02,  3.2810e+01,  3.1000e+01,  1.2770e+03,  2.9300e+02,\n",
              "         6.9800e+02,  2.3700e+02,  3.1106e+00,  1.4770e+05]),\n",
              " array([-1.1695e+02,  3.2810e+01,  1.5000e+01,  2.6190e+03,  5.9900e+02,\n",
              "         1.5130e+03,  5.3700e+02,  2.5430e+00,  1.0000e+05]),\n",
              " array([-1.1695e+02,  3.2790e+01,  1.9000e+01,  1.1391e+04,  3.0930e+03,\n",
              "         7.1780e+03,  2.9050e+03,  2.0326e+00,  1.2320e+05]),\n",
              " array([-1.1695e+02,  3.2780e+01,  3.3000e+01,  2.4320e+03,  4.4300e+02,\n",
              "         1.1470e+03,  4.2700e+02,  3.3906e+00,  1.3810e+05]),\n",
              " array([-1.1695e+02,  3.2780e+01,  2.0000e+01,  3.4250e+03,  4.4800e+02,\n",
              "         1.4890e+03,  4.4300e+02,  6.2552e+00,  2.9640e+05]),\n",
              " array([-1.1695e+02,  3.2770e+01,  2.5000e+01,  3.3080e+03,  4.2100e+02,\n",
              "         1.2010e+03,  4.1400e+02,  6.3191e+00,  3.0340e+05]),\n",
              " array([-1.1695e+02,  3.2760e+01,  1.3000e+01,  5.5430e+03,  8.5700e+02,\n",
              "         2.0740e+03,  7.3700e+02,  4.9528e+00,  2.6620e+05]),\n",
              " array([-1.1695e+02,  3.2730e+01,  1.7000e+01,  1.6350e+03,  2.7200e+02,\n",
              "         9.6000e+02,  2.7900e+02,  5.2671e+00,  1.5710e+05]),\n",
              " array([-1.1696e+02,  3.4940e+01,  2.0000e+01,  2.3550e+03,  4.6700e+02,\n",
              "         1.1980e+03,  4.2800e+02,  3.9934e+00,  8.8500e+04]),\n",
              " array([-1.1696e+02,  3.4830e+01,  3.0000e+01,  1.2110e+03,  2.8900e+02,\n",
              "         6.1100e+02,  2.3000e+02,  1.6667e+00,  4.4700e+04]),\n",
              " array([-1.1696e+02,  3.3940e+01,  2.2000e+01,  1.9990e+03,  4.9700e+02,\n",
              "         1.3040e+03,  4.7900e+02,  1.4063e+00,  8.1900e+04]),\n",
              " array([-1.1696e+02,  3.3790e+01,  2.1000e+01,  2.9900e+03,  6.9100e+02,\n",
              "         2.1080e+03,  6.6000e+02,  2.0135e+00,  8.3000e+04]),\n",
              " array([-1.1696e+02,  3.3750e+01,  3.5000e+01,  3.2690e+03,  7.5700e+02,\n",
              "         2.3280e+03,  7.0500e+02,  2.5898e+00,  7.6300e+04]),\n",
              " array([-1.1696e+02,  3.3740e+01,  1.9000e+01,  3.6490e+03,  7.5500e+02,\n",
              "         1.7170e+03,  6.9600e+02,  2.2115e+00,  8.7600e+04]),\n",
              " array([-1.1696e+02,  3.3730e+01,  2.0000e+01,  4.7350e+03,  9.7300e+02,\n",
              "         2.3060e+03,  9.0400e+02,  3.0690e+00,  8.7000e+04]),\n",
              " array([-1.1696e+02,  3.2900e+01,  1.6000e+01,  3.0470e+03,  4.9500e+02,\n",
              "         1.5070e+03,  4.9900e+02,  5.3008e+00,  1.8650e+05]),\n",
              " array([-1.1696e+02,  3.2870e+01,  1.7000e+01,  4.7130e+03,  7.4000e+02,\n",
              "         2.5310e+03,  7.2300e+02,  4.8286e+00,  1.5850e+05]),\n",
              " array([-1.1696e+02,  3.2860e+01,  1.4000e+01,  3.0640e+03,  4.9600e+02,\n",
              "         1.6810e+03,  5.0300e+02,  4.4347e+00,  1.6030e+05]),\n",
              " array([-1.1696e+02,  3.2850e+01,  1.1000e+01,  9.7240e+03,  1.7960e+03,\n",
              "         5.2470e+03,  1.7770e+03,  4.1716e+00,  1.6610e+05]),\n",
              " array([-1.1696e+02,  3.2810e+01,  8.0000e+00,  2.3780e+03,  6.3800e+02,\n",
              "         1.4100e+03,  6.2300e+02,  2.9097e+00,  1.5250e+05]),\n",
              " array([-1.1696e+02,  3.2800e+01,  2.5000e+01,  3.4210e+03,  8.0300e+02,\n",
              "         1.6810e+03,  7.4200e+02,  3.3690e+00,  1.3440e+05]),\n",
              " array([-1.1696e+02,  3.2800e+01,  1.9000e+01,  4.5740e+03,  1.1520e+03,\n",
              "         3.0450e+03,  1.0570e+03,  2.0650e+00,  1.2410e+05]),\n",
              " array([-1.1696e+02,  3.2800e+01,  1.6000e+01,  3.9200e+03,  1.0940e+03,\n",
              "         2.6120e+03,  1.0230e+03,  1.3291e+00,  1.2080e+05]),\n",
              " array([-1.1696e+02,  3.2790e+01,  3.5000e+01,  1.0810e+03,  2.6600e+02,\n",
              "         6.9100e+02,  2.5900e+02,  2.6324e+00,  1.3370e+05]),\n",
              " array([-1.1696e+02,  3.2790e+01,  1.9000e+01,  3.0080e+03,  6.9300e+02,\n",
              "         2.3410e+03,  6.8900e+02,  2.6087e+00,  1.2380e+05]),\n",
              " array([-1.1696e+02,  3.2790e+01,  1.7000e+01,  5.2360e+03,  1.3250e+03,\n",
              "         3.3080e+03,  1.2330e+03,  2.3221e+00,  1.3880e+05]),\n",
              " array([-1.1696e+02,  3.2780e+01,  2.6000e+01,  2.8070e+03,  6.3000e+02,\n",
              "         1.7850e+03,  5.8000e+02,  2.1638e+00,  1.3280e+05]),\n",
              " array([-1.1697e+02,  3.3960e+01,  1.2000e+01,  5.8760e+03,  1.2220e+03,\n",
              "         2.9920e+03,  1.1510e+03,  2.4322e+00,  1.1210e+05]),\n",
              " array([-1.1697e+02,  3.3940e+01,  2.9000e+01,  3.1970e+03,  6.3200e+02,\n",
              "         1.7220e+03,  6.0300e+02,  3.0432e+00,  9.1200e+04]),\n",
              " array([-1.1697e+02,  3.3930e+01,  2.9000e+01,  2.7930e+03,  7.2200e+02,\n",
              "         1.5830e+03,  6.2600e+02,  1.4240e+00,  7.3200e+04]),\n",
              " array([-1.1697e+02,  3.3780e+01,  2.4000e+01,  2.6800e+03,  6.0600e+02,\n",
              "         1.7280e+03,  5.2700e+02,  2.5350e+00,  7.4800e+04]),\n",
              " array([-1.1697e+02,  3.3740e+01,  3.1000e+01,  2.7120e+03,  6.2800e+02,\n",
              "         1.5190e+03,  6.2900e+02,  1.9420e+00,  8.6200e+04]),\n",
              " array([-1.1697e+02,  3.3740e+01,  2.0000e+01,  3.6740e+03,  7.9200e+02,\n",
              "         1.4980e+03,  7.5800e+02,  2.2161e+00,  7.6900e+04]),\n",
              " array([-1.1697e+02,  3.3130e+01,  1.0000e+01,  5.1490e+03,  8.5100e+02,\n",
              "         2.1770e+03,  7.8300e+02,  6.7957e+00,  2.8750e+05]),\n",
              " array([-1.1697e+02,  3.2830e+01,  2.3000e+01,  1.4900e+02,  3.2000e+01,\n",
              "         1.0100e+02,  3.4000e+01,  2.6458e+00,  1.1250e+05]),\n",
              " array([-1.1697e+02,  3.2800e+01,  1.5000e+01,  3.9270e+03,  1.0180e+03,\n",
              "         2.2040e+03,  9.7700e+02,  2.4367e+00,  1.1140e+05]),\n",
              " array([-1.1697e+02,  3.2790e+01,  3.2000e+01,  1.2550e+03,  3.3800e+02,\n",
              "         7.8200e+02,  3.0200e+02,  2.6635e+00,  1.1360e+05]),\n",
              " array([-1.1697e+02,  3.2790e+01,  1.9000e+01,  4.1080e+03,  1.1010e+03,\n",
              "         2.9710e+03,  1.0060e+03,  1.9893e+00,  1.1250e+05]),\n",
              " array([-1.1697e+02,  3.2780e+01,  3.7000e+01,  1.2550e+03,  2.3800e+02,\n",
              "         6.7100e+02,  2.7800e+02,  3.7019e+00,  1.3860e+05]),\n",
              " array([-1.1697e+02,  3.2780e+01,  3.5000e+01,  1.1130e+03,  2.3600e+02,\n",
              "         6.8100e+02,  2.4600e+02,  2.9784e+00,  1.3640e+05]),\n",
              " array([-1.1697e+02,  3.2780e+01,  2.6000e+01,  8.9020e+03,  1.4130e+03,\n",
              "         3.9410e+03,  1.3870e+03,  4.7943e+00,  2.2690e+05]),\n",
              " array([-1.1697e+02,  3.2760e+01,  3.3000e+01,  3.0710e+03,  4.6600e+02,\n",
              "         1.3480e+03,  5.1300e+02,  6.1768e+00,  2.2890e+05]),\n",
              " array([-1.1697e+02,  3.2760e+01,  2.6000e+01,  2.4600e+03,  3.1300e+02,\n",
              "         8.3800e+02,  2.9900e+02,  5.9878e+00,  2.7070e+05]),\n",
              " array([-1.1697e+02,  3.2750e+01,  2.8000e+01,  3.5190e+03,  5.8300e+02,\n",
              "         1.7200e+03,  5.9000e+02,  4.7973e+00,  1.8690e+05]),\n",
              " array([-1.1697e+02,  3.2740e+01,  1.4000e+01,  7.4100e+03,  1.3440e+03,\n",
              "         3.5970e+03,  1.2740e+03,  4.2192e+00,  1.7610e+05]),\n",
              " array([-1.1697e+02,  3.2650e+01,  4.0000e+00,  1.6450e+04,  2.8330e+03,\n",
              "         7.9850e+03,  2.6830e+03,  5.6631e+00,  2.3340e+05]),\n",
              " array([-1.1697e+02,  3.2560e+01,  2.3000e+01,  1.2620e+03,  2.9400e+02,\n",
              "         5.1760e+03,  2.7500e+02,  2.5625e+00,  1.5330e+05]),\n",
              " array([-1.1698e+02,  3.4130e+01,  1.6000e+01,  2.0980e+03,  4.4900e+02,\n",
              "         3.4200e+02,  1.4300e+02,  4.0333e+00,  1.3390e+05]),\n",
              " array([-1.1698e+02,  3.4070e+01,  2.1000e+01,  7.3900e+02,  1.2500e+02,\n",
              "         1.9900e+02,  8.2000e+01,  4.8958e+00,  1.1750e+05]),\n",
              " array([-1.1698e+02,  3.4050e+01,  6.0000e+00,  2.2900e+03,  3.1200e+02,\n",
              "         9.5700e+02,  2.7400e+02,  7.2708e+00,  3.1670e+05]),\n",
              " array([-1.1698e+02,  3.3940e+01,  2.7000e+01,  3.4590e+03,  6.4000e+02,\n",
              "         1.7600e+03,  6.5400e+02,  3.4545e+00,  8.9800e+04]),\n",
              " array([-1.1698e+02,  3.3930e+01,  4.0000e+01,  2.2770e+03,  4.9800e+02,\n",
              "         1.3910e+03,  4.5300e+02,  1.9472e+00,  7.3200e+04]),\n",
              " array([-1.1698e+02,  3.3930e+01,  3.3000e+01,  3.7600e+02,  8.3000e+01,\n",
              "         2.6700e+02,  8.8000e+01,  2.1581e+00,  6.8300e+04]),\n",
              " array([-1.1698e+02,  3.3830e+01,  1.5000e+01,  2.2280e+03,  4.7200e+02,\n",
              "         6.5300e+02,  3.5000e+02,  2.6830e+00,  1.3930e+05]),\n",
              " array([-1.1698e+02,  3.3770e+01,  1.2000e+01,  5.8290e+03,  1.3090e+03,\n",
              "         2.7110e+03,  1.1180e+03,  1.9707e+00,  1.0790e+05]),\n",
              " array([-1.1698e+02,  3.3740e+01,  2.5000e+01,  4.9520e+03,  1.0620e+03,\n",
              "         1.5890e+03,  1.0240e+03,  1.8446e+00,  8.5700e+04]),\n",
              " array([-1.1698e+02,  3.2880e+01,  1.2000e+01,  7.3200e+03,  1.2790e+03,\n",
              "         4.0480e+03,  1.2490e+03,  4.3952e+00,  1.5170e+05]),\n",
              " array([-1.1698e+02,  3.2860e+01,  1.9000e+01,  2.1210e+03,  3.4100e+02,\n",
              "         1.2360e+03,  3.5300e+02,  4.7717e+00,  1.5320e+05]),\n",
              " array([-1.1698e+02,  3.2860e+01,  1.6000e+01,  7.7180e+03,  1.4230e+03,\n",
              "         4.3830e+03,  1.3940e+03,  4.0693e+00,  1.4640e+05]),\n",
              " array([-1.1698e+02,  3.2850e+01,  1.2000e+01,  3.5700e+03,  7.1300e+02,\n",
              "         3.3210e+03,  6.6600e+02,  4.0882e+00,  1.3450e+05]),\n",
              " array([-1.1698e+02,  3.2800e+01,  2.8000e+01,  5.7210e+03,  1.0290e+03,\n",
              "         2.6720e+03,  1.0540e+03,  3.9630e+00,  1.6440e+05]),\n",
              " array([-1.1698e+02,  3.2790e+01,  3.2000e+01,  3.7560e+03,  6.6200e+02,\n",
              "         1.6110e+03,  5.9800e+02,  3.8667e+00,  1.8970e+05]),\n",
              " array([-1.1698e+02,  3.2770e+01,  2.9000e+01,  3.5580e+03,  4.4700e+02,\n",
              "         1.0970e+03,  4.4500e+02,  8.0930e+00,  3.7960e+05]),\n",
              " array([-1.1698e+02,  3.2750e+01,  2.5000e+01,  4.1370e+03,  6.6200e+02,\n",
              "         1.9050e+03,  6.3000e+02,  4.3750e+00,  2.1400e+05]),\n",
              " array([-1.1698e+02,  3.2750e+01,  1.8000e+01,  1.5190e+03,  3.6900e+02,\n",
              "         8.0200e+02,  3.4700e+02,  2.9886e+00,  1.7080e+05]),\n",
              " array([-1.1698e+02,  3.2740e+01,  2.4000e+01,  9.7700e+02,  1.4700e+02,\n",
              "         4.5400e+02,  1.6900e+02,  4.9286e+00,  1.7370e+05]),\n",
              " array([-1.1698e+02,  3.2740e+01,  1.6000e+01,  3.3610e+03,  5.3700e+02,\n",
              "         1.7540e+03,  5.7800e+02,  5.1098e+00,  1.6230e+05]),\n",
              " array([-1.1698e+02,  3.2730e+01,  1.6000e+01,  9.5200e+02,  1.4300e+02,\n",
              "         5.3000e+02,  1.4300e+02,  5.0864e+00,  1.7530e+05]),\n",
              " array([-1.1698e+02,  3.2720e+01,  4.0000e+00,  1.0780e+03,  1.5800e+02,\n",
              "         5.7100e+02,  1.8400e+02,  4.6667e+00,  2.2330e+05]),\n",
              " array([-1.1698e+02,  3.2710e+01,  1.8000e+01,  2.3550e+03,  4.4400e+02,\n",
              "         1.2770e+03,  4.3300e+02,  3.4551e+00,  1.2140e+05]),\n",
              " array([-1.1699e+02,  3.4890e+01,  2.4000e+01,  2.7410e+03,  5.7700e+02,\n",
              "         1.5510e+03,  5.2200e+02,  3.4740e+00,  7.0500e+04]),\n",
              " array([-1.1699e+02,  3.4880e+01,  2.3000e+01,  6.0600e+03,  1.1650e+03,\n",
              "         2.9200e+03,  1.0720e+03,  3.1528e+00,  6.9000e+04]),\n",
              " array([-1.1699e+02,  3.4300e+01,  2.9000e+01,  5.0550e+03,  1.0360e+03,\n",
              "         4.1000e+02,  1.9100e+02,  3.5104e+00,  1.5710e+05]),\n",
              " array([-1.1699e+02,  3.3990e+01,  2.2000e+01,  4.2270e+03,  6.5800e+02,\n",
              "         1.8490e+03,  6.1900e+02,  4.7356e+00,  1.9590e+05]),\n",
              " array([-1.1699e+02,  3.3920e+01,  2.6000e+01,  5.0300e+02,  6.9000e+01,\n",
              "         2.9300e+02,  5.9000e+01,  3.7083e+00,  1.4750e+05]),\n",
              " array([-1.1699e+02,  3.3770e+01,  7.0000e+00,  1.0352e+04,  2.0070e+03,\n",
              "         3.5590e+03,  1.6890e+03,  2.2925e+00,  1.1310e+05]),\n",
              " array([-1.1699e+02,  3.3760e+01,  1.2000e+01,  7.6260e+03,  1.7040e+03,\n",
              "         2.8230e+03,  1.5540e+03,  2.1722e+00,  6.9400e+04]),\n",
              " array([-1.1699e+02,  3.3750e+01,  1.8000e+01,  9.6010e+03,  2.4010e+03,\n",
              "         4.0020e+03,  2.1060e+03,  1.4366e+00,  7.7000e+04]),\n",
              " array([-1.1699e+02,  3.3730e+01,  1.3000e+01,  1.6148e+04,  3.4740e+03,\n",
              "         6.1590e+03,  3.2320e+03,  1.9961e+00,  9.7800e+04]),\n",
              " array([-1.1699e+02,  3.3460e+01,  1.3000e+01,  1.6140e+03,  4.1000e+02,\n",
              "         8.4600e+02,  2.7000e+02,  2.8300e+00,  4.3000e+04]),\n",
              " array([-1.1699e+02,  3.2960e+01,  1.7000e+01,  5.5090e+03,  8.6600e+02,\n",
              "         2.7480e+03,  8.1700e+02,  4.8854e+00,  1.8130e+05]),\n",
              " array([-1.1699e+02,  3.2850e+01,  3.2000e+01,  5.2110e+03,  9.4900e+02,\n",
              "         3.0250e+03,  9.4800e+02,  4.0931e+00,  1.3420e+05]),\n",
              " array([-1.1699e+02,  3.2830e+01,  2.0000e+01,  6.6960e+03,  1.3260e+03,\n",
              "         3.6870e+03,  1.2910e+03,  3.1979e+00,  1.5460e+05]),\n",
              " array([-1.1699e+02,  3.2810e+01,  2.5000e+01,  4.4360e+03,  7.5800e+02,\n",
              "         1.9970e+03,  7.3800e+02,  4.2386e+00,  2.0100e+05]),\n",
              " array([-1.1699e+02,  3.2810e+01,  1.8000e+01,  1.0968e+04,  1.5210e+03,\n",
              "         4.4390e+03,  1.5010e+03,  6.2787e+00,  2.5000e+05]),\n",
              " array([-1.1699e+02,  3.2800e+01,  3.4000e+01,  3.6570e+03,  5.3800e+02,\n",
              "         1.5130e+03,  5.6200e+02,  5.2907e+00,  1.9580e+05]),\n",
              " array([-1.1699e+02,  3.2790e+01,  3.3000e+01,  2.4200e+03,  3.9300e+02,\n",
              "         1.0030e+03,  3.9700e+02,  4.0658e+00,  1.6510e+05]),\n",
              " array([-1.1699e+02,  3.2790e+01,  2.6000e+01,  3.6230e+03,  7.0300e+02,\n",
              "         1.6090e+03,  6.6900e+02,  3.7440e+00,  1.6580e+05]),\n",
              " array([-1.1699e+02,  3.2780e+01,  2.9000e+01,  1.1140e+03,  1.6300e+02,\n",
              "         3.8500e+02,  1.5400e+02,  5.4333e+00,  2.2280e+05]),\n",
              " array([-1.1699e+02,  3.2770e+01,  3.5000e+01,  2.3060e+03,  3.3400e+02,\n",
              "         8.2800e+02,  3.1000e+02,  6.1103e+00,  3.0160e+05]),\n",
              " array([-1.1699e+02,  3.2740e+01,  1.8000e+01,  3.3410e+03,  6.1100e+02,\n",
              "         1.9520e+03,  6.0200e+02,  3.9844e+00,  2.1530e+05]),\n",
              " array([-1.1699e+02,  3.2740e+01,  1.7000e+01,  3.1010e+03,  5.4700e+02,\n",
              "         1.4100e+03,  4.8600e+02,  3.1771e+00,  1.8990e+05]),\n",
              " array([-1.1699e+02,  3.2730e+01,  3.0000e+01,  1.8560e+03,  3.3900e+02,\n",
              "         1.1030e+03,  3.7900e+02,  4.0357e+00,  1.5380e+05]),\n",
              " array([-1.1699e+02,  3.2720e+01,  1.5000e+01,  8.2500e+02,  1.3000e+02,\n",
              "         3.3400e+02,  1.3100e+02,  4.0391e+00,  1.6950e+05]),\n",
              " array([-1.1699e+02,  3.2720e+01,  1.4000e+01,  1.7710e+03,  3.0100e+02,\n",
              "         1.0460e+03,  2.8400e+02,  4.7750e+00,  1.4330e+05]),\n",
              " array([-1.1699e+02,  3.2720e+01,  1.3000e+01,  1.3300e+03,  2.1600e+02,\n",
              "         7.1900e+02,  2.1500e+02,  3.8295e+00,  1.4960e+05]),\n",
              " array([-1.1699e+02,  3.2720e+01,  1.1000e+01,  1.1120e+03,  1.6400e+02,\n",
              "         4.4100e+02,  1.7400e+02,  4.7679e+00,  1.6950e+05]),\n",
              " array([-1.1699e+02,  3.2710e+01,  2.1000e+01,  3.0490e+03,  5.8200e+02,\n",
              "         2.3550e+03,  5.8500e+02,  3.8904e+00,  1.1380e+05]),\n",
              " array([-1.1699e+02,  3.2700e+01,  1.5000e+01,  3.6600e+03,  6.2200e+02,\n",
              "         2.6290e+03,  6.1200e+02,  4.0444e+00,  1.5010e+05]),\n",
              " array([-1.1699e+02,  3.2640e+01,  1.5000e+01,  4.3310e+03,  6.9900e+02,\n",
              "         2.0460e+03,  6.2700e+02,  3.9519e+00,  1.9350e+05]),\n",
              " array([-1.170e+02,  3.489e+01,  2.900e+01,  2.637e+03,  5.120e+02,\n",
              "         1.188e+03,  4.460e+02,  2.990e+00,  6.940e+04]),\n",
              " array([-1.1700e+02,  3.4870e+01,  1.6000e+01,  6.8620e+03,  1.2920e+03,\n",
              "         3.5620e+03,  1.1260e+03,  3.6091e+00,  8.7200e+04]),\n",
              " array([-1.1700e+02,  3.3740e+01,  8.0000e+00,  5.3300e+03,  1.5290e+03,\n",
              "         2.1430e+03,  1.1070e+03,  2.1103e+00,  9.4400e+04]),\n",
              " array([-1.1700e+02,  3.3290e+01,  1.7000e+01,  2.0730e+03,  3.1300e+02,\n",
              "         5.7300e+02,  2.2100e+02,  8.2531e+00,  4.1920e+05]),\n",
              " array([-1.1700e+02,  3.2870e+01,  1.8000e+01,  1.1544e+04,  1.9790e+03,\n",
              "         6.2960e+03,  1.9230e+03,  4.4904e+00,  1.5040e+05]),\n",
              " array([-1.170e+02,  3.285e+01,  2.400e+01,  1.888e+03,  3.190e+02,\n",
              "         9.500e+02,  3.190e+02,  5.282e+00,  1.408e+05]),\n",
              " array([-1.1700e+02,  3.2800e+01,  3.3000e+01,  1.8160e+03,  3.2500e+02,\n",
              "         7.6800e+02,  3.1600e+02,  4.5662e+00,  1.5030e+05]),\n",
              " array([-1.170e+02,  3.277e+01,  3.500e+01,  2.114e+03,  3.170e+02,\n",
              "         8.810e+02,  3.200e+02,  5.500e+00,  2.414e+05]),\n",
              " array([-1.1700e+02,  3.2770e+01,  3.0000e+01,  1.8020e+03,  4.0100e+02,\n",
              "         7.7600e+02,  3.8600e+02,  2.8125e+00,  1.7350e+05]),\n",
              " array([-1.1700e+02,  3.2760e+01,  3.1000e+01,  2.5450e+03,  3.7300e+02,\n",
              "         9.5600e+02,  3.4200e+02,  4.3977e+00,  2.2680e+05]),\n",
              " array([-1.1700e+02,  3.2760e+01,  3.1000e+01,  1.9890e+03,  2.8000e+02,\n",
              "         8.0500e+02,  3.0100e+02,  6.5645e+00,  1.8910e+05]),\n",
              " array([-1.1700e+02,  3.2740e+01,  1.7000e+01,  2.3570e+03,  5.9900e+02,\n",
              "         1.4230e+03,  5.1000e+02,  1.8856e+00,  1.1880e+05]),\n",
              " array([-1.1700e+02,  3.2720e+01,  1.0000e+01,  3.8170e+03,  9.4300e+02,\n",
              "         2.3520e+03,  8.7500e+02,  2.1362e+00,  1.4320e+05]),\n",
              " array([-1.170e+02,  3.271e+01,  2.200e+01,  2.263e+03,  4.410e+02,\n",
              "         1.395e+03,  4.160e+02,  3.725e+00,  1.235e+05]),\n",
              " array([-1.1700e+02,  3.2700e+01,  2.3000e+01,  2.7850e+03,  4.6800e+02,\n",
              "         1.4560e+03,  4.4900e+02,  4.3714e+00,  1.3100e+05]),\n",
              " array([-1.1700e+02,  3.2670e+01,  1.6000e+01,  2.2380e+03,  3.0700e+02,\n",
              "         1.0020e+03,  3.0300e+02,  6.6143e+00,  2.6410e+05]),\n",
              " array([-1.1700e+02,  3.2640e+01,  1.1000e+01,  3.0980e+03,  4.9000e+02,\n",
              "         1.3910e+03,  4.8400e+02,  4.9792e+00,  1.7040e+05]),\n",
              " array([-1.1701e+02,  3.4900e+01,  3.6000e+01,  2.1810e+03,  5.5500e+02,\n",
              "         1.4040e+03,  4.9200e+02,  2.3077e+00,  5.5500e+04]),\n",
              " array([-1.1701e+02,  3.4900e+01,  3.4000e+01,  2.1940e+03,  5.1900e+02,\n",
              "         1.3260e+03,  5.1500e+02,  2.1056e+00,  7.2000e+04]),\n",
              " array([-1.1701e+02,  3.4890e+01,  2.6000e+01,  2.5990e+03,  4.9800e+02,\n",
              "         1.3320e+03,  4.4300e+02,  2.7198e+00,  7.0400e+04]),\n",
              " array([-1.1701e+02,  3.4010e+01,  1.5000e+01,  5.5920e+03,  8.9100e+02,\n",
              "         2.4190e+03,  8.4000e+02,  4.7193e+00,  1.3520e+05]),\n",
              " array([-1.1701e+02,  3.3970e+01,  1.8000e+01,  4.7750e+03,  8.8600e+02,\n",
              "         1.8680e+03,  8.3600e+02,  2.3355e+00,  1.1880e+05]),\n",
              " array([-1.1701e+02,  3.3040e+01,  1.3000e+01,  4.5950e+03,  5.6700e+02,\n",
              "         1.6430e+03,  5.4400e+02,  7.7684e+00,  3.6230e+05]),\n",
              " array([-1.1701e+02,  3.2990e+01,  8.0000e+00,  3.3720e+03,  4.3000e+02,\n",
              "         1.5360e+03,  4.4800e+02,  8.4284e+00,  3.7830e+05]),\n",
              " array([-1.1701e+02,  3.2850e+01,  2.3000e+01,  2.5920e+03,  4.1400e+02,\n",
              "         1.4010e+03,  4.3100e+02,  5.4903e+00,  1.5140e+05]),\n",
              " array([-1.1701e+02,  3.2840e+01,  2.3000e+01,  1.9510e+03,  3.9500e+02,\n",
              "         9.0100e+02,  3.7800e+02,  3.1023e+00,  1.4330e+05]),\n",
              " array([-1.1701e+02,  3.2830e+01,  1.7000e+01,  1.5401e+04,  3.2800e+03,\n",
              "         7.3020e+03,  3.1760e+03,  3.3067e+00,  1.2190e+05]),\n",
              " array([-1.1701e+02,  3.2810e+01,  2.6000e+01,  4.4990e+03,  6.4500e+02,\n",
              "         1.8660e+03,  6.2600e+02,  5.5160e+00,  1.8510e+05]),\n",
              " array([-1.1701e+02,  3.2810e+01,  2.1000e+01,  4.2030e+03,  6.1800e+02,\n",
              "         1.6200e+03,  6.0000e+02,  5.3441e+00,  1.9350e+05]),\n",
              " array([-1.1701e+02,  3.2800e+01,  2.0000e+01,  2.7050e+03,  5.4500e+02,\n",
              "         1.1980e+03,  4.9700e+02,  3.7159e+00,  1.6890e+05]),\n",
              " array([-1.1701e+02,  3.2800e+01,  1.7000e+01,  1.5580e+03,  4.7900e+02,\n",
              "         8.0300e+02,  4.3100e+02,  2.6934e+00,  1.6020e+05]),\n",
              " array([-1.1701e+02,  3.2800e+01,  1.7000e+01,  1.0420e+03,  2.1000e+02,\n",
              "         6.5000e+02,  2.1500e+02,  3.1000e+00,  8.4200e+04]),\n",
              " array([-1.1701e+02,  3.2790e+01,  3.3000e+01,  4.0150e+03,  6.6300e+02,\n",
              "         1.8640e+03,  6.6400e+02,  4.3152e+00,  1.5930e+05]),\n",
              " array([-1.1701e+02,  3.2790e+01,  3.1000e+01,  3.7760e+03,  8.1500e+02,\n",
              "         1.8860e+03,  7.9900e+02,  3.4421e+00,  1.5530e+05]),\n",
              " array([-1.1701e+02,  3.2780e+01,  2.0000e+01,  2.6160e+03,  5.9700e+02,\n",
              "         1.5320e+03,  5.7900e+02,  2.9896e+00,  2.3560e+05]),\n",
              " array([-1.1701e+02,  3.2770e+01,  4.3000e+01,  8.4100e+02,  1.9200e+02,\n",
              "         4.9600e+02,  2.0700e+02,  3.0179e+00,  1.4930e+05]),\n",
              " array([-1.1701e+02,  3.2770e+01,  3.4000e+01,  3.3300e+03,  7.2300e+02,\n",
              "         1.5920e+03,  6.5600e+02,  2.6678e+00,  1.6420e+05]),\n",
              " array([-1.1701e+02,  3.2760e+01,  3.4000e+01,  3.4150e+03,  6.0800e+02,\n",
              "         1.4640e+03,  5.9300e+02,  4.0549e+00,  2.2370e+05]),\n",
              " array([-1.1701e+02,  3.2760e+01,  2.2000e+01,  3.6260e+03,  8.2400e+02,\n",
              "         1.8000e+03,  7.6900e+02,  2.8594e+00,  1.8960e+05]),\n",
              " array([-1.1701e+02,  3.2750e+01,  3.4000e+01,  2.1050e+03,  3.4000e+02,\n",
              "         9.7300e+02,  3.5700e+02,  4.3088e+00,  1.5250e+05]),\n",
              " array([-1.1701e+02,  3.2750e+01,  2.6000e+01,  4.0380e+03,  7.0600e+02,\n",
              "         2.0650e+03,  6.8700e+02,  3.9545e+00,  1.7810e+05]),\n",
              " array([-1.1701e+02,  3.2740e+01,  3.1000e+01,  3.4730e+03,  7.2200e+02,\n",
              "         2.0980e+03,  6.7700e+02,  2.6973e+00,  1.3520e+05]),\n",
              " array([-1.1701e+02,  3.2730e+01,  2.2000e+01,  2.5260e+03,  5.3000e+02,\n",
              "         1.5560e+03,  5.2900e+02,  2.8646e+00,  1.2080e+05]),\n",
              " array([-1.1701e+02,  3.2720e+01,  1.2000e+01,  2.9140e+03,  7.3400e+02,\n",
              "         2.1040e+03,  7.0300e+02,  2.3068e+00,  1.3230e+05]),\n",
              " array([-1.1701e+02,  3.2710e+01,  2.0000e+01,  3.5060e+03,  6.9200e+02,\n",
              "         1.9770e+03,  6.6800e+02,  2.9810e+00,  1.2910e+05]),\n",
              " array([-1.1701e+02,  3.2700e+01,  7.0000e+00,  2.3270e+03,  4.9000e+02,\n",
              "         1.3040e+03,  4.4500e+02,  3.3553e+00,  1.3220e+05]),\n",
              " array([-1.1701e+02,  3.2700e+01,  2.5000e+01,  2.3210e+03,  3.9800e+02,\n",
              "         1.4340e+03,  3.8600e+02,  3.5341e+00,  1.2080e+05]),\n",
              " array([-1.1701e+02,  3.2670e+01,  1.7000e+01,  2.3190e+03,  3.4800e+02,\n",
              "         1.1250e+03,  3.3700e+02,  5.5510e+00,  2.6690e+05]),\n",
              " array([-1.1701e+02,  3.2660e+01,  1.1000e+01,  9.9920e+03,  1.3680e+03,\n",
              "         4.4950e+03,  1.3160e+03,  6.9664e+00,  2.9390e+05]),\n",
              " array([-1.1701e+02,  3.2630e+01,  7.0000e+00,  6.4830e+03,  9.7600e+02,\n",
              "         3.2690e+03,  1.0050e+03,  5.7358e+00,  2.2160e+05]),\n",
              " array([-1.1702e+02,  3.6400e+01,  1.9000e+01,  6.1900e+02,  2.3900e+02,\n",
              "         4.9000e+02,  1.6400e+02,  2.1000e+00,  1.4999e+04]),\n",
              " array([-1.1702e+02,  3.4900e+01,  3.7000e+01,  1.1990e+03,  3.5100e+02,\n",
              "         7.8200e+02,  2.9600e+02,  1.6515e+00,  6.1600e+04]),\n",
              " array([-1.1702e+02,  3.4890e+01,  2.9000e+01,  3.1110e+03,  6.6100e+02,\n",
              "         1.5300e+03,  6.0800e+02,  2.8281e+00,  6.9300e+04]),\n",
              " array([-1.1702e+02,  3.4030e+01,  1.9000e+01,  4.4150e+03,  6.4800e+02,\n",
              "         1.6270e+03,  6.1900e+02,  4.2361e+00,  1.9160e+05]),\n",
              " array([-1.1702e+02,  3.3950e+01,  5.0000e+00,  1.8220e+03,  3.6700e+02,\n",
              "         7.9800e+02,  3.1300e+02,  2.8783e+00,  1.0520e+05]),\n",
              " array([-1.1702e+02,  3.3810e+01,  1.0000e+01,  6.3170e+03,  1.3350e+03,\n",
              "         2.6250e+03,  1.0940e+03,  2.3000e+00,  1.0890e+05]),\n",
              " array([-1.1702e+02,  3.3760e+01,  2.0000e+01,  1.3170e+03,  2.0300e+02,\n",
              "         4.5300e+02,  1.5800e+02,  2.8393e+00,  1.2070e+05]),\n",
              " array([-1.1702e+02,  3.3730e+01,  1.4000e+01,  3.7000e+03,  7.5000e+02,\n",
              "         1.1710e+03,  6.9500e+02,  1.9476e+00,  1.1250e+05]),\n",
              " array([-1.1702e+02,  3.3710e+01,  6.0000e+00,  8.2780e+03,  1.5790e+03,\n",
              "         3.0620e+03,  1.4460e+03,  3.0043e+00,  1.3470e+05]),\n",
              " array([-1.1702e+02,  3.3600e+01,  7.0000e+00,  1.9720e+03,  3.5200e+02,\n",
              "         9.6400e+02,  3.1700e+02,  3.2440e+00,  3.3720e+05]),\n",
              " array([-1.1702e+02,  3.2950e+01,  2.5000e+01,  1.9090e+03,  3.3400e+02,\n",
              "         1.0430e+03,  3.2200e+02,  3.7784e+00,  1.6010e+05]),\n",
              " array([-1.1702e+02,  3.2840e+01,  1.7000e+01,  4.0130e+03,  6.7300e+02,\n",
              "         2.2630e+03,  6.6100e+02,  5.1310e+00,  1.4830e+05]),\n",
              " array([-1.1702e+02,  3.2810e+01,  2.7000e+01,  1.9500e+03,  3.1700e+02,\n",
              "         9.5000e+02,  3.2000e+02,  4.0656e+00,  1.6400e+05]),\n",
              " array([-1.1702e+02,  3.2810e+01,  2.6000e+01,  1.9980e+03,  3.0100e+02,\n",
              "         8.7400e+02,  3.0500e+02,  5.4544e+00,  1.8090e+05]),\n",
              " array([-1.1702e+02,  3.2810e+01,  1.4000e+01,  3.1730e+03,  5.9900e+02,\n",
              "         1.4510e+03,  5.8500e+02,  3.7292e+00,  1.8220e+05]),\n",
              " array([-1.1702e+02,  3.2800e+01,  2.9000e+01,  1.2320e+03,  2.4300e+02,\n",
              "         6.6500e+02,  2.4700e+02,  3.6500e+00,  1.6890e+05]),\n",
              " array([-1.1702e+02,  3.2800e+01,  2.7000e+01,  2.3690e+03,  3.7000e+02,\n",
              "         9.2700e+02,  3.7400e+02,  4.1162e+00,  1.7720e+05]),\n",
              " array([-1.1702e+02,  3.2790e+01,  3.6000e+01,  2.2110e+03,  3.8400e+02,\n",
              "         8.6800e+02,  3.2900e+02,  4.0491e+00,  1.4790e+05]),\n",
              " array([-1.1702e+02,  3.2780e+01,  3.3000e+01,  3.4810e+03,  7.0800e+02,\n",
              "         1.7260e+03,  7.1900e+02,  3.3675e+00,  1.5820e+05]),\n",
              " array([-1.1702e+02,  3.2780e+01,  3.1000e+01,  2.5670e+03,  5.0700e+02,\n",
              "         1.1980e+03,  4.9900e+02,  3.4659e+00,  1.6300e+05]),\n",
              " array([-1.1702e+02,  3.2760e+01,  4.0000e+01,  2.5230e+03,  4.8800e+02,\n",
              "         9.7600e+02,  4.7000e+02,  3.1100e+00,  1.8570e+05]),\n",
              " array([-1.1702e+02,  3.2760e+01,  1.5000e+01,  1.2040e+03,  3.2600e+02,\n",
              "         5.4300e+02,  3.2600e+02,  1.0278e+00,  1.5420e+05]),\n",
              " array([-1.1702e+02,  3.2750e+01,  3.3000e+01,  3.2960e+03,  5.3700e+02,\n",
              "         1.3450e+03,  5.5600e+02,  5.2835e+00,  2.1710e+05]),\n",
              " array([-1.1702e+02,  3.2740e+01,  3.0000e+01,  4.2050e+03,  7.7200e+02,\n",
              "         2.0120e+03,  7.3400e+02,  3.5000e+00,  1.4470e+05]),\n",
              " array([-1.1702e+02,  3.2740e+01,  1.2000e+01,  3.3010e+03,  9.6300e+02,\n",
              "         2.0000e+03,  8.7900e+02,  1.8594e+00,  1.1920e+05]),\n",
              " array([-1.1702e+02,  3.2730e+01,  2.2000e+01,  5.2010e+03,  8.6500e+02,\n",
              "         3.2800e+03,  8.1700e+02,  4.7952e+00,  1.4140e+05]),\n",
              " array([-1.1702e+02,  3.2720e+01,  3.6000e+01,  2.0300e+03,  3.6900e+02,\n",
              "         1.1420e+03,  3.5700e+02,  3.7763e+00,  1.2690e+05]),\n",
              " array([-1.1702e+02,  3.2710e+01,  3.0000e+01,  3.1870e+03,  5.9200e+02,\n",
              "         2.0820e+03,  6.3100e+02,  3.5388e+00,  1.1850e+05]),\n",
              " array([-1.1702e+02,  3.2700e+01,  2.2000e+01,  2.7560e+03,  5.1600e+02,\n",
              "         1.8490e+03,  4.8600e+02,  4.1837e+00,  1.2540e+05]),\n",
              " array([-1.1702e+02,  3.2680e+01,  1.4000e+01,  3.9860e+03,  6.7500e+02,\n",
              "         2.0650e+03,  7.0200e+02,  5.7192e+00,  2.6740e+05]),\n",
              " array([-1.1702e+02,  3.2670e+01,  2.0000e+01,  1.5050e+03,  1.8400e+02,\n",
              "         6.3500e+02,  1.8200e+02,  6.5772e+00,  2.4520e+05]),\n",
              " array([-1.1702e+02,  3.2660e+01,  1.9000e+01,  7.7100e+02,  1.0300e+02,\n",
              "         3.7600e+02,  1.0800e+02,  6.6272e+00,  2.7360e+05]),\n",
              " array([-1.1702e+02,  3.2640e+01,  5.0000e+00,  2.6000e+02,  4.1000e+01,\n",
              "         1.5700e+02,  4.2000e+01,  6.5151e+00,  2.8170e+05]),\n",
              " array([-1.1702e+02,  3.2590e+01,  1.9000e+01,  1.9020e+03,  3.3500e+02,\n",
              "         1.1020e+03,  3.1300e+02,  3.0365e+00,  9.8100e+04]),\n",
              " array([-1.1703e+02,  3.4910e+01,  2.7000e+01,  2.7180e+03,  5.8300e+02,\n",
              "         1.4720e+03,  5.0900e+02,  2.8250e+00,  7.6600e+04]),\n",
              " array([-1.1703e+02,  3.4870e+01,  7.0000e+00,  2.2450e+03,  4.0700e+02,\n",
              "         1.0160e+03,  3.6400e+02,  3.9464e+00,  1.0150e+05]),\n",
              " array([-1.1703e+02,  3.4070e+01,  1.6000e+01,  3.7840e+03,  5.7700e+02,\n",
              "         1.6150e+03,  5.2500e+02,  4.2333e+00,  2.2030e+05]),\n",
              " array([-1.1703e+02,  3.4030e+01,  2.6000e+01,  3.5010e+03,  6.6400e+02,\n",
              "         1.8600e+03,  6.8100e+02,  3.0403e+00,  1.1350e+05]),\n",
              " array([-1.1703e+02,  3.3890e+01,  6.0000e+00,  7.8000e+01,  1.1000e+01,\n",
              "         2.7000e+01,  1.0000e+01,  3.1250e+00,  1.8750e+05]),\n",
              " array([-1.1703e+02,  3.3320e+01,  1.4000e+01,  1.0880e+03,  2.0900e+02,\n",
              "         6.0100e+02,  1.9300e+02,  3.8438e+00,  2.4380e+05]),\n",
              " array([-1.1703e+02,  3.3180e+01,  1.7000e+01,  5.3910e+03,  8.8600e+02,\n",
              "         2.7320e+03,  8.3000e+02,  5.1771e+00,  2.1280e+05]),\n",
              " array([-1.1703e+02,  3.3120e+01,  2.5000e+01,  3.1420e+03,  4.4600e+02,\n",
              "         1.2860e+03,  4.1900e+02,  5.4663e+00,  2.4830e+05]),\n",
              " array([-1.1703e+02,  3.2960e+01,  1.6000e+01,  3.4240e+03,  6.9800e+02,\n",
              "         1.9400e+03,  6.4500e+02,  4.1210e+00,  1.8210e+05]),\n",
              " array([-1.1703e+02,  3.2820e+01,  1.6000e+01,  1.7650e+03,  2.8900e+02,\n",
              "         7.4300e+02,  2.8000e+02,  4.9744e+00,  2.0970e+05]),\n",
              " array([-1.1703e+02,  3.2800e+01,  1.9000e+01,  3.8660e+03,  7.7500e+02,\n",
              "         1.5540e+03,  7.0300e+02,  4.3281e+00,  2.2000e+05]),\n",
              " array([-1.1703e+02,  3.2790e+01,  3.1000e+01,  2.3660e+03,  3.8300e+02,\n",
              "         1.0770e+03,  3.8700e+02,  4.2992e+00,  1.7440e+05]),\n",
              " array([-1.1703e+02,  3.2790e+01,  2.6000e+01,  3.8590e+03,  5.1300e+02,\n",
              "         1.4690e+03,  5.3800e+02,  5.8683e+00,  2.2050e+05]),\n",
              " array([-1.1703e+02,  3.2780e+01,  1.7000e+01,  5.4810e+03,  1.6180e+03,\n",
              "         2.9570e+03,  1.5370e+03,  2.5707e+00,  1.7130e+05]),\n",
              " array([-1.1703e+02,  3.2770e+01,  3.4000e+01,  1.7960e+03,  4.2800e+02,\n",
              "         9.1800e+02,  4.2400e+02,  2.8750e+00,  1.6120e+05]),\n",
              " array([-1.1703e+02,  3.2770e+01,  1.9000e+01,  4.8190e+03,  1.4920e+03,\n",
              "         2.5720e+03,  1.3360e+03,  2.3393e+00,  1.1820e+05]),\n",
              " array([-1.1703e+02,  3.2750e+01,  2.4000e+01,  7.8790e+03,  1.6550e+03,\n",
              "         3.8980e+03,  1.5340e+03,  3.0897e+00,  1.8730e+05]),\n",
              " array([-1.1703e+02,  3.2740e+01,  3.7000e+01,  8.2100e+02,  1.5000e+02,\n",
              "         4.0400e+02,  1.3500e+02,  3.0125e+00,  1.3040e+05]),\n",
              " array([-1.1703e+02,  3.2740e+01,  3.5000e+01,  1.8780e+03,  4.5400e+02,\n",
              "         9.9100e+02,  4.0900e+02,  2.4345e+00,  1.2970e+05]),\n",
              " array([-1.1703e+02,  3.2730e+01,  3.8000e+01,  3.1740e+03,  6.0600e+02,\n",
              "         1.5570e+03,  6.1900e+02,  3.5861e+00,  1.2360e+05]),\n",
              " array([-1.1703e+02,  3.2730e+01,  3.4000e+01,  2.0610e+03,  3.9100e+02,\n",
              "         1.1690e+03,  4.0000e+02,  3.5096e+00,  1.4200e+05]),\n",
              " array([-1.1703e+02,  3.2730e+01,  3.2000e+01,  1.7500e+03,  3.3300e+02,\n",
              "         9.9700e+02,  3.3500e+02,  3.4784e+00,  1.5440e+05]),\n",
              " array([-1.1703e+02,  3.2720e+01,  3.8000e+01,  8.8600e+02,  1.7600e+02,\n",
              "         5.0500e+02,  1.8800e+02,  3.5938e+00,  1.2540e+05]),\n",
              " array([-1.1703e+02,  3.2720e+01,  3.7000e+01,  2.1920e+03,  4.5500e+02,\n",
              "         1.5150e+03,  4.4600e+02,  3.0588e+00,  1.2060e+05]),\n",
              " array([-1.1703e+02,  3.2710e+01,  3.4000e+01,  2.3280e+03,  4.4400e+02,\n",
              "         1.6840e+03,  4.2900e+02,  3.2500e+00,  9.9600e+04]),\n",
              " array([-1.1703e+02,  3.2710e+01,  3.3000e+01,  3.1260e+03,  6.2700e+02,\n",
              "         2.3000e+03,  6.2300e+02,  3.2596e+00,  1.0300e+05]),\n",
              " array([-1.1703e+02,  3.2700e+01,  1.9000e+01,  2.3040e+03,  5.7200e+02,\n",
              "         2.0100e+03,  5.5600e+02,  2.2866e+00,  1.0990e+05]),\n",
              " array([-1.1703e+02,  3.2690e+01,  8.0000e+00,  2.4600e+03,  3.9700e+02,\n",
              "         1.7840e+03,  3.9000e+02,  4.5662e+00,  1.7550e+05]),\n",
              " array([-1.1703e+02,  3.2690e+01,  5.0000e+00,  3.2010e+03,  5.3200e+02,\n",
              "         2.0610e+03,  5.3600e+02,  5.0829e+00,  1.7940e+05]),\n",
              " array([-1.1703e+02,  3.2690e+01,  1.0000e+01,  9.0100e+02,  1.6300e+02,\n",
              "         6.9800e+02,  1.6700e+02,  4.6648e+00,  1.5610e+05]),\n",
              " array([-1.1703e+02,  3.2670e+01,  1.5000e+01,  5.0940e+03,  8.1800e+02,\n",
              "         2.1180e+03,  7.5800e+02,  5.3505e+00,  2.6660e+05]),\n",
              " array([-1.1703e+02,  3.2650e+01,  1.4000e+01,  1.1110e+03,  1.4200e+02,\n",
              "         4.7200e+02,  1.4500e+02,  7.6344e+00,  2.9050e+05]),\n",
              " array([-1.1703e+02,  3.2630e+01,  1.4000e+01,  2.7960e+03,  4.7600e+02,\n",
              "         1.4660e+03,  4.6400e+02,  5.2489e+00,  2.1370e+05]),\n",
              " array([-1.1703e+02,  3.2630e+01,  1.3000e+01,  2.0870e+03,  3.1300e+02,\n",
              "         1.1650e+03,  3.3000e+02,  5.7789e+00,  2.2770e+05]),\n",
              " array([-1.1703e+02,  3.2610e+01,  2.2000e+01,  1.0280e+03,  1.4800e+02,\n",
              "         5.2300e+02,  1.5200e+02,  6.0086e+00,  1.6690e+05]),\n",
              " array([-1.1704e+02,  3.4890e+01,  3.7000e+01,  1.8840e+03,  3.6600e+02,\n",
              "         1.0520e+03,  3.5300e+02,  3.1750e+00,  6.6800e+04]),\n",
              " array([-1.1704e+02,  3.4040e+01,  3.0000e+01,  3.4740e+03,  7.3500e+02,\n",
              "         1.6740e+03,  6.9100e+02,  2.5863e+00,  9.8300e+04]),\n",
              " array([-1.1704e+02,  3.4030e+01,  2.9000e+01,  3.3750e+03,  7.9500e+02,\n",
              "         1.7600e+03,  6.9900e+02,  2.7028e+00,  9.2000e+04]),\n",
              " array([-1.1704e+02,  3.4020e+01,  2.4000e+01,  4.6630e+03,  1.2130e+03,\n",
              "         1.8510e+03,  1.1160e+03,  1.4418e+00,  1.0350e+05]),\n",
              " array([-1.1704e+02,  3.4000e+01,  2.5000e+01,  3.7500e+03,  7.8100e+02,\n",
              "         1.5940e+03,  7.8500e+02,  2.4167e+00,  1.0490e+05]),\n",
              " array([-1.1704e+02,  3.4000e+01,  2.1000e+01,  4.6240e+03,  8.5200e+02,\n",
              "         2.1740e+03,  8.1200e+02,  3.5255e+00,  1.3210e+05]),\n",
              " array([-1.1704e+02,  3.3150e+01,  1.5000e+01,  1.3814e+04,  2.8880e+03,\n",
              "         6.5830e+03,  2.7890e+03,  2.8247e+00,  1.5000e+05]),\n",
              " array([-1.1704e+02,  3.3090e+01,  1.6000e+01,  4.6770e+03,  5.8100e+02,\n",
              "         1.9020e+03,  5.6600e+02,  6.1834e+00,  3.3560e+05]),\n",
              " array([-1.1704e+02,  3.3030e+01,  1.6000e+01,  2.8520e+03,  4.3500e+02,\n",
              "         1.0830e+03,  4.4800e+02,  6.3761e+00,  2.9620e+05]),\n",
              " array([-1.1704e+02,  3.3010e+01,  2.8000e+01,  9.2200e+02,  1.0700e+02,\n",
              "         3.1400e+02,  9.7000e+01,  8.4721e+00,  3.4230e+05]),\n",
              " array([-1.1704e+02,  3.2990e+01,  6.0000e+00,  9.5180e+03,  1.4180e+03,\n",
              "         4.4130e+03,  1.2750e+03,  6.6012e+00,  3.1490e+05]),\n",
              " array([-1.1704e+02,  3.2980e+01,  1.6000e+01,  1.3320e+03,  1.9600e+02,\n",
              "         6.4000e+02,  1.9300e+02,  6.0226e+00,  1.9290e+05]),\n",
              " array([-1.1704e+02,  3.2970e+01,  1.3000e+01,  6.7110e+03,  1.2560e+03,\n",
              "         3.6830e+03,  1.2200e+03,  4.5746e+00,  1.7570e+05]),\n",
              " array([-1.1704e+02,  3.2900e+01,  6.0000e+00,  6.5250e+03,  8.2600e+02,\n",
              "         3.1460e+03,  8.0600e+02,  9.2858e+00,  4.3610e+05]),\n",
              " array([-1.1704e+02,  3.2830e+01,  8.0000e+00,  2.2050e+03,  3.4800e+02,\n",
              "         7.7700e+02,  3.4100e+02,  6.0266e+00,  1.7740e+05]),\n",
              " array([-1.1704e+02,  3.2810e+01,  1.2000e+01,  2.8800e+03,  4.0600e+02,\n",
              "         1.3810e+03,  4.1800e+02,  6.5412e+00,  2.5420e+05]),\n",
              " array([-1.1704e+02,  3.2800e+01,  2.5000e+01,  2.5040e+03,  3.4500e+02,\n",
              "         1.0670e+03,  3.5000e+02,  5.7416e+00,  2.4340e+05]),\n",
              " array([-1.1704e+02,  3.2800e+01,  1.1000e+01,  1.8020e+03,  4.4000e+02,\n",
              "         6.3000e+02,  4.2800e+02,  2.0337e+00,  1.4670e+05]),\n",
              " array([-1.1704e+02,  3.2790e+01,  2.3000e+01,  2.4910e+03,  3.5000e+02,\n",
              "         8.6300e+02,  3.4800e+02,  6.7196e+00,  3.0680e+05]),\n",
              " array([-1.1704e+02,  3.2770e+01,  2.1000e+01,  1.8240e+03,  4.4700e+02,\n",
              "         9.6200e+02,  4.3100e+02,  2.7826e+00,  1.4380e+05]),\n",
              " array([-1.1704e+02,  3.2770e+01,  1.6000e+01,  7.9630e+03,  1.8810e+03,\n",
              "         3.7690e+03,  1.8040e+03,  2.9624e+00,  1.4470e+05]),\n",
              " array([-1.1704e+02,  3.2760e+01,  4.3000e+01,  3.1710e+03,  6.6500e+02,\n",
              "         1.5340e+03,  6.2500e+02,  3.1410e+00,  1.4140e+05]),\n",
              " array([-1.1704e+02,  3.2760e+01,  3.7000e+01,  2.9790e+03,  5.5700e+02,\n",
              "         1.2850e+03,  5.6400e+02,  3.7368e+00,  1.5220e+05]),\n",
              " array([-1.1704e+02,  3.2750e+01,  3.6000e+01,  2.2970e+03,  4.1800e+02,\n",
              "         1.0700e+03,  3.9200e+02,  3.5192e+00,  1.4400e+05]),\n",
              " array([-1.1704e+02,  3.2740e+01,  5.0000e+00,  2.8780e+03,  7.8500e+02,\n",
              "         1.7270e+03,  7.5800e+02,  1.7179e+00,  1.3200e+05]),\n",
              " array([-1.1704e+02,  3.2740e+01,  3.3000e+01,  3.8800e+03,  7.7000e+02,\n",
              "         2.2880e+03,  8.0500e+02,  3.6848e+00,  1.4070e+05]),\n",
              " array([-1.1704e+02,  3.2720e+01,  2.4000e+01,  5.4740e+03,  9.5500e+02,\n",
              "         3.0200e+03,  9.0400e+02,  4.0813e+00,  1.3700e+05]),\n",
              " array([-1.1704e+02,  3.2710e+01,  2.8000e+01,  5.2740e+03,  9.9100e+02,\n",
              "         3.7270e+03,  9.6100e+02,  3.5700e+00,  1.0980e+05]),\n",
              " array([-1.1704e+02,  3.2690e+01,  9.0000e+00,  3.4170e+03,  8.6000e+02,\n",
              "         2.5210e+03,  8.2800e+02,  3.0200e+00,  1.5890e+05]),\n",
              " array([-1.1704e+02,  3.2680e+01,  1.3000e+01,  2.1320e+03,  4.2500e+02,\n",
              "         1.3450e+03,  4.3200e+02,  4.0000e+00,  8.9300e+04]),\n",
              " array([-1.1704e+02,  3.2680e+01,  1.1000e+01,  1.8750e+03,  3.5700e+02,\n",
              "         1.0140e+03,  3.8600e+02,  4.3750e+00,  1.1500e+05]),\n",
              " array([-1.1704e+02,  3.2670e+01,  1.4000e+01,  3.4640e+03,  6.8300e+02,\n",
              "         2.1390e+03,  7.3400e+02,  4.0668e+00,  1.3750e+05]),\n",
              " array([-1.1704e+02,  3.2660e+01,  2.2000e+01,  3.3620e+03,  6.3000e+02,\n",
              "         1.4710e+03,  6.1200e+02,  4.1442e+00,  3.0390e+05]),\n",
              " array([-1.1704e+02,  3.2650e+01,  8.0000e+00,  8.8060e+03,  1.4010e+03,\n",
              "         3.1590e+03,  1.0590e+03,  4.2155e+00,  2.4780e+05]),\n",
              " array([-1.1704e+02,  3.2640e+01,  5.0000e+00,  2.3290e+03,  5.4200e+02,\n",
              "         1.2130e+03,  5.1400e+02,  4.0298e+00,  2.2560e+05]),\n",
              " array([-1.1704e+02,  3.2630e+01,  2.6000e+01,  2.7560e+03,  4.2200e+02,\n",
              "         1.1660e+03,  3.9800e+02,  5.1354e+00,  1.8160e+05]),\n",
              " array([-1.1704e+02,  3.2630e+01,  2.6000e+01,  2.0740e+03,  3.5600e+02,\n",
              "         1.2280e+03,  3.3500e+02,  4.1154e+00,  1.6020e+05]),\n",
              " array([-1.1704e+02,  3.2620e+01,  2.7000e+01,  1.7100e+03,  2.8200e+02,\n",
              "         1.0890e+03,  2.9700e+02,  4.6793e+00,  1.5190e+05]),\n",
              " array([-1.1704e+02,  3.2600e+01,  2.0000e+01,  8.0520e+03,  1.4610e+03,\n",
              "         5.0940e+03,  1.4300e+03,  4.2241e+00,  1.3980e+05]),\n",
              " array([-1.1704e+02,  3.2600e+01,  1.8000e+01,  4.7470e+03,  8.4600e+02,\n",
              "         3.0020e+03,  8.7200e+02,  3.9076e+00,  1.5290e+05]),\n",
              " array([-1.1704e+02,  3.2580e+01,  2.0000e+01,  2.0290e+03,  3.5700e+02,\n",
              "         1.4970e+03,  3.5300e+02,  4.0089e+00,  1.3210e+05]),\n",
              " array([-1.1704e+02,  3.2580e+01,  1.4000e+01,  2.3550e+03,  4.0600e+02,\n",
              "         1.8830e+03,  4.0100e+02,  5.0311e+00,  1.5210e+05]),\n",
              " array([-1.1704e+02,  3.2550e+01,  1.5000e+01,  2.2060e+03,  6.4800e+02,\n",
              "         2.5110e+03,  6.4800e+02,  1.6348e+00,  9.3200e+04]),\n",
              " array([-1.1704e+02,  3.2540e+01,  7.0000e+00,  9.3800e+02,  2.9700e+02,\n",
              "         1.1870e+03,  2.8200e+02,  1.2667e+00,  6.7500e+04]),\n",
              " array([-1.1705e+02,  3.4890e+01,  3.6000e+01,  1.1990e+03,  2.6000e+02,\n",
              "         6.6500e+02,  2.2900e+02,  3.7065e+00,  6.2000e+04]),\n",
              " array([-1.1705e+02,  3.4040e+01,  2.3000e+01,  3.9670e+03,  7.6600e+02,\n",
              "         1.5180e+03,  6.9800e+02,  2.2900e+00,  1.1180e+05]),\n",
              " array([-1.1705e+02,  3.4030e+01,  2.8000e+01,  3.0090e+03,  6.9800e+02,\n",
              "         1.2000e+03,  6.2600e+02,  1.3993e+00,  1.0460e+05]),\n",
              " array([-1.1705e+02,  3.4020e+01,  2.1000e+01,  3.0980e+03,  6.4600e+02,\n",
              "         1.3510e+03,  6.1400e+02,  2.5980e+00,  1.0670e+05]),\n",
              " array([-1.1705e+02,  3.4010e+01,  2.7000e+01,  5.4840e+03,  1.2050e+03,\n",
              "         2.6450e+03,  1.1310e+03,  2.1927e+00,  1.1670e+05]),\n",
              " array([-1.1705e+02,  3.3520e+01,  5.0000e+00,  3.4710e+03,  5.3000e+02,\n",
              "         1.5410e+03,  5.0200e+02,  4.8083e+00,  3.4770e+05]),\n",
              " array([-1.1705e+02,  3.3290e+01,  1.7000e+01,  1.8000e+03,  3.1200e+02,\n",
              "         8.9100e+02,  2.8100e+02,  7.0177e+00,  2.6760e+05]),\n",
              " array([-1.1705e+02,  3.3260e+01,  1.4000e+01,  3.1030e+03,  5.6900e+02,\n",
              "         1.7040e+03,  5.3900e+02,  3.7644e+00,  2.6470e+05]),\n",
              " array([-1.1705e+02,  3.3140e+01,  1.6000e+01,  4.5520e+03,  1.1660e+03,\n",
              "         2.7370e+03,  1.0510e+03,  2.2500e+00,  1.3630e+05]),\n",
              " array([-1.1705e+02,  3.3130e+01,  2.2000e+01,  2.4270e+03,  3.9000e+02,\n",
              "         1.0990e+03,  3.6200e+02,  5.2323e+00,  1.6750e+05]),\n",
              " array([-1.1705e+02,  3.3130e+01,  2.0000e+01,  7.7460e+03,  2.0350e+03,\n",
              "         5.3700e+03,  1.8380e+03,  2.3762e+00,  9.8500e+04]),\n",
              " array([-1.1705e+02,  3.3130e+01,  1.7000e+01,  2.3850e+03,  3.7200e+02,\n",
              "         1.1180e+03,  3.6900e+02,  4.2813e+00,  1.6990e+05]),\n",
              " array([-1.1705e+02,  3.3110e+01,  1.8000e+01,  4.3930e+03,  6.4200e+02,\n",
              "         2.0950e+03,  6.7700e+02,  5.4786e+00,  2.2350e+05]),\n",
              " array([-1.1705e+02,  3.3050e+01,  6.0000e+00,  7.9160e+03,  1.2930e+03,\n",
              "         2.7410e+03,  1.2040e+03,  5.6436e+00,  2.7860e+05]),\n",
              " array([-1.1705e+02,  3.3040e+01,  1.2000e+01,  1.8400e+03,  2.5400e+02,\n",
              "         5.8000e+02,  2.3400e+02,  6.7769e+00,  4.0000e+05]),\n",
              " array([-1.1705e+02,  3.3020e+01,  1.8000e+01,  9.1700e+02,  1.2100e+02,\n",
              "         3.8800e+02,  1.3100e+02,  6.3517e+00,  2.6010e+05]),\n",
              " array([-1.1705e+02,  3.3010e+01,  1.9000e+01,  3.5580e+03,  5.8800e+02,\n",
              "         1.4390e+03,  5.7800e+02,  4.6250e+00,  2.1110e+05]),\n",
              " array([-1.17050e+02,  3.30100e+01,  1.70000e+01,  3.43000e+03,\n",
              "         4.25000e+02,  1.46800e+03,  4.33000e+02,  1.06186e+01,\n",
              "         4.29300e+05]),\n",
              " array([-1.1705e+02,  3.2970e+01,  1.7000e+01,  9.9110e+03,  1.4360e+03,\n",
              "         4.7630e+03,  1.4140e+03,  5.5882e+00,  1.9430e+05]),\n",
              " array([-1.1705e+02,  3.2960e+01,  1.8000e+01,  3.5930e+03,  6.6100e+02,\n",
              "         1.9920e+03,  6.2600e+02,  4.8295e+00,  1.6580e+05]),\n",
              " array([-1.1705e+02,  3.2950e+01,  1.7000e+01,  4.8140e+03,  1.0910e+03,\n",
              "         3.0130e+03,  1.0780e+03,  3.2369e+00,  1.6780e+05]),\n",
              " array([-1.1705e+02,  3.2950e+01,  1.7000e+01,  3.0390e+03,  5.5500e+02,\n",
              "         1.2970e+03,  5.5200e+02,  3.9531e+00,  1.7860e+05]),\n",
              " array([-1.1705e+02,  3.2820e+01,  1.6000e+01,  4.0460e+03,  7.3100e+02,\n",
              "         1.6840e+03,  7.0100e+02,  4.2312e+00,  1.9700e+05]),\n",
              " array([-1.1705e+02,  3.2810e+01,  1.7000e+01,  1.8850e+03,  2.9200e+02,\n",
              "         7.7100e+02,  3.0100e+02,  5.6402e+00,  2.2860e+05]),\n",
              " array([-1.1705e+02,  3.2800e+01,  2.5000e+01,  1.9050e+03,  2.5000e+02,\n",
              "         8.6500e+02,  2.5300e+02,  6.4797e+00,  2.4900e+05]),\n",
              " array([-1.1705e+02,  3.2800e+01,  2.3000e+01,  3.3090e+03,  4.0100e+02,\n",
              "         1.1160e+03,  3.8600e+02,  7.9160e+00,  3.3060e+05]),\n",
              " array([-1.1705e+02,  3.2800e+01,  1.7000e+01,  1.4750e+03,  3.0800e+02,\n",
              "         5.4900e+02,  2.9300e+02,  3.7167e+00,  1.8040e+05]),\n",
              " array([-1.1705e+02,  3.2800e+01,  1.6000e+01,  1.5610e+03,  3.7800e+02,\n",
              "         5.7400e+02,  3.5000e+02,  3.0035e+00,  9.4600e+04]),\n",
              " array([-1.1705e+02,  3.2780e+01,  3.7000e+01,  1.1840e+03,  1.7800e+02,\n",
              "         5.2900e+02,  1.9200e+02,  4.7941e+00,  1.6170e+05]),\n",
              " array([-1.1705e+02,  3.2770e+01,  3.3000e+01,  3.5350e+03,  6.8300e+02,\n",
              "         1.5680e+03,  6.7200e+02,  2.8097e+00,  1.5830e+05]),\n",
              " array([-1.1705e+02,  3.2770e+01,  2.3000e+01,  2.5560e+03,  6.6200e+02,\n",
              "         1.2000e+03,  5.4800e+02,  1.8899e+00,  1.4770e+05]),\n",
              " array([-1.1705e+02,  3.2760e+01,  4.6000e+01,  1.8870e+03,  3.5900e+02,\n",
              "         7.9500e+02,  3.5800e+02,  3.2500e+00,  1.5960e+05]),\n",
              " array([-1.1705e+02,  3.2750e+01,  4.3000e+01,  1.7180e+03,  3.4400e+02,\n",
              "         8.2600e+02,  3.3600e+02,  2.7014e+00,  1.3370e+05]),\n",
              " array([-1.1705e+02,  3.2750e+01,  3.6000e+01,  2.0240e+03,  4.0800e+02,\n",
              "         1.0300e+03,  3.9000e+02,  3.8233e+00,  1.3980e+05]),\n",
              " array([-1.1705e+02,  3.2750e+01,  3.5000e+01,  2.1440e+03,  3.8800e+02,\n",
              "         1.0030e+03,  3.8300e+02,  3.0938e+00,  1.3730e+05]),\n",
              " array([-1.1705e+02,  3.2750e+01,  2.9000e+01,  2.7670e+03,  6.1200e+02,\n",
              "         1.4370e+03,  5.8700e+02,  2.8306e+00,  1.4290e+05]),\n",
              " array([-1.1705e+02,  3.2740e+01,  3.4000e+01,  2.1780e+03,  4.5500e+02,\n",
              "         1.1930e+03,  4.4600e+02,  3.1719e+00,  1.1530e+05]),\n",
              " array([-1.1705e+02,  3.2730e+01,  2.7000e+01,  3.1840e+03,  5.8800e+02,\n",
              "         1.7630e+03,  5.7100e+02,  3.5529e+00,  1.3390e+05]),\n",
              " array([-1.1705e+02,  3.2720e+01,  3.5000e+01,  3.6690e+03,  6.1700e+02,\n",
              "         1.6940e+03,  5.8500e+02,  3.9485e+00,  1.3390e+05]),\n",
              " array([-1.1705e+02,  3.2720e+01,  3.5000e+01,  1.7770e+03,  3.6900e+02,\n",
              "         1.1580e+03,  3.5300e+02,  3.4107e+00,  1.1700e+05]),\n",
              " array([-1.1705e+02,  3.2690e+01,  8.0000e+00,  8.3100e+02,  1.5800e+02,\n",
              "         7.4000e+02,  1.5400e+02,  5.3908e+00,  1.6550e+05]),\n",
              " array([-1.1705e+02,  3.2690e+01,  2.1000e+01,  9.9100e+02,  2.1000e+02,\n",
              "         6.9500e+02,  2.0300e+02,  3.6250e+00,  1.4430e+05]),\n",
              " array([-1.1705e+02,  3.2690e+01,  1.4000e+01,  1.6890e+03,  5.5500e+02,\n",
              "         1.3190e+03,  5.2700e+02,  3.1600e+00,  1.4380e+05]),\n",
              " array([-1.1705e+02,  3.2680e+01,  3.5000e+01,  3.4140e+03,  5.8000e+02,\n",
              "         1.7610e+03,  5.2200e+02,  3.9922e+00,  1.2980e+05]),\n",
              " array([-1.1705e+02,  3.2680e+01,  1.9000e+01,  1.4690e+03,  2.7500e+02,\n",
              "         1.0100e+03,  2.9200e+02,  3.5664e+00,  1.5040e+05]),\n",
              " array([-1.1705e+02,  3.2680e+01,  1.5000e+01,  1.8280e+03,  3.5900e+02,\n",
              "         9.5500e+02,  2.4800e+02,  3.2174e+00,  1.6510e+05]),\n",
              " array([-1.1705e+02,  3.2670e+01,  3.2000e+01,  4.2270e+03,  7.8500e+02,\n",
              "         2.8420e+03,  7.9500e+02,  3.9646e+00,  1.3780e+05]),\n",
              " array([-1.1705e+02,  3.2670e+01,  1.6000e+01,  2.1680e+03,  3.4300e+02,\n",
              "         1.5890e+03,  3.3800e+02,  5.4863e+00,  1.5380e+05]),\n",
              " array([-1.1705e+02,  3.2630e+01,  3.1000e+01,  4.9110e+03,  8.6100e+02,\n",
              "         2.3340e+03,  8.4300e+02,  4.1958e+00,  1.6010e+05]),\n",
              " array([-1.1705e+02,  3.2620e+01,  3.4000e+01,  3.9280e+03,  6.8600e+02,\n",
              "         2.3150e+03,  6.8100e+02,  4.2851e+00,  1.4450e+05]),\n",
              " array([-1.1705e+02,  3.2610e+01,  2.6000e+01,  1.5630e+03,  2.8600e+02,\n",
              "         1.1450e+03,  3.1300e+02,  3.8615e+00,  1.3930e+05]),\n",
              " array([-1.1705e+02,  3.2610e+01,  2.1000e+01,  6.0340e+03,  1.2050e+03,\n",
              "         3.7950e+03,  1.1460e+03,  3.2633e+00,  1.2970e+05]),\n",
              " array([-1.1705e+02,  3.2590e+01,  2.6000e+01,  1.9190e+03,  3.4500e+02,\n",
              "         1.3260e+03,  3.4100e+02,  4.2679e+00,  1.3190e+05]),\n",
              " array([-1.1705e+02,  3.2590e+01,  1.6000e+01,  4.6830e+03,  9.2900e+02,\n",
              "         3.0730e+03,  8.6500e+02,  3.0495e+00,  9.8300e+04]),\n",
              " array([-1.1705e+02,  3.2580e+01,  2.5000e+01,  2.1850e+03,  3.7000e+02,\n",
              "         1.5580e+03,  3.6900e+02,  5.3072e+00,  1.3270e+05]),\n",
              " array([-1.1705e+02,  3.2580e+01,  2.2000e+01,  2.1010e+03,  3.9900e+02,\n",
              "         1.5510e+03,  3.7100e+02,  4.1518e+00,  1.3690e+05]),\n",
              " array([-1.1705e+02,  3.2560e+01,  2.2000e+01,  2.1720e+03,  5.6300e+02,\n",
              "         2.0490e+03,  5.2400e+02,  2.0159e+00,  1.3930e+05]),\n",
              " array([-1.1705e+02,  3.2560e+01,  1.8000e+01,  1.2150e+03,  3.2000e+02,\n",
              "         1.1950e+03,  3.4900e+02,  1.9875e+00,  1.1490e+05]),\n",
              " array([-1.1705e+02,  3.2560e+01,  1.7000e+01,  9.8500e+02,  2.3300e+02,\n",
              "         8.1100e+02,  2.2300e+02,  2.8750e+00,  1.3450e+05]),\n",
              " array([-1.1706e+02,  3.4900e+01,  3.6000e+01,  2.8280e+03,  9.1600e+02,\n",
              "         1.7620e+03,  7.3600e+02,  1.4318e+00,  5.9600e+04]),\n",
              " array([-1.1706e+02,  3.4170e+01,  2.1000e+01,  2.5200e+03,  5.8200e+02,\n",
              "         4.1600e+02,  1.5100e+02,  2.7120e+00,  8.9000e+04]),\n",
              " array([-1.1706e+02,  3.4030e+01,  2.7000e+01,  1.9450e+03,  4.4600e+02,\n",
              "         8.5900e+02,  4.1800e+02,  1.5203e+00,  1.2620e+05]),\n",
              " array([-1.1706e+02,  3.4020e+01,  2.4000e+01,  3.9120e+03,  8.0900e+02,\n",
              "         1.9260e+03,  7.6200e+02,  2.6875e+00,  1.1630e+05]),\n",
              " array([-1.1706e+02,  3.4000e+01,  3.3000e+01,  1.5750e+03,  3.2600e+02,\n",
              "         8.7900e+02,  2.8200e+02,  2.5357e+00,  9.4400e+04]),\n",
              " array([-1.1706e+02,  3.3780e+01,  1.7000e+01,  2.8130e+03,  5.6500e+02,\n",
              "         1.3450e+03,  4.8800e+02,  2.5847e+00,  1.4530e+05]),\n",
              " array([-1.1706e+02,  3.3170e+01,  4.0000e+00,  5.4650e+03,  9.7400e+02,\n",
              "         2.8440e+03,  9.5000e+02,  4.4477e+00,  1.7480e+05]),\n",
              " array([-1.1706e+02,  3.3150e+01,  2.4000e+01,  2.1550e+03,  3.7900e+02,\n",
              "         1.1580e+03,  3.6000e+02,  4.7941e+00,  1.4750e+05]),\n",
              " array([-1.1706e+02,  3.3130e+01,  1.2000e+01,  8.7420e+03,  2.1140e+03,\n",
              "         4.8540e+03,  1.9570e+03,  2.8015e+00,  1.4350e+05]),\n",
              " array([-1.1706e+02,  3.3090e+01,  1.1000e+01,  7.4830e+03,  1.2760e+03,\n",
              "         3.5160e+03,  1.2610e+03,  4.0484e+00,  2.6250e+05]),\n",
              " array([-1.1706e+02,  3.3040e+01,  1.7000e+01,  1.7850e+03,  2.5500e+02,\n",
              "         6.6700e+02,  2.7700e+02,  5.7382e+00,  2.7800e+05]),\n",
              " array([-1.1706e+02,  3.3030e+01,  2.3000e+01,  2.0230e+03,  3.0900e+02,\n",
              "         6.7800e+02,  3.4000e+02,  7.0913e+00,  2.6540e+05]),\n",
              " array([-1.1706e+02,  3.3020e+01,  2.4000e+01,  8.3000e+02,  1.9000e+02,\n",
              "         2.7900e+02,  1.9600e+02,  1.9176e+00,  1.2110e+05]),\n",
              " array([-1.1706e+02,  3.3020e+01,  1.7000e+01,  2.6350e+03,  3.8900e+02,\n",
              "         9.9400e+02,  3.5900e+02,  5.8966e+00,  2.6150e+05]),\n",
              " array([-1.1706e+02,  3.3010e+01,  9.0000e+00,  2.4700e+03,  4.1700e+02,\n",
              "         9.0400e+02,  4.2700e+02,  4.4219e+00,  2.0920e+05]),\n",
              " array([-1.1706e+02,  3.2990e+01,  1.6000e+01,  1.3060e+03,  1.9600e+02,\n",
              "         7.1300e+02,  2.2200e+02,  6.2683e+00,  1.8070e+05]),\n",
              " array([-1.1706e+02,  3.2970e+01,  1.7000e+01,  4.7540e+03,  8.7700e+02,\n",
              "         2.4120e+03,  8.3200e+02,  4.3548e+00,  1.9230e+05]),\n",
              " array([-1.1706e+02,  3.2810e+01,  1.7000e+01,  3.9390e+03,  5.5000e+02,\n",
              "         1.6940e+03,  5.5300e+02,  6.7927e+00,  2.3470e+05]),\n",
              " array([-1.1706e+02,  3.2800e+01,  1.7000e+01,  2.2470e+03,  3.4000e+02,\n",
              "         9.7300e+02,  3.1800e+02,  5.5000e+00,  2.2200e+05]),\n",
              " array([-1.1706e+02,  3.2790e+01,  2.1000e+01,  3.7870e+03,  4.9200e+02,\n",
              "         1.2460e+03,  4.5700e+02,  9.6023e+00,  3.9130e+05]),\n",
              " array([-1.1706e+02,  3.2790e+01,  1.7000e+01,  2.5240e+03,  3.3200e+02,\n",
              "         7.7100e+02,  3.1700e+02,  8.7604e+00,  3.3180e+05]),\n",
              " array([-1.1706e+02,  3.2770e+01,  3.4000e+01,  1.7300e+03,  3.7300e+02,\n",
              "         7.3000e+02,  3.5000e+02,  2.0284e+00,  1.6180e+05]),\n",
              " array([-1.1706e+02,  3.2770e+01,  1.8000e+01,  2.2690e+03,  6.8200e+02,\n",
              "         1.3290e+03,  5.8100e+02,  1.7951e+00,  1.6180e+05]),\n",
              " array([-1.1706e+02,  3.2760e+01,  3.8000e+01,  1.5490e+03,  2.8800e+02,\n",
              "         6.3600e+02,  2.7800e+02,  3.2188e+00,  1.5050e+05]),\n",
              " array([-1.1706e+02,  3.2760e+01,  2.4000e+01,  1.6290e+03,  5.8700e+02,\n",
              "         1.0120e+03,  4.8800e+02,  1.7452e+00,  1.5680e+05]),\n",
              " array([-1.1706e+02,  3.2750e+01,  3.4000e+01,  2.5160e+03,  6.1100e+02,\n",
              "         1.3170e+03,  5.9400e+02,  2.2308e+00,  1.2590e+05]),\n",
              " array([-1.1706e+02,  3.2750e+01,  3.4000e+01,  1.9170e+03,  4.1900e+02,\n",
              "         1.1810e+03,  4.2600e+02,  3.0208e+00,  1.2920e+05]),\n",
              " array([-1.1706e+02,  3.2730e+01,  3.3000e+01,  3.4440e+03,  6.1900e+02,\n",
              "         1.8840e+03,  5.8200e+02,  3.7891e+00,  1.2670e+05]),\n",
              " array([-1.1706e+02,  3.2720e+01,  3.1000e+01,  2.6690e+03,  5.1400e+02,\n",
              "         1.6260e+03,  4.9900e+02,  3.1923e+00,  1.1690e+05]),\n",
              " array([-1.1706e+02,  3.2710e+01,  2.1000e+01,  1.8640e+03,  3.8800e+02,\n",
              "         1.4980e+03,  3.8900e+02,  3.8194e+00,  1.2570e+05]),\n",
              " array([-1.1706e+02,  3.2710e+01,  1.1000e+01,  2.3970e+03,  5.2300e+02,\n",
              "         1.5660e+03,  5.1400e+02,  3.8687e+00,  1.4520e+05]),\n",
              " array([-1.1706e+02,  3.2690e+01,  9.0000e+00,  5.2100e+02,  1.1100e+02,\n",
              "         4.9100e+02,  1.1000e+02,  5.1305e+00,  1.5890e+05]),\n",
              " array([-1.1706e+02,  3.2690e+01,  9.0000e+00,  1.5200e+03,  2.6900e+02,\n",
              "         1.2500e+03,  2.6500e+02,  4.8875e+00,  1.5770e+05]),\n",
              " array([-1.1706e+02,  3.2690e+01,  1.3000e+01,  7.0500e+02,  1.4900e+02,\n",
              "         7.1800e+02,  1.5500e+02,  4.4375e+00,  1.5490e+05]),\n",
              " array([-1.1706e+02,  3.2680e+01,  4.1000e+01,  2.6650e+03,  5.1500e+02,\n",
              "         1.6640e+03,  5.1200e+02,  2.3750e+00,  1.1350e+05]),\n",
              " array([-1.1706e+02,  3.2680e+01,  3.8000e+01,  1.4810e+03,  3.1700e+02,\n",
              "         1.0800e+03,  2.9100e+02,  2.8500e+00,  1.2580e+05]),\n",
              " array([-1.1706e+02,  3.2680e+01,  3.6000e+01,  3.8150e+03,  7.9600e+02,\n",
              "         2.9450e+03,  7.2800e+02,  2.0959e+00,  1.2500e+05]),\n",
              " array([-1.1706e+02,  3.2670e+01,  2.9000e+01,  4.0470e+03,  7.5400e+02,\n",
              "         2.3530e+03,  7.3000e+02,  4.0505e+00,  1.2500e+05]),\n",
              " array([-1.1706e+02,  3.2660e+01,  3.3000e+01,  3.4250e+03,  5.1100e+02,\n",
              "         1.5280e+03,  4.7900e+02,  5.6889e+00,  2.3460e+05]),\n",
              " array([-1.1706e+02,  3.2640e+01,  3.0000e+01,  4.4940e+03,  6.6700e+02,\n",
              "         1.8830e+03,  6.8000e+02,  5.7660e+00,  1.8610e+05]),\n",
              " array([-1.1706e+02,  3.2630e+01,  3.7000e+01,  1.3260e+03,  2.3400e+02,\n",
              "         6.1200e+02,  2.4000e+02,  4.1250e+00,  1.6020e+05]),\n",
              " array([-1.1706e+02,  3.2630e+01,  2.9000e+01,  4.1680e+03,  7.4200e+02,\n",
              "         2.0960e+03,  7.1300e+02,  4.2204e+00,  1.6980e+05]),\n",
              " array([-1.1706e+02,  3.2620e+01,  3.6000e+01,  7.8600e+02,  1.2500e+02,\n",
              "         4.0800e+02,  1.3800e+02,  3.9167e+00,  1.8970e+05]),\n",
              " array([-1.1706e+02,  3.2610e+01,  3.4000e+01,  4.3250e+03,  1.0150e+03,\n",
              "         2.6090e+03,  9.7900e+02,  2.8489e+00,  1.2830e+05]),\n",
              " array([-1.1706e+02,  3.2600e+01,  3.3000e+01,  9.0500e+02,  2.0500e+02,\n",
              "         9.8900e+02,  2.2200e+02,  2.7014e+00,  1.0820e+05]),\n",
              " array([-1.1706e+02,  3.2600e+01,  2.5000e+01,  1.0750e+03,  2.3800e+02,\n",
              "         4.3400e+02,  2.3400e+02,  1.7472e+00,  9.4600e+04]),\n",
              " array([-1.1706e+02,  3.2600e+01,  2.4000e+01,  1.0880e+03,  2.6800e+02,\n",
              "         1.0950e+03,  2.4600e+02,  2.4191e+00,  1.0730e+05]),\n",
              " array([-1.1706e+02,  3.2580e+01,  1.7000e+01,  2.7240e+03,  5.6700e+02,\n",
              "         2.2130e+03,  5.5400e+02,  3.8529e+00,  1.4770e+05]),\n",
              " array([-1.1706e+02,  3.2580e+01,  1.3000e+01,  3.4350e+03,  7.0800e+02,\n",
              "         1.7610e+03,  6.9900e+02,  3.4792e+00,  1.0760e+05]),\n",
              " array([-1.1706e+02,  3.2580e+01,  1.1000e+01,  2.8790e+03,  6.7900e+02,\n",
              "         2.0980e+03,  6.7300e+02,  3.5125e+00,  1.4240e+05]),\n",
              " array([-1.1706e+02,  3.2570e+01,  2.5000e+01,  1.2680e+03,  2.8200e+02,\n",
              "         9.9100e+02,  2.9900e+02,  3.0284e+00,  1.2360e+05]),\n",
              " array([-1.1706e+02,  3.2570e+01,  1.8000e+01,  1.3840e+03,  3.1100e+02,\n",
              "         1.4290e+03,  2.8700e+02,  1.3362e+00,  9.5000e+04]),\n",
              " array([-1.1706e+02,  3.2570e+01,  1.7000e+01,  2.2520e+03,  3.7800e+02,\n",
              "         1.7760e+03,  3.6500e+02,  4.6364e+00,  1.4110e+05]),\n",
              " array([-1.1706e+02,  3.2570e+01,  1.6000e+01,  1.2690e+03,  2.8200e+02,\n",
              "         1.6090e+03,  2.9800e+02,  2.6985e+00,  1.5650e+05]),\n",
              " array([-1.1706e+02,  3.2560e+01,  5.0000e+00,  2.7060e+03,  9.2500e+02,\n",
              "         3.1480e+03,  8.5500e+02,  1.7301e+00,  1.2500e+05]),\n",
              " array([-1.1706e+02,  3.2560e+01,  1.7000e+01,  2.8030e+03,  6.8300e+02,\n",
              "         2.7680e+03,  6.7600e+02,  1.7958e+00,  1.4040e+05]),\n",
              " array([-1.1706e+02,  3.2550e+01,  5.0000e+00,  3.2230e+03,  9.4000e+02,\n",
              "         3.2840e+03,  8.5400e+02,  1.4384e+00,  1.0880e+05]),\n",
              " array([-1.1707e+02,  3.4240e+01,  2.1000e+01,  4.7730e+03,  1.0470e+03,\n",
              "         3.3700e+02,  1.3000e+02,  3.9375e+00,  1.1500e+05]),\n",
              " array([-1.1707e+02,  3.3720e+01,  1.6000e+01,  4.9280e+03,  9.6000e+02,\n",
              "         2.1320e+03,  8.5300e+02,  2.7983e+00,  1.1250e+05]),\n",
              " array([-1.1707e+02,  3.3150e+01,  1.7000e+01,  1.8930e+03,  2.9700e+02,\n",
              "         9.3600e+02,  2.8700e+02,  5.1842e+00,  1.5770e+05]),\n",
              " array([-1.1707e+02,  3.3150e+01,  1.5000e+01,  2.9940e+03,  5.2200e+02,\n",
              "         1.2310e+03,  5.0300e+02,  3.2024e+00,  1.8040e+05]),\n",
              " array([-1.1707e+02,  3.3140e+01,  1.6000e+01,  2.5460e+03,  4.2900e+02,\n",
              "         1.6830e+03,  4.0800e+02,  4.7426e+00,  1.6060e+05]),\n",
              " array([-1.1707e+02,  3.3130e+01,  3.3000e+01,  5.5500e+02,  1.6500e+02,\n",
              "         6.1200e+02,  1.7600e+02,  2.1786e+00,  1.3750e+05]),\n",
              " array([-1.1707e+02,  3.3130e+01,  1.7000e+01,  6.8170e+03,  1.6320e+03,\n",
              "         4.5260e+03,  1.4740e+03,  2.6152e+00,  1.3530e+05]),\n",
              " array([-1.1707e+02,  3.3120e+01,  3.2000e+01,  2.4740e+03,  4.9900e+02,\n",
              "         1.2240e+03,  4.6100e+02,  2.7216e+00,  1.4630e+05]),\n",
              " array([-1.1707e+02,  3.3120e+01,  2.1000e+01,  4.5780e+03,  9.2700e+02,\n",
              "         2.8180e+03,  9.0000e+02,  3.1458e+00,  1.8770e+05]),\n",
              " array([-1.1707e+02,  3.3120e+01,  1.2000e+01,  2.4530e+03,  5.9900e+02,\n",
              "         1.2510e+03,  5.2900e+02,  2.4122e+00,  1.2700e+05]),\n",
              " array([-1.1707e+02,  3.3110e+01,  3.1000e+01,  2.0550e+03,  4.7300e+02,\n",
              "         1.3260e+03,  4.2700e+02,  3.0915e+00,  1.3990e+05]),\n",
              " array([-1.1707e+02,  3.3110e+01,  1.7000e+01,  5.5650e+03,  1.2370e+03,\n",
              "         3.0040e+03,  1.1390e+03,  3.0054e+00,  1.4230e+05]),\n",
              " array([-1.1707e+02,  3.3070e+01,  8.0000e+00,  2.7560e+03,  3.4300e+02,\n",
              "         1.0450e+03,  3.4000e+02,  8.5957e+00,  4.4410e+05]),\n",
              " array([-1.1707e+02,  3.3040e+01,  4.0000e+00,  2.2710e+03,  5.7800e+02,\n",
              "         9.2600e+02,  3.9100e+02,  3.6437e+00,  2.1010e+05]),\n",
              " array([-1.1707e+02,  3.3030e+01,  1.5000e+01,  1.0950e+03,  1.5800e+02,\n",
              "         3.6100e+02,  1.7600e+02,  6.8099e+00,  3.2820e+05]),\n",
              " array([-1.1707e+02,  3.3030e+01,  1.4000e+01,  6.6650e+03,  1.2310e+03,\n",
              "         2.0260e+03,  1.0010e+03,  5.0900e+00,  2.6850e+05]),\n",
              " array([-1.1707e+02,  3.3020e+01,  1.7000e+01,  2.8630e+03,  6.6500e+02,\n",
              "         7.1500e+02,  4.6700e+02,  2.6048e+00,  1.4820e+05]),\n",
              " array([-1.1707e+02,  3.3010e+01,  5.0000e+00,  5.8700e+03,  9.7700e+02,\n",
              "         1.9170e+03,  8.4200e+02,  5.1998e+00,  2.9410e+05]),\n",
              " array([-1.1707e+02,  3.3010e+01,  2.5000e+01,  2.1200e+03,  3.8100e+02,\n",
              "         5.8800e+02,  3.5900e+02,  3.1187e+00,  1.6940e+05]),\n",
              " array([-1.1707e+02,  3.3000e+01,  4.0000e+00,  9.1530e+03,  1.8660e+03,\n",
              "         3.7750e+03,  1.6980e+03,  4.9550e+00,  2.4150e+05]),\n",
              " array([-1.1707e+02,  3.3000e+01,  4.0000e+00,  6.2420e+03,  1.2580e+03,\n",
              "         2.2110e+03,  1.1160e+03,  4.2500e+00,  2.8160e+05]),\n",
              " array([-1.17070e+02,  3.29100e+01,  5.00000e+00,  2.23400e+03,\n",
              "         2.56000e+02,  8.94000e+02,  2.53000e+02,  1.03354e+01,\n",
              "         4.77600e+05]),\n",
              " array([-1.1707e+02,  3.2800e+01,  3.6000e+01,  2.0280e+03,  3.4900e+02,\n",
              "         8.2000e+02,  3.5200e+02,  3.9828e+00,  1.6890e+05]),\n",
              " array([-1.1707e+02,  3.2800e+01,  3.1000e+01,  2.5500e+03,  3.9500e+02,\n",
              "         1.0170e+03,  4.0500e+02,  5.1488e+00,  1.8100e+05]),\n",
              " array([-1.1707e+02,  3.2800e+01,  2.3000e+01,  2.6980e+03,  4.1000e+02,\n",
              "         1.0940e+03,  4.1100e+02,  5.1782e+00,  1.9510e+05]),\n",
              " array([-1.1707e+02,  3.2780e+01,  2.6000e+01,  3.7250e+03,  6.2300e+02,\n",
              "         1.5160e+03,  6.2700e+02,  4.7143e+00,  2.6830e+05]),\n",
              " array([-1.1707e+02,  3.2780e+01,  2.2000e+01,  9.2200e+02,  2.4000e+02,\n",
              "         1.5240e+03,  2.3500e+02,  1.6815e+00,  2.1880e+05]),\n",
              " array([-1.1707e+02,  3.2770e+01,  3.8000e+01,  3.7790e+03,  6.1400e+02,\n",
              "         1.4950e+03,  6.1400e+02,  4.3529e+00,  1.8400e+05]),\n",
              " array([-1.1707e+02,  3.2770e+01,  3.8000e+01,  1.1300e+03,  2.2800e+02,\n",
              "         6.9900e+02,  2.4100e+02,  2.6500e+00,  1.6760e+05]),\n",
              " array([-1.1707e+02,  3.2770e+01,  3.4000e+01,  2.2450e+03,  3.9400e+02,\n",
              "         1.8490e+03,  4.2900e+02,  3.5446e+00,  1.8550e+05]),\n",
              " array([-1.1707e+02,  3.2760e+01,  4.2000e+01,  1.8270e+03,  3.7800e+02,\n",
              "         8.8000e+02,  3.8000e+02,  2.5125e+00,  1.7660e+05]),\n",
              " array([-1.1707e+02,  3.2760e+01,  1.4000e+01,  2.5230e+03,  5.4500e+02,\n",
              "         1.2970e+03,  5.2500e+02,  2.3886e+00,  1.3810e+05]),\n",
              " array([-1.1707e+02,  3.2750e+01,  9.0000e+00,  3.4640e+03,  7.4900e+02,\n",
              "         1.6870e+03,  6.4500e+02,  3.3026e+00,  1.1910e+05]),\n",
              " array([-1.1707e+02,  3.2750e+01,  3.7000e+01,  2.6900e+03,  5.4900e+02,\n",
              "         1.2190e+03,  5.2400e+02,  2.3148e+00,  1.5420e+05]),\n",
              " array([-1.1707e+02,  3.2750e+01,  3.1000e+01,  2.0360e+03,  5.0100e+02,\n",
              "         1.2630e+03,  4.4200e+02,  2.5583e+00,  1.2070e+05]),\n",
              " array([-1.1707e+02,  3.2750e+01,  1.4000e+01,  3.0730e+03,  8.5100e+02,\n",
              "         2.0000e+03,  7.8200e+02,  2.3824e+00,  1.4470e+05]),\n",
              " array([-1.1707e+02,  3.2740e+01,  3.7000e+01,  1.0420e+03,  2.0500e+02,\n",
              "         5.8900e+02,  2.0800e+02,  2.6629e+00,  1.1690e+05]),\n",
              " array([-1.1707e+02,  3.2730e+01,  1.8000e+01,  2.9680e+03,  6.5600e+02,\n",
              "         1.1490e+03,  5.8100e+02,  2.6452e+00,  1.5420e+05]),\n",
              " array([-1.1707e+02,  3.2720e+01,  1.8000e+01,  1.7580e+03,  2.8600e+02,\n",
              "         9.8700e+02,  2.7700e+02,  4.6875e+00,  1.4180e+05]),\n",
              " array([-1.1707e+02,  3.2710e+01,  3.9000e+01,  2.7540e+03,  6.5200e+02,\n",
              "         2.2630e+03,  6.1900e+02,  2.2454e+00,  8.9600e+04]),\n",
              " array([-1.1707e+02,  3.2710e+01,  3.6000e+01,  2.4480e+03,  4.7500e+02,\n",
              "         1.2680e+03,  4.5000e+02,  2.5682e+00,  1.0910e+05]),\n",
              " array([-1.1707e+02,  3.2710e+01,  2.6000e+01,  4.1510e+03,  8.2300e+02,\n",
              "         2.8220e+03,  6.9700e+02,  2.8372e+00,  1.2340e+05]),\n",
              " array([-1.1707e+02,  3.2700e+01,  1.4000e+01,  2.7630e+03,  4.5600e+02,\n",
              "         1.9140e+03,  4.6500e+02,  4.1645e+00,  1.4300e+05]),\n",
              " array([-1.1707e+02,  3.2690e+01,  2.9000e+01,  1.4290e+03,  2.9300e+02,\n",
              "         1.0910e+03,  3.1700e+02,  3.4609e+00,  1.1800e+05]),\n",
              " array([-1.1707e+02,  3.2690e+01,  2.8000e+01,  1.4850e+03,  2.7500e+02,\n",
              "         8.2000e+02,  2.8300e+02,  4.0690e+00,  1.5330e+05]),\n",
              " array([-1.1707e+02,  3.2690e+01,  2.0000e+01,  2.1920e+03,  4.0600e+02,\n",
              "         1.7660e+03,  3.9300e+02,  4.0921e+00,  1.3500e+05]),\n",
              " array([-1.1707e+02,  3.2680e+01,  1.8000e+01,  1.4750e+03,  2.6700e+02,\n",
              "         1.1490e+03,  2.6800e+02,  5.0827e+00,  1.4220e+05]),\n",
              " array([-1.1707e+02,  3.2670e+01,  3.5000e+01,  3.2000e+03,  7.2500e+02,\n",
              "         1.7230e+03,  6.1000e+02,  1.8977e+00,  9.5600e+04]),\n",
              " array([-1.1707e+02,  3.2670e+01,  2.8000e+01,  2.7580e+03,  6.2300e+02,\n",
              "         2.1790e+03,  6.3100e+02,  2.3814e+00,  1.1230e+05]),\n",
              " array([-1.1707e+02,  3.2650e+01,  1.2000e+01,  4.1310e+03,  8.9100e+02,\n",
              "         2.2720e+03,  8.4000e+02,  3.4701e+00,  2.0490e+05]),\n",
              " array([-1.1707e+02,  3.2640e+01,  3.8000e+01,  1.4860e+03,  2.6900e+02,\n",
              "         7.4500e+02,  2.9500e+02,  4.6477e+00,  1.5040e+05]),\n",
              " array([-1.1707e+02,  3.2640e+01,  3.2000e+01,  5.1350e+03,  1.0250e+03,\n",
              "         2.1520e+03,  9.4400e+02,  4.1325e+00,  1.7280e+05]),\n",
              " array([-1.1707e+02,  3.2640e+01,  3.0000e+01,  2.8730e+03,  7.7400e+02,\n",
              "         1.5930e+03,  7.3100e+02,  2.2400e+00,  1.2950e+05]),\n",
              " array([-1.1707e+02,  3.2630e+01,  4.0000e+01,  1.7060e+03,  3.2200e+02,\n",
              "         7.9600e+02,  3.0300e+02,  3.5583e+00,  1.5490e+05]),\n",
              " array([-1.1707e+02,  3.2630e+01,  3.7000e+01,  2.3720e+03,  4.4400e+02,\n",
              "         1.0560e+03,  4.1900e+02,  3.7583e+00,  1.4550e+05]),\n",
              " array([-1.1707e+02,  3.2630e+01,  3.7000e+01,  2.3030e+03,  3.7900e+02,\n",
              "         1.0260e+03,  3.5700e+02,  3.4550e+00,  1.5690e+05]),\n",
              " array([-1.1707e+02,  3.2620e+01,  1.9000e+01,  5.0160e+03,  1.1730e+03,\n",
              "         2.7500e+03,  1.0810e+03,  2.7838e+00,  1.5590e+05]),\n",
              " array([-1.1707e+02,  3.2610e+01,  2.2000e+01,  5.0160e+03,  1.3310e+03,\n",
              "         3.2220e+03,  1.1960e+03,  2.1441e+00,  1.3550e+05]),\n",
              " array([-1.1707e+02,  3.2610e+01,  1.0000e+01,  1.6860e+03,  4.1400e+02,\n",
              "         1.0000e+03,  3.9100e+02,  2.1765e+00,  1.2840e+05]),\n",
              " array([-1.1707e+02,  3.2600e+01,  1.8000e+01,  2.6020e+03,  5.5100e+02,\n",
              "         1.0420e+03,  5.5000e+02,  1.9267e+00,  6.7500e+04]),\n",
              " array([-1.1707e+02,  3.2590e+01,  2.1000e+01,  1.7790e+03,  4.6600e+02,\n",
              "         1.3270e+03,  4.8800e+02,  1.6007e+00,  9.6200e+04]),\n",
              " array([-1.1707e+02,  3.2570e+01,  1.7000e+01,  2.9610e+03,  6.3400e+02,\n",
              "         1.9110e+03,  6.1500e+02,  2.5859e+00,  1.3140e+05]),\n",
              " array([-1.1707e+02,  3.2570e+01,  1.4000e+01,  1.5270e+03,  3.5700e+02,\n",
              "         1.2240e+03,  3.6300e+02,  2.7361e+00,  9.3600e+04]),\n",
              " array([-1.1707e+02,  3.2560e+01,  9.0000e+00,  3.6480e+03,  8.9500e+02,\n",
              "         3.2930e+03,  8.4000e+02,  3.0992e+00,  1.4260e+05]),\n",
              " array([-1.1708e+02,  3.4960e+01,  2.8000e+01,  1.7770e+03,  3.0700e+02,\n",
              "         7.2100e+02,  2.5900e+02,  3.6343e+00,  7.9800e+04]),\n",
              " array([-1.17080e+02,  3.40800e+01,  3.40000e+01,  4.50000e+01,\n",
              "         1.10000e+01,  3.90000e+01,  1.40000e+01,  3.06250e+00,\n",
              "         5.00001e+05]),\n",
              " array([-1.1708e+02,  3.4030e+01,  2.3000e+01,  3.8620e+03,  6.9900e+02,\n",
              "         2.0820e+03,  6.5200e+02,  3.1540e+00,  1.1570e+05]),\n",
              " array([-1.1708e+02,  3.4020e+01,  2.0000e+01,  3.1110e+03,  5.6300e+02,\n",
              "         1.4530e+03,  5.3800e+02,  3.3365e+00,  1.2280e+05]),\n",
              " array([-1.1708e+02,  3.3820e+01,  6.0000e+00,  1.7710e+03,  2.9300e+02,\n",
              "         9.3500e+02,  2.7900e+02,  4.0650e+00,  1.4820e+05]),\n",
              " array([-1.1708e+02,  3.3230e+01,  1.4000e+01,  3.3370e+03,  5.7100e+02,\n",
              "         1.3850e+03,  5.1200e+02,  4.1500e+00,  2.7220e+05]),\n",
              " array([-1.1708e+02,  3.3140e+01,  1.9000e+01,  2.6290e+03,  4.9400e+02,\n",
              "         1.4440e+03,  5.0300e+02,  3.5462e+00,  1.5680e+05]),\n",
              " array([-1.1708e+02,  3.3140e+01,  1.5000e+01,  1.4970e+03,  2.5000e+02,\n",
              "         8.2700e+02,  2.3900e+02,  4.3846e+00,  1.5420e+05]),\n",
              " array([-1.1708e+02,  3.3140e+01,  1.1000e+01,  1.4300e+03,  2.9200e+02,\n",
              "         9.2100e+02,  2.9400e+02,  4.2357e+00,  1.6090e+05]),\n",
              " array([-1.1708e+02,  3.3130e+01,  1.7000e+01,  8.4660e+03,  2.6280e+03,\n",
              "         7.0140e+03,  2.2670e+03,  2.1437e+00,  1.1370e+05]),\n",
              " array([-1.1708e+02,  3.3120e+01,  3.7000e+01,  1.0600e+03,  2.6800e+02,\n",
              "         8.2300e+02,  2.2900e+02,  1.8363e+00,  1.4550e+05]),\n",
              " array([-1.1708e+02,  3.3120e+01,  3.3000e+01,  6.7400e+02,  2.0800e+02,\n",
              "         5.6500e+02,  1.8800e+02,  1.8750e+00,  1.1430e+05]),\n",
              " array([-1.1708e+02,  3.3110e+01,  3.1000e+01,  1.8320e+03,  4.4400e+02,\n",
              "         1.6690e+03,  4.6300e+02,  2.2146e+00,  1.1670e+05]),\n",
              " array([-1.1708e+02,  3.3110e+01,  3.1000e+01,  1.3560e+03,  3.2400e+02,\n",
              "         1.3010e+03,  3.3100e+02,  2.5331e+00,  1.1510e+05]),\n",
              " array([-1.1708e+02,  3.3110e+01,  2.8000e+01,  2.0940e+03,  5.8500e+02,\n",
              "         1.5560e+03,  5.6300e+02,  2.2000e+00,  1.2770e+05]),\n",
              " array([-1.1708e+02,  3.3090e+01,  2.3000e+01,  3.7920e+03,  6.2400e+02,\n",
              "         1.9880e+03,  6.5800e+02,  4.7566e+00,  1.7830e+05]),\n",
              " array([-1.1708e+02,  3.3080e+01,  2.3000e+01,  3.4000e+03,  5.0100e+02,\n",
              "         1.3830e+03,  4.8800e+02,  4.9844e+00,  2.4910e+05]),\n",
              " array([-1.1708e+02,  3.3040e+01,  1.0000e+01,  2.5770e+03,  3.4700e+02,\n",
              "         1.1930e+03,  3.6500e+02,  6.5300e+00,  2.6410e+05]),\n",
              " array([-1.1708e+02,  3.3030e+01,  1.8000e+01,  1.3390e+03,  2.8400e+02,\n",
              "         7.6100e+02,  2.9000e+02,  5.3074e+00,  1.3720e+05]),\n",
              " array([-1.1708e+02,  3.3030e+01,  1.7000e+01,  9.8700e+02,  1.4200e+02,\n",
              "         4.6300e+02,  1.5200e+02,  5.8747e+00,  2.2930e+05]),\n",
              " array([-1.1708e+02,  3.3030e+01,  1.5000e+01,  3.0230e+03,  6.2300e+02,\n",
              "         1.2830e+03,  5.5900e+02,  3.3724e+00,  1.3790e+05]),\n",
              " array([-1.1708e+02,  3.3030e+01,  1.0000e+01,  2.2960e+03,  4.5000e+02,\n",
              "         8.1800e+02,  4.0500e+02,  4.3424e+00,  1.6060e+05]),\n",
              " array([-1.1708e+02,  3.3010e+01,  5.0000e+00,  5.6590e+03,  9.3100e+02,\n",
              "         2.5650e+03,  9.0200e+02,  6.1949e+00,  2.3870e+05]),\n",
              " array([-1.1708e+02,  3.2970e+01,  3.0000e+00,  1.7466e+04,  3.3360e+03,\n",
              "         7.6440e+03,  2.8950e+03,  5.4584e+00,  2.4650e+05]),\n",
              " array([-1.1708e+02,  3.2930e+01,  5.0000e+00,  1.4944e+04,  2.4900e+03,\n",
              "         6.6000e+03,  2.4070e+03,  6.0857e+00,  3.0830e+05]),\n",
              " array([-1.1708e+02,  3.2910e+01,  9.0000e+00,  1.5470e+03,  2.1800e+02,\n",
              "         6.8300e+02,  2.3100e+02,  7.5604e+00,  3.2790e+05]),\n",
              " array([-1.1708e+02,  3.2910e+01,  1.6000e+01,  1.6530e+03,  2.2800e+02,\n",
              "         6.9000e+02,  2.2400e+02,  6.5853e+00,  2.4840e+05]),\n",
              " array([-1.1708e+02,  3.2830e+01,  7.0000e+00,  1.3703e+04,  2.3520e+03,\n",
              "         4.4460e+03,  1.8560e+03,  6.4335e+00,  2.6060e+05]),\n",
              " array([-1.1708e+02,  3.2820e+01,  1.0000e+01,  5.1770e+03,  8.5600e+02,\n",
              "         2.1900e+03,  8.1600e+02,  5.9734e+00,  2.7170e+05]),\n",
              " array([-1.1708e+02,  3.2800e+01,  2.5000e+01,  2.9630e+03,  5.5200e+02,\n",
              "         1.1620e+03,  5.5600e+02,  3.6250e+00,  1.8450e+05]),\n",
              " array([-1.1708e+02,  3.2780e+01,  2.1000e+01,  2.9190e+03,  4.9600e+02,\n",
              "         9.8400e+02,  4.4300e+02,  4.6250e+00,  2.2280e+05]),\n",
              " array([-1.1708e+02,  3.2770e+01,  3.1000e+01,  1.0700e+03,  1.5500e+02,\n",
              "         4.2600e+02,  1.5300e+02,  6.1628e+00,  2.1920e+05]),\n",
              " array([-1.1708e+02,  3.2770e+01,  2.5000e+01,  3.9110e+03,  8.4900e+02,\n",
              "         1.5800e+03,  7.6700e+02,  2.7778e+00,  1.8410e+05]),\n",
              " array([-1.1708e+02,  3.2760e+01,  2.7000e+01,  1.2210e+03,  2.5400e+02,\n",
              "         6.0600e+02,  2.5900e+02,  3.0833e+00,  1.5540e+05]),\n",
              " array([-1.1708e+02,  3.2760e+01,  2.0000e+01,  2.5470e+03,  7.8500e+02,\n",
              "         1.1990e+03,  6.4300e+02,  1.7743e+00,  1.4030e+05]),\n",
              " array([-1.1708e+02,  3.2760e+01,  1.8000e+01,  1.7040e+03,  5.9600e+02,\n",
              "         1.6390e+03,  5.4800e+02,  1.7391e+00,  1.2500e+05]),\n",
              " array([-1.1708e+02,  3.2750e+01,  2.0000e+01,  1.9890e+03,  5.0800e+02,\n",
              "         1.4520e+03,  4.6200e+02,  2.0077e+00,  1.1830e+05]),\n",
              " array([-1.1708e+02,  3.2750e+01,  1.6000e+01,  1.1110e+03,  3.2800e+02,\n",
              "         9.3000e+02,  3.0300e+02,  1.2347e+00,  1.2810e+05]),\n",
              " array([-1.1708e+02,  3.2750e+01,  1.5000e+01,  1.8210e+03,  5.1600e+02,\n",
              "         1.3850e+03,  4.3900e+02,  2.5101e+00,  9.5300e+04]),\n",
              " array([-1.1708e+02,  3.2740e+01,  3.3000e+01,  3.2600e+03,  6.7300e+02,\n",
              "         1.7840e+03,  6.6600e+02,  3.5078e+00,  1.2650e+05]),\n",
              " array([-1.1708e+02,  3.2740e+01,  2.6000e+01,  2.3590e+03,  6.2200e+02,\n",
              "         2.0670e+03,  5.8100e+02,  1.8103e+00,  1.2470e+05]),\n",
              " array([-1.1708e+02,  3.2730e+01,  3.6000e+01,  3.3310e+03,  6.4300e+02,\n",
              "         1.9030e+03,  6.2200e+02,  3.6974e+00,  1.2200e+05]),\n",
              " array([-1.1708e+02,  3.2730e+01,  3.6000e+01,  1.1580e+03,  2.1800e+02,\n",
              "         6.1900e+02,  2.3300e+02,  3.6125e+00,  1.2250e+05]),\n",
              " array([-1.1708e+02,  3.2730e+01,  1.9000e+01,  2.9350e+03,  7.6300e+02,\n",
              "         1.9530e+03,  7.2000e+02,  1.4254e+00,  1.1130e+05]),\n",
              " array([-1.1708e+02,  3.2710e+01,  2.7000e+01,  2.2040e+03,  5.9800e+02,\n",
              "         1.6560e+03,  5.2100e+02,  1.4821e+00,  8.6200e+04]),\n",
              " array([-1.1708e+02,  3.2700e+01,  3.7000e+01,  2.1760e+03,  4.1800e+02,\n",
              "         1.3010e+03,  3.7500e+02,  2.8750e+00,  9.8900e+04]),\n",
              " array([-1.1708e+02,  3.2700e+01,  3.6000e+01,  2.1030e+03,  3.9000e+02,\n",
              "         1.2790e+03,  3.9200e+02,  2.4135e+00,  9.7000e+04]),\n",
              " array([-1.1708e+02,  3.2690e+01,  3.6000e+01,  1.5710e+03,  2.8400e+02,\n",
              "         1.0010e+03,  2.6800e+02,  3.6875e+00,  1.1140e+05]),\n",
              " array([-1.1708e+02,  3.2690e+01,  3.1000e+01,  2.5580e+03,  4.8700e+02,\n",
              "         1.9380e+03,  4.9200e+02,  3.4875e+00,  1.1700e+05]),\n",
              " array([-1.1708e+02,  3.2680e+01,  2.6000e+01,  3.0710e+03,  6.1500e+02,\n",
              "         2.1560e+03,  5.6800e+02,  2.9318e+00,  1.1240e+05]),\n",
              " array([-1.1708e+02,  3.2680e+01,  1.9000e+01,  3.6350e+03,  1.0780e+03,\n",
              "         3.1270e+03,  1.0980e+03,  1.3240e+00,  1.2260e+05]),\n",
              " array([-1.1708e+02,  3.2670e+01,  3.1000e+01,  3.0080e+03,  7.6400e+02,\n",
              "         2.0880e+03,  7.5700e+02,  2.5662e+00,  1.1820e+05]),\n",
              " array([-1.1708e+02,  3.2660e+01,  4.3000e+01,  1.0040e+03,  2.3600e+02,\n",
              "         8.3900e+02,  2.3500e+02,  2.8100e+00,  1.0340e+05]),\n",
              " array([-1.1708e+02,  3.2650e+01,  2.8000e+01,  2.2960e+03,  6.0300e+02,\n",
              "         1.2770e+03,  5.5000e+02,  2.3562e+00,  1.2380e+05]),\n",
              " array([-1.1708e+02,  3.2650e+01,  1.7000e+01,  2.6330e+03,  7.1200e+02,\n",
              "         1.4870e+03,  6.9400e+02,  2.5392e+00,  1.4700e+05]),\n",
              " array([-1.1708e+02,  3.2640e+01,  3.8000e+01,  9.1700e+02,  2.5600e+02,\n",
              "         4.9400e+02,  2.3300e+02,  1.9241e+00,  1.5000e+05]),\n",
              " array([-1.1708e+02,  3.2640e+01,  1.1000e+01,  1.6510e+03,  5.3300e+02,\n",
              "         9.4700e+02,  5.1500e+02,  1.6806e+00,  1.4170e+05]),\n",
              " array([-1.1708e+02,  3.2630e+01,  3.3000e+01,  2.8910e+03,  7.9300e+02,\n",
              "         1.6070e+03,  7.5400e+02,  2.1281e+00,  1.3980e+05]),\n",
              " array([-1.1708e+02,  3.2630e+01,  3.0000e+01,  2.5040e+03,  5.5900e+02,\n",
              "         1.8270e+03,  4.9000e+02,  2.6146e+00,  1.5940e+05]),\n",
              " array([-1.1708e+02,  3.2630e+01,  2.8000e+01,  2.0800e+03,  4.2700e+02,\n",
              "         1.2660e+03,  4.3400e+02,  2.2788e+00,  1.4630e+05]),\n",
              " array([-1.1708e+02,  3.2620e+01,  3.6000e+01,  1.6740e+03,  3.0900e+02,\n",
              "         8.1800e+02,  3.0700e+02,  3.4773e+00,  1.5040e+05]),\n",
              " array([-1.1708e+02,  3.2620e+01,  2.8000e+01,  2.4680e+03,  5.0600e+02,\n",
              "         1.3530e+03,  5.2200e+02,  3.0771e+00,  1.5860e+05]),\n",
              " array([-1.1708e+02,  3.2620e+01,  1.6000e+01,  5.1920e+03,  1.3810e+03,\n",
              "         3.2610e+03,  1.3210e+03,  2.2685e+00,  1.5190e+05]),\n",
              " array([-1.1708e+02,  3.2610e+01,  2.7000e+01,  2.2640e+03,  5.2500e+02,\n",
              "         1.4850e+03,  4.6800e+02,  3.3514e+00,  1.4910e+05]),\n",
              " array([-1.1708e+02,  3.2600e+01,  2.4000e+01,  1.9010e+03,  4.9000e+02,\n",
              "         1.3340e+03,  4.7600e+02,  2.2544e+00,  1.2190e+05]),\n",
              " array([-1.1708e+02,  3.2590e+01,  8.0000e+00,  2.8880e+03,  6.6200e+02,\n",
              "         2.4410e+03,  6.8300e+02,  2.7048e+00,  1.5300e+05]),\n",
              " array([-1.1708e+02,  3.2590e+01,  3.0000e+01,  1.4400e+02,  5.2000e+01,\n",
              "         2.2000e+02,  4.8000e+01,  2.3929e+00,  1.3440e+05]),\n",
              " array([-1.1708e+02,  3.2580e+01,  2.2000e+01,  2.1280e+03,  4.7700e+02,\n",
              "         1.4200e+03,  4.5000e+02,  3.2687e+00,  1.3100e+05]),\n",
              " array([-1.1708e+02,  3.2570e+01,  9.0000e+00,  6.2980e+03,  1.5120e+03,\n",
              "         4.4510e+03,  1.4560e+03,  2.5690e+00,  8.8300e+04]),\n",
              " array([-1.1709e+02,  3.4220e+01,  1.6000e+01,  1.3470e+03,  3.2700e+02,\n",
              "         2.7100e+02,  9.1000e+01,  4.0000e+00,  8.7500e+04]),\n",
              " array([-1.1709e+02,  3.4070e+01,  2.4000e+01,  6.2600e+03,  1.2710e+03,\n",
              "         3.1320e+03,  1.1890e+03,  2.5156e+00,  1.0300e+05]),\n",
              " array([-1.1709e+02,  3.3710e+01,  1.3000e+01,  1.9740e+03,  4.2600e+02,\n",
              "         1.2760e+03,  4.0800e+02,  1.9720e+00,  9.0500e+04]),\n",
              " array([-1.1709e+02,  3.3150e+01,  1.3000e+01,  3.9580e+03,  8.6500e+02,\n",
              "         1.9810e+03,  8.4000e+02,  3.4764e+00,  1.3750e+05]),\n",
              " array([-1.1709e+02,  3.3130e+01,  9.0000e+00,  5.6850e+03,  1.4420e+03,\n",
              "         3.7730e+03,  1.2500e+03,  3.0426e+00,  1.2990e+05]),\n",
              " array([-1.1709e+02,  3.3120e+01,  1.1000e+01,  5.6700e+02,  1.8400e+02,\n",
              "         6.2000e+02,  1.6300e+02,  2.5284e+00,  1.2250e+05]),\n",
              " array([-1.1709e+02,  3.3110e+01,  3.2000e+01,  1.7130e+03,  3.2100e+02,\n",
              "         8.9100e+02,  2.8600e+02,  3.1429e+00,  1.7160e+05]),\n",
              " array([-1.1709e+02,  3.3100e+01,  2.1000e+01,  2.8760e+03,  5.3900e+02,\n",
              "         1.3870e+03,  4.9900e+02,  3.8292e+00,  1.7700e+05]),\n",
              " array([-1.1709e+02,  3.2990e+01,  1.8000e+01,  3.2150e+03,  5.8800e+02,\n",
              "         1.6180e+03,  5.0900e+02,  4.6028e+00,  2.1680e+05]),\n",
              " array([-1.1709e+02,  3.2990e+01,  1.6000e+01,  2.1750e+03,  3.2700e+02,\n",
              "         1.0370e+03,  3.2600e+02,  5.1909e+00,  2.0140e+05]),\n",
              " array([-1.1709e+02,  3.2980e+01,  2.3000e+01,  1.1250e+03,  2.7300e+02,\n",
              "         6.8700e+02,  3.0800e+02,  2.3182e+00,  2.6880e+05]),\n",
              " array([-1.1709e+02,  3.2910e+01,  9.0000e+00,  2.0120e+03,  3.1600e+02,\n",
              "         8.0200e+02,  2.8900e+02,  6.5706e+00,  2.5570e+05]),\n",
              " array([-1.1709e+02,  3.2910e+01,  1.6000e+01,  2.0050e+03,  2.6600e+02,\n",
              "         8.2700e+02,  2.7000e+02,  7.0546e+00,  2.8220e+05]),\n",
              " array([-1.1709e+02,  3.2900e+01,  1.6000e+01,  1.9890e+03,  2.9000e+02,\n",
              "         8.1400e+02,  2.9100e+02,  6.2715e+00,  2.5510e+05]),\n",
              " array([-1.1709e+02,  3.2830e+01,  1.5000e+01,  4.1380e+03,  6.3600e+02,\n",
              "         2.0010e+03,  6.7700e+02,  4.8419e+00,  2.6400e+05]),\n",
              " array([-1.1709e+02,  3.2810e+01,  7.0000e+00,  6.1000e+03,  1.1850e+03,\n",
              "         2.7100e+03,  1.0400e+03,  5.5673e+00,  2.8820e+05]),\n",
              " array([-1.1709e+02,  3.2800e+01,  3.6000e+01,  2.1630e+03,  3.6700e+02,\n",
              "         9.1500e+02,  3.6000e+02,  4.7188e+00,  1.7410e+05]),\n",
              " array([-1.1709e+02,  3.2800e+01,  1.5000e+01,  6.6600e+02,  1.5200e+02,\n",
              "         2.4700e+02,  1.6400e+02,  2.1500e+00,  1.3130e+05]),\n",
              " array([-1.1709e+02,  3.2790e+01,  3.6000e+01,  1.9360e+03,  3.4500e+02,\n",
              "         8.6100e+02,  3.4300e+02,  3.8333e+00,  1.7000e+05]),\n",
              " array([-1.1709e+02,  3.2790e+01,  3.6000e+01,  1.5290e+03,  2.6600e+02,\n",
              "         6.8300e+02,  2.6000e+02,  4.0982e+00,  1.7120e+05]),\n",
              " array([-1.1709e+02,  3.2790e+01,  2.0000e+01,  2.1830e+03,  5.3400e+02,\n",
              "         9.9900e+02,  4.9600e+02,  2.8631e+00,  1.6970e+05]),\n",
              " array([-1.1709e+02,  3.2780e+01,  2.8000e+01,  1.7080e+03,  3.9300e+02,\n",
              "         8.1600e+02,  3.9300e+02,  2.9881e+00,  1.6530e+05]),\n",
              " array([-1.1709e+02,  3.2770e+01,  3.8000e+01,  2.0650e+03,  3.7400e+02,\n",
              "         8.1200e+02,  3.4300e+02,  3.1250e+00,  2.1650e+05]),\n",
              " array([-1.1709e+02,  3.2770e+01,  3.1000e+01,  3.0620e+03,  5.9600e+02,\n",
              "         1.2630e+03,  5.3900e+02,  3.0875e+00,  2.9150e+05]),\n",
              " array([-1.1709e+02,  3.2760e+01,  4.4000e+01,  1.1390e+03,  2.1400e+02,\n",
              "         4.7000e+02,  2.1700e+02,  3.5481e+00,  2.0310e+05]),\n",
              " array([-1.1709e+02,  3.2760e+01,  4.3000e+01,  3.8890e+03,  7.1100e+02,\n",
              "         1.4660e+03,  6.6300e+02,  3.5529e+00,  2.2300e+05]),\n",
              " array([-1.1709e+02,  3.2760e+01,  3.1000e+01,  2.5670e+03,  6.2400e+02,\n",
              "         1.2550e+03,  5.8200e+02,  2.5909e+00,  1.5910e+05]),\n",
              " array([-1.1709e+02,  3.2760e+01,  3.1000e+01,  1.2350e+03,  3.8700e+02,\n",
              "         8.1600e+02,  3.9700e+02,  1.5517e+00,  1.2250e+05]),\n",
              " array([-1.1709e+02,  3.2760e+01,  1.0000e+01,  1.9220e+03,  5.7700e+02,\n",
              "         1.5950e+03,  5.4500e+02,  1.5208e+00,  1.1880e+05]),\n",
              " array([-1.1709e+02,  3.2750e+01,  3.0000e+01,  1.8990e+03,  5.4600e+02,\n",
              "         1.6200e+03,  4.9300e+02,  1.6034e+00,  8.4400e+04]),\n",
              " array([-1.1709e+02,  3.2750e+01,  2.8000e+01,  1.2200e+03,  3.9100e+02,\n",
              "         1.2860e+03,  3.9600e+02,  1.2286e+00,  1.0500e+05]),\n",
              " array([-1.1709e+02,  3.2750e+01,  2.4000e+01,  1.2450e+03,  3.7600e+02,\n",
              "         1.2300e+03,  3.6200e+02,  1.8750e+00,  9.5000e+04]),\n",
              " array([-1.1709e+02,  3.2750e+01,  2.0000e+01,  1.7010e+03,  5.0300e+02,\n",
              "         1.4820e+03,  4.6500e+02,  1.6789e+00,  9.5500e+04]),\n",
              " array([-1.1709e+02,  3.2740e+01,  2.3000e+01,  3.1300e+03,  7.7900e+02,\n",
              "         2.4720e+03,  7.4400e+02,  2.3200e+00,  9.3200e+04]),\n",
              " array([-1.1709e+02,  3.2730e+01,  2.6000e+01,  3.1140e+03,  6.8600e+02,\n",
              "         1.9480e+03,  6.6000e+02,  2.8942e+00,  1.2410e+05]),\n",
              " array([-1.1709e+02,  3.2720e+01,  3.9000e+01,  1.2730e+03,  2.4600e+02,\n",
              "         7.7000e+02,  2.4200e+02,  2.0938e+00,  1.0250e+05]),\n",
              " array([-1.1709e+02,  3.2720e+01,  3.3000e+01,  1.0960e+03,  2.4000e+02,\n",
              "         7.1600e+02,  2.2400e+02,  1.6944e+00,  1.1180e+05]),\n",
              " array([-1.1709e+02,  3.2710e+01,  2.9000e+01,  2.2380e+03,  5.2300e+02,\n",
              "         2.0610e+03,  5.0400e+02,  2.5559e+00,  9.6800e+04]),\n",
              " array([-1.1709e+02,  3.2710e+01,  1.2000e+01,  3.3750e+03,  9.4500e+02,\n",
              "         2.3570e+03,  8.0800e+02,  1.5000e+00,  1.0630e+05]),\n",
              " array([-1.1709e+02,  3.2700e+01,  2.2000e+01,  2.4090e+03,  5.8200e+02,\n",
              "         1.8870e+03,  5.7800e+02,  1.4089e+00,  9.4200e+04]),\n",
              " array([-1.1709e+02,  3.2690e+01,  2.0000e+01,  1.1020e+03,  2.0500e+02,\n",
              "         8.5200e+02,  2.1700e+02,  3.1833e+00,  1.0830e+05]),\n",
              " array([-1.1709e+02,  3.2690e+01,  1.8000e+01,  1.6450e+03,  4.3000e+02,\n",
              "         1.2210e+03,  4.1000e+02,  1.3269e+00,  1.0800e+05]),\n",
              " array([-1.1709e+02,  3.2680e+01,  3.0000e+01,  2.6620e+03,  6.5300e+02,\n",
              "         1.9970e+03,  6.0500e+02,  2.8089e+00,  1.2060e+05]),\n",
              " array([-1.1709e+02,  3.2680e+01,  2.9000e+01,  1.7920e+03,  4.4900e+02,\n",
              "         1.6500e+03,  3.9600e+02,  2.2201e+00,  1.0000e+05]),\n",
              " array([-1.1709e+02,  3.2680e+01,  2.0000e+01,  2.5690e+03,  7.3700e+02,\n",
              "         2.3410e+03,  7.0500e+02,  2.0114e+00,  1.0490e+05]),\n",
              " array([-1.1709e+02,  3.2670e+01,  3.7000e+01,  1.1570e+03,  3.3200e+02,\n",
              "         9.8300e+02,  3.0600e+02,  2.0972e+00,  1.1700e+05]),\n",
              " array([-1.1709e+02,  3.2670e+01,  3.1000e+01,  2.0510e+03,  5.4900e+02,\n",
              "         1.5810e+03,  5.3800e+02,  2.0520e+00,  1.0890e+05]),\n",
              " array([-1.1709e+02,  3.2660e+01,  4.6000e+01,  8.4400e+02,  1.4700e+02,\n",
              "         4.2300e+02,  1.6100e+02,  3.3750e+00,  1.3630e+05]),\n",
              " array([-1.1709e+02,  3.2660e+01,  3.8000e+01,  8.3300e+02,  2.0600e+02,\n",
              "         5.7000e+02,  1.8200e+02,  1.8333e+00,  1.2710e+05]),\n",
              " array([-1.1709e+02,  3.2650e+01,  2.5000e+01,  3.5090e+03,  9.8500e+02,\n",
              "         2.3590e+03,  8.9900e+02,  2.6296e+00,  1.5000e+05]),\n",
              " array([-1.1709e+02,  3.2650e+01,  2.0000e+01,  1.4450e+03,  3.2300e+02,\n",
              "         5.7300e+02,  3.3400e+02,  2.6190e+00,  1.4580e+05]),\n",
              " array([-1.1709e+02,  3.2640e+01,  3.8000e+01,  2.0950e+03,  5.3600e+02,\n",
              "         1.2400e+03,  5.5000e+02,  2.7218e+00,  1.4590e+05]),\n",
              " array([-1.1709e+02,  3.2640e+01,  3.0000e+01,  3.1710e+03,  8.6200e+02,\n",
              "         2.1260e+03,  8.0000e+02,  2.5070e+00,  1.4270e+05]),\n",
              " array([-1.1709e+02,  3.2640e+01,  2.4000e+01,  3.6130e+03,  9.7300e+02,\n",
              "         2.0020e+03,  9.3100e+02,  1.9470e+00,  1.4750e+05]),\n",
              " array([-1.1709e+02,  3.2640e+01,  2.0000e+01,  1.9990e+03,  6.5100e+02,\n",
              "         1.3020e+03,  5.9200e+02,  1.6321e+00,  5.7500e+04]),\n",
              " array([-1.1709e+02,  3.2630e+01,  3.3000e+01,  6.2000e+02,  1.6100e+02,\n",
              "         4.2000e+02,  1.6400e+02,  1.8417e+00,  1.5000e+05]),\n",
              " array([-1.1709e+02,  3.2630e+01,  2.7000e+01,  2.9200e+03,  7.7000e+02,\n",
              "         1.9350e+03,  7.4600e+02,  2.4148e+00,  6.7500e+04]),\n",
              " array([-1.1709e+02,  3.2620e+01,  3.7000e+01,  1.9250e+03,  4.2800e+02,\n",
              "         1.3440e+03,  4.2600e+02,  2.4866e+00,  1.2970e+05]),\n",
              " array([-1.1709e+02,  3.2620e+01,  3.4000e+01,  1.5760e+03,  3.6400e+02,\n",
              "         1.1530e+03,  3.8100e+02,  2.1955e+00,  1.2970e+05]),\n",
              " array([-1.1709e+02,  3.2610e+01,  2.3000e+01,  1.1570e+03,  3.0900e+02,\n",
              "         6.4000e+02,  3.1300e+02,  2.1548e+00,  1.1880e+05]),\n",
              " array([-1.1709e+02,  3.2610e+01,  2.1000e+01,  1.9450e+03,  4.3000e+02,\n",
              "         1.3350e+03,  4.1900e+02,  3.6467e+00,  1.1300e+05]),\n",
              " array([-1.1709e+02,  3.2580e+01,  1.2000e+01,  2.5650e+03,  5.6700e+02,\n",
              "         1.7850e+03,  5.4500e+02,  3.0273e+00,  1.3530e+05]),\n",
              " array([-1.1709e+02,  3.2570e+01,  2.3000e+01,  1.8170e+03,  3.2300e+02,\n",
              "         1.3710e+03,  3.2700e+02,  3.6736e+00,  1.3950e+05]),\n",
              " array([-1.1709e+02,  3.2570e+01,  1.7000e+01,  4.4400e+02,  8.3000e+01,\n",
              "         3.5700e+02,  8.7000e+01,  5.1478e+00,  1.3890e+05]),\n",
              " array([-1.1709e+02,  3.2570e+01,  1.0000e+01,  2.1980e+03,  3.6800e+02,\n",
              "         1.6450e+03,  3.5000e+02,  4.5547e+00,  1.6070e+05]),\n",
              " array([-1.1709e+02,  3.2550e+01,  8.0000e+00,  6.5330e+03,  1.2170e+03,\n",
              "         4.7970e+03,  1.1770e+03,  3.9583e+00,  1.4440e+05]),\n",
              " array([-1.1710e+02,  3.4570e+01,  6.0000e+00,  5.1100e+03,  1.0440e+03,\n",
              "         1.9380e+03,  7.2400e+02,  3.1917e+00,  1.1280e+05]),\n",
              " array([-1.1710e+02,  3.4210e+01,  2.2000e+01,  4.3970e+03,  9.3100e+02,\n",
              "         1.1450e+03,  4.4500e+02,  4.5268e+00,  1.0840e+05]),\n",
              " array([-1.1710e+02,  3.4030e+01,  2.4000e+01,  4.1440e+03,  8.2600e+02,\n",
              "         2.1270e+03,  7.7200e+02,  2.5172e+00,  9.6000e+04]),\n",
              " ...]"
            ]
          },
          "metadata": {},
          "execution_count": 116
        }
      ]
    },
    {
      "cell_type": "markdown",
      "source": [
        "SAVING & LOADING NUMPY OBJECTS"
      ],
      "metadata": {
        "id": "6E18-ln3eDz_"
      }
    },
    {
      "cell_type": "code",
      "source": [
        "arr_15 = np.array([[1, 2], [3, 4]])"
      ],
      "metadata": {
        "id": "uLIfTcUmeXey"
      },
      "execution_count": 117,
      "outputs": []
    },
    {
      "cell_type": "code",
      "source": [
        "# Save as randarray.npy\n",
        "np.save('randarray', arr_15)"
      ],
      "metadata": {
        "id": "CFSHU_HPemW0"
      },
      "execution_count": 118,
      "outputs": []
    },
    {
      "cell_type": "code",
      "source": [
        "# Load saved array \n",
        "arr_16 = np.load('randarray.npy')\n",
        "arr_16"
      ],
      "metadata": {
        "colab": {
          "base_uri": "https://localhost:8080/"
        },
        "id": "BsS9yxi9en2-",
        "outputId": "fe98c7f0-f807-4dc2-f316-333fe02eeb2d"
      },
      "execution_count": 119,
      "outputs": [
        {
          "output_type": "execute_result",
          "data": {
            "text/plain": [
              "array([[1, 2],\n",
              "       [3, 4]])"
            ]
          },
          "metadata": {},
          "execution_count": 119
        }
      ]
    },
    {
      "cell_type": "code",
      "source": [
        "# Save as a CSV \n",
        "np.savetxt('randcsv.csv', arr_15)"
      ],
      "metadata": {
        "id": "ZfVGyRmxeug-"
      },
      "execution_count": 120,
      "outputs": []
    },
    {
      "cell_type": "code",
      "source": [
        "# Load CSV\n",
        "arr_17 = np.loadtxt('randcsv.csv')\n",
        "arr_17"
      ],
      "metadata": {
        "colab": {
          "base_uri": "https://localhost:8080/"
        },
        "id": "mM1fJXVZexqO",
        "outputId": "bb605b36-1c55-42d4-b9e7-290881f3290b"
      },
      "execution_count": 121,
      "outputs": [
        {
          "output_type": "execute_result",
          "data": {
            "text/plain": [
              "array([[1., 2.],\n",
              "       [3., 4.]])"
            ]
          },
          "metadata": {},
          "execution_count": 121
        }
      ]
    },
    {
      "cell_type": "markdown",
      "source": [
        "COMPARISON FUNCTIONS"
      ],
      "metadata": {
        "id": "1OPklB8lWLpx"
      }
    },
    {
      "cell_type": "code",
      "source": [
        "carr_1 = np.array([2, 3])\n",
        "carr_2 = np.array([3, 2])\n",
        "# Returns boolean based on whether arr_1 value Comparison arr_2 value\n",
        "np.greater(carr_1, carr_2)\n",
        "np.greater_equal(carr_1, carr_2)\n",
        "np.less(carr_1, carr_2)\n",
        "np.less_equal(carr_1, carr_2)\n",
        "np.not_equal(carr_1, carr_2)\n",
        "np.equal(carr_1, carr_2)"
      ],
      "metadata": {
        "colab": {
          "base_uri": "https://localhost:8080/"
        },
        "id": "L-heq_qXWPB6",
        "outputId": "e50b28c9-2bb8-4928-c230-db4299032cb3"
      },
      "execution_count": 122,
      "outputs": [
        {
          "output_type": "execute_result",
          "data": {
            "text/plain": [
              "array([False, False])"
            ]
          },
          "metadata": {},
          "execution_count": 122
        }
      ]
    },
    {
      "cell_type": "markdown",
      "source": [
        "TRIGONOMETRY FUNCTIONS"
      ],
      "metadata": {
        "id": "Qo4u12AvfIQg"
      }
    },
    {
      "cell_type": "code",
      "source": [
        "# Generate array of 300 values between -pi & pi\n",
        "arr_t = np.linspace(0, 2*np.pi, 300)"
      ],
      "metadata": {
        "id": "uV_3MCVOfS9S"
      },
      "execution_count": 123,
      "outputs": []
    },
    {
      "cell_type": "code",
      "source": [
        "# Plot with x axis & y axis data\n",
        "plt.plot(arr_t, np.sin(arr_t)) # SIN"
      ],
      "metadata": {
        "colab": {
          "base_uri": "https://localhost:8080/",
          "height": 447
        },
        "id": "GoAIkJajfyDM",
        "outputId": "853c45ec-3b76-488b-9995-bd84a05b49dd"
      },
      "execution_count": 124,
      "outputs": [
        {
          "output_type": "execute_result",
          "data": {
            "text/plain": [
              "[<matplotlib.lines.Line2D at 0x7fb89b335be0>]"
            ]
          },
          "metadata": {},
          "execution_count": 124
        },
        {
          "output_type": "display_data",
          "data": {
            "text/plain": [
              "<Figure size 640x480 with 1 Axes>"
            ],
            "image/png": "[encoded data removed]"
          },
          "metadata": {}
        }
      ]
    },
    {
      "cell_type": "code",
      "source": [
        "plt.plot(arr_t, np.cos(arr_t)) # COS"
      ],
      "metadata": {
        "colab": {
          "base_uri": "https://localhost:8080/",
          "height": 447
        },
        "id": "BFUYVPE4gz5J",
        "outputId": "33178322-9159-4932-f50e-f489679b3601"
      },
      "execution_count": 125,
      "outputs": [
        {
          "output_type": "execute_result",
          "data": {
            "text/plain": [
              "[<matplotlib.lines.Line2D at 0x7fb89b4bb040>]"
            ]
          },
          "metadata": {},
          "execution_count": 125
        },
        {
          "output_type": "display_data",
          "data": {
            "text/plain": [
              "<Figure size 640x480 with 1 Axes>"
            ],
            "image/png": "[encoded data removed]"
          },
          "metadata": {}
        }
      ]
    },
    {
      "cell_type": "code",
      "source": [
        "plt.plot(arr_t, np.tan(arr_t)) # TAN"
      ],
      "metadata": {
        "colab": {
          "base_uri": "https://localhost:8080/",
          "height": 447
        },
        "id": "cXoPGrGJg2XN",
        "outputId": "7fbec506-98ff-4f57-e7fd-728598a6e12e"
      },
      "execution_count": 126,
      "outputs": [
        {
          "output_type": "execute_result",
          "data": {
            "text/plain": [
              "[<matplotlib.lines.Line2D at 0x7fb89b389c40>]"
            ]
          },
          "metadata": {},
          "execution_count": 126
        },
        {
          "output_type": "display_data",
          "data": {
            "text/plain": [
              "<Figure size 640x480 with 1 Axes>"
            ],
            "image/png": "[encoded data removed]"
          },
          "metadata": {}
        }
      ]
    },
    {
      "cell_type": "code",
      "source": [
        "# Provides inverse of If y = cos(x), x = arccos(y)\n",
        "np.arcsin(1)\n",
        "np.arccos(1)\n",
        "np.arctan(0)\n",
        "\n",
        "# Also, there are function:\n",
        "# arctan2, sinh, cosh, tanh, arcsinh, arccosh, arctanh"
      ],
      "metadata": {
        "colab": {
          "base_uri": "https://localhost:8080/"
        },
        "id": "iCtl_H6jhQ_d",
        "outputId": "22a3b14c-52ea-4fe1-9204-d652ec93acfd"
      },
      "execution_count": 127,
      "outputs": [
        {
          "output_type": "execute_result",
          "data": {
            "text/plain": [
              "0.0"
            ]
          },
          "metadata": {},
          "execution_count": 127
        }
      ]
    },
    {
      "cell_type": "code",
      "source": [
        "# Radians to degrees\n",
        "np.rad2deg(np.pi)"
      ],
      "metadata": {
        "colab": {
          "base_uri": "https://localhost:8080/"
        },
        "id": "P0lUTvKxheD3",
        "outputId": "f3bb6c6e-cd9b-44e5-c5e7-17ca9a4a5248"
      },
      "execution_count": 128,
      "outputs": [
        {
          "output_type": "execute_result",
          "data": {
            "text/plain": [
              "180.0"
            ]
          },
          "metadata": {},
          "execution_count": 128
        }
      ]
    },
    {
      "cell_type": "code",
      "source": [
        "# Degrees to radians\n",
        "np.deg2rad(180) # we get float value of pi"
      ],
      "metadata": {
        "colab": {
          "base_uri": "https://localhost:8080/"
        },
        "id": "qeGPbQ6shnm8",
        "outputId": "7084fa91-3037-4131-e173-7428fb58fd99"
      },
      "execution_count": 129,
      "outputs": [
        {
          "output_type": "execute_result",
          "data": {
            "text/plain": [
              "3.141592653589793"
            ]
          },
          "metadata": {},
          "execution_count": 129
        }
      ]
    },
    {
      "cell_type": "code",
      "source": [
        "# Hypotenuse c = √w² + h²\n",
        "np.hypot(10, 10)"
      ],
      "metadata": {
        "colab": {
          "base_uri": "https://localhost:8080/"
        },
        "id": "fBIJV1RthiM_",
        "outputId": "b19be5d4-0dab-431c-e0a8-e59bdacf1f6e"
      },
      "execution_count": 130,
      "outputs": [
        {
          "output_type": "execute_result",
          "data": {
            "text/plain": [
              "14.142135623730951"
            ]
          },
          "metadata": {},
          "execution_count": 130
        }
      ]
    },
    {
      "cell_type": "markdown",
      "source": [
        "STATISTICS FUNCTIONS"
      ],
      "metadata": {
        "id": "Fs3eaElffJTT"
      }
    },
    {
      "cell_type": "code",
      "source": [
        "# Array 1 - 10\n",
        "sarr_1 = np.arange(1, 11)"
      ],
      "metadata": {
        "id": "k-ZD9DFcfTT-"
      },
      "execution_count": 131,
      "outputs": []
    },
    {
      "cell_type": "code",
      "source": [
        "# Common functions:\n",
        "\n",
        "np.mean(sarr_1)\n",
        "np.median(sarr_1)\n",
        "np.average(sarr_1)\n",
        "np.std([4, 6, 3, 5, 2]) # Standard Deviation\n",
        "np.var([4, 6, 3, 5, 2]) # Variance\n",
        "\n",
        "# Also nanmedian, nanmean, nanstd, nanvar"
      ],
      "metadata": {
        "colab": {
          "base_uri": "https://localhost:8080/"
        },
        "id": "V8viSk-mh3LA",
        "outputId": "8c07c452-92cf-406b-8735-30e833567e6a"
      },
      "execution_count": 132,
      "outputs": [
        {
          "output_type": "execute_result",
          "data": {
            "text/plain": [
              "2.0"
            ]
          },
          "metadata": {},
          "execution_count": 132
        }
      ]
    },
    {
      "cell_type": "code",
      "source": [
        "print(\"housing_train:\\n\", housing_train)"
      ],
      "metadata": {
        "colab": {
          "base_uri": "https://localhost:8080/"
        },
        "id": "X6lXeSOaiM1t",
        "outputId": "82d15de8-8b6e-4765-e778-75ae12ad8cf8"
      },
      "execution_count": 133,
      "outputs": [
        {
          "output_type": "stream",
          "name": "stdout",
          "text": [
            "housing_train:\n",
            " [[-1.1431e+02  3.4190e+01  1.5000e+01 ...  4.7200e+02  1.4936e+00\n",
            "   6.6900e+04]\n",
            " [-1.1447e+02  3.4400e+01  1.9000e+01 ...  4.6300e+02  1.8200e+00\n",
            "   8.0100e+04]\n",
            " [-1.1456e+02  3.3690e+01  1.7000e+01 ...  1.1700e+02  1.6509e+00\n",
            "   8.5700e+04]\n",
            " ...\n",
            " [-1.2430e+02  4.1840e+01  1.7000e+01 ...  4.5600e+02  3.0313e+00\n",
            "   1.0360e+05]\n",
            " [-1.2430e+02  4.1800e+01  1.9000e+01 ...  4.7800e+02  1.9797e+00\n",
            "   8.5800e+04]\n",
            " [-1.2435e+02  4.0540e+01  5.2000e+01 ...  2.7000e+02  3.0147e+00\n",
            "   9.4600e+04]]\n"
          ]
        }
      ]
    },
    {
      "cell_type": "code",
      "source": [
        "# Get the 50th percentile of the data\n",
        "np.percentile(housing_train, 50, axis=0)"
      ],
      "metadata": {
        "colab": {
          "base_uri": "https://localhost:8080/"
        },
        "id": "39_S4WQriWVW",
        "outputId": "05587c3d-b22f-4790-936e-1b96d4062704"
      },
      "execution_count": 134,
      "outputs": [
        {
          "output_type": "execute_result",
          "data": {
            "text/plain": [
              "array([-1.1849e+02,  3.4250e+01,  2.9000e+01,  2.1270e+03,  4.3400e+02,\n",
              "        1.1670e+03,  4.0900e+02,  3.5446e+00,  1.8040e+05])"
            ]
          },
          "metadata": {},
          "execution_count": 134
        }
      ]
    },
    {
      "cell_type": "code",
      "source": [
        "# Get 1st column\n",
        "housing_train[:,0]"
      ],
      "metadata": {
        "colab": {
          "base_uri": "https://localhost:8080/"
        },
        "id": "wsi497eLigTL",
        "outputId": "90a05588-f359-4707-eb3d-d848a658cf6e"
      },
      "execution_count": 135,
      "outputs": [
        {
          "output_type": "execute_result",
          "data": {
            "text/plain": [
              "array([-114.31, -114.47, -114.56, ..., -124.3 , -124.3 , -124.35])"
            ]
          },
          "metadata": {},
          "execution_count": 135
        }
      ]
    },
    {
      "cell_type": "code",
      "source": [
        "# Correlation coefficient : Measure of correlation between data\n",
        "# Closer to 1 the more the data is correlated\n",
        "np.corrcoef(housing_train[:,0], housing_train[:,1])"
      ],
      "metadata": {
        "colab": {
          "base_uri": "https://localhost:8080/"
        },
        "id": "2T3Sg2-sinr0",
        "outputId": "3f18fef0-8aa1-429d-f53f-cbd6b0020608"
      },
      "execution_count": 136,
      "outputs": [
        {
          "output_type": "execute_result",
          "data": {
            "text/plain": [
              "array([[ 1.        , -0.92520828],\n",
              "       [-0.92520828,  1.        ]])"
            ]
          },
          "metadata": {},
          "execution_count": 136
        }
      ]
    },
    {
      "cell_type": "code",
      "source": [
        "# Calculating Regression line:\n",
        "# Σ(x-x̅)*(y-ȳ) / Σ(x-x̅)2\n",
        "\n",
        "mean_1 = np.mean(housing_train[:,0])\n",
        "mean_2 = np.mean(housing_train[:,1])\n",
        "numerator = np.sum(((housing_train[:,0] - mean_1)*(housing_train[:,1] - mean_2)))\n",
        "denominator = np.sum(np.square(housing_train[:,0] - mean_1))\n",
        "slope = numerator/denominator\n",
        "\n",
        "# Calculate y intercept\n",
        "y_i = mean_2 - slope * mean_1\n",
        "y_i\n",
        "reg_arr = housing_train[:,0] * slope + y_i\n",
        "reg_arr"
      ],
      "metadata": {
        "colab": {
          "base_uri": "https://localhost:8080/"
        },
        "id": "rS-gKtThi2jt",
        "outputId": "133ce835-a937-4636-8b0c-239731cf9d55"
      },
      "execution_count": 137,
      "outputs": [
        {
          "output_type": "execute_result",
          "data": {
            "text/plain": [
              "array([30.44562343, 30.60341458, 30.69217211, ..., 40.29770842,\n",
              "       40.29770842, 40.34701816])"
            ]
          },
          "metadata": {},
          "execution_count": 137
        }
      ]
    },
    {
      "cell_type": "markdown",
      "source": [
        "LINEAR ALGEBRA (MATRIX FUNCTIONS)"
      ],
      "metadata": {
        "id": "qpHrPprQfSGi"
      }
    },
    {
      "cell_type": "markdown",
      "source": [
        "[Derek Banas Numpy Tut- LA](https://youtu.be/8Y0qQEh7dJg?list=PLGLfVvz_LVvQy4mkmEvtFwZGg1S38MUmn&t=2609)"
      ],
      "metadata": {
        "id": "pCkt9z3SqIYB"
      }
    },
    {
      "cell_type": "code",
      "source": [
        "from numpy import linalg as LA\n",
        "\n",
        "arr_6 = [[1, 2], [2, 4]]\n",
        "arr_7 = [[2, 4], [6, 9]]\n",
        "arr_8 = np.array([[5, 6], [7, 8]])"
      ],
      "metadata": {
        "id": "mgrZ09pkqXRE"
      },
      "execution_count": 138,
      "outputs": []
    },
    {
      "cell_type": "code",
      "source": [
        "# Matrix multiplication with DOT PRODUCT:\n",
        "# AB (normal matrix mult.)\n",
        "np.dot(arr_6, arr_7)\n",
        "# Compute dot product of 2 or more arrays\n",
        "LA.multi_dot([arr_6, arr_7, arr_8])\n"
      ],
      "metadata": {
        "colab": {
          "base_uri": "https://localhost:8080/"
        },
        "id": "Zw1PXIhGqueb",
        "outputId": "33708941-9507-4fee-e6cb-5d7fc581dd5d"
      },
      "execution_count": 139,
      "outputs": [
        {
          "output_type": "execute_result",
          "data": {
            "text/plain": [
              "array([[224, 260],\n",
              "       [448, 520]])"
            ]
          },
          "metadata": {},
          "execution_count": 139
        }
      ]
    },
    {
      "cell_type": "code",
      "source": [
        "#INNER PRODUCT\n",
        "np.inner(arr_6, arr_7)"
      ],
      "metadata": {
        "colab": {
          "base_uri": "https://localhost:8080/"
        },
        "id": "Vo8VjeF2r3Ya",
        "outputId": "a4a76d07-88ab-454c-cc9b-72ed51848e3b"
      },
      "execution_count": 140,
      "outputs": [
        {
          "output_type": "execute_result",
          "data": {
            "text/plain": [
              "array([[10, 24],\n",
              "       [20, 48]])"
            ]
          },
          "metadata": {},
          "execution_count": 140
        }
      ]
    },
    {
      "cell_type": "code",
      "source": [
        "LA.pinv(arr_6) #pseudo-inverse"
      ],
      "metadata": {
        "colab": {
          "base_uri": "https://localhost:8080/"
        },
        "id": "N8YkFmLGsVdU",
        "outputId": "3cdb0e5c-2dea-4258-ffba-b10920cc59d5"
      },
      "execution_count": 141,
      "outputs": [
        {
          "output_type": "execute_result",
          "data": {
            "text/plain": [
              "array([[0.04, 0.08],\n",
              "       [0.08, 0.16]])"
            ]
          },
          "metadata": {},
          "execution_count": 141
        }
      ]
    },
    {
      "cell_type": "code",
      "source": [
        "# arr_6.pinv()"
      ],
      "metadata": {
        "id": "RI-G_GkbzuHZ"
      },
      "execution_count": 143,
      "outputs": []
    },
    {
      "cell_type": "markdown",
      "source": [
        "# **Pandas**"
      ],
      "metadata": {
        "id": "JXOEkYhs4rDQ"
      }
    },
    {
      "cell_type": "markdown",
      "source": [
        "Reference: [Kaggle Pandas Course](https://www.kaggle.com/learn/pandas)"
      ],
      "metadata": {
        "id": "DJ0flRH-uppI"
      }
    },
    {
      "cell_type": "code",
      "source": [
        "import pandas as pd"
      ],
      "metadata": {
        "id": "DYSAZ7_d4wVY"
      },
      "execution_count": 144,
      "outputs": []
    },
    {
      "cell_type": "markdown",
      "source": [
        "**DataFrame:**\n",
        "\n",
        "*   A DataFrame is a table. It contains an array of individual entries, each of which has a certain value.\n",
        "*   We are using the pd.DataFrame() constructor to generate these DataFrame objects."
      ],
      "metadata": {
        "id": "NsgJM_UeDqCh"
      }
    },
    {
      "cell_type": "code",
      "source": [
        "pd.DataFrame({'Bob': ['I liked it.', 'It was awful.'],\n",
        "              'Sue': ['Pretty good.', 'Bland.']})"
      ],
      "metadata": {
        "colab": {
          "base_uri": "https://localhost:8080/",
          "height": 112
        },
        "id": "AcIXypCEE4P0",
        "outputId": "fa4bfd9c-3f85-4c78-f847-c3f7e962a785"
      },
      "execution_count": 145,
      "outputs": [
        {
          "output_type": "execute_result",
          "data": {
            "text/plain": [
              "             Bob           Sue\n",
              "0    I liked it.  Pretty good.\n",
              "1  It was awful.        Bland."
            ],
            "text/html": [
              "\n",
              "  <div id=\"df-dd784930-4a12-4637-9114-94accad6a120\">\n",
              "    <div class=\"colab-df-container\">\n",
              "      <div>\n",
              "<style scoped>\n",
              "    .dataframe tbody tr th:only-of-type {\n",
              "        vertical-align: middle;\n",
              "    }\n",
              "\n",
              "    .dataframe tbody tr th {\n",
              "        vertical-align: top;\n",
              "    }\n",
              "\n",
              "    .dataframe thead th {\n",
              "        text-align: right;\n",
              "    }\n",
              "</style>\n",
              "<table border=\"1\" class=\"dataframe\">\n",
              "  <thead>\n",
              "    <tr style=\"text-align: right;\">\n",
              "      <th></th>\n",
              "      <th>Bob</th>\n",
              "      <th>Sue</th>\n",
              "    </tr>\n",
              "  </thead>\n",
              "  <tbody>\n",
              "    <tr>\n",
              "      <th>0</th>\n",
              "      <td>I liked it.</td>\n",
              "      <td>Pretty good.</td>\n",
              "    </tr>\n",
              "    <tr>\n",
              "      <th>1</th>\n",
              "      <td>It was awful.</td>\n",
              "      <td>Bland.</td>\n",
              "    </tr>\n",
              "  </tbody>\n",
              "</table>\n",
              "</div>\n",
              "      <button class=\"colab-df-convert\" onclick=\"convertToInteractive('df-dd784930-4a12-4637-9114-94accad6a120')\"\n",
              "              title=\"Convert this dataframe to an interactive table.\"\n",
              "              style=\"display:none;\">\n",
              "        \n",
              "  <svg xmlns=\"http://www.w3.org/2000/svg\" height=\"24px\"viewBox=\"0 0 24 24\"\n",
              "       width=\"24px\">\n",
              "    <path d=\"M0 0h24v24H0V0z\" fill=\"none\"/>\n",
              "    <path d=\"M18.56 5.44l.94 2.06.94-2.06 2.06-.94-2.06-.94-.94-2.06-.94 2.06-2.06.94zm-11 1L8.5 8.5l.94-2.06 2.06-.94-2.06-.94L8.5 2.5l-.94 2.06-2.06.94zm10 10l.94 2.06.94-2.06 2.06-.94-2.06-.94-.94-2.06-.94 2.06-2.06.94z\"/><path d=\"M17.41 7.96l-1.37-1.37c-.4-.4-.92-.59-1.43-.59-.52 0-1.04.2-1.43.59L10.3 9.45l-7.72 7.72c-.78.78-.78 2.05 0 2.83L4 21.41c.39.39.9.59 1.41.59.51 0 1.02-.2 1.41-.59l7.78-7.78 2.81-2.81c.8-.78.8-2.07 0-2.86zM5.41 20L4 18.59l7.72-7.72 1.47 1.35L5.41 20z\"/>\n",
              "  </svg>\n",
              "      </button>\n",
              "      \n",
              "  <style>\n",
              "    .colab-df-container {\n",
              "      display:flex;\n",
              "      flex-wrap:wrap;\n",
              "      gap: 12px;\n",
              "    }\n",
              "\n",
              "    .colab-df-convert {\n",
              "      background-color: #E8F0FE;\n",
              "      border: none;\n",
              "      border-radius: 50%;\n",
              "      cursor: pointer;\n",
              "      display: none;\n",
              "      fill: #1967D2;\n",
              "      height: 32px;\n",
              "      padding: 0 0 0 0;\n",
              "      width: 32px;\n",
              "    }\n",
              "\n",
              "    .colab-df-convert:hover {\n",
              "      background-color: #E2EBFA;\n",
              "      box-shadow: 0px 1px 2px rgba(60, 64, 67, 0.3), 0px 1px 3px 1px rgba(60, 64, 67, 0.15);\n",
              "      fill: #174EA6;\n",
              "    }\n",
              "\n",
              "    [theme=dark] .colab-df-convert {\n",
              "      background-color: #3B4455;\n",
              "      fill: #D2E3FC;\n",
              "    }\n",
              "\n",
              "    [theme=dark] .colab-df-convert:hover {\n",
              "      background-color: #434B5C;\n",
              "      box-shadow: 0px 1px 3px 1px rgba(0, 0, 0, 0.15);\n",
              "      filter: drop-shadow(0px 1px 2px rgba(0, 0, 0, 0.3));\n",
              "      fill: #FFFFFF;\n",
              "    }\n",
              "  </style>\n",
              "\n",
              "      <script>\n",
              "        const buttonEl =\n",
              "          document.querySelector('#df-dd784930-4a12-4637-9114-94accad6a120 button.colab-df-convert');\n",
              "        buttonEl.style.display =\n",
              "          google.colab.kernel.accessAllowed ? 'block' : 'none';\n",
              "\n",
              "        async function convertToInteractive(key) {\n",
              "          const element = document.querySelector('#df-dd784930-4a12-4637-9114-94accad6a120');\n",
              "          const dataTable =\n",
              "            await google.colab.kernel.invokeFunction('convertToInteractive',\n",
              "                                                     [key], {});\n",
              "          if (!dataTable) return;\n",
              "\n",
              "          const docLinkHtml = 'Like what you see? Visit the ' +\n",
              "            '<a target=\"_blank\" href=https://colab.research.google.com/notebooks/data_table.ipynb>data table notebook</a>'\n",
              "            + ' to learn more about interactive tables.';\n",
              "          element.innerHTML = '';\n",
              "          dataTable['output_type'] = 'display_data';\n",
              "          await google.colab.output.renderOutput(dataTable, element);\n",
              "          const docLink = document.createElement('div');\n",
              "          docLink.innerHTML = docLinkHtml;\n",
              "          element.appendChild(docLink);\n",
              "        }\n",
              "      </script>\n",
              "    </div>\n",
              "  </div>\n",
              "  "
            ]
          },
          "metadata": {},
          "execution_count": 145
        }
      ]
    },
    {
      "cell_type": "code",
      "source": [
        "#Method-2\n",
        "pd.DataFrame([['I liked it.', 'Pretty good.'],\n",
        "              ['It was awful.', 'Bland.']],\n",
        "             columns = ['Bob', 'Sue'])"
      ],
      "metadata": {
        "colab": {
          "base_uri": "https://localhost:8080/",
          "height": 112
        },
        "id": "yKnFxOPOKIFp",
        "outputId": "65744e2f-1068-4e41-9606-d269d4c4d175"
      },
      "execution_count": 146,
      "outputs": [
        {
          "output_type": "execute_result",
          "data": {
            "text/plain": [
              "             Bob           Sue\n",
              "0    I liked it.  Pretty good.\n",
              "1  It was awful.        Bland."
            ],
            "text/html": [
              "\n",
              "  <div id=\"df-8e7cb0ed-0a93-41e6-8a66-043fd09c0281\">\n",
              "    <div class=\"colab-df-container\">\n",
              "      <div>\n",
              "<style scoped>\n",
              "    .dataframe tbody tr th:only-of-type {\n",
              "        vertical-align: middle;\n",
              "    }\n",
              "\n",
              "    .dataframe tbody tr th {\n",
              "        vertical-align: top;\n",
              "    }\n",
              "\n",
              "    .dataframe thead th {\n",
              "        text-align: right;\n",
              "    }\n",
              "</style>\n",
              "<table border=\"1\" class=\"dataframe\">\n",
              "  <thead>\n",
              "    <tr style=\"text-align: right;\">\n",
              "      <th></th>\n",
              "      <th>Bob</th>\n",
              "      <th>Sue</th>\n",
              "    </tr>\n",
              "  </thead>\n",
              "  <tbody>\n",
              "    <tr>\n",
              "      <th>0</th>\n",
              "      <td>I liked it.</td>\n",
              "      <td>Pretty good.</td>\n",
              "    </tr>\n",
              "    <tr>\n",
              "      <th>1</th>\n",
              "      <td>It was awful.</td>\n",
              "      <td>Bland.</td>\n",
              "    </tr>\n",
              "  </tbody>\n",
              "</table>\n",
              "</div>\n",
              "      <button class=\"colab-df-convert\" onclick=\"convertToInteractive('df-8e7cb0ed-0a93-41e6-8a66-043fd09c0281')\"\n",
              "              title=\"Convert this dataframe to an interactive table.\"\n",
              "              style=\"display:none;\">\n",
              "        \n",
              "  <svg xmlns=\"http://www.w3.org/2000/svg\" height=\"24px\"viewBox=\"0 0 24 24\"\n",
              "       width=\"24px\">\n",
              "    <path d=\"M0 0h24v24H0V0z\" fill=\"none\"/>\n",
              "    <path d=\"M18.56 5.44l.94 2.06.94-2.06 2.06-.94-2.06-.94-.94-2.06-.94 2.06-2.06.94zm-11 1L8.5 8.5l.94-2.06 2.06-.94-2.06-.94L8.5 2.5l-.94 2.06-2.06.94zm10 10l.94 2.06.94-2.06 2.06-.94-2.06-.94-.94-2.06-.94 2.06-2.06.94z\"/><path d=\"M17.41 7.96l-1.37-1.37c-.4-.4-.92-.59-1.43-.59-.52 0-1.04.2-1.43.59L10.3 9.45l-7.72 7.72c-.78.78-.78 2.05 0 2.83L4 21.41c.39.39.9.59 1.41.59.51 0 1.02-.2 1.41-.59l7.78-7.78 2.81-2.81c.8-.78.8-2.07 0-2.86zM5.41 20L4 18.59l7.72-7.72 1.47 1.35L5.41 20z\"/>\n",
              "  </svg>\n",
              "      </button>\n",
              "      \n",
              "  <style>\n",
              "    .colab-df-container {\n",
              "      display:flex;\n",
              "      flex-wrap:wrap;\n",
              "      gap: 12px;\n",
              "    }\n",
              "\n",
              "    .colab-df-convert {\n",
              "      background-color: #E8F0FE;\n",
              "      border: none;\n",
              "      border-radius: 50%;\n",
              "      cursor: pointer;\n",
              "      display: none;\n",
              "      fill: #1967D2;\n",
              "      height: 32px;\n",
              "      padding: 0 0 0 0;\n",
              "      width: 32px;\n",
              "    }\n",
              "\n",
              "    .colab-df-convert:hover {\n",
              "      background-color: #E2EBFA;\n",
              "      box-shadow: 0px 1px 2px rgba(60, 64, 67, 0.3), 0px 1px 3px 1px rgba(60, 64, 67, 0.15);\n",
              "      fill: #174EA6;\n",
              "    }\n",
              "\n",
              "    [theme=dark] .colab-df-convert {\n",
              "      background-color: #3B4455;\n",
              "      fill: #D2E3FC;\n",
              "    }\n",
              "\n",
              "    [theme=dark] .colab-df-convert:hover {\n",
              "      background-color: #434B5C;\n",
              "      box-shadow: 0px 1px 3px 1px rgba(0, 0, 0, 0.15);\n",
              "      filter: drop-shadow(0px 1px 2px rgba(0, 0, 0, 0.3));\n",
              "      fill: #FFFFFF;\n",
              "    }\n",
              "  </style>\n",
              "\n",
              "      <script>\n",
              "        const buttonEl =\n",
              "          document.querySelector('#df-8e7cb0ed-0a93-41e6-8a66-043fd09c0281 button.colab-df-convert');\n",
              "        buttonEl.style.display =\n",
              "          google.colab.kernel.accessAllowed ? 'block' : 'none';\n",
              "\n",
              "        async function convertToInteractive(key) {\n",
              "          const element = document.querySelector('#df-8e7cb0ed-0a93-41e6-8a66-043fd09c0281');\n",
              "          const dataTable =\n",
              "            await google.colab.kernel.invokeFunction('convertToInteractive',\n",
              "                                                     [key], {});\n",
              "          if (!dataTable) return;\n",
              "\n",
              "          const docLinkHtml = 'Like what you see? Visit the ' +\n",
              "            '<a target=\"_blank\" href=https://colab.research.google.com/notebooks/data_table.ipynb>data table notebook</a>'\n",
              "            + ' to learn more about interactive tables.';\n",
              "          element.innerHTML = '';\n",
              "          dataTable['output_type'] = 'display_data';\n",
              "          await google.colab.output.renderOutput(dataTable, element);\n",
              "          const docLink = document.createElement('div');\n",
              "          docLink.innerHTML = docLinkHtml;\n",
              "          element.appendChild(docLink);\n",
              "        }\n",
              "      </script>\n",
              "    </div>\n",
              "  </div>\n",
              "  "
            ]
          },
          "metadata": {},
          "execution_count": 146
        }
      ]
    },
    {
      "cell_type": "markdown",
      "source": [
        "\n",
        "\n",
        "*   The dictionary-list constructor assigns values to the column labels, but just uses an ascending count from 0 (0, 1, 2, 3, ...) for the row labels.\n",
        "*   The list of row labels used in a DataFrame is known as an **Index**. We can assign values to it by using an *index* parameter in our constructor:\n",
        "\n"
      ],
      "metadata": {
        "id": "TvH0Ywk9Fbbl"
      }
    },
    {
      "cell_type": "code",
      "source": [
        "pd.DataFrame({'Bob': ['I liked it.', 'It was awful.'],\n",
        "              'Sue': ['Pretty good.', 'Bland.']},\n",
        "             index = ['Product A', 'Product B'])"
      ],
      "metadata": {
        "colab": {
          "base_uri": "https://localhost:8080/",
          "height": 112
        },
        "id": "BxdWUOgeF5I2",
        "outputId": "504663be-4fff-4132-d674-fa9bc64d21ac"
      },
      "execution_count": 147,
      "outputs": [
        {
          "output_type": "execute_result",
          "data": {
            "text/plain": [
              "                     Bob           Sue\n",
              "Product A    I liked it.  Pretty good.\n",
              "Product B  It was awful.        Bland."
            ],
            "text/html": [
              "\n",
              "  <div id=\"df-9e379862-0a18-4f8f-b1f2-c69d1bcb6031\">\n",
              "    <div class=\"colab-df-container\">\n",
              "      <div>\n",
              "<style scoped>\n",
              "    .dataframe tbody tr th:only-of-type {\n",
              "        vertical-align: middle;\n",
              "    }\n",
              "\n",
              "    .dataframe tbody tr th {\n",
              "        vertical-align: top;\n",
              "    }\n",
              "\n",
              "    .dataframe thead th {\n",
              "        text-align: right;\n",
              "    }\n",
              "</style>\n",
              "<table border=\"1\" class=\"dataframe\">\n",
              "  <thead>\n",
              "    <tr style=\"text-align: right;\">\n",
              "      <th></th>\n",
              "      <th>Bob</th>\n",
              "      <th>Sue</th>\n",
              "    </tr>\n",
              "  </thead>\n",
              "  <tbody>\n",
              "    <tr>\n",
              "      <th>Product A</th>\n",
              "      <td>I liked it.</td>\n",
              "      <td>Pretty good.</td>\n",
              "    </tr>\n",
              "    <tr>\n",
              "      <th>Product B</th>\n",
              "      <td>It was awful.</td>\n",
              "      <td>Bland.</td>\n",
              "    </tr>\n",
              "  </tbody>\n",
              "</table>\n",
              "</div>\n",
              "      <button class=\"colab-df-convert\" onclick=\"convertToInteractive('df-9e379862-0a18-4f8f-b1f2-c69d1bcb6031')\"\n",
              "              title=\"Convert this dataframe to an interactive table.\"\n",
              "              style=\"display:none;\">\n",
              "        \n",
              "  <svg xmlns=\"http://www.w3.org/2000/svg\" height=\"24px\"viewBox=\"0 0 24 24\"\n",
              "       width=\"24px\">\n",
              "    <path d=\"M0 0h24v24H0V0z\" fill=\"none\"/>\n",
              "    <path d=\"M18.56 5.44l.94 2.06.94-2.06 2.06-.94-2.06-.94-.94-2.06-.94 2.06-2.06.94zm-11 1L8.5 8.5l.94-2.06 2.06-.94-2.06-.94L8.5 2.5l-.94 2.06-2.06.94zm10 10l.94 2.06.94-2.06 2.06-.94-2.06-.94-.94-2.06-.94 2.06-2.06.94z\"/><path d=\"M17.41 7.96l-1.37-1.37c-.4-.4-.92-.59-1.43-.59-.52 0-1.04.2-1.43.59L10.3 9.45l-7.72 7.72c-.78.78-.78 2.05 0 2.83L4 21.41c.39.39.9.59 1.41.59.51 0 1.02-.2 1.41-.59l7.78-7.78 2.81-2.81c.8-.78.8-2.07 0-2.86zM5.41 20L4 18.59l7.72-7.72 1.47 1.35L5.41 20z\"/>\n",
              "  </svg>\n",
              "      </button>\n",
              "      \n",
              "  <style>\n",
              "    .colab-df-container {\n",
              "      display:flex;\n",
              "      flex-wrap:wrap;\n",
              "      gap: 12px;\n",
              "    }\n",
              "\n",
              "    .colab-df-convert {\n",
              "      background-color: #E8F0FE;\n",
              "      border: none;\n",
              "      border-radius: 50%;\n",
              "      cursor: pointer;\n",
              "      display: none;\n",
              "      fill: #1967D2;\n",
              "      height: 32px;\n",
              "      padding: 0 0 0 0;\n",
              "      width: 32px;\n",
              "    }\n",
              "\n",
              "    .colab-df-convert:hover {\n",
              "      background-color: #E2EBFA;\n",
              "      box-shadow: 0px 1px 2px rgba(60, 64, 67, 0.3), 0px 1px 3px 1px rgba(60, 64, 67, 0.15);\n",
              "      fill: #174EA6;\n",
              "    }\n",
              "\n",
              "    [theme=dark] .colab-df-convert {\n",
              "      background-color: #3B4455;\n",
              "      fill: #D2E3FC;\n",
              "    }\n",
              "\n",
              "    [theme=dark] .colab-df-convert:hover {\n",
              "      background-color: #434B5C;\n",
              "      box-shadow: 0px 1px 3px 1px rgba(0, 0, 0, 0.15);\n",
              "      filter: drop-shadow(0px 1px 2px rgba(0, 0, 0, 0.3));\n",
              "      fill: #FFFFFF;\n",
              "    }\n",
              "  </style>\n",
              "\n",
              "      <script>\n",
              "        const buttonEl =\n",
              "          document.querySelector('#df-9e379862-0a18-4f8f-b1f2-c69d1bcb6031 button.colab-df-convert');\n",
              "        buttonEl.style.display =\n",
              "          google.colab.kernel.accessAllowed ? 'block' : 'none';\n",
              "\n",
              "        async function convertToInteractive(key) {\n",
              "          const element = document.querySelector('#df-9e379862-0a18-4f8f-b1f2-c69d1bcb6031');\n",
              "          const dataTable =\n",
              "            await google.colab.kernel.invokeFunction('convertToInteractive',\n",
              "                                                     [key], {});\n",
              "          if (!dataTable) return;\n",
              "\n",
              "          const docLinkHtml = 'Like what you see? Visit the ' +\n",
              "            '<a target=\"_blank\" href=https://colab.research.google.com/notebooks/data_table.ipynb>data table notebook</a>'\n",
              "            + ' to learn more about interactive tables.';\n",
              "          element.innerHTML = '';\n",
              "          dataTable['output_type'] = 'display_data';\n",
              "          await google.colab.output.renderOutput(dataTable, element);\n",
              "          const docLink = document.createElement('div');\n",
              "          docLink.innerHTML = docLinkHtml;\n",
              "          element.appendChild(docLink);\n",
              "        }\n",
              "      </script>\n",
              "    </div>\n",
              "  </div>\n",
              "  "
            ]
          },
          "metadata": {},
          "execution_count": 147
        }
      ]
    },
    {
      "cell_type": "markdown",
      "source": [
        "**Series:**\n",
        "*   A Series, by contrast, is a sequence of data values, i.e., a list.\n",
        "*   A Series is, in essence, a single column of a DataFrame.\n",
        "*   So you can assign row labels to the Series using an *index* parameter.\n",
        "*   However, a Series only has one overall *name* (doesn't have a column name).\n",
        "\n"
      ],
      "metadata": {
        "id": "FC1x8hLMGoZd"
      }
    },
    {
      "cell_type": "code",
      "source": [
        "pd.Series([30, 35, 40])"
      ],
      "metadata": {
        "colab": {
          "base_uri": "https://localhost:8080/"
        },
        "id": "c8EYQykbINsE",
        "outputId": "a3879164-6791-4075-f9ad-7bda93f6b2ac"
      },
      "execution_count": 148,
      "outputs": [
        {
          "output_type": "execute_result",
          "data": {
            "text/plain": [
              "0    30\n",
              "1    35\n",
              "2    40\n",
              "dtype: int64"
            ]
          },
          "metadata": {},
          "execution_count": 148
        }
      ]
    },
    {
      "cell_type": "code",
      "source": [
        "pd.Series([30, 35, 40], index = ['2015 Sales', '2016 Sales', '2017 Sales'])"
      ],
      "metadata": {
        "colab": {
          "base_uri": "https://localhost:8080/"
        },
        "id": "BctAZIt3Id4E",
        "outputId": "266c4c17-3c08-45be-af72-7f59c6e11ff0"
      },
      "execution_count": 149,
      "outputs": [
        {
          "output_type": "execute_result",
          "data": {
            "text/plain": [
              "2015 Sales    30\n",
              "2016 Sales    35\n",
              "2017 Sales    40\n",
              "dtype: int64"
            ]
          },
          "metadata": {},
          "execution_count": 149
        }
      ]
    },
    {
      "cell_type": "code",
      "source": [
        "pd.Series([30, 35, 40], index = ['2015 Sales', '2016 Sales', '2017 Sales'], name = 'Product A')"
      ],
      "metadata": {
        "colab": {
          "base_uri": "https://localhost:8080/"
        },
        "id": "blBASZT6IpOd",
        "outputId": "74cf6843-e8a1-417b-f901-5e8515d1d28b"
      },
      "execution_count": 150,
      "outputs": [
        {
          "output_type": "execute_result",
          "data": {
            "text/plain": [
              "2015 Sales    30\n",
              "2016 Sales    35\n",
              "2017 Sales    40\n",
              "Name: Product A, dtype: int64"
            ]
          },
          "metadata": {},
          "execution_count": 150
        }
      ]
    },
    {
      "cell_type": "code",
      "source": [
        "animals = pd.DataFrame({'Year': [2015, 2016, 2017], 'Cows': [12, 20, 21], 'Goats': [22, 19, 18]}, index=['Year 1', 'Year 2', 'Year 3'])\n",
        "animals"
      ],
      "metadata": {
        "colab": {
          "base_uri": "https://localhost:8080/",
          "height": 143
        },
        "id": "3PbivgEEN-37",
        "outputId": "ca15f242-46a1-4999-d56a-8ed6ec864d2b"
      },
      "execution_count": 151,
      "outputs": [
        {
          "output_type": "execute_result",
          "data": {
            "text/plain": [
              "        Year  Cows  Goats\n",
              "Year 1  2015    12     22\n",
              "Year 2  2016    20     19\n",
              "Year 3  2017    21     18"
            ],
            "text/html": [
              "\n",
              "  <div id=\"df-ab9996d9-43aa-4acf-ac73-0ef6f01bbce3\">\n",
              "    <div class=\"colab-df-container\">\n",
              "      <div>\n",
              "<style scoped>\n",
              "    .dataframe tbody tr th:only-of-type {\n",
              "        vertical-align: middle;\n",
              "    }\n",
              "\n",
              "    .dataframe tbody tr th {\n",
              "        vertical-align: top;\n",
              "    }\n",
              "\n",
              "    .dataframe thead th {\n",
              "        text-align: right;\n",
              "    }\n",
              "</style>\n",
              "<table border=\"1\" class=\"dataframe\">\n",
              "  <thead>\n",
              "    <tr style=\"text-align: right;\">\n",
              "      <th></th>\n",
              "      <th>Year</th>\n",
              "      <th>Cows</th>\n",
              "      <th>Goats</th>\n",
              "    </tr>\n",
              "  </thead>\n",
              "  <tbody>\n",
              "    <tr>\n",
              "      <th>Year 1</th>\n",
              "      <td>2015</td>\n",
              "      <td>12</td>\n",
              "      <td>22</td>\n",
              "    </tr>\n",
              "    <tr>\n",
              "      <th>Year 2</th>\n",
              "      <td>2016</td>\n",
              "      <td>20</td>\n",
              "      <td>19</td>\n",
              "    </tr>\n",
              "    <tr>\n",
              "      <th>Year 3</th>\n",
              "      <td>2017</td>\n",
              "      <td>21</td>\n",
              "      <td>18</td>\n",
              "    </tr>\n",
              "  </tbody>\n",
              "</table>\n",
              "</div>\n",
              "      <button class=\"colab-df-convert\" onclick=\"convertToInteractive('df-ab9996d9-43aa-4acf-ac73-0ef6f01bbce3')\"\n",
              "              title=\"Convert this dataframe to an interactive table.\"\n",
              "              style=\"display:none;\">\n",
              "        \n",
              "  <svg xmlns=\"http://www.w3.org/2000/svg\" height=\"24px\"viewBox=\"0 0 24 24\"\n",
              "       width=\"24px\">\n",
              "    <path d=\"M0 0h24v24H0V0z\" fill=\"none\"/>\n",
              "    <path d=\"M18.56 5.44l.94 2.06.94-2.06 2.06-.94-2.06-.94-.94-2.06-.94 2.06-2.06.94zm-11 1L8.5 8.5l.94-2.06 2.06-.94-2.06-.94L8.5 2.5l-.94 2.06-2.06.94zm10 10l.94 2.06.94-2.06 2.06-.94-2.06-.94-.94-2.06-.94 2.06-2.06.94z\"/><path d=\"M17.41 7.96l-1.37-1.37c-.4-.4-.92-.59-1.43-.59-.52 0-1.04.2-1.43.59L10.3 9.45l-7.72 7.72c-.78.78-.78 2.05 0 2.83L4 21.41c.39.39.9.59 1.41.59.51 0 1.02-.2 1.41-.59l7.78-7.78 2.81-2.81c.8-.78.8-2.07 0-2.86zM5.41 20L4 18.59l7.72-7.72 1.47 1.35L5.41 20z\"/>\n",
              "  </svg>\n",
              "      </button>\n",
              "      \n",
              "  <style>\n",
              "    .colab-df-container {\n",
              "      display:flex;\n",
              "      flex-wrap:wrap;\n",
              "      gap: 12px;\n",
              "    }\n",
              "\n",
              "    .colab-df-convert {\n",
              "      background-color: #E8F0FE;\n",
              "      border: none;\n",
              "      border-radius: 50%;\n",
              "      cursor: pointer;\n",
              "      display: none;\n",
              "      fill: #1967D2;\n",
              "      height: 32px;\n",
              "      padding: 0 0 0 0;\n",
              "      width: 32px;\n",
              "    }\n",
              "\n",
              "    .colab-df-convert:hover {\n",
              "      background-color: #E2EBFA;\n",
              "      box-shadow: 0px 1px 2px rgba(60, 64, 67, 0.3), 0px 1px 3px 1px rgba(60, 64, 67, 0.15);\n",
              "      fill: #174EA6;\n",
              "    }\n",
              "\n",
              "    [theme=dark] .colab-df-convert {\n",
              "      background-color: #3B4455;\n",
              "      fill: #D2E3FC;\n",
              "    }\n",
              "\n",
              "    [theme=dark] .colab-df-convert:hover {\n",
              "      background-color: #434B5C;\n",
              "      box-shadow: 0px 1px 3px 1px rgba(0, 0, 0, 0.15);\n",
              "      filter: drop-shadow(0px 1px 2px rgba(0, 0, 0, 0.3));\n",
              "      fill: #FFFFFF;\n",
              "    }\n",
              "  </style>\n",
              "\n",
              "      <script>\n",
              "        const buttonEl =\n",
              "          document.querySelector('#df-ab9996d9-43aa-4acf-ac73-0ef6f01bbce3 button.colab-df-convert');\n",
              "        buttonEl.style.display =\n",
              "          google.colab.kernel.accessAllowed ? 'block' : 'none';\n",
              "\n",
              "        async function convertToInteractive(key) {\n",
              "          const element = document.querySelector('#df-ab9996d9-43aa-4acf-ac73-0ef6f01bbce3');\n",
              "          const dataTable =\n",
              "            await google.colab.kernel.invokeFunction('convertToInteractive',\n",
              "                                                     [key], {});\n",
              "          if (!dataTable) return;\n",
              "\n",
              "          const docLinkHtml = 'Like what you see? Visit the ' +\n",
              "            '<a target=\"_blank\" href=https://colab.research.google.com/notebooks/data_table.ipynb>data table notebook</a>'\n",
              "            + ' to learn more about interactive tables.';\n",
              "          element.innerHTML = '';\n",
              "          dataTable['output_type'] = 'display_data';\n",
              "          await google.colab.output.renderOutput(dataTable, element);\n",
              "          const docLink = document.createElement('div');\n",
              "          docLink.innerHTML = docLinkHtml;\n",
              "          element.appendChild(docLink);\n",
              "        }\n",
              "      </script>\n",
              "    </div>\n",
              "  </div>\n",
              "  "
            ]
          },
          "metadata": {},
          "execution_count": 151
        }
      ]
    },
    {
      "cell_type": "code",
      "source": [
        "animals.to_csv(\"cows_and_goats.csv\")"
      ],
      "metadata": {
        "id": "YPrOshv2OBZH"
      },
      "execution_count": 152,
      "outputs": []
    },
    {
      "cell_type": "code",
      "source": [
        "mnist = pd.read_csv(\"/content/sample_data/mnist_train_small.csv\")\n",
        "mnist.head() #displays 1st 5 rows"
      ],
      "metadata": {
        "colab": {
          "base_uri": "https://localhost:8080/",
          "height": 235
        },
        "id": "za28X_7FOakz",
        "outputId": "a6dbe82e-47e0-4a2c-eb5c-14a20ed5ff55"
      },
      "execution_count": 153,
      "outputs": [
        {
          "output_type": "execute_result",
          "data": {
            "text/plain": [
              "   6  0  0.1  0.2  0.3  0.4  0.5  0.6  0.7  0.8  ...  0.581  0.582  0.583  \\\n",
              "0  5  0    0    0    0    0    0    0    0    0  ...      0      0      0   \n",
              "1  7  0    0    0    0    0    0    0    0    0  ...      0      0      0   \n",
              "2  9  0    0    0    0    0    0    0    0    0  ...      0      0      0   \n",
              "3  5  0    0    0    0    0    0    0    0    0  ...      0      0      0   \n",
              "4  2  0    0    0    0    0    0    0    0    0  ...      0      0      0   \n",
              "\n",
              "   0.584  0.585  0.586  0.587  0.588  0.589  0.590  \n",
              "0      0      0      0      0      0      0      0  \n",
              "1      0      0      0      0      0      0      0  \n",
              "2      0      0      0      0      0      0      0  \n",
              "3      0      0      0      0      0      0      0  \n",
              "4      0      0      0      0      0      0      0  \n",
              "\n",
              "[5 rows x 785 columns]"
            ],
            "text/html": [
              "\n",
              "  <div id=\"df-1bc5cbad-eaf2-45fa-808f-2d3705fa1505\">\n",
              "    <div class=\"colab-df-container\">\n",
              "      <div>\n",
              "<style scoped>\n",
              "    .dataframe tbody tr th:only-of-type {\n",
              "        vertical-align: middle;\n",
              "    }\n",
              "\n",
              "    .dataframe tbody tr th {\n",
              "        vertical-align: top;\n",
              "    }\n",
              "\n",
              "    .dataframe thead th {\n",
              "        text-align: right;\n",
              "    }\n",
              "</style>\n",
              "<table border=\"1\" class=\"dataframe\">\n",
              "  <thead>\n",
              "    <tr style=\"text-align: right;\">\n",
              "      <th></th>\n",
              "      <th>6</th>\n",
              "      <th>0</th>\n",
              "      <th>0.1</th>\n",
              "      <th>0.2</th>\n",
              "      <th>0.3</th>\n",
              "      <th>0.4</th>\n",
              "      <th>0.5</th>\n",
              "      <th>0.6</th>\n",
              "      <th>0.7</th>\n",
              "      <th>0.8</th>\n",
              "      <th>...</th>\n",
              "      <th>0.581</th>\n",
              "      <th>0.582</th>\n",
              "      <th>0.583</th>\n",
              "      <th>0.584</th>\n",
              "      <th>0.585</th>\n",
              "      <th>0.586</th>\n",
              "      <th>0.587</th>\n",
              "      <th>0.588</th>\n",
              "      <th>0.589</th>\n",
              "      <th>0.590</th>\n",
              "    </tr>\n",
              "  </thead>\n",
              "  <tbody>\n",
              "    <tr>\n",
              "      <th>0</th>\n",
              "      <td>5</td>\n",
              "      <td>0</td>\n",
              "      <td>0</td>\n",
              "      <td>0</td>\n",
              "      <td>0</td>\n",
              "      <td>0</td>\n",
              "      <td>0</td>\n",
              "      <td>0</td>\n",
              "      <td>0</td>\n",
              "      <td>0</td>\n",
              "      <td>...</td>\n",
              "      <td>0</td>\n",
              "      <td>0</td>\n",
              "      <td>0</td>\n",
              "      <td>0</td>\n",
              "      <td>0</td>\n",
              "      <td>0</td>\n",
              "      <td>0</td>\n",
              "      <td>0</td>\n",
              "      <td>0</td>\n",
              "      <td>0</td>\n",
              "    </tr>\n",
              "    <tr>\n",
              "      <th>1</th>\n",
              "      <td>7</td>\n",
              "      <td>0</td>\n",
              "      <td>0</td>\n",
              "      <td>0</td>\n",
              "      <td>0</td>\n",
              "      <td>0</td>\n",
              "      <td>0</td>\n",
              "      <td>0</td>\n",
              "      <td>0</td>\n",
              "      <td>0</td>\n",
              "      <td>...</td>\n",
              "      <td>0</td>\n",
              "      <td>0</td>\n",
              "      <td>0</td>\n",
              "      <td>0</td>\n",
              "      <td>0</td>\n",
              "      <td>0</td>\n",
              "      <td>0</td>\n",
              "      <td>0</td>\n",
              "      <td>0</td>\n",
              "      <td>0</td>\n",
              "    </tr>\n",
              "    <tr>\n",
              "      <th>2</th>\n",
              "      <td>9</td>\n",
              "      <td>0</td>\n",
              "      <td>0</td>\n",
              "      <td>0</td>\n",
              "      <td>0</td>\n",
              "      <td>0</td>\n",
              "      <td>0</td>\n",
              "      <td>0</td>\n",
              "      <td>0</td>\n",
              "      <td>0</td>\n",
              "      <td>...</td>\n",
              "      <td>0</td>\n",
              "      <td>0</td>\n",
              "      <td>0</td>\n",
              "      <td>0</td>\n",
              "      <td>0</td>\n",
              "      <td>0</td>\n",
              "      <td>0</td>\n",
              "      <td>0</td>\n",
              "      <td>0</td>\n",
              "      <td>0</td>\n",
              "    </tr>\n",
              "    <tr>\n",
              "      <th>3</th>\n",
              "      <td>5</td>\n",
              "      <td>0</td>\n",
              "      <td>0</td>\n",
              "      <td>0</td>\n",
              "      <td>0</td>\n",
              "      <td>0</td>\n",
              "      <td>0</td>\n",
              "      <td>0</td>\n",
              "      <td>0</td>\n",
              "      <td>0</td>\n",
              "      <td>...</td>\n",
              "      <td>0</td>\n",
              "      <td>0</td>\n",
              "      <td>0</td>\n",
              "      <td>0</td>\n",
              "      <td>0</td>\n",
              "      <td>0</td>\n",
              "      <td>0</td>\n",
              "      <td>0</td>\n",
              "      <td>0</td>\n",
              "      <td>0</td>\n",
              "    </tr>\n",
              "    <tr>\n",
              "      <th>4</th>\n",
              "      <td>2</td>\n",
              "      <td>0</td>\n",
              "      <td>0</td>\n",
              "      <td>0</td>\n",
              "      <td>0</td>\n",
              "      <td>0</td>\n",
              "      <td>0</td>\n",
              "      <td>0</td>\n",
              "      <td>0</td>\n",
              "      <td>0</td>\n",
              "      <td>...</td>\n",
              "      <td>0</td>\n",
              "      <td>0</td>\n",
              "      <td>0</td>\n",
              "      <td>0</td>\n",
              "      <td>0</td>\n",
              "      <td>0</td>\n",
              "      <td>0</td>\n",
              "      <td>0</td>\n",
              "      <td>0</td>\n",
              "      <td>0</td>\n",
              "    </tr>\n",
              "  </tbody>\n",
              "</table>\n",
              "<p>5 rows × 785 columns</p>\n",
              "</div>\n",
              "      <button class=\"colab-df-convert\" onclick=\"convertToInteractive('df-1bc5cbad-eaf2-45fa-808f-2d3705fa1505')\"\n",
              "              title=\"Convert this dataframe to an interactive table.\"\n",
              "              style=\"display:none;\">\n",
              "        \n",
              "  <svg xmlns=\"http://www.w3.org/2000/svg\" height=\"24px\"viewBox=\"0 0 24 24\"\n",
              "       width=\"24px\">\n",
              "    <path d=\"M0 0h24v24H0V0z\" fill=\"none\"/>\n",
              "    <path d=\"M18.56 5.44l.94 2.06.94-2.06 2.06-.94-2.06-.94-.94-2.06-.94 2.06-2.06.94zm-11 1L8.5 8.5l.94-2.06 2.06-.94-2.06-.94L8.5 2.5l-.94 2.06-2.06.94zm10 10l.94 2.06.94-2.06 2.06-.94-2.06-.94-.94-2.06-.94 2.06-2.06.94z\"/><path d=\"M17.41 7.96l-1.37-1.37c-.4-.4-.92-.59-1.43-.59-.52 0-1.04.2-1.43.59L10.3 9.45l-7.72 7.72c-.78.78-.78 2.05 0 2.83L4 21.41c.39.39.9.59 1.41.59.51 0 1.02-.2 1.41-.59l7.78-7.78 2.81-2.81c.8-.78.8-2.07 0-2.86zM5.41 20L4 18.59l7.72-7.72 1.47 1.35L5.41 20z\"/>\n",
              "  </svg>\n",
              "      </button>\n",
              "      \n",
              "  <style>\n",
              "    .colab-df-container {\n",
              "      display:flex;\n",
              "      flex-wrap:wrap;\n",
              "      gap: 12px;\n",
              "    }\n",
              "\n",
              "    .colab-df-convert {\n",
              "      background-color: #E8F0FE;\n",
              "      border: none;\n",
              "      border-radius: 50%;\n",
              "      cursor: pointer;\n",
              "      display: none;\n",
              "      fill: #1967D2;\n",
              "      height: 32px;\n",
              "      padding: 0 0 0 0;\n",
              "      width: 32px;\n",
              "    }\n",
              "\n",
              "    .colab-df-convert:hover {\n",
              "      background-color: #E2EBFA;\n",
              "      box-shadow: 0px 1px 2px rgba(60, 64, 67, 0.3), 0px 1px 3px 1px rgba(60, 64, 67, 0.15);\n",
              "      fill: #174EA6;\n",
              "    }\n",
              "\n",
              "    [theme=dark] .colab-df-convert {\n",
              "      background-color: #3B4455;\n",
              "      fill: #D2E3FC;\n",
              "    }\n",
              "\n",
              "    [theme=dark] .colab-df-convert:hover {\n",
              "      background-color: #434B5C;\n",
              "      box-shadow: 0px 1px 3px 1px rgba(0, 0, 0, 0.15);\n",
              "      filter: drop-shadow(0px 1px 2px rgba(0, 0, 0, 0.3));\n",
              "      fill: #FFFFFF;\n",
              "    }\n",
              "  </style>\n",
              "\n",
              "      <script>\n",
              "        const buttonEl =\n",
              "          document.querySelector('#df-1bc5cbad-eaf2-45fa-808f-2d3705fa1505 button.colab-df-convert');\n",
              "        buttonEl.style.display =\n",
              "          google.colab.kernel.accessAllowed ? 'block' : 'none';\n",
              "\n",
              "        async function convertToInteractive(key) {\n",
              "          const element = document.querySelector('#df-1bc5cbad-eaf2-45fa-808f-2d3705fa1505');\n",
              "          const dataTable =\n",
              "            await google.colab.kernel.invokeFunction('convertToInteractive',\n",
              "                                                     [key], {});\n",
              "          if (!dataTable) return;\n",
              "\n",
              "          const docLinkHtml = 'Like what you see? Visit the ' +\n",
              "            '<a target=\"_blank\" href=https://colab.research.google.com/notebooks/data_table.ipynb>data table notebook</a>'\n",
              "            + ' to learn more about interactive tables.';\n",
              "          element.innerHTML = '';\n",
              "          dataTable['output_type'] = 'display_data';\n",
              "          await google.colab.output.renderOutput(dataTable, element);\n",
              "          const docLink = document.createElement('div');\n",
              "          docLink.innerHTML = docLinkHtml;\n",
              "          element.appendChild(docLink);\n",
              "        }\n",
              "      </script>\n",
              "    </div>\n",
              "  </div>\n",
              "  "
            ]
          },
          "metadata": {},
          "execution_count": 153
        }
      ]
    },
    {
      "cell_type": "code",
      "source": [
        "mnist.shape #displays tuple (no. of rows, no. of columns)"
      ],
      "metadata": {
        "colab": {
          "base_uri": "https://localhost:8080/"
        },
        "id": "37qbyvdBOyEI",
        "outputId": "e4e34017-a8c5-4577-d01f-faeddf600efd"
      },
      "execution_count": 154,
      "outputs": [
        {
          "output_type": "execute_result",
          "data": {
            "text/plain": [
              "(19999, 785)"
            ]
          },
          "metadata": {},
          "execution_count": 154
        }
      ]
    },
    {
      "cell_type": "markdown",
      "source": [
        "\n",
        "\n",
        "*   There are the two ways of selecting a specific Series/Column out of a DataFrame:\n",
        "*   In Python, we can access the property of an object by accessing it as an attribute.\n",
        "*   Columns in a pandas DataFrame work in much the same way.\n",
        "\n"
      ],
      "metadata": {
        "id": "wl2bllGqUMhY"
      }
    },
    {
      "cell_type": "code",
      "source": [
        "#Example:\n",
        "animals.Cows"
      ],
      "metadata": {
        "colab": {
          "base_uri": "https://localhost:8080/"
        },
        "id": "pqJjV-vePdy4",
        "outputId": "18222bbd-414e-4b7f-feee-2c118f172c17"
      },
      "execution_count": 155,
      "outputs": [
        {
          "output_type": "execute_result",
          "data": {
            "text/plain": [
              "Year 1    12\n",
              "Year 2    20\n",
              "Year 3    21\n",
              "Name: Cows, dtype: int64"
            ]
          },
          "metadata": {},
          "execution_count": 155
        }
      ]
    },
    {
      "cell_type": "markdown",
      "source": [
        "\n",
        "\n",
        "*   If we have a Python dictionary, we can access its values using the indexing ([ ]) operator. We can do the same with columns in a DataFrame.\n",
        "*   The indexing operator [ ] does have the advantage that it can handle column names with reserved characters in them.\n",
        "*   (e.g. if we had a *country providence* column, *reviews.country providence* wouldn't work).\n",
        "\n"
      ],
      "metadata": {
        "id": "f8TbIkyJU9iw"
      }
    },
    {
      "cell_type": "code",
      "source": [
        "animals['Cows']"
      ],
      "metadata": {
        "colab": {
          "base_uri": "https://localhost:8080/"
        },
        "id": "1oeVuH-_rS_K",
        "outputId": "5b59037a-e6db-4bfd-ba5c-cc56a515fec3"
      },
      "execution_count": 156,
      "outputs": [
        {
          "output_type": "execute_result",
          "data": {
            "text/plain": [
              "Year 1    12\n",
              "Year 2    20\n",
              "Year 3    21\n",
              "Name: Cows, dtype: int64"
            ]
          },
          "metadata": {},
          "execution_count": 156
        }
      ]
    },
    {
      "cell_type": "code",
      "source": [
        "mnist['0.1']"
      ],
      "metadata": {
        "colab": {
          "base_uri": "https://localhost:8080/"
        },
        "id": "3Ke8sVXKVCfW",
        "outputId": "f0a2c9aa-c5fa-45d0-b7ea-1f4ee109f5cb"
      },
      "execution_count": 157,
      "outputs": [
        {
          "output_type": "execute_result",
          "data": {
            "text/plain": [
              "0        0\n",
              "1        0\n",
              "2        0\n",
              "3        0\n",
              "4        0\n",
              "        ..\n",
              "19994    0\n",
              "19995    0\n",
              "19996    0\n",
              "19997    0\n",
              "19998    0\n",
              "Name: 0.1, Length: 19999, dtype: int64"
            ]
          },
          "metadata": {},
          "execution_count": 157
        }
      ]
    },
    {
      "cell_type": "markdown",
      "source": [
        "*   Like in a dictionary, to drill down to a single specific value, we need only use the indexing operator [] once more:"
      ],
      "metadata": {
        "id": "G50PVZGLVtLv"
      }
    },
    {
      "cell_type": "code",
      "source": [
        "# Method-1\n",
        "mnist['0.1'][0]"
      ],
      "metadata": {
        "colab": {
          "base_uri": "https://localhost:8080/"
        },
        "id": "vh1iF0DlWYQ0",
        "outputId": "2a474aec-2903-463a-c5de-26ba39afecbc"
      },
      "execution_count": 158,
      "outputs": [
        {
          "output_type": "execute_result",
          "data": {
            "text/plain": [
              "0"
            ]
          },
          "metadata": {},
          "execution_count": 158
        }
      ]
    },
    {
      "cell_type": "code",
      "source": [
        "# methos-2\n",
        "animals.Cows.iloc[0] #PREFERRED WAY"
      ],
      "metadata": {
        "colab": {
          "base_uri": "https://localhost:8080/"
        },
        "id": "3f1bYOP-shB-",
        "outputId": "abf3a86d-007b-43b7-c72c-211fb6adfa22"
      },
      "execution_count": 159,
      "outputs": [
        {
          "output_type": "execute_result",
          "data": {
            "text/plain": [
              "12"
            ]
          },
          "metadata": {},
          "execution_count": 159
        }
      ]
    },
    {
      "cell_type": "markdown",
      "source": [
        "**Indexing in Pandas:**\n",
        "*   pandas has its own accessor operators, *loc* and *iloc*.\n",
        "*   Pandas indexing works in one of two paradigms:"
      ],
      "metadata": {
        "id": "aFfpBdCSWpHr"
      }
    },
    {
      "cell_type": "markdown",
      "source": [
        "The first is **index-based selection**:\n",
        "*   selecting data based on its numerical position in the data.\n",
        "*   *iloc* follows this paradigm."
      ],
      "metadata": {
        "id": "8opmL8zOXPX9"
      }
    },
    {
      "cell_type": "code",
      "source": [
        "#To select the first row of data in a DataFrame, we may use the following:\n",
        "\n",
        "mnist.iloc[0]"
      ],
      "metadata": {
        "colab": {
          "base_uri": "https://localhost:8080/"
        },
        "id": "kn8xfbXlXur4",
        "outputId": "1f782a08-26bc-43d9-a7c4-300c208022ea"
      },
      "execution_count": 160,
      "outputs": [
        {
          "output_type": "execute_result",
          "data": {
            "text/plain": [
              "6        5\n",
              "0        0\n",
              "0.1      0\n",
              "0.2      0\n",
              "0.3      0\n",
              "        ..\n",
              "0.586    0\n",
              "0.587    0\n",
              "0.588    0\n",
              "0.589    0\n",
              "0.590    0\n",
              "Name: 0, Length: 785, dtype: int64"
            ]
          },
          "metadata": {},
          "execution_count": 160
        }
      ]
    },
    {
      "cell_type": "markdown",
      "source": [
        "\n",
        "\n",
        "*   Both *loc* and *iloc* are row-first, column-second. This is the opposite of what we do in native Python, which is column-first, row-second.\n",
        "*   This means that it's marginally easier to retrieve rows, and marginally harder to get retrieve columns.\n"
      ],
      "metadata": {
        "id": "vz746jYQYKTM"
      }
    },
    {
      "cell_type": "code",
      "source": [
        "#To get column with iloc, we can do the following:\n",
        "mnist.iloc[:, 0]"
      ],
      "metadata": {
        "colab": {
          "base_uri": "https://localhost:8080/"
        },
        "id": "OXb3i-oSYlt3",
        "outputId": "b20aa98a-952c-4aa2-d3bf-3c04e6ffd7e6"
      },
      "execution_count": 161,
      "outputs": [
        {
          "output_type": "execute_result",
          "data": {
            "text/plain": [
              "0        5\n",
              "1        7\n",
              "2        9\n",
              "3        5\n",
              "4        2\n",
              "        ..\n",
              "19994    0\n",
              "19995    1\n",
              "19996    2\n",
              "19997    9\n",
              "19998    5\n",
              "Name: 6, Length: 19999, dtype: int64"
            ]
          },
          "metadata": {},
          "execution_count": 161
        }
      ]
    },
    {
      "cell_type": "code",
      "source": [
        "#To select the 0th index column from just the second, and third row, we would do:\n",
        "#Method-1:\n",
        "mnist.iloc[1:3, 0]"
      ],
      "metadata": {
        "colab": {
          "base_uri": "https://localhost:8080/"
        },
        "id": "3DsHgHjnYyea",
        "outputId": "19ef1309-e801-4db7-f331-3981ef668eb0"
      },
      "execution_count": 162,
      "outputs": [
        {
          "output_type": "execute_result",
          "data": {
            "text/plain": [
              "1    7\n",
              "2    9\n",
              "Name: 6, dtype: int64"
            ]
          },
          "metadata": {},
          "execution_count": 162
        }
      ]
    },
    {
      "cell_type": "code",
      "source": [
        "#Method-2: We can also pass a list:\n",
        "mnist.iloc[[1, 2], 0]"
      ],
      "metadata": {
        "colab": {
          "base_uri": "https://localhost:8080/"
        },
        "id": "EhpOCAaMZvjW",
        "outputId": "e43030f6-680e-4449-a732-4050c6ae4850"
      },
      "execution_count": 163,
      "outputs": [
        {
          "output_type": "execute_result",
          "data": {
            "text/plain": [
              "1    7\n",
              "2    9\n",
              "Name: 6, dtype: int64"
            ]
          },
          "metadata": {},
          "execution_count": 163
        }
      ]
    },
    {
      "cell_type": "code",
      "source": [
        "#We can also use -ve values:\n",
        "mnist.iloc[-5:, -6:]\n",
        "#rows: 5th from last to last\n",
        "#columns: 6th form last to last"
      ],
      "metadata": {
        "colab": {
          "base_uri": "https://localhost:8080/",
          "height": 206
        },
        "id": "ZOaba_avaTMg",
        "outputId": "fdd77bdb-7ec4-4dd1-a4bc-08c5f6f1c8ca"
      },
      "execution_count": 164,
      "outputs": [
        {
          "output_type": "execute_result",
          "data": {
            "text/plain": [
              "       0.585  0.586  0.587  0.588  0.589  0.590\n",
              "19994      0      0      0      0      0      0\n",
              "19995      0      0      0      0      0      0\n",
              "19996      0      0      0      0      0      0\n",
              "19997      0      0      0      0      0      0\n",
              "19998      0      0      0      0      0      0"
            ],
            "text/html": [
              "\n",
              "  <div id=\"df-77a6f101-5735-4b2d-8ee3-96d69095b93e\">\n",
              "    <div class=\"colab-df-container\">\n",
              "      <div>\n",
              "<style scoped>\n",
              "    .dataframe tbody tr th:only-of-type {\n",
              "        vertical-align: middle;\n",
              "    }\n",
              "\n",
              "    .dataframe tbody tr th {\n",
              "        vertical-align: top;\n",
              "    }\n",
              "\n",
              "    .dataframe thead th {\n",
              "        text-align: right;\n",
              "    }\n",
              "</style>\n",
              "<table border=\"1\" class=\"dataframe\">\n",
              "  <thead>\n",
              "    <tr style=\"text-align: right;\">\n",
              "      <th></th>\n",
              "      <th>0.585</th>\n",
              "      <th>0.586</th>\n",
              "      <th>0.587</th>\n",
              "      <th>0.588</th>\n",
              "      <th>0.589</th>\n",
              "      <th>0.590</th>\n",
              "    </tr>\n",
              "  </thead>\n",
              "  <tbody>\n",
              "    <tr>\n",
              "      <th>19994</th>\n",
              "      <td>0</td>\n",
              "      <td>0</td>\n",
              "      <td>0</td>\n",
              "      <td>0</td>\n",
              "      <td>0</td>\n",
              "      <td>0</td>\n",
              "    </tr>\n",
              "    <tr>\n",
              "      <th>19995</th>\n",
              "      <td>0</td>\n",
              "      <td>0</td>\n",
              "      <td>0</td>\n",
              "      <td>0</td>\n",
              "      <td>0</td>\n",
              "      <td>0</td>\n",
              "    </tr>\n",
              "    <tr>\n",
              "      <th>19996</th>\n",
              "      <td>0</td>\n",
              "      <td>0</td>\n",
              "      <td>0</td>\n",
              "      <td>0</td>\n",
              "      <td>0</td>\n",
              "      <td>0</td>\n",
              "    </tr>\n",
              "    <tr>\n",
              "      <th>19997</th>\n",
              "      <td>0</td>\n",
              "      <td>0</td>\n",
              "      <td>0</td>\n",
              "      <td>0</td>\n",
              "      <td>0</td>\n",
              "      <td>0</td>\n",
              "    </tr>\n",
              "    <tr>\n",
              "      <th>19998</th>\n",
              "      <td>0</td>\n",
              "      <td>0</td>\n",
              "      <td>0</td>\n",
              "      <td>0</td>\n",
              "      <td>0</td>\n",
              "      <td>0</td>\n",
              "    </tr>\n",
              "  </tbody>\n",
              "</table>\n",
              "</div>\n",
              "      <button class=\"colab-df-convert\" onclick=\"convertToInteractive('df-77a6f101-5735-4b2d-8ee3-96d69095b93e')\"\n",
              "              title=\"Convert this dataframe to an interactive table.\"\n",
              "              style=\"display:none;\">\n",
              "        \n",
              "  <svg xmlns=\"http://www.w3.org/2000/svg\" height=\"24px\"viewBox=\"0 0 24 24\"\n",
              "       width=\"24px\">\n",
              "    <path d=\"M0 0h24v24H0V0z\" fill=\"none\"/>\n",
              "    <path d=\"M18.56 5.44l.94 2.06.94-2.06 2.06-.94-2.06-.94-.94-2.06-.94 2.06-2.06.94zm-11 1L8.5 8.5l.94-2.06 2.06-.94-2.06-.94L8.5 2.5l-.94 2.06-2.06.94zm10 10l.94 2.06.94-2.06 2.06-.94-2.06-.94-.94-2.06-.94 2.06-2.06.94z\"/><path d=\"M17.41 7.96l-1.37-1.37c-.4-.4-.92-.59-1.43-.59-.52 0-1.04.2-1.43.59L10.3 9.45l-7.72 7.72c-.78.78-.78 2.05 0 2.83L4 21.41c.39.39.9.59 1.41.59.51 0 1.02-.2 1.41-.59l7.78-7.78 2.81-2.81c.8-.78.8-2.07 0-2.86zM5.41 20L4 18.59l7.72-7.72 1.47 1.35L5.41 20z\"/>\n",
              "  </svg>\n",
              "      </button>\n",
              "      \n",
              "  <style>\n",
              "    .colab-df-container {\n",
              "      display:flex;\n",
              "      flex-wrap:wrap;\n",
              "      gap: 12px;\n",
              "    }\n",
              "\n",
              "    .colab-df-convert {\n",
              "      background-color: #E8F0FE;\n",
              "      border: none;\n",
              "      border-radius: 50%;\n",
              "      cursor: pointer;\n",
              "      display: none;\n",
              "      fill: #1967D2;\n",
              "      height: 32px;\n",
              "      padding: 0 0 0 0;\n",
              "      width: 32px;\n",
              "    }\n",
              "\n",
              "    .colab-df-convert:hover {\n",
              "      background-color: #E2EBFA;\n",
              "      box-shadow: 0px 1px 2px rgba(60, 64, 67, 0.3), 0px 1px 3px 1px rgba(60, 64, 67, 0.15);\n",
              "      fill: #174EA6;\n",
              "    }\n",
              "\n",
              "    [theme=dark] .colab-df-convert {\n",
              "      background-color: #3B4455;\n",
              "      fill: #D2E3FC;\n",
              "    }\n",
              "\n",
              "    [theme=dark] .colab-df-convert:hover {\n",
              "      background-color: #434B5C;\n",
              "      box-shadow: 0px 1px 3px 1px rgba(0, 0, 0, 0.15);\n",
              "      filter: drop-shadow(0px 1px 2px rgba(0, 0, 0, 0.3));\n",
              "      fill: #FFFFFF;\n",
              "    }\n",
              "  </style>\n",
              "\n",
              "      <script>\n",
              "        const buttonEl =\n",
              "          document.querySelector('#df-77a6f101-5735-4b2d-8ee3-96d69095b93e button.colab-df-convert');\n",
              "        buttonEl.style.display =\n",
              "          google.colab.kernel.accessAllowed ? 'block' : 'none';\n",
              "\n",
              "        async function convertToInteractive(key) {\n",
              "          const element = document.querySelector('#df-77a6f101-5735-4b2d-8ee3-96d69095b93e');\n",
              "          const dataTable =\n",
              "            await google.colab.kernel.invokeFunction('convertToInteractive',\n",
              "                                                     [key], {});\n",
              "          if (!dataTable) return;\n",
              "\n",
              "          const docLinkHtml = 'Like what you see? Visit the ' +\n",
              "            '<a target=\"_blank\" href=https://colab.research.google.com/notebooks/data_table.ipynb>data table notebook</a>'\n",
              "            + ' to learn more about interactive tables.';\n",
              "          element.innerHTML = '';\n",
              "          dataTable['output_type'] = 'display_data';\n",
              "          await google.colab.output.renderOutput(dataTable, element);\n",
              "          const docLink = document.createElement('div');\n",
              "          docLink.innerHTML = docLinkHtml;\n",
              "          element.appendChild(docLink);\n",
              "        }\n",
              "      </script>\n",
              "    </div>\n",
              "  </div>\n",
              "  "
            ]
          },
          "metadata": {},
          "execution_count": 164
        }
      ]
    },
    {
      "cell_type": "markdown",
      "source": [
        "\n",
        "\n",
        "The second paradigm for attribute selection is the one followed by the *loc* operator: **label-based selection**.\n",
        "*   In this paradigm, it's the data index value, not its position, which matters.\n",
        "\n"
      ],
      "metadata": {
        "id": "1vlpbBwibMa3"
      }
    },
    {
      "cell_type": "code",
      "source": [
        "# For example, to get the first 2 entries ogf 1st row in 'mnist', we would now do the following:\n",
        "mnist.loc[0:1, '6']"
      ],
      "metadata": {
        "colab": {
          "base_uri": "https://localhost:8080/"
        },
        "id": "BP5bETlIa1Qv",
        "outputId": "5ae12152-12eb-4b6f-ce4b-ef44c0dda6b3"
      },
      "execution_count": 165,
      "outputs": [
        {
          "output_type": "execute_result",
          "data": {
            "text/plain": [
              "0    5\n",
              "1    7\n",
              "Name: 6, dtype: int64"
            ]
          },
          "metadata": {},
          "execution_count": 165
        }
      ]
    },
    {
      "cell_type": "markdown",
      "source": [
        "**Choosing between loc and iloc:**\n",
        "\n",
        "*   When choosing or transitioning between *loc* and *iloc*, keep in mind that the two methods use slightly different indexing schemes.\n",
        "*   *iloc* uses the Python stdlib indexing scheme, where the first element of the range is included and the last one excluded. So 0:10 will select entries 0,...,9.\n",
        "*   *loc*, meanwhile, indexes inclusively. So 0:10 will select entries 0,...,10.\n",
        "\n",
        "Why the change?\n",
        "*   Remember that *loc* can index any stdlib type: strings, for example.\n",
        "*   If we have a DataFrame with index values Apples, ..., Potatoes, ..., and we want to select \"all the alphabetical fruit choices between Apples and Potatoes\", then it's a lot more convenient to index df.loc['Apples':'Potatoes'] than it is to index something like df.loc['Apples', 'Potatoet'] (t coming after s in the alphabet).\n",
        "*   This is particularly confusing when the DataFrame index is a simple numerical list, e.g. 0,...,1000. In this case df.iloc[0:1000] will return 1000 entries, while df.loc[0:1000] return 1001 of them! To get 1000 elements using loc, you will need to go one lower and ask for df.loc[0:999]."
      ],
      "metadata": {
        "id": "rh1LgX0Rgef3"
      }
    },
    {
      "cell_type": "markdown",
      "source": [
        "**Manipulating the index:**\n",
        "*   Label-based selection derives its power from the labels in the index.\n",
        "*   Critically, the index we use is **mutable**,i.e., we can manipulate the index in any way we see fit.\n",
        "*   useful if you can come up with an index for the dataset which is better than the current one.\n",
        "*   The *set_index()* method can be used to do the job.\n",
        "*   *set_index* sets the DataFrame index (row labels) using one or more existing columns or arrays (of the correct length). The index can replace the existing index or expand on it."
      ],
      "metadata": {
        "id": "lfd7LiQJipRT"
      }
    },
    {
      "cell_type": "code",
      "source": [
        "animals.set_index(\"Year\")"
      ],
      "metadata": {
        "colab": {
          "base_uri": "https://localhost:8080/",
          "height": 175
        },
        "id": "dtDynhZRlymD",
        "outputId": "12dc013c-491a-4920-ca80-23a205786518"
      },
      "execution_count": 166,
      "outputs": [
        {
          "output_type": "execute_result",
          "data": {
            "text/plain": [
              "      Cows  Goats\n",
              "Year             \n",
              "2015    12     22\n",
              "2016    20     19\n",
              "2017    21     18"
            ],
            "text/html": [
              "\n",
              "  <div id=\"df-ba8bb4fe-2293-4160-ac8e-b7dd1bda9e2b\">\n",
              "    <div class=\"colab-df-container\">\n",
              "      <div>\n",
              "<style scoped>\n",
              "    .dataframe tbody tr th:only-of-type {\n",
              "        vertical-align: middle;\n",
              "    }\n",
              "\n",
              "    .dataframe tbody tr th {\n",
              "        vertical-align: top;\n",
              "    }\n",
              "\n",
              "    .dataframe thead th {\n",
              "        text-align: right;\n",
              "    }\n",
              "</style>\n",
              "<table border=\"1\" class=\"dataframe\">\n",
              "  <thead>\n",
              "    <tr style=\"text-align: right;\">\n",
              "      <th></th>\n",
              "      <th>Cows</th>\n",
              "      <th>Goats</th>\n",
              "    </tr>\n",
              "    <tr>\n",
              "      <th>Year</th>\n",
              "      <th></th>\n",
              "      <th></th>\n",
              "    </tr>\n",
              "  </thead>\n",
              "  <tbody>\n",
              "    <tr>\n",
              "      <th>2015</th>\n",
              "      <td>12</td>\n",
              "      <td>22</td>\n",
              "    </tr>\n",
              "    <tr>\n",
              "      <th>2016</th>\n",
              "      <td>20</td>\n",
              "      <td>19</td>\n",
              "    </tr>\n",
              "    <tr>\n",
              "      <th>2017</th>\n",
              "      <td>21</td>\n",
              "      <td>18</td>\n",
              "    </tr>\n",
              "  </tbody>\n",
              "</table>\n",
              "</div>\n",
              "      <button class=\"colab-df-convert\" onclick=\"convertToInteractive('df-ba8bb4fe-2293-4160-ac8e-b7dd1bda9e2b')\"\n",
              "              title=\"Convert this dataframe to an interactive table.\"\n",
              "              style=\"display:none;\">\n",
              "        \n",
              "  <svg xmlns=\"http://www.w3.org/2000/svg\" height=\"24px\"viewBox=\"0 0 24 24\"\n",
              "       width=\"24px\">\n",
              "    <path d=\"M0 0h24v24H0V0z\" fill=\"none\"/>\n",
              "    <path d=\"M18.56 5.44l.94 2.06.94-2.06 2.06-.94-2.06-.94-.94-2.06-.94 2.06-2.06.94zm-11 1L8.5 8.5l.94-2.06 2.06-.94-2.06-.94L8.5 2.5l-.94 2.06-2.06.94zm10 10l.94 2.06.94-2.06 2.06-.94-2.06-.94-.94-2.06-.94 2.06-2.06.94z\"/><path d=\"M17.41 7.96l-1.37-1.37c-.4-.4-.92-.59-1.43-.59-.52 0-1.04.2-1.43.59L10.3 9.45l-7.72 7.72c-.78.78-.78 2.05 0 2.83L4 21.41c.39.39.9.59 1.41.59.51 0 1.02-.2 1.41-.59l7.78-7.78 2.81-2.81c.8-.78.8-2.07 0-2.86zM5.41 20L4 18.59l7.72-7.72 1.47 1.35L5.41 20z\"/>\n",
              "  </svg>\n",
              "      </button>\n",
              "      \n",
              "  <style>\n",
              "    .colab-df-container {\n",
              "      display:flex;\n",
              "      flex-wrap:wrap;\n",
              "      gap: 12px;\n",
              "    }\n",
              "\n",
              "    .colab-df-convert {\n",
              "      background-color: #E8F0FE;\n",
              "      border: none;\n",
              "      border-radius: 50%;\n",
              "      cursor: pointer;\n",
              "      display: none;\n",
              "      fill: #1967D2;\n",
              "      height: 32px;\n",
              "      padding: 0 0 0 0;\n",
              "      width: 32px;\n",
              "    }\n",
              "\n",
              "    .colab-df-convert:hover {\n",
              "      background-color: #E2EBFA;\n",
              "      box-shadow: 0px 1px 2px rgba(60, 64, 67, 0.3), 0px 1px 3px 1px rgba(60, 64, 67, 0.15);\n",
              "      fill: #174EA6;\n",
              "    }\n",
              "\n",
              "    [theme=dark] .colab-df-convert {\n",
              "      background-color: #3B4455;\n",
              "      fill: #D2E3FC;\n",
              "    }\n",
              "\n",
              "    [theme=dark] .colab-df-convert:hover {\n",
              "      background-color: #434B5C;\n",
              "      box-shadow: 0px 1px 3px 1px rgba(0, 0, 0, 0.15);\n",
              "      filter: drop-shadow(0px 1px 2px rgba(0, 0, 0, 0.3));\n",
              "      fill: #FFFFFF;\n",
              "    }\n",
              "  </style>\n",
              "\n",
              "      <script>\n",
              "        const buttonEl =\n",
              "          document.querySelector('#df-ba8bb4fe-2293-4160-ac8e-b7dd1bda9e2b button.colab-df-convert');\n",
              "        buttonEl.style.display =\n",
              "          google.colab.kernel.accessAllowed ? 'block' : 'none';\n",
              "\n",
              "        async function convertToInteractive(key) {\n",
              "          const element = document.querySelector('#df-ba8bb4fe-2293-4160-ac8e-b7dd1bda9e2b');\n",
              "          const dataTable =\n",
              "            await google.colab.kernel.invokeFunction('convertToInteractive',\n",
              "                                                     [key], {});\n",
              "          if (!dataTable) return;\n",
              "\n",
              "          const docLinkHtml = 'Like what you see? Visit the ' +\n",
              "            '<a target=\"_blank\" href=https://colab.research.google.com/notebooks/data_table.ipynb>data table notebook</a>'\n",
              "            + ' to learn more about interactive tables.';\n",
              "          element.innerHTML = '';\n",
              "          dataTable['output_type'] = 'display_data';\n",
              "          await google.colab.output.renderOutput(dataTable, element);\n",
              "          const docLink = document.createElement('div');\n",
              "          docLink.innerHTML = docLinkHtml;\n",
              "          element.appendChild(docLink);\n",
              "        }\n",
              "      </script>\n",
              "    </div>\n",
              "  </div>\n",
              "  "
            ]
          },
          "metadata": {},
          "execution_count": 166
        }
      ]
    },
    {
      "cell_type": "markdown",
      "source": [
        "**Conditional Selection:**\n",
        "*   Refer: https://www.kaggle.com/code/residentmario/indexing-selecting-assigning/tutorial#Conditional-selection\n",
        "*   Example: *reviews.loc[(reviews.country == 'Italy') | (reviews.points >= 90)]* -> selects any wine that's made in Italy or which is rated above average (avg = 90)"
      ],
      "metadata": {
        "id": "s-cjWaYwP_uw"
      }
    },
    {
      "cell_type": "markdown",
      "source": [
        "Few **Built-in Conditional Operators**:\n",
        "1. *isin* : \n",
        " * *isin* lets you select data whose value \"is in\" a list of values.\n",
        " * For example: here's how we can use it to select wines only from Italy or France: *reviews.loc[reviews.country.isin(['Italy', 'France'])]*\n",
        "\n",
        "2. *isnull* (and its companion *notnull*):\n",
        " * These methods let you highlight values which are (or are not) empty (NaN)\n",
        " * For example, to filter out wines having a price tag in the dataset, here's what we would do: *reviews.loc[reviews.price.notnull()]*"
      ],
      "metadata": {
        "id": "lSSBIPSFRLxw"
      }
    },
    {
      "cell_type": "markdown",
      "source": [
        "**Assigning data:**\n",
        "* assigning data to a DataFrame is easy.\n",
        "* You can assign either a constant value:"
      ],
      "metadata": {
        "id": "33-UipXnTKvm"
      }
    },
    {
      "cell_type": "code",
      "source": [
        "animals['Survey_Organization'] = 'Govt.'\n",
        "animals"
      ],
      "metadata": {
        "colab": {
          "base_uri": "https://localhost:8080/",
          "height": 143
        },
        "id": "TWVks3GSTY68",
        "outputId": "7b357dc3-2dec-4bd4-ebca-df6e2185bb54"
      },
      "execution_count": 167,
      "outputs": [
        {
          "output_type": "execute_result",
          "data": {
            "text/plain": [
              "        Year  Cows  Goats Survey_Organization\n",
              "Year 1  2015    12     22               Govt.\n",
              "Year 2  2016    20     19               Govt.\n",
              "Year 3  2017    21     18               Govt."
            ],
            "text/html": [
              "\n",
              "  <div id=\"df-8868eaa5-cbca-49d1-8a19-c29c3cd3e965\">\n",
              "    <div class=\"colab-df-container\">\n",
              "      <div>\n",
              "<style scoped>\n",
              "    .dataframe tbody tr th:only-of-type {\n",
              "        vertical-align: middle;\n",
              "    }\n",
              "\n",
              "    .dataframe tbody tr th {\n",
              "        vertical-align: top;\n",
              "    }\n",
              "\n",
              "    .dataframe thead th {\n",
              "        text-align: right;\n",
              "    }\n",
              "</style>\n",
              "<table border=\"1\" class=\"dataframe\">\n",
              "  <thead>\n",
              "    <tr style=\"text-align: right;\">\n",
              "      <th></th>\n",
              "      <th>Year</th>\n",
              "      <th>Cows</th>\n",
              "      <th>Goats</th>\n",
              "      <th>Survey_Organization</th>\n",
              "    </tr>\n",
              "  </thead>\n",
              "  <tbody>\n",
              "    <tr>\n",
              "      <th>Year 1</th>\n",
              "      <td>2015</td>\n",
              "      <td>12</td>\n",
              "      <td>22</td>\n",
              "      <td>Govt.</td>\n",
              "    </tr>\n",
              "    <tr>\n",
              "      <th>Year 2</th>\n",
              "      <td>2016</td>\n",
              "      <td>20</td>\n",
              "      <td>19</td>\n",
              "      <td>Govt.</td>\n",
              "    </tr>\n",
              "    <tr>\n",
              "      <th>Year 3</th>\n",
              "      <td>2017</td>\n",
              "      <td>21</td>\n",
              "      <td>18</td>\n",
              "      <td>Govt.</td>\n",
              "    </tr>\n",
              "  </tbody>\n",
              "</table>\n",
              "</div>\n",
              "      <button class=\"colab-df-convert\" onclick=\"convertToInteractive('df-8868eaa5-cbca-49d1-8a19-c29c3cd3e965')\"\n",
              "              title=\"Convert this dataframe to an interactive table.\"\n",
              "              style=\"display:none;\">\n",
              "        \n",
              "  <svg xmlns=\"http://www.w3.org/2000/svg\" height=\"24px\"viewBox=\"0 0 24 24\"\n",
              "       width=\"24px\">\n",
              "    <path d=\"M0 0h24v24H0V0z\" fill=\"none\"/>\n",
              "    <path d=\"M18.56 5.44l.94 2.06.94-2.06 2.06-.94-2.06-.94-.94-2.06-.94 2.06-2.06.94zm-11 1L8.5 8.5l.94-2.06 2.06-.94-2.06-.94L8.5 2.5l-.94 2.06-2.06.94zm10 10l.94 2.06.94-2.06 2.06-.94-2.06-.94-.94-2.06-.94 2.06-2.06.94z\"/><path d=\"M17.41 7.96l-1.37-1.37c-.4-.4-.92-.59-1.43-.59-.52 0-1.04.2-1.43.59L10.3 9.45l-7.72 7.72c-.78.78-.78 2.05 0 2.83L4 21.41c.39.39.9.59 1.41.59.51 0 1.02-.2 1.41-.59l7.78-7.78 2.81-2.81c.8-.78.8-2.07 0-2.86zM5.41 20L4 18.59l7.72-7.72 1.47 1.35L5.41 20z\"/>\n",
              "  </svg>\n",
              "      </button>\n",
              "      \n",
              "  <style>\n",
              "    .colab-df-container {\n",
              "      display:flex;\n",
              "      flex-wrap:wrap;\n",
              "      gap: 12px;\n",
              "    }\n",
              "\n",
              "    .colab-df-convert {\n",
              "      background-color: #E8F0FE;\n",
              "      border: none;\n",
              "      border-radius: 50%;\n",
              "      cursor: pointer;\n",
              "      display: none;\n",
              "      fill: #1967D2;\n",
              "      height: 32px;\n",
              "      padding: 0 0 0 0;\n",
              "      width: 32px;\n",
              "    }\n",
              "\n",
              "    .colab-df-convert:hover {\n",
              "      background-color: #E2EBFA;\n",
              "      box-shadow: 0px 1px 2px rgba(60, 64, 67, 0.3), 0px 1px 3px 1px rgba(60, 64, 67, 0.15);\n",
              "      fill: #174EA6;\n",
              "    }\n",
              "\n",
              "    [theme=dark] .colab-df-convert {\n",
              "      background-color: #3B4455;\n",
              "      fill: #D2E3FC;\n",
              "    }\n",
              "\n",
              "    [theme=dark] .colab-df-convert:hover {\n",
              "      background-color: #434B5C;\n",
              "      box-shadow: 0px 1px 3px 1px rgba(0, 0, 0, 0.15);\n",
              "      filter: drop-shadow(0px 1px 2px rgba(0, 0, 0, 0.3));\n",
              "      fill: #FFFFFF;\n",
              "    }\n",
              "  </style>\n",
              "\n",
              "      <script>\n",
              "        const buttonEl =\n",
              "          document.querySelector('#df-8868eaa5-cbca-49d1-8a19-c29c3cd3e965 button.colab-df-convert');\n",
              "        buttonEl.style.display =\n",
              "          google.colab.kernel.accessAllowed ? 'block' : 'none';\n",
              "\n",
              "        async function convertToInteractive(key) {\n",
              "          const element = document.querySelector('#df-8868eaa5-cbca-49d1-8a19-c29c3cd3e965');\n",
              "          const dataTable =\n",
              "            await google.colab.kernel.invokeFunction('convertToInteractive',\n",
              "                                                     [key], {});\n",
              "          if (!dataTable) return;\n",
              "\n",
              "          const docLinkHtml = 'Like what you see? Visit the ' +\n",
              "            '<a target=\"_blank\" href=https://colab.research.google.com/notebooks/data_table.ipynb>data table notebook</a>'\n",
              "            + ' to learn more about interactive tables.';\n",
              "          element.innerHTML = '';\n",
              "          dataTable['output_type'] = 'display_data';\n",
              "          await google.colab.output.renderOutput(dataTable, element);\n",
              "          const docLink = document.createElement('div');\n",
              "          docLink.innerHTML = docLinkHtml;\n",
              "          element.appendChild(docLink);\n",
              "        }\n",
              "      </script>\n",
              "    </div>\n",
              "  </div>\n",
              "  "
            ]
          },
          "metadata": {},
          "execution_count": 167
        }
      ]
    },
    {
      "cell_type": "markdown",
      "source": [
        "Or with an iterable of values:"
      ],
      "metadata": {
        "id": "58dgV-D-TgeW"
      }
    },
    {
      "cell_type": "code",
      "source": [
        "animals['index_backwards'] = range(len(animals), 0 , -1 )  #[range, starting index, increase]\n",
        "animals"
      ],
      "metadata": {
        "colab": {
          "base_uri": "https://localhost:8080/",
          "height": 143
        },
        "id": "_UtxYVtxTllW",
        "outputId": "a7d7d2ae-68ce-45a7-c67e-dc8587ef9710"
      },
      "execution_count": 168,
      "outputs": [
        {
          "output_type": "execute_result",
          "data": {
            "text/plain": [
              "        Year  Cows  Goats Survey_Organization  index_backwards\n",
              "Year 1  2015    12     22               Govt.                3\n",
              "Year 2  2016    20     19               Govt.                2\n",
              "Year 3  2017    21     18               Govt.                1"
            ],
            "text/html": [
              "\n",
              "  <div id=\"df-a54269b2-ca4d-47a8-826a-778597129718\">\n",
              "    <div class=\"colab-df-container\">\n",
              "      <div>\n",
              "<style scoped>\n",
              "    .dataframe tbody tr th:only-of-type {\n",
              "        vertical-align: middle;\n",
              "    }\n",
              "\n",
              "    .dataframe tbody tr th {\n",
              "        vertical-align: top;\n",
              "    }\n",
              "\n",
              "    .dataframe thead th {\n",
              "        text-align: right;\n",
              "    }\n",
              "</style>\n",
              "<table border=\"1\" class=\"dataframe\">\n",
              "  <thead>\n",
              "    <tr style=\"text-align: right;\">\n",
              "      <th></th>\n",
              "      <th>Year</th>\n",
              "      <th>Cows</th>\n",
              "      <th>Goats</th>\n",
              "      <th>Survey_Organization</th>\n",
              "      <th>index_backwards</th>\n",
              "    </tr>\n",
              "  </thead>\n",
              "  <tbody>\n",
              "    <tr>\n",
              "      <th>Year 1</th>\n",
              "      <td>2015</td>\n",
              "      <td>12</td>\n",
              "      <td>22</td>\n",
              "      <td>Govt.</td>\n",
              "      <td>3</td>\n",
              "    </tr>\n",
              "    <tr>\n",
              "      <th>Year 2</th>\n",
              "      <td>2016</td>\n",
              "      <td>20</td>\n",
              "      <td>19</td>\n",
              "      <td>Govt.</td>\n",
              "      <td>2</td>\n",
              "    </tr>\n",
              "    <tr>\n",
              "      <th>Year 3</th>\n",
              "      <td>2017</td>\n",
              "      <td>21</td>\n",
              "      <td>18</td>\n",
              "      <td>Govt.</td>\n",
              "      <td>1</td>\n",
              "    </tr>\n",
              "  </tbody>\n",
              "</table>\n",
              "</div>\n",
              "      <button class=\"colab-df-convert\" onclick=\"convertToInteractive('df-a54269b2-ca4d-47a8-826a-778597129718')\"\n",
              "              title=\"Convert this dataframe to an interactive table.\"\n",
              "              style=\"display:none;\">\n",
              "        \n",
              "  <svg xmlns=\"http://www.w3.org/2000/svg\" height=\"24px\"viewBox=\"0 0 24 24\"\n",
              "       width=\"24px\">\n",
              "    <path d=\"M0 0h24v24H0V0z\" fill=\"none\"/>\n",
              "    <path d=\"M18.56 5.44l.94 2.06.94-2.06 2.06-.94-2.06-.94-.94-2.06-.94 2.06-2.06.94zm-11 1L8.5 8.5l.94-2.06 2.06-.94-2.06-.94L8.5 2.5l-.94 2.06-2.06.94zm10 10l.94 2.06.94-2.06 2.06-.94-2.06-.94-.94-2.06-.94 2.06-2.06.94z\"/><path d=\"M17.41 7.96l-1.37-1.37c-.4-.4-.92-.59-1.43-.59-.52 0-1.04.2-1.43.59L10.3 9.45l-7.72 7.72c-.78.78-.78 2.05 0 2.83L4 21.41c.39.39.9.59 1.41.59.51 0 1.02-.2 1.41-.59l7.78-7.78 2.81-2.81c.8-.78.8-2.07 0-2.86zM5.41 20L4 18.59l7.72-7.72 1.47 1.35L5.41 20z\"/>\n",
              "  </svg>\n",
              "      </button>\n",
              "      \n",
              "  <style>\n",
              "    .colab-df-container {\n",
              "      display:flex;\n",
              "      flex-wrap:wrap;\n",
              "      gap: 12px;\n",
              "    }\n",
              "\n",
              "    .colab-df-convert {\n",
              "      background-color: #E8F0FE;\n",
              "      border: none;\n",
              "      border-radius: 50%;\n",
              "      cursor: pointer;\n",
              "      display: none;\n",
              "      fill: #1967D2;\n",
              "      height: 32px;\n",
              "      padding: 0 0 0 0;\n",
              "      width: 32px;\n",
              "    }\n",
              "\n",
              "    .colab-df-convert:hover {\n",
              "      background-color: #E2EBFA;\n",
              "      box-shadow: 0px 1px 2px rgba(60, 64, 67, 0.3), 0px 1px 3px 1px rgba(60, 64, 67, 0.15);\n",
              "      fill: #174EA6;\n",
              "    }\n",
              "\n",
              "    [theme=dark] .colab-df-convert {\n",
              "      background-color: #3B4455;\n",
              "      fill: #D2E3FC;\n",
              "    }\n",
              "\n",
              "    [theme=dark] .colab-df-convert:hover {\n",
              "      background-color: #434B5C;\n",
              "      box-shadow: 0px 1px 3px 1px rgba(0, 0, 0, 0.15);\n",
              "      filter: drop-shadow(0px 1px 2px rgba(0, 0, 0, 0.3));\n",
              "      fill: #FFFFFF;\n",
              "    }\n",
              "  </style>\n",
              "\n",
              "      <script>\n",
              "        const buttonEl =\n",
              "          document.querySelector('#df-a54269b2-ca4d-47a8-826a-778597129718 button.colab-df-convert');\n",
              "        buttonEl.style.display =\n",
              "          google.colab.kernel.accessAllowed ? 'block' : 'none';\n",
              "\n",
              "        async function convertToInteractive(key) {\n",
              "          const element = document.querySelector('#df-a54269b2-ca4d-47a8-826a-778597129718');\n",
              "          const dataTable =\n",
              "            await google.colab.kernel.invokeFunction('convertToInteractive',\n",
              "                                                     [key], {});\n",
              "          if (!dataTable) return;\n",
              "\n",
              "          const docLinkHtml = 'Like what you see? Visit the ' +\n",
              "            '<a target=\"_blank\" href=https://colab.research.google.com/notebooks/data_table.ipynb>data table notebook</a>'\n",
              "            + ' to learn more about interactive tables.';\n",
              "          element.innerHTML = '';\n",
              "          dataTable['output_type'] = 'display_data';\n",
              "          await google.colab.output.renderOutput(dataTable, element);\n",
              "          const docLink = document.createElement('div');\n",
              "          docLink.innerHTML = docLinkHtml;\n",
              "          element.appendChild(docLink);\n",
              "        }\n",
              "      </script>\n",
              "    </div>\n",
              "  </div>\n",
              "  "
            ]
          },
          "metadata": {},
          "execution_count": 168
        }
      ]
    },
    {
      "cell_type": "markdown",
      "source": [
        "**Some Important Function/Methods in Pandas:**\n",
        "* Refer for more: https://www.kaggle.com/code/residentmario/summary-functions-and-maps#Summary-functions"
      ],
      "metadata": {
        "id": "NlMF3TL74epT"
      }
    },
    {
      "cell_type": "code",
      "source": [
        "# This method generates a high-level summary of the attributes of the given column.\n",
        "# It is type-aware, meaning that its output changes based on the data type of the input.\n",
        "mnist['6'].describe()"
      ],
      "metadata": {
        "colab": {
          "base_uri": "https://localhost:8080/"
        },
        "id": "iqAUa9eL4dqJ",
        "outputId": "6c40dcba-642d-4af6-e465-dffa8f959c00"
      },
      "execution_count": 169,
      "outputs": [
        {
          "output_type": "execute_result",
          "data": {
            "text/plain": [
              "count    19999.000000\n",
              "mean         4.470124\n",
              "std          2.892807\n",
              "min          0.000000\n",
              "25%          2.000000\n",
              "50%          4.000000\n",
              "75%          7.000000\n",
              "max          9.000000\n",
              "Name: 6, dtype: float64"
            ]
          },
          "metadata": {},
          "execution_count": 169
        }
      ]
    },
    {
      "cell_type": "code",
      "source": [
        "mnist_6_mean = mnist['6'].mean()"
      ],
      "metadata": {
        "id": "jfRnYR9O5axd"
      },
      "execution_count": 170,
      "outputs": []
    },
    {
      "cell_type": "markdown",
      "source": [
        "There are two **mapping methods** that we often use:\n",
        "1.  **map( ):**\n",
        " *  the first, and slightly simpler one.\n",
        " *  For example, suppose that we wanted to remean the '6' in mnist to 0. We can do this as follows:"
      ],
      "metadata": {
        "id": "fa2jz7-O6eOn"
      }
    },
    {
      "cell_type": "code",
      "source": [
        "mnist['6'].map(lambda x: x - mnist_6_mean) #mean decreased from meach term so new mean becomes 0"
      ],
      "metadata": {
        "colab": {
          "base_uri": "https://localhost:8080/"
        },
        "id": "-SSFl_mY_hfq",
        "outputId": "bcfd26b8-889f-4b7f-b2c3-230d4db79641"
      },
      "execution_count": 171,
      "outputs": [
        {
          "output_type": "execute_result",
          "data": {
            "text/plain": [
              "0        0.529876\n",
              "1        2.529876\n",
              "2        4.529876\n",
              "3        0.529876\n",
              "4       -2.470124\n",
              "           ...   \n",
              "19994   -4.470124\n",
              "19995   -3.470124\n",
              "19996   -2.470124\n",
              "19997    4.529876\n",
              "19998    0.529876\n",
              "Name: 6, Length: 19999, dtype: float64"
            ]
          },
          "metadata": {},
          "execution_count": 171
        }
      ]
    },
    {
      "cell_type": "markdown",
      "source": [
        "* The function you pass to *map()* should expect a single value from the Series (a point value, in the above example), and return a transformed version of that value.\n",
        "* *map()* returns a new Series where all the values have been transformed by your function."
      ],
      "metadata": {
        "id": "LiBSJwF2AhK2"
      }
    },
    {
      "cell_type": "markdown",
      "source": [
        "* *apply( )* is the equivalent method to *map( )* if we want to transform a whole DataFrame by calling a custom method on each row.\n",
        "*  If we had called *apply()* with *axis='index'*, then instead of passing a function to transform each row, we would need to give a function to transform each column."
      ],
      "metadata": {
        "id": "PHLMgLUJAta-"
      }
    },
    {
      "cell_type": "code",
      "source": [
        "def remean_6(row):\n",
        "    row['6'] -= mnist_6_mean\n",
        "    return row\n",
        "\n",
        "mnist.apply(remean_6, axis='columns')"
      ],
      "metadata": {
        "colab": {
          "base_uri": "https://localhost:8080/",
          "height": 423
        },
        "id": "ElFIjLksA1mb",
        "outputId": "e3e5f563-0ae0-4724-f458-aa18ad232176"
      },
      "execution_count": 172,
      "outputs": [
        {
          "output_type": "execute_result",
          "data": {
            "text/plain": [
              "              6    0  0.1  0.2  0.3  0.4  0.5  0.6  0.7  0.8  ...  0.581  \\\n",
              "0      0.529876  0.0  0.0  0.0  0.0  0.0  0.0  0.0  0.0  0.0  ...    0.0   \n",
              "1      2.529876  0.0  0.0  0.0  0.0  0.0  0.0  0.0  0.0  0.0  ...    0.0   \n",
              "2      4.529876  0.0  0.0  0.0  0.0  0.0  0.0  0.0  0.0  0.0  ...    0.0   \n",
              "3      0.529876  0.0  0.0  0.0  0.0  0.0  0.0  0.0  0.0  0.0  ...    0.0   \n",
              "4     -2.470124  0.0  0.0  0.0  0.0  0.0  0.0  0.0  0.0  0.0  ...    0.0   \n",
              "...         ...  ...  ...  ...  ...  ...  ...  ...  ...  ...  ...    ...   \n",
              "19994 -4.470124  0.0  0.0  0.0  0.0  0.0  0.0  0.0  0.0  0.0  ...    0.0   \n",
              "19995 -3.470124  0.0  0.0  0.0  0.0  0.0  0.0  0.0  0.0  0.0  ...    0.0   \n",
              "19996 -2.470124  0.0  0.0  0.0  0.0  0.0  0.0  0.0  0.0  0.0  ...    0.0   \n",
              "19997  4.529876  0.0  0.0  0.0  0.0  0.0  0.0  0.0  0.0  0.0  ...    0.0   \n",
              "19998  0.529876  0.0  0.0  0.0  0.0  0.0  0.0  0.0  0.0  0.0  ...    0.0   \n",
              "\n",
              "       0.582  0.583  0.584  0.585  0.586  0.587  0.588  0.589  0.590  \n",
              "0        0.0    0.0    0.0    0.0    0.0    0.0    0.0    0.0    0.0  \n",
              "1        0.0    0.0    0.0    0.0    0.0    0.0    0.0    0.0    0.0  \n",
              "2        0.0    0.0    0.0    0.0    0.0    0.0    0.0    0.0    0.0  \n",
              "3        0.0    0.0    0.0    0.0    0.0    0.0    0.0    0.0    0.0  \n",
              "4        0.0    0.0    0.0    0.0    0.0    0.0    0.0    0.0    0.0  \n",
              "...      ...    ...    ...    ...    ...    ...    ...    ...    ...  \n",
              "19994    0.0    0.0    0.0    0.0    0.0    0.0    0.0    0.0    0.0  \n",
              "19995    0.0    0.0    0.0    0.0    0.0    0.0    0.0    0.0    0.0  \n",
              "19996    0.0    0.0    0.0    0.0    0.0    0.0    0.0    0.0    0.0  \n",
              "19997    0.0    0.0    0.0    0.0    0.0    0.0    0.0    0.0    0.0  \n",
              "19998    0.0    0.0    0.0    0.0    0.0    0.0    0.0    0.0    0.0  \n",
              "\n",
              "[19999 rows x 785 columns]"
            ],
            "text/html": [
              "\n",
              "  <div id=\"df-cf673a52-462f-49f3-bf24-57690e1143df\">\n",
              "    <div class=\"colab-df-container\">\n",
              "      <div>\n",
              "<style scoped>\n",
              "    .dataframe tbody tr th:only-of-type {\n",
              "        vertical-align: middle;\n",
              "    }\n",
              "\n",
              "    .dataframe tbody tr th {\n",
              "        vertical-align: top;\n",
              "    }\n",
              "\n",
              "    .dataframe thead th {\n",
              "        text-align: right;\n",
              "    }\n",
              "</style>\n",
              "<table border=\"1\" class=\"dataframe\">\n",
              "  <thead>\n",
              "    <tr style=\"text-align: right;\">\n",
              "      <th></th>\n",
              "      <th>6</th>\n",
              "      <th>0</th>\n",
              "      <th>0.1</th>\n",
              "      <th>0.2</th>\n",
              "      <th>0.3</th>\n",
              "      <th>0.4</th>\n",
              "      <th>0.5</th>\n",
              "      <th>0.6</th>\n",
              "      <th>0.7</th>\n",
              "      <th>0.8</th>\n",
              "      <th>...</th>\n",
              "      <th>0.581</th>\n",
              "      <th>0.582</th>\n",
              "      <th>0.583</th>\n",
              "      <th>0.584</th>\n",
              "      <th>0.585</th>\n",
              "      <th>0.586</th>\n",
              "      <th>0.587</th>\n",
              "      <th>0.588</th>\n",
              "      <th>0.589</th>\n",
              "      <th>0.590</th>\n",
              "    </tr>\n",
              "  </thead>\n",
              "  <tbody>\n",
              "    <tr>\n",
              "      <th>0</th>\n",
              "      <td>0.529876</td>\n",
              "      <td>0.0</td>\n",
              "      <td>0.0</td>\n",
              "      <td>0.0</td>\n",
              "      <td>0.0</td>\n",
              "      <td>0.0</td>\n",
              "      <td>0.0</td>\n",
              "      <td>0.0</td>\n",
              "      <td>0.0</td>\n",
              "      <td>0.0</td>\n",
              "      <td>...</td>\n",
              "      <td>0.0</td>\n",
              "      <td>0.0</td>\n",
              "      <td>0.0</td>\n",
              "      <td>0.0</td>\n",
              "      <td>0.0</td>\n",
              "      <td>0.0</td>\n",
              "      <td>0.0</td>\n",
              "      <td>0.0</td>\n",
              "      <td>0.0</td>\n",
              "      <td>0.0</td>\n",
              "    </tr>\n",
              "    <tr>\n",
              "      <th>1</th>\n",
              "      <td>2.529876</td>\n",
              "      <td>0.0</td>\n",
              "      <td>0.0</td>\n",
              "      <td>0.0</td>\n",
              "      <td>0.0</td>\n",
              "      <td>0.0</td>\n",
              "      <td>0.0</td>\n",
              "      <td>0.0</td>\n",
              "      <td>0.0</td>\n",
              "      <td>0.0</td>\n",
              "      <td>...</td>\n",
              "      <td>0.0</td>\n",
              "      <td>0.0</td>\n",
              "      <td>0.0</td>\n",
              "      <td>0.0</td>\n",
              "      <td>0.0</td>\n",
              "      <td>0.0</td>\n",
              "      <td>0.0</td>\n",
              "      <td>0.0</td>\n",
              "      <td>0.0</td>\n",
              "      <td>0.0</td>\n",
              "    </tr>\n",
              "    <tr>\n",
              "      <th>2</th>\n",
              "      <td>4.529876</td>\n",
              "      <td>0.0</td>\n",
              "      <td>0.0</td>\n",
              "      <td>0.0</td>\n",
              "      <td>0.0</td>\n",
              "      <td>0.0</td>\n",
              "      <td>0.0</td>\n",
              "      <td>0.0</td>\n",
              "      <td>0.0</td>\n",
              "      <td>0.0</td>\n",
              "      <td>...</td>\n",
              "      <td>0.0</td>\n",
              "      <td>0.0</td>\n",
              "      <td>0.0</td>\n",
              "      <td>0.0</td>\n",
              "      <td>0.0</td>\n",
              "      <td>0.0</td>\n",
              "      <td>0.0</td>\n",
              "      <td>0.0</td>\n",
              "      <td>0.0</td>\n",
              "      <td>0.0</td>\n",
              "    </tr>\n",
              "    <tr>\n",
              "      <th>3</th>\n",
              "      <td>0.529876</td>\n",
              "      <td>0.0</td>\n",
              "      <td>0.0</td>\n",
              "      <td>0.0</td>\n",
              "      <td>0.0</td>\n",
              "      <td>0.0</td>\n",
              "      <td>0.0</td>\n",
              "      <td>0.0</td>\n",
              "      <td>0.0</td>\n",
              "      <td>0.0</td>\n",
              "      <td>...</td>\n",
              "      <td>0.0</td>\n",
              "      <td>0.0</td>\n",
              "      <td>0.0</td>\n",
              "      <td>0.0</td>\n",
              "      <td>0.0</td>\n",
              "      <td>0.0</td>\n",
              "      <td>0.0</td>\n",
              "      <td>0.0</td>\n",
              "      <td>0.0</td>\n",
              "      <td>0.0</td>\n",
              "    </tr>\n",
              "    <tr>\n",
              "      <th>4</th>\n",
              "      <td>-2.470124</td>\n",
              "      <td>0.0</td>\n",
              "      <td>0.0</td>\n",
              "      <td>0.0</td>\n",
              "      <td>0.0</td>\n",
              "      <td>0.0</td>\n",
              "      <td>0.0</td>\n",
              "      <td>0.0</td>\n",
              "      <td>0.0</td>\n",
              "      <td>0.0</td>\n",
              "      <td>...</td>\n",
              "      <td>0.0</td>\n",
              "      <td>0.0</td>\n",
              "      <td>0.0</td>\n",
              "      <td>0.0</td>\n",
              "      <td>0.0</td>\n",
              "      <td>0.0</td>\n",
              "      <td>0.0</td>\n",
              "      <td>0.0</td>\n",
              "      <td>0.0</td>\n",
              "      <td>0.0</td>\n",
              "    </tr>\n",
              "    <tr>\n",
              "      <th>...</th>\n",
              "      <td>...</td>\n",
              "      <td>...</td>\n",
              "      <td>...</td>\n",
              "      <td>...</td>\n",
              "      <td>...</td>\n",
              "      <td>...</td>\n",
              "      <td>...</td>\n",
              "      <td>...</td>\n",
              "      <td>...</td>\n",
              "      <td>...</td>\n",
              "      <td>...</td>\n",
              "      <td>...</td>\n",
              "      <td>...</td>\n",
              "      <td>...</td>\n",
              "      <td>...</td>\n",
              "      <td>...</td>\n",
              "      <td>...</td>\n",
              "      <td>...</td>\n",
              "      <td>...</td>\n",
              "      <td>...</td>\n",
              "      <td>...</td>\n",
              "    </tr>\n",
              "    <tr>\n",
              "      <th>19994</th>\n",
              "      <td>-4.470124</td>\n",
              "      <td>0.0</td>\n",
              "      <td>0.0</td>\n",
              "      <td>0.0</td>\n",
              "      <td>0.0</td>\n",
              "      <td>0.0</td>\n",
              "      <td>0.0</td>\n",
              "      <td>0.0</td>\n",
              "      <td>0.0</td>\n",
              "      <td>0.0</td>\n",
              "      <td>...</td>\n",
              "      <td>0.0</td>\n",
              "      <td>0.0</td>\n",
              "      <td>0.0</td>\n",
              "      <td>0.0</td>\n",
              "      <td>0.0</td>\n",
              "      <td>0.0</td>\n",
              "      <td>0.0</td>\n",
              "      <td>0.0</td>\n",
              "      <td>0.0</td>\n",
              "      <td>0.0</td>\n",
              "    </tr>\n",
              "    <tr>\n",
              "      <th>19995</th>\n",
              "      <td>-3.470124</td>\n",
              "      <td>0.0</td>\n",
              "      <td>0.0</td>\n",
              "      <td>0.0</td>\n",
              "      <td>0.0</td>\n",
              "      <td>0.0</td>\n",
              "      <td>0.0</td>\n",
              "      <td>0.0</td>\n",
              "      <td>0.0</td>\n",
              "      <td>0.0</td>\n",
              "      <td>...</td>\n",
              "      <td>0.0</td>\n",
              "      <td>0.0</td>\n",
              "      <td>0.0</td>\n",
              "      <td>0.0</td>\n",
              "      <td>0.0</td>\n",
              "      <td>0.0</td>\n",
              "      <td>0.0</td>\n",
              "      <td>0.0</td>\n",
              "      <td>0.0</td>\n",
              "      <td>0.0</td>\n",
              "    </tr>\n",
              "    <tr>\n",
              "      <th>19996</th>\n",
              "      <td>-2.470124</td>\n",
              "      <td>0.0</td>\n",
              "      <td>0.0</td>\n",
              "      <td>0.0</td>\n",
              "      <td>0.0</td>\n",
              "      <td>0.0</td>\n",
              "      <td>0.0</td>\n",
              "      <td>0.0</td>\n",
              "      <td>0.0</td>\n",
              "      <td>0.0</td>\n",
              "      <td>...</td>\n",
              "      <td>0.0</td>\n",
              "      <td>0.0</td>\n",
              "      <td>0.0</td>\n",
              "      <td>0.0</td>\n",
              "      <td>0.0</td>\n",
              "      <td>0.0</td>\n",
              "      <td>0.0</td>\n",
              "      <td>0.0</td>\n",
              "      <td>0.0</td>\n",
              "      <td>0.0</td>\n",
              "    </tr>\n",
              "    <tr>\n",
              "      <th>19997</th>\n",
              "      <td>4.529876</td>\n",
              "      <td>0.0</td>\n",
              "      <td>0.0</td>\n",
              "      <td>0.0</td>\n",
              "      <td>0.0</td>\n",
              "      <td>0.0</td>\n",
              "      <td>0.0</td>\n",
              "      <td>0.0</td>\n",
              "      <td>0.0</td>\n",
              "      <td>0.0</td>\n",
              "      <td>...</td>\n",
              "      <td>0.0</td>\n",
              "      <td>0.0</td>\n",
              "      <td>0.0</td>\n",
              "      <td>0.0</td>\n",
              "      <td>0.0</td>\n",
              "      <td>0.0</td>\n",
              "      <td>0.0</td>\n",
              "      <td>0.0</td>\n",
              "      <td>0.0</td>\n",
              "      <td>0.0</td>\n",
              "    </tr>\n",
              "    <tr>\n",
              "      <th>19998</th>\n",
              "      <td>0.529876</td>\n",
              "      <td>0.0</td>\n",
              "      <td>0.0</td>\n",
              "      <td>0.0</td>\n",
              "      <td>0.0</td>\n",
              "      <td>0.0</td>\n",
              "      <td>0.0</td>\n",
              "      <td>0.0</td>\n",
              "      <td>0.0</td>\n",
              "      <td>0.0</td>\n",
              "      <td>...</td>\n",
              "      <td>0.0</td>\n",
              "      <td>0.0</td>\n",
              "      <td>0.0</td>\n",
              "      <td>0.0</td>\n",
              "      <td>0.0</td>\n",
              "      <td>0.0</td>\n",
              "      <td>0.0</td>\n",
              "      <td>0.0</td>\n",
              "      <td>0.0</td>\n",
              "      <td>0.0</td>\n",
              "    </tr>\n",
              "  </tbody>\n",
              "</table>\n",
              "<p>19999 rows × 785 columns</p>\n",
              "</div>\n",
              "      <button class=\"colab-df-convert\" onclick=\"convertToInteractive('df-cf673a52-462f-49f3-bf24-57690e1143df')\"\n",
              "              title=\"Convert this dataframe to an interactive table.\"\n",
              "              style=\"display:none;\">\n",
              "        \n",
              "  <svg xmlns=\"http://www.w3.org/2000/svg\" height=\"24px\"viewBox=\"0 0 24 24\"\n",
              "       width=\"24px\">\n",
              "    <path d=\"M0 0h24v24H0V0z\" fill=\"none\"/>\n",
              "    <path d=\"M18.56 5.44l.94 2.06.94-2.06 2.06-.94-2.06-.94-.94-2.06-.94 2.06-2.06.94zm-11 1L8.5 8.5l.94-2.06 2.06-.94-2.06-.94L8.5 2.5l-.94 2.06-2.06.94zm10 10l.94 2.06.94-2.06 2.06-.94-2.06-.94-.94-2.06-.94 2.06-2.06.94z\"/><path d=\"M17.41 7.96l-1.37-1.37c-.4-.4-.92-.59-1.43-.59-.52 0-1.04.2-1.43.59L10.3 9.45l-7.72 7.72c-.78.78-.78 2.05 0 2.83L4 21.41c.39.39.9.59 1.41.59.51 0 1.02-.2 1.41-.59l7.78-7.78 2.81-2.81c.8-.78.8-2.07 0-2.86zM5.41 20L4 18.59l7.72-7.72 1.47 1.35L5.41 20z\"/>\n",
              "  </svg>\n",
              "      </button>\n",
              "      \n",
              "  <style>\n",
              "    .colab-df-container {\n",
              "      display:flex;\n",
              "      flex-wrap:wrap;\n",
              "      gap: 12px;\n",
              "    }\n",
              "\n",
              "    .colab-df-convert {\n",
              "      background-color: #E8F0FE;\n",
              "      border: none;\n",
              "      border-radius: 50%;\n",
              "      cursor: pointer;\n",
              "      display: none;\n",
              "      fill: #1967D2;\n",
              "      height: 32px;\n",
              "      padding: 0 0 0 0;\n",
              "      width: 32px;\n",
              "    }\n",
              "\n",
              "    .colab-df-convert:hover {\n",
              "      background-color: #E2EBFA;\n",
              "      box-shadow: 0px 1px 2px rgba(60, 64, 67, 0.3), 0px 1px 3px 1px rgba(60, 64, 67, 0.15);\n",
              "      fill: #174EA6;\n",
              "    }\n",
              "\n",
              "    [theme=dark] .colab-df-convert {\n",
              "      background-color: #3B4455;\n",
              "      fill: #D2E3FC;\n",
              "    }\n",
              "\n",
              "    [theme=dark] .colab-df-convert:hover {\n",
              "      background-color: #434B5C;\n",
              "      box-shadow: 0px 1px 3px 1px rgba(0, 0, 0, 0.15);\n",
              "      filter: drop-shadow(0px 1px 2px rgba(0, 0, 0, 0.3));\n",
              "      fill: #FFFFFF;\n",
              "    }\n",
              "  </style>\n",
              "\n",
              "      <script>\n",
              "        const buttonEl =\n",
              "          document.querySelector('#df-cf673a52-462f-49f3-bf24-57690e1143df button.colab-df-convert');\n",
              "        buttonEl.style.display =\n",
              "          google.colab.kernel.accessAllowed ? 'block' : 'none';\n",
              "\n",
              "        async function convertToInteractive(key) {\n",
              "          const element = document.querySelector('#df-cf673a52-462f-49f3-bf24-57690e1143df');\n",
              "          const dataTable =\n",
              "            await google.colab.kernel.invokeFunction('convertToInteractive',\n",
              "                                                     [key], {});\n",
              "          if (!dataTable) return;\n",
              "\n",
              "          const docLinkHtml = 'Like what you see? Visit the ' +\n",
              "            '<a target=\"_blank\" href=https://colab.research.google.com/notebooks/data_table.ipynb>data table notebook</a>'\n",
              "            + ' to learn more about interactive tables.';\n",
              "          element.innerHTML = '';\n",
              "          dataTable['output_type'] = 'display_data';\n",
              "          await google.colab.output.renderOutput(dataTable, element);\n",
              "          const docLink = document.createElement('div');\n",
              "          docLink.innerHTML = docLinkHtml;\n",
              "          element.appendChild(docLink);\n",
              "        }\n",
              "      </script>\n",
              "    </div>\n",
              "  </div>\n",
              "  "
            ]
          },
          "metadata": {},
          "execution_count": 172
        }
      ]
    },
    {
      "cell_type": "markdown",
      "source": [
        "* map() and apply() return new, transformed Series and DataFrames, respectively. They don't modify the original data they're called on."
      ],
      "metadata": {
        "id": "_N-op6P2Z-M0"
      }
    },
    {
      "cell_type": "markdown",
      "source": [
        "Faster way of remeaning:"
      ],
      "metadata": {
        "id": "9s-WT-jKaM2a"
      }
    },
    {
      "cell_type": "code",
      "source": [
        "mnist['6'] - mnist_6_mean\n",
        "\n",
        "# In this code we are performing an operation between\n",
        "# a lot of values on the left-hand side (everything in the Series)\n",
        "# and a single value on the right-hand side (the mean value)."
      ],
      "metadata": {
        "colab": {
          "base_uri": "https://localhost:8080/"
        },
        "id": "ZyDiHh8VaXEM",
        "outputId": "072d64c7-e770-400b-e555-ae5184c01bca"
      },
      "execution_count": 173,
      "outputs": [
        {
          "output_type": "execute_result",
          "data": {
            "text/plain": [
              "0        0.529876\n",
              "1        2.529876\n",
              "2        4.529876\n",
              "3        0.529876\n",
              "4       -2.470124\n",
              "           ...   \n",
              "19994   -4.470124\n",
              "19995   -3.470124\n",
              "19996   -2.470124\n",
              "19997    4.529876\n",
              "19998    0.529876\n",
              "Name: 6, Length: 19999, dtype: float64"
            ]
          },
          "metadata": {},
          "execution_count": 173
        }
      ]
    },
    {
      "cell_type": "markdown",
      "source": [
        "* *Series.max(axis=NoDefault.no_default, skipna=True, level=None, \n",
        "numeric_only=None, **kwargs)* :\n",
        "Return the maximum of the values over the requested axis.\n",
        "\n",
        "* If you want the index of the maximum, use *Series.idxmax()*. This is the equivalent of the numpy.ndarray method argmax."
      ],
      "metadata": {
        "id": "2vLrzbQXjSTz"
      }
    },
    {
      "cell_type": "markdown",
      "source": [
        "**Groupwise analysis:**\n",
        "\n",
        "(Refer: https://www.kaggle.com/code/residentmario/grouping-and-sorting/tutorial#Groupwise-analysis)\n",
        "\n"
      ],
      "metadata": {
        "id": "eUXLieNVc9YT"
      }
    },
    {
      "cell_type": "code",
      "source": [
        "#We can replicate what value_counts() does by doing the following:\n",
        "mnist.groupby('6')['6'].count()\n",
        "#groupby() created a group of mnist which allotted the same '6' values.\n",
        "#Then, for each of these groups, we grabbed the '6' column and counted how many times it appeared."
      ],
      "metadata": {
        "colab": {
          "base_uri": "https://localhost:8080/"
        },
        "id": "WY0Zrt8ic5nu",
        "outputId": "9ff5fa46-c057-4e96-baa1-f96fd9d2c13f"
      },
      "execution_count": 174,
      "outputs": [
        {
          "output_type": "execute_result",
          "data": {
            "text/plain": [
              "6\n",
              "0    1962\n",
              "1    2243\n",
              "2    1989\n",
              "3    2021\n",
              "4    1924\n",
              "5    1761\n",
              "6    2038\n",
              "7    2126\n",
              "8    1912\n",
              "9    2023\n",
              "Name: 6, dtype: int64"
            ]
          },
          "metadata": {},
          "execution_count": 174
        }
      ]
    },
    {
      "cell_type": "markdown",
      "source": [
        "* Think of each group we generate as being a slice of our DataFrame containing only data with values that match.\n",
        "* This DataFrame is accessible to us directly using the *apply()* method, and we can then manipulate the data in any way we see fit."
      ],
      "metadata": {
        "id": "itmgZnBqfvY0"
      }
    },
    {
      "cell_type": "markdown",
      "source": [
        "**Data Type:**\n",
        "* The data type for a column in a DataFrame or a Series is known as the **dtype**.\n",
        "* Data types tell us something about how pandas is storing the data internally.\n",
        "* We use the *dtype* property to grab the type of a specific column.\n"
      ],
      "metadata": {
        "id": "KcZ5ghV7U-05"
      }
    },
    {
      "cell_type": "code",
      "source": [
        "mnist['6'].dtype"
      ],
      "metadata": {
        "colab": {
          "base_uri": "https://localhost:8080/"
        },
        "id": "nEpILn4KVj4_",
        "outputId": "14cad1f0-da7c-420c-c2c2-efd443b01cbf"
      },
      "execution_count": 175,
      "outputs": [
        {
          "output_type": "execute_result",
          "data": {
            "text/plain": [
              "dtype('int64')"
            ]
          },
          "metadata": {},
          "execution_count": 175
        }
      ]
    },
    {
      "cell_type": "markdown",
      "source": [
        "* Alternatively, the *dtypes* property returns the dtype of every column in the DataFrame.\n",
        "* NOTE: Columns, consisting entirely of strings, do not get their own type; they are instead given the object type."
      ],
      "metadata": {
        "id": "g0v8-NpVVnbf"
      }
    },
    {
      "cell_type": "code",
      "source": [
        "mnist.dtypes"
      ],
      "metadata": {
        "colab": {
          "base_uri": "https://localhost:8080/"
        },
        "id": "CBruEKVyWApQ",
        "outputId": "ed0195e4-67d4-473e-db6b-1dc72b8747f0"
      },
      "execution_count": 176,
      "outputs": [
        {
          "output_type": "execute_result",
          "data": {
            "text/plain": [
              "6        int64\n",
              "0        int64\n",
              "0.1      int64\n",
              "0.2      int64\n",
              "0.3      int64\n",
              "         ...  \n",
              "0.586    int64\n",
              "0.587    int64\n",
              "0.588    int64\n",
              "0.589    int64\n",
              "0.590    int64\n",
              "Length: 785, dtype: object"
            ]
          },
          "metadata": {},
          "execution_count": 176
        }
      ]
    },
    {
      "cell_type": "markdown",
      "source": [
        "* To convert a column of one type into another we use: the *astype()* function. "
      ],
      "metadata": {
        "id": "YqRzDFqeWW_I"
      }
    },
    {
      "cell_type": "code",
      "source": [
        "mnist['6'].astype('float64')"
      ],
      "metadata": {
        "colab": {
          "base_uri": "https://localhost:8080/"
        },
        "id": "BhKKCUwYWjC5",
        "outputId": "9cc55828-a6bb-4cc7-e47b-95207d177b18"
      },
      "execution_count": 177,
      "outputs": [
        {
          "output_type": "execute_result",
          "data": {
            "text/plain": [
              "0        5.0\n",
              "1        7.0\n",
              "2        9.0\n",
              "3        5.0\n",
              "4        2.0\n",
              "        ... \n",
              "19994    0.0\n",
              "19995    1.0\n",
              "19996    2.0\n",
              "19997    9.0\n",
              "19998    5.0\n",
              "Name: 6, Length: 19999, dtype: float64"
            ]
          },
          "metadata": {},
          "execution_count": 177
        }
      ]
    },
    {
      "cell_type": "markdown",
      "source": [
        "A DataFrame or Series index has its own dtype, too:"
      ],
      "metadata": {
        "id": "uRXGAD6BW7FT"
      }
    },
    {
      "cell_type": "code",
      "source": [
        "mnist.index.dtype"
      ],
      "metadata": {
        "colab": {
          "base_uri": "https://localhost:8080/"
        },
        "id": "0H0uJ-3FW9An",
        "outputId": "b2f57fcd-d121-413f-d365-e6813cfbf3b4"
      },
      "execution_count": 178,
      "outputs": [
        {
          "output_type": "execute_result",
          "data": {
            "text/plain": [
              "dtype('int64')"
            ]
          },
          "metadata": {},
          "execution_count": 178
        }
      ]
    },
    {
      "cell_type": "markdown",
      "source": [
        "(Pandas also supports more exotic data types, such as categorical data and timeseries data.)"
      ],
      "metadata": {
        "id": "3D1oND3QXIXQ"
      }
    },
    {
      "cell_type": "markdown",
      "source": [
        "**Missing Data:**\n",
        "* (Refer: https://www.kaggle.com/code/residentmario/data-types-and-missing-values#Missing-data)\n",
        "* Entries missing values are given the value *'NaN'*, short for \"Not a Number\".\n",
        "* For technical reasons these *'NaN'* values are always of the *float64* dtype.\n",
        "* Pandas provides some methods specific to missing data:\n",
        "* To select NaN entries you can use pd.isnull() (or its companion pd.notnull())\n",
        "\n"
      ],
      "metadata": {
        "id": "HUu04pO4XLs-"
      }
    },
    {
      "cell_type": "markdown",
      "source": [
        "* Replacing missing values is a common operation:\n",
        "   * *fillna()* provides a few different strategies for mitigating such data.\n",
        "   * For example, we can simply replace each NaN with an \"Unknown\": *reviews.region_2.fillna(\"Unknown\")*\n",
        "   * Or, we could fill each missing value with the first non-null value that appears sometime after the given record in the database. This is known as the **backfill strategy**."
      ],
      "metadata": {
        "id": "g6kscTHxgvNc"
      }
    },
    {
      "cell_type": "markdown",
      "source": [
        "* Alternatively, we may have a non-null value that we would like to replace.\n",
        "   * One way to reflect this in the dataset is using the *replace()* method: *reviews.taster_twitter_handle.replace(\"@kerinokeefe\", \"@kerino\")*\n",
        "   * it's handy for replacing missing data which is given some kind of sentinel value in the dataset: things like \"Unknown\", \"Undisclosed\", \"Invalid\", and so on."
      ],
      "metadata": {
        "id": "c6bl5tvqhmkO"
      }
    },
    {
      "cell_type": "markdown",
      "source": [
        "**Renaming:**\n",
        "* *rename()* lets us change index names and/or column names by specifying a index or column keyword parameter, respectively.\n",
        "* It supports a variety of input formats, but usually a Python dictionary is the most convenient.\n",
        "* Example: *reviews.rename(index={0: 'firstEntry', 1: 'secondEntry'})*"
      ],
      "metadata": {
        "id": "Al015KY2SL7a"
      }
    },
    {
      "cell_type": "code",
      "source": [
        "mnist.rename(index = {0: 'First_Entry'})"
      ],
      "metadata": {
        "colab": {
          "base_uri": "https://localhost:8080/",
          "height": 423
        },
        "id": "TOHFal3jTLYC",
        "outputId": "afe52cd1-6140-4557-fe35-8fbdfd22259b"
      },
      "execution_count": 179,
      "outputs": [
        {
          "output_type": "execute_result",
          "data": {
            "text/plain": [
              "             6  0  0.1  0.2  0.3  0.4  0.5  0.6  0.7  0.8  ...  0.581  0.582  \\\n",
              "First_Entry  5  0    0    0    0    0    0    0    0    0  ...      0      0   \n",
              "1            7  0    0    0    0    0    0    0    0    0  ...      0      0   \n",
              "2            9  0    0    0    0    0    0    0    0    0  ...      0      0   \n",
              "3            5  0    0    0    0    0    0    0    0    0  ...      0      0   \n",
              "4            2  0    0    0    0    0    0    0    0    0  ...      0      0   \n",
              "...         .. ..  ...  ...  ...  ...  ...  ...  ...  ...  ...    ...    ...   \n",
              "19994        0  0    0    0    0    0    0    0    0    0  ...      0      0   \n",
              "19995        1  0    0    0    0    0    0    0    0    0  ...      0      0   \n",
              "19996        2  0    0    0    0    0    0    0    0    0  ...      0      0   \n",
              "19997        9  0    0    0    0    0    0    0    0    0  ...      0      0   \n",
              "19998        5  0    0    0    0    0    0    0    0    0  ...      0      0   \n",
              "\n",
              "             0.583  0.584  0.585  0.586  0.587  0.588  0.589  0.590  \n",
              "First_Entry      0      0      0      0      0      0      0      0  \n",
              "1                0      0      0      0      0      0      0      0  \n",
              "2                0      0      0      0      0      0      0      0  \n",
              "3                0      0      0      0      0      0      0      0  \n",
              "4                0      0      0      0      0      0      0      0  \n",
              "...            ...    ...    ...    ...    ...    ...    ...    ...  \n",
              "19994            0      0      0      0      0      0      0      0  \n",
              "19995            0      0      0      0      0      0      0      0  \n",
              "19996            0      0      0      0      0      0      0      0  \n",
              "19997            0      0      0      0      0      0      0      0  \n",
              "19998            0      0      0      0      0      0      0      0  \n",
              "\n",
              "[19999 rows x 785 columns]"
            ],
            "text/html": [
              "\n",
              "  <div id=\"df-00417b17-0ac7-4ae8-a79b-1ce33742417e\">\n",
              "    <div class=\"colab-df-container\">\n",
              "      <div>\n",
              "<style scoped>\n",
              "    .dataframe tbody tr th:only-of-type {\n",
              "        vertical-align: middle;\n",
              "    }\n",
              "\n",
              "    .dataframe tbody tr th {\n",
              "        vertical-align: top;\n",
              "    }\n",
              "\n",
              "    .dataframe thead th {\n",
              "        text-align: right;\n",
              "    }\n",
              "</style>\n",
              "<table border=\"1\" class=\"dataframe\">\n",
              "  <thead>\n",
              "    <tr style=\"text-align: right;\">\n",
              "      <th></th>\n",
              "      <th>6</th>\n",
              "      <th>0</th>\n",
              "      <th>0.1</th>\n",
              "      <th>0.2</th>\n",
              "      <th>0.3</th>\n",
              "      <th>0.4</th>\n",
              "      <th>0.5</th>\n",
              "      <th>0.6</th>\n",
              "      <th>0.7</th>\n",
              "      <th>0.8</th>\n",
              "      <th>...</th>\n",
              "      <th>0.581</th>\n",
              "      <th>0.582</th>\n",
              "      <th>0.583</th>\n",
              "      <th>0.584</th>\n",
              "      <th>0.585</th>\n",
              "      <th>0.586</th>\n",
              "      <th>0.587</th>\n",
              "      <th>0.588</th>\n",
              "      <th>0.589</th>\n",
              "      <th>0.590</th>\n",
              "    </tr>\n",
              "  </thead>\n",
              "  <tbody>\n",
              "    <tr>\n",
              "      <th>First_Entry</th>\n",
              "      <td>5</td>\n",
              "      <td>0</td>\n",
              "      <td>0</td>\n",
              "      <td>0</td>\n",
              "      <td>0</td>\n",
              "      <td>0</td>\n",
              "      <td>0</td>\n",
              "      <td>0</td>\n",
              "      <td>0</td>\n",
              "      <td>0</td>\n",
              "      <td>...</td>\n",
              "      <td>0</td>\n",
              "      <td>0</td>\n",
              "      <td>0</td>\n",
              "      <td>0</td>\n",
              "      <td>0</td>\n",
              "      <td>0</td>\n",
              "      <td>0</td>\n",
              "      <td>0</td>\n",
              "      <td>0</td>\n",
              "      <td>0</td>\n",
              "    </tr>\n",
              "    <tr>\n",
              "      <th>1</th>\n",
              "      <td>7</td>\n",
              "      <td>0</td>\n",
              "      <td>0</td>\n",
              "      <td>0</td>\n",
              "      <td>0</td>\n",
              "      <td>0</td>\n",
              "      <td>0</td>\n",
              "      <td>0</td>\n",
              "      <td>0</td>\n",
              "      <td>0</td>\n",
              "      <td>...</td>\n",
              "      <td>0</td>\n",
              "      <td>0</td>\n",
              "      <td>0</td>\n",
              "      <td>0</td>\n",
              "      <td>0</td>\n",
              "      <td>0</td>\n",
              "      <td>0</td>\n",
              "      <td>0</td>\n",
              "      <td>0</td>\n",
              "      <td>0</td>\n",
              "    </tr>\n",
              "    <tr>\n",
              "      <th>2</th>\n",
              "      <td>9</td>\n",
              "      <td>0</td>\n",
              "      <td>0</td>\n",
              "      <td>0</td>\n",
              "      <td>0</td>\n",
              "      <td>0</td>\n",
              "      <td>0</td>\n",
              "      <td>0</td>\n",
              "      <td>0</td>\n",
              "      <td>0</td>\n",
              "      <td>...</td>\n",
              "      <td>0</td>\n",
              "      <td>0</td>\n",
              "      <td>0</td>\n",
              "      <td>0</td>\n",
              "      <td>0</td>\n",
              "      <td>0</td>\n",
              "      <td>0</td>\n",
              "      <td>0</td>\n",
              "      <td>0</td>\n",
              "      <td>0</td>\n",
              "    </tr>\n",
              "    <tr>\n",
              "      <th>3</th>\n",
              "      <td>5</td>\n",
              "      <td>0</td>\n",
              "      <td>0</td>\n",
              "      <td>0</td>\n",
              "      <td>0</td>\n",
              "      <td>0</td>\n",
              "      <td>0</td>\n",
              "      <td>0</td>\n",
              "      <td>0</td>\n",
              "      <td>0</td>\n",
              "      <td>...</td>\n",
              "      <td>0</td>\n",
              "      <td>0</td>\n",
              "      <td>0</td>\n",
              "      <td>0</td>\n",
              "      <td>0</td>\n",
              "      <td>0</td>\n",
              "      <td>0</td>\n",
              "      <td>0</td>\n",
              "      <td>0</td>\n",
              "      <td>0</td>\n",
              "    </tr>\n",
              "    <tr>\n",
              "      <th>4</th>\n",
              "      <td>2</td>\n",
              "      <td>0</td>\n",
              "      <td>0</td>\n",
              "      <td>0</td>\n",
              "      <td>0</td>\n",
              "      <td>0</td>\n",
              "      <td>0</td>\n",
              "      <td>0</td>\n",
              "      <td>0</td>\n",
              "      <td>0</td>\n",
              "      <td>...</td>\n",
              "      <td>0</td>\n",
              "      <td>0</td>\n",
              "      <td>0</td>\n",
              "      <td>0</td>\n",
              "      <td>0</td>\n",
              "      <td>0</td>\n",
              "      <td>0</td>\n",
              "      <td>0</td>\n",
              "      <td>0</td>\n",
              "      <td>0</td>\n",
              "    </tr>\n",
              "    <tr>\n",
              "      <th>...</th>\n",
              "      <td>...</td>\n",
              "      <td>...</td>\n",
              "      <td>...</td>\n",
              "      <td>...</td>\n",
              "      <td>...</td>\n",
              "      <td>...</td>\n",
              "      <td>...</td>\n",
              "      <td>...</td>\n",
              "      <td>...</td>\n",
              "      <td>...</td>\n",
              "      <td>...</td>\n",
              "      <td>...</td>\n",
              "      <td>...</td>\n",
              "      <td>...</td>\n",
              "      <td>...</td>\n",
              "      <td>...</td>\n",
              "      <td>...</td>\n",
              "      <td>...</td>\n",
              "      <td>...</td>\n",
              "      <td>...</td>\n",
              "      <td>...</td>\n",
              "    </tr>\n",
              "    <tr>\n",
              "      <th>19994</th>\n",
              "      <td>0</td>\n",
              "      <td>0</td>\n",
              "      <td>0</td>\n",
              "      <td>0</td>\n",
              "      <td>0</td>\n",
              "      <td>0</td>\n",
              "      <td>0</td>\n",
              "      <td>0</td>\n",
              "      <td>0</td>\n",
              "      <td>0</td>\n",
              "      <td>...</td>\n",
              "      <td>0</td>\n",
              "      <td>0</td>\n",
              "      <td>0</td>\n",
              "      <td>0</td>\n",
              "      <td>0</td>\n",
              "      <td>0</td>\n",
              "      <td>0</td>\n",
              "      <td>0</td>\n",
              "      <td>0</td>\n",
              "      <td>0</td>\n",
              "    </tr>\n",
              "    <tr>\n",
              "      <th>19995</th>\n",
              "      <td>1</td>\n",
              "      <td>0</td>\n",
              "      <td>0</td>\n",
              "      <td>0</td>\n",
              "      <td>0</td>\n",
              "      <td>0</td>\n",
              "      <td>0</td>\n",
              "      <td>0</td>\n",
              "      <td>0</td>\n",
              "      <td>0</td>\n",
              "      <td>...</td>\n",
              "      <td>0</td>\n",
              "      <td>0</td>\n",
              "      <td>0</td>\n",
              "      <td>0</td>\n",
              "      <td>0</td>\n",
              "      <td>0</td>\n",
              "      <td>0</td>\n",
              "      <td>0</td>\n",
              "      <td>0</td>\n",
              "      <td>0</td>\n",
              "    </tr>\n",
              "    <tr>\n",
              "      <th>19996</th>\n",
              "      <td>2</td>\n",
              "      <td>0</td>\n",
              "      <td>0</td>\n",
              "      <td>0</td>\n",
              "      <td>0</td>\n",
              "      <td>0</td>\n",
              "      <td>0</td>\n",
              "      <td>0</td>\n",
              "      <td>0</td>\n",
              "      <td>0</td>\n",
              "      <td>...</td>\n",
              "      <td>0</td>\n",
              "      <td>0</td>\n",
              "      <td>0</td>\n",
              "      <td>0</td>\n",
              "      <td>0</td>\n",
              "      <td>0</td>\n",
              "      <td>0</td>\n",
              "      <td>0</td>\n",
              "      <td>0</td>\n",
              "      <td>0</td>\n",
              "    </tr>\n",
              "    <tr>\n",
              "      <th>19997</th>\n",
              "      <td>9</td>\n",
              "      <td>0</td>\n",
              "      <td>0</td>\n",
              "      <td>0</td>\n",
              "      <td>0</td>\n",
              "      <td>0</td>\n",
              "      <td>0</td>\n",
              "      <td>0</td>\n",
              "      <td>0</td>\n",
              "      <td>0</td>\n",
              "      <td>...</td>\n",
              "      <td>0</td>\n",
              "      <td>0</td>\n",
              "      <td>0</td>\n",
              "      <td>0</td>\n",
              "      <td>0</td>\n",
              "      <td>0</td>\n",
              "      <td>0</td>\n",
              "      <td>0</td>\n",
              "      <td>0</td>\n",
              "      <td>0</td>\n",
              "    </tr>\n",
              "    <tr>\n",
              "      <th>19998</th>\n",
              "      <td>5</td>\n",
              "      <td>0</td>\n",
              "      <td>0</td>\n",
              "      <td>0</td>\n",
              "      <td>0</td>\n",
              "      <td>0</td>\n",
              "      <td>0</td>\n",
              "      <td>0</td>\n",
              "      <td>0</td>\n",
              "      <td>0</td>\n",
              "      <td>...</td>\n",
              "      <td>0</td>\n",
              "      <td>0</td>\n",
              "      <td>0</td>\n",
              "      <td>0</td>\n",
              "      <td>0</td>\n",
              "      <td>0</td>\n",
              "      <td>0</td>\n",
              "      <td>0</td>\n",
              "      <td>0</td>\n",
              "      <td>0</td>\n",
              "    </tr>\n",
              "  </tbody>\n",
              "</table>\n",
              "<p>19999 rows × 785 columns</p>\n",
              "</div>\n",
              "      <button class=\"colab-df-convert\" onclick=\"convertToInteractive('df-00417b17-0ac7-4ae8-a79b-1ce33742417e')\"\n",
              "              title=\"Convert this dataframe to an interactive table.\"\n",
              "              style=\"display:none;\">\n",
              "        \n",
              "  <svg xmlns=\"http://www.w3.org/2000/svg\" height=\"24px\"viewBox=\"0 0 24 24\"\n",
              "       width=\"24px\">\n",
              "    <path d=\"M0 0h24v24H0V0z\" fill=\"none\"/>\n",
              "    <path d=\"M18.56 5.44l.94 2.06.94-2.06 2.06-.94-2.06-.94-.94-2.06-.94 2.06-2.06.94zm-11 1L8.5 8.5l.94-2.06 2.06-.94-2.06-.94L8.5 2.5l-.94 2.06-2.06.94zm10 10l.94 2.06.94-2.06 2.06-.94-2.06-.94-.94-2.06-.94 2.06-2.06.94z\"/><path d=\"M17.41 7.96l-1.37-1.37c-.4-.4-.92-.59-1.43-.59-.52 0-1.04.2-1.43.59L10.3 9.45l-7.72 7.72c-.78.78-.78 2.05 0 2.83L4 21.41c.39.39.9.59 1.41.59.51 0 1.02-.2 1.41-.59l7.78-7.78 2.81-2.81c.8-.78.8-2.07 0-2.86zM5.41 20L4 18.59l7.72-7.72 1.47 1.35L5.41 20z\"/>\n",
              "  </svg>\n",
              "      </button>\n",
              "      \n",
              "  <style>\n",
              "    .colab-df-container {\n",
              "      display:flex;\n",
              "      flex-wrap:wrap;\n",
              "      gap: 12px;\n",
              "    }\n",
              "\n",
              "    .colab-df-convert {\n",
              "      background-color: #E8F0FE;\n",
              "      border: none;\n",
              "      border-radius: 50%;\n",
              "      cursor: pointer;\n",
              "      display: none;\n",
              "      fill: #1967D2;\n",
              "      height: 32px;\n",
              "      padding: 0 0 0 0;\n",
              "      width: 32px;\n",
              "    }\n",
              "\n",
              "    .colab-df-convert:hover {\n",
              "      background-color: #E2EBFA;\n",
              "      box-shadow: 0px 1px 2px rgba(60, 64, 67, 0.3), 0px 1px 3px 1px rgba(60, 64, 67, 0.15);\n",
              "      fill: #174EA6;\n",
              "    }\n",
              "\n",
              "    [theme=dark] .colab-df-convert {\n",
              "      background-color: #3B4455;\n",
              "      fill: #D2E3FC;\n",
              "    }\n",
              "\n",
              "    [theme=dark] .colab-df-convert:hover {\n",
              "      background-color: #434B5C;\n",
              "      box-shadow: 0px 1px 3px 1px rgba(0, 0, 0, 0.15);\n",
              "      filter: drop-shadow(0px 1px 2px rgba(0, 0, 0, 0.3));\n",
              "      fill: #FFFFFF;\n",
              "    }\n",
              "  </style>\n",
              "\n",
              "      <script>\n",
              "        const buttonEl =\n",
              "          document.querySelector('#df-00417b17-0ac7-4ae8-a79b-1ce33742417e button.colab-df-convert');\n",
              "        buttonEl.style.display =\n",
              "          google.colab.kernel.accessAllowed ? 'block' : 'none';\n",
              "\n",
              "        async function convertToInteractive(key) {\n",
              "          const element = document.querySelector('#df-00417b17-0ac7-4ae8-a79b-1ce33742417e');\n",
              "          const dataTable =\n",
              "            await google.colab.kernel.invokeFunction('convertToInteractive',\n",
              "                                                     [key], {});\n",
              "          if (!dataTable) return;\n",
              "\n",
              "          const docLinkHtml = 'Like what you see? Visit the ' +\n",
              "            '<a target=\"_blank\" href=https://colab.research.google.com/notebooks/data_table.ipynb>data table notebook</a>'\n",
              "            + ' to learn more about interactive tables.';\n",
              "          element.innerHTML = '';\n",
              "          dataTable['output_type'] = 'display_data';\n",
              "          await google.colab.output.renderOutput(dataTable, element);\n",
              "          const docLink = document.createElement('div');\n",
              "          docLink.innerHTML = docLinkHtml;\n",
              "          element.appendChild(docLink);\n",
              "        }\n",
              "      </script>\n",
              "    </div>\n",
              "  </div>\n",
              "  "
            ]
          },
          "metadata": {},
          "execution_count": 179
        }
      ]
    },
    {
      "cell_type": "code",
      "source": [
        "mnist.rename(columns = {'6' : 'Output'})"
      ],
      "metadata": {
        "colab": {
          "base_uri": "https://localhost:8080/",
          "height": 423
        },
        "id": "_869Be_FTWVX",
        "outputId": "2d30fe01-fa9d-427f-e85d-0386ea70ba98"
      },
      "execution_count": 180,
      "outputs": [
        {
          "output_type": "execute_result",
          "data": {
            "text/plain": [
              "       Output  0  0.1  0.2  0.3  0.4  0.5  0.6  0.7  0.8  ...  0.581  0.582  \\\n",
              "0           5  0    0    0    0    0    0    0    0    0  ...      0      0   \n",
              "1           7  0    0    0    0    0    0    0    0    0  ...      0      0   \n",
              "2           9  0    0    0    0    0    0    0    0    0  ...      0      0   \n",
              "3           5  0    0    0    0    0    0    0    0    0  ...      0      0   \n",
              "4           2  0    0    0    0    0    0    0    0    0  ...      0      0   \n",
              "...       ... ..  ...  ...  ...  ...  ...  ...  ...  ...  ...    ...    ...   \n",
              "19994       0  0    0    0    0    0    0    0    0    0  ...      0      0   \n",
              "19995       1  0    0    0    0    0    0    0    0    0  ...      0      0   \n",
              "19996       2  0    0    0    0    0    0    0    0    0  ...      0      0   \n",
              "19997       9  0    0    0    0    0    0    0    0    0  ...      0      0   \n",
              "19998       5  0    0    0    0    0    0    0    0    0  ...      0      0   \n",
              "\n",
              "       0.583  0.584  0.585  0.586  0.587  0.588  0.589  0.590  \n",
              "0          0      0      0      0      0      0      0      0  \n",
              "1          0      0      0      0      0      0      0      0  \n",
              "2          0      0      0      0      0      0      0      0  \n",
              "3          0      0      0      0      0      0      0      0  \n",
              "4          0      0      0      0      0      0      0      0  \n",
              "...      ...    ...    ...    ...    ...    ...    ...    ...  \n",
              "19994      0      0      0      0      0      0      0      0  \n",
              "19995      0      0      0      0      0      0      0      0  \n",
              "19996      0      0      0      0      0      0      0      0  \n",
              "19997      0      0      0      0      0      0      0      0  \n",
              "19998      0      0      0      0      0      0      0      0  \n",
              "\n",
              "[19999 rows x 785 columns]"
            ],
            "text/html": [
              "\n",
              "  <div id=\"df-f73d3f1a-decd-4b3f-b88c-9b7c9a5b79bb\">\n",
              "    <div class=\"colab-df-container\">\n",
              "      <div>\n",
              "<style scoped>\n",
              "    .dataframe tbody tr th:only-of-type {\n",
              "        vertical-align: middle;\n",
              "    }\n",
              "\n",
              "    .dataframe tbody tr th {\n",
              "        vertical-align: top;\n",
              "    }\n",
              "\n",
              "    .dataframe thead th {\n",
              "        text-align: right;\n",
              "    }\n",
              "</style>\n",
              "<table border=\"1\" class=\"dataframe\">\n",
              "  <thead>\n",
              "    <tr style=\"text-align: right;\">\n",
              "      <th></th>\n",
              "      <th>Output</th>\n",
              "      <th>0</th>\n",
              "      <th>0.1</th>\n",
              "      <th>0.2</th>\n",
              "      <th>0.3</th>\n",
              "      <th>0.4</th>\n",
              "      <th>0.5</th>\n",
              "      <th>0.6</th>\n",
              "      <th>0.7</th>\n",
              "      <th>0.8</th>\n",
              "      <th>...</th>\n",
              "      <th>0.581</th>\n",
              "      <th>0.582</th>\n",
              "      <th>0.583</th>\n",
              "      <th>0.584</th>\n",
              "      <th>0.585</th>\n",
              "      <th>0.586</th>\n",
              "      <th>0.587</th>\n",
              "      <th>0.588</th>\n",
              "      <th>0.589</th>\n",
              "      <th>0.590</th>\n",
              "    </tr>\n",
              "  </thead>\n",
              "  <tbody>\n",
              "    <tr>\n",
              "      <th>0</th>\n",
              "      <td>5</td>\n",
              "      <td>0</td>\n",
              "      <td>0</td>\n",
              "      <td>0</td>\n",
              "      <td>0</td>\n",
              "      <td>0</td>\n",
              "      <td>0</td>\n",
              "      <td>0</td>\n",
              "      <td>0</td>\n",
              "      <td>0</td>\n",
              "      <td>...</td>\n",
              "      <td>0</td>\n",
              "      <td>0</td>\n",
              "      <td>0</td>\n",
              "      <td>0</td>\n",
              "      <td>0</td>\n",
              "      <td>0</td>\n",
              "      <td>0</td>\n",
              "      <td>0</td>\n",
              "      <td>0</td>\n",
              "      <td>0</td>\n",
              "    </tr>\n",
              "    <tr>\n",
              "      <th>1</th>\n",
              "      <td>7</td>\n",
              "      <td>0</td>\n",
              "      <td>0</td>\n",
              "      <td>0</td>\n",
              "      <td>0</td>\n",
              "      <td>0</td>\n",
              "      <td>0</td>\n",
              "      <td>0</td>\n",
              "      <td>0</td>\n",
              "      <td>0</td>\n",
              "      <td>...</td>\n",
              "      <td>0</td>\n",
              "      <td>0</td>\n",
              "      <td>0</td>\n",
              "      <td>0</td>\n",
              "      <td>0</td>\n",
              "      <td>0</td>\n",
              "      <td>0</td>\n",
              "      <td>0</td>\n",
              "      <td>0</td>\n",
              "      <td>0</td>\n",
              "    </tr>\n",
              "    <tr>\n",
              "      <th>2</th>\n",
              "      <td>9</td>\n",
              "      <td>0</td>\n",
              "      <td>0</td>\n",
              "      <td>0</td>\n",
              "      <td>0</td>\n",
              "      <td>0</td>\n",
              "      <td>0</td>\n",
              "      <td>0</td>\n",
              "      <td>0</td>\n",
              "      <td>0</td>\n",
              "      <td>...</td>\n",
              "      <td>0</td>\n",
              "      <td>0</td>\n",
              "      <td>0</td>\n",
              "      <td>0</td>\n",
              "      <td>0</td>\n",
              "      <td>0</td>\n",
              "      <td>0</td>\n",
              "      <td>0</td>\n",
              "      <td>0</td>\n",
              "      <td>0</td>\n",
              "    </tr>\n",
              "    <tr>\n",
              "      <th>3</th>\n",
              "      <td>5</td>\n",
              "      <td>0</td>\n",
              "      <td>0</td>\n",
              "      <td>0</td>\n",
              "      <td>0</td>\n",
              "      <td>0</td>\n",
              "      <td>0</td>\n",
              "      <td>0</td>\n",
              "      <td>0</td>\n",
              "      <td>0</td>\n",
              "      <td>...</td>\n",
              "      <td>0</td>\n",
              "      <td>0</td>\n",
              "      <td>0</td>\n",
              "      <td>0</td>\n",
              "      <td>0</td>\n",
              "      <td>0</td>\n",
              "      <td>0</td>\n",
              "      <td>0</td>\n",
              "      <td>0</td>\n",
              "      <td>0</td>\n",
              "    </tr>\n",
              "    <tr>\n",
              "      <th>4</th>\n",
              "      <td>2</td>\n",
              "      <td>0</td>\n",
              "      <td>0</td>\n",
              "      <td>0</td>\n",
              "      <td>0</td>\n",
              "      <td>0</td>\n",
              "      <td>0</td>\n",
              "      <td>0</td>\n",
              "      <td>0</td>\n",
              "      <td>0</td>\n",
              "      <td>...</td>\n",
              "      <td>0</td>\n",
              "      <td>0</td>\n",
              "      <td>0</td>\n",
              "      <td>0</td>\n",
              "      <td>0</td>\n",
              "      <td>0</td>\n",
              "      <td>0</td>\n",
              "      <td>0</td>\n",
              "      <td>0</td>\n",
              "      <td>0</td>\n",
              "    </tr>\n",
              "    <tr>\n",
              "      <th>...</th>\n",
              "      <td>...</td>\n",
              "      <td>...</td>\n",
              "      <td>...</td>\n",
              "      <td>...</td>\n",
              "      <td>...</td>\n",
              "      <td>...</td>\n",
              "      <td>...</td>\n",
              "      <td>...</td>\n",
              "      <td>...</td>\n",
              "      <td>...</td>\n",
              "      <td>...</td>\n",
              "      <td>...</td>\n",
              "      <td>...</td>\n",
              "      <td>...</td>\n",
              "      <td>...</td>\n",
              "      <td>...</td>\n",
              "      <td>...</td>\n",
              "      <td>...</td>\n",
              "      <td>...</td>\n",
              "      <td>...</td>\n",
              "      <td>...</td>\n",
              "    </tr>\n",
              "    <tr>\n",
              "      <th>19994</th>\n",
              "      <td>0</td>\n",
              "      <td>0</td>\n",
              "      <td>0</td>\n",
              "      <td>0</td>\n",
              "      <td>0</td>\n",
              "      <td>0</td>\n",
              "      <td>0</td>\n",
              "      <td>0</td>\n",
              "      <td>0</td>\n",
              "      <td>0</td>\n",
              "      <td>...</td>\n",
              "      <td>0</td>\n",
              "      <td>0</td>\n",
              "      <td>0</td>\n",
              "      <td>0</td>\n",
              "      <td>0</td>\n",
              "      <td>0</td>\n",
              "      <td>0</td>\n",
              "      <td>0</td>\n",
              "      <td>0</td>\n",
              "      <td>0</td>\n",
              "    </tr>\n",
              "    <tr>\n",
              "      <th>19995</th>\n",
              "      <td>1</td>\n",
              "      <td>0</td>\n",
              "      <td>0</td>\n",
              "      <td>0</td>\n",
              "      <td>0</td>\n",
              "      <td>0</td>\n",
              "      <td>0</td>\n",
              "      <td>0</td>\n",
              "      <td>0</td>\n",
              "      <td>0</td>\n",
              "      <td>...</td>\n",
              "      <td>0</td>\n",
              "      <td>0</td>\n",
              "      <td>0</td>\n",
              "      <td>0</td>\n",
              "      <td>0</td>\n",
              "      <td>0</td>\n",
              "      <td>0</td>\n",
              "      <td>0</td>\n",
              "      <td>0</td>\n",
              "      <td>0</td>\n",
              "    </tr>\n",
              "    <tr>\n",
              "      <th>19996</th>\n",
              "      <td>2</td>\n",
              "      <td>0</td>\n",
              "      <td>0</td>\n",
              "      <td>0</td>\n",
              "      <td>0</td>\n",
              "      <td>0</td>\n",
              "      <td>0</td>\n",
              "      <td>0</td>\n",
              "      <td>0</td>\n",
              "      <td>0</td>\n",
              "      <td>...</td>\n",
              "      <td>0</td>\n",
              "      <td>0</td>\n",
              "      <td>0</td>\n",
              "      <td>0</td>\n",
              "      <td>0</td>\n",
              "      <td>0</td>\n",
              "      <td>0</td>\n",
              "      <td>0</td>\n",
              "      <td>0</td>\n",
              "      <td>0</td>\n",
              "    </tr>\n",
              "    <tr>\n",
              "      <th>19997</th>\n",
              "      <td>9</td>\n",
              "      <td>0</td>\n",
              "      <td>0</td>\n",
              "      <td>0</td>\n",
              "      <td>0</td>\n",
              "      <td>0</td>\n",
              "      <td>0</td>\n",
              "      <td>0</td>\n",
              "      <td>0</td>\n",
              "      <td>0</td>\n",
              "      <td>...</td>\n",
              "      <td>0</td>\n",
              "      <td>0</td>\n",
              "      <td>0</td>\n",
              "      <td>0</td>\n",
              "      <td>0</td>\n",
              "      <td>0</td>\n",
              "      <td>0</td>\n",
              "      <td>0</td>\n",
              "      <td>0</td>\n",
              "      <td>0</td>\n",
              "    </tr>\n",
              "    <tr>\n",
              "      <th>19998</th>\n",
              "      <td>5</td>\n",
              "      <td>0</td>\n",
              "      <td>0</td>\n",
              "      <td>0</td>\n",
              "      <td>0</td>\n",
              "      <td>0</td>\n",
              "      <td>0</td>\n",
              "      <td>0</td>\n",
              "      <td>0</td>\n",
              "      <td>0</td>\n",
              "      <td>...</td>\n",
              "      <td>0</td>\n",
              "      <td>0</td>\n",
              "      <td>0</td>\n",
              "      <td>0</td>\n",
              "      <td>0</td>\n",
              "      <td>0</td>\n",
              "      <td>0</td>\n",
              "      <td>0</td>\n",
              "      <td>0</td>\n",
              "      <td>0</td>\n",
              "    </tr>\n",
              "  </tbody>\n",
              "</table>\n",
              "<p>19999 rows × 785 columns</p>\n",
              "</div>\n",
              "      <button class=\"colab-df-convert\" onclick=\"convertToInteractive('df-f73d3f1a-decd-4b3f-b88c-9b7c9a5b79bb')\"\n",
              "              title=\"Convert this dataframe to an interactive table.\"\n",
              "              style=\"display:none;\">\n",
              "        \n",
              "  <svg xmlns=\"http://www.w3.org/2000/svg\" height=\"24px\"viewBox=\"0 0 24 24\"\n",
              "       width=\"24px\">\n",
              "    <path d=\"M0 0h24v24H0V0z\" fill=\"none\"/>\n",
              "    <path d=\"M18.56 5.44l.94 2.06.94-2.06 2.06-.94-2.06-.94-.94-2.06-.94 2.06-2.06.94zm-11 1L8.5 8.5l.94-2.06 2.06-.94-2.06-.94L8.5 2.5l-.94 2.06-2.06.94zm10 10l.94 2.06.94-2.06 2.06-.94-2.06-.94-.94-2.06-.94 2.06-2.06.94z\"/><path d=\"M17.41 7.96l-1.37-1.37c-.4-.4-.92-.59-1.43-.59-.52 0-1.04.2-1.43.59L10.3 9.45l-7.72 7.72c-.78.78-.78 2.05 0 2.83L4 21.41c.39.39.9.59 1.41.59.51 0 1.02-.2 1.41-.59l7.78-7.78 2.81-2.81c.8-.78.8-2.07 0-2.86zM5.41 20L4 18.59l7.72-7.72 1.47 1.35L5.41 20z\"/>\n",
              "  </svg>\n",
              "      </button>\n",
              "      \n",
              "  <style>\n",
              "    .colab-df-container {\n",
              "      display:flex;\n",
              "      flex-wrap:wrap;\n",
              "      gap: 12px;\n",
              "    }\n",
              "\n",
              "    .colab-df-convert {\n",
              "      background-color: #E8F0FE;\n",
              "      border: none;\n",
              "      border-radius: 50%;\n",
              "      cursor: pointer;\n",
              "      display: none;\n",
              "      fill: #1967D2;\n",
              "      height: 32px;\n",
              "      padding: 0 0 0 0;\n",
              "      width: 32px;\n",
              "    }\n",
              "\n",
              "    .colab-df-convert:hover {\n",
              "      background-color: #E2EBFA;\n",
              "      box-shadow: 0px 1px 2px rgba(60, 64, 67, 0.3), 0px 1px 3px 1px rgba(60, 64, 67, 0.15);\n",
              "      fill: #174EA6;\n",
              "    }\n",
              "\n",
              "    [theme=dark] .colab-df-convert {\n",
              "      background-color: #3B4455;\n",
              "      fill: #D2E3FC;\n",
              "    }\n",
              "\n",
              "    [theme=dark] .colab-df-convert:hover {\n",
              "      background-color: #434B5C;\n",
              "      box-shadow: 0px 1px 3px 1px rgba(0, 0, 0, 0.15);\n",
              "      filter: drop-shadow(0px 1px 2px rgba(0, 0, 0, 0.3));\n",
              "      fill: #FFFFFF;\n",
              "    }\n",
              "  </style>\n",
              "\n",
              "      <script>\n",
              "        const buttonEl =\n",
              "          document.querySelector('#df-f73d3f1a-decd-4b3f-b88c-9b7c9a5b79bb button.colab-df-convert');\n",
              "        buttonEl.style.display =\n",
              "          google.colab.kernel.accessAllowed ? 'block' : 'none';\n",
              "\n",
              "        async function convertToInteractive(key) {\n",
              "          const element = document.querySelector('#df-f73d3f1a-decd-4b3f-b88c-9b7c9a5b79bb');\n",
              "          const dataTable =\n",
              "            await google.colab.kernel.invokeFunction('convertToInteractive',\n",
              "                                                     [key], {});\n",
              "          if (!dataTable) return;\n",
              "\n",
              "          const docLinkHtml = 'Like what you see? Visit the ' +\n",
              "            '<a target=\"_blank\" href=https://colab.research.google.com/notebooks/data_table.ipynb>data table notebook</a>'\n",
              "            + ' to learn more about interactive tables.';\n",
              "          element.innerHTML = '';\n",
              "          dataTable['output_type'] = 'display_data';\n",
              "          await google.colab.output.renderOutput(dataTable, element);\n",
              "          const docLink = document.createElement('div');\n",
              "          docLink.innerHTML = docLinkHtml;\n",
              "          element.appendChild(docLink);\n",
              "        }\n",
              "      </script>\n",
              "    </div>\n",
              "  </div>\n",
              "  "
            ]
          },
          "metadata": {},
          "execution_count": 180
        }
      ]
    },
    {
      "cell_type": "markdown",
      "source": [
        "* You'll probably rename columns very often, but rename index values very rarely. For that, *set_index()* is usually more convenient."
      ],
      "metadata": {
        "id": "Qb53h74UTqSZ"
      }
    },
    {
      "cell_type": "markdown",
      "source": [
        "* Both the row index and the column index can have their own name attribute. The complimentary *rename_axis()* method may be used to change these names:"
      ],
      "metadata": {
        "id": "eEhQPIcyUOuO"
      }
    },
    {
      "cell_type": "code",
      "source": [
        "mnist.rename_axis('row_values', axis='rows').rename_axis('column_values', axis='columns')"
      ],
      "metadata": {
        "colab": {
          "base_uri": "https://localhost:8080/",
          "height": 455
        },
        "id": "df_zpG9MUdr9",
        "outputId": "bb031c1c-ed57-43d1-d377-07f610975cbf"
      },
      "execution_count": 181,
      "outputs": [
        {
          "output_type": "execute_result",
          "data": {
            "text/plain": [
              "column_values  6  0  0.1  0.2  0.3  0.4  0.5  0.6  0.7  0.8  ...  0.581  \\\n",
              "row_values                                                   ...          \n",
              "0              5  0    0    0    0    0    0    0    0    0  ...      0   \n",
              "1              7  0    0    0    0    0    0    0    0    0  ...      0   \n",
              "2              9  0    0    0    0    0    0    0    0    0  ...      0   \n",
              "3              5  0    0    0    0    0    0    0    0    0  ...      0   \n",
              "4              2  0    0    0    0    0    0    0    0    0  ...      0   \n",
              "...           .. ..  ...  ...  ...  ...  ...  ...  ...  ...  ...    ...   \n",
              "19994          0  0    0    0    0    0    0    0    0    0  ...      0   \n",
              "19995          1  0    0    0    0    0    0    0    0    0  ...      0   \n",
              "19996          2  0    0    0    0    0    0    0    0    0  ...      0   \n",
              "19997          9  0    0    0    0    0    0    0    0    0  ...      0   \n",
              "19998          5  0    0    0    0    0    0    0    0    0  ...      0   \n",
              "\n",
              "column_values  0.582  0.583  0.584  0.585  0.586  0.587  0.588  0.589  0.590  \n",
              "row_values                                                                    \n",
              "0                  0      0      0      0      0      0      0      0      0  \n",
              "1                  0      0      0      0      0      0      0      0      0  \n",
              "2                  0      0      0      0      0      0      0      0      0  \n",
              "3                  0      0      0      0      0      0      0      0      0  \n",
              "4                  0      0      0      0      0      0      0      0      0  \n",
              "...              ...    ...    ...    ...    ...    ...    ...    ...    ...  \n",
              "19994              0      0      0      0      0      0      0      0      0  \n",
              "19995              0      0      0      0      0      0      0      0      0  \n",
              "19996              0      0      0      0      0      0      0      0      0  \n",
              "19997              0      0      0      0      0      0      0      0      0  \n",
              "19998              0      0      0      0      0      0      0      0      0  \n",
              "\n",
              "[19999 rows x 785 columns]"
            ],
            "text/html": [
              "\n",
              "  <div id=\"df-c4097070-d31c-40fa-a6ed-72bf326c9cd7\">\n",
              "    <div class=\"colab-df-container\">\n",
              "      <div>\n",
              "<style scoped>\n",
              "    .dataframe tbody tr th:only-of-type {\n",
              "        vertical-align: middle;\n",
              "    }\n",
              "\n",
              "    .dataframe tbody tr th {\n",
              "        vertical-align: top;\n",
              "    }\n",
              "\n",
              "    .dataframe thead th {\n",
              "        text-align: right;\n",
              "    }\n",
              "</style>\n",
              "<table border=\"1\" class=\"dataframe\">\n",
              "  <thead>\n",
              "    <tr style=\"text-align: right;\">\n",
              "      <th>column_values</th>\n",
              "      <th>6</th>\n",
              "      <th>0</th>\n",
              "      <th>0.1</th>\n",
              "      <th>0.2</th>\n",
              "      <th>0.3</th>\n",
              "      <th>0.4</th>\n",
              "      <th>0.5</th>\n",
              "      <th>0.6</th>\n",
              "      <th>0.7</th>\n",
              "      <th>0.8</th>\n",
              "      <th>...</th>\n",
              "      <th>0.581</th>\n",
              "      <th>0.582</th>\n",
              "      <th>0.583</th>\n",
              "      <th>0.584</th>\n",
              "      <th>0.585</th>\n",
              "      <th>0.586</th>\n",
              "      <th>0.587</th>\n",
              "      <th>0.588</th>\n",
              "      <th>0.589</th>\n",
              "      <th>0.590</th>\n",
              "    </tr>\n",
              "    <tr>\n",
              "      <th>row_values</th>\n",
              "      <th></th>\n",
              "      <th></th>\n",
              "      <th></th>\n",
              "      <th></th>\n",
              "      <th></th>\n",
              "      <th></th>\n",
              "      <th></th>\n",
              "      <th></th>\n",
              "      <th></th>\n",
              "      <th></th>\n",
              "      <th></th>\n",
              "      <th></th>\n",
              "      <th></th>\n",
              "      <th></th>\n",
              "      <th></th>\n",
              "      <th></th>\n",
              "      <th></th>\n",
              "      <th></th>\n",
              "      <th></th>\n",
              "      <th></th>\n",
              "      <th></th>\n",
              "    </tr>\n",
              "  </thead>\n",
              "  <tbody>\n",
              "    <tr>\n",
              "      <th>0</th>\n",
              "      <td>5</td>\n",
              "      <td>0</td>\n",
              "      <td>0</td>\n",
              "      <td>0</td>\n",
              "      <td>0</td>\n",
              "      <td>0</td>\n",
              "      <td>0</td>\n",
              "      <td>0</td>\n",
              "      <td>0</td>\n",
              "      <td>0</td>\n",
              "      <td>...</td>\n",
              "      <td>0</td>\n",
              "      <td>0</td>\n",
              "      <td>0</td>\n",
              "      <td>0</td>\n",
              "      <td>0</td>\n",
              "      <td>0</td>\n",
              "      <td>0</td>\n",
              "      <td>0</td>\n",
              "      <td>0</td>\n",
              "      <td>0</td>\n",
              "    </tr>\n",
              "    <tr>\n",
              "      <th>1</th>\n",
              "      <td>7</td>\n",
              "      <td>0</td>\n",
              "      <td>0</td>\n",
              "      <td>0</td>\n",
              "      <td>0</td>\n",
              "      <td>0</td>\n",
              "      <td>0</td>\n",
              "      <td>0</td>\n",
              "      <td>0</td>\n",
              "      <td>0</td>\n",
              "      <td>...</td>\n",
              "      <td>0</td>\n",
              "      <td>0</td>\n",
              "      <td>0</td>\n",
              "      <td>0</td>\n",
              "      <td>0</td>\n",
              "      <td>0</td>\n",
              "      <td>0</td>\n",
              "      <td>0</td>\n",
              "      <td>0</td>\n",
              "      <td>0</td>\n",
              "    </tr>\n",
              "    <tr>\n",
              "      <th>2</th>\n",
              "      <td>9</td>\n",
              "      <td>0</td>\n",
              "      <td>0</td>\n",
              "      <td>0</td>\n",
              "      <td>0</td>\n",
              "      <td>0</td>\n",
              "      <td>0</td>\n",
              "      <td>0</td>\n",
              "      <td>0</td>\n",
              "      <td>0</td>\n",
              "      <td>...</td>\n",
              "      <td>0</td>\n",
              "      <td>0</td>\n",
              "      <td>0</td>\n",
              "      <td>0</td>\n",
              "      <td>0</td>\n",
              "      <td>0</td>\n",
              "      <td>0</td>\n",
              "      <td>0</td>\n",
              "      <td>0</td>\n",
              "      <td>0</td>\n",
              "    </tr>\n",
              "    <tr>\n",
              "      <th>3</th>\n",
              "      <td>5</td>\n",
              "      <td>0</td>\n",
              "      <td>0</td>\n",
              "      <td>0</td>\n",
              "      <td>0</td>\n",
              "      <td>0</td>\n",
              "      <td>0</td>\n",
              "      <td>0</td>\n",
              "      <td>0</td>\n",
              "      <td>0</td>\n",
              "      <td>...</td>\n",
              "      <td>0</td>\n",
              "      <td>0</td>\n",
              "      <td>0</td>\n",
              "      <td>0</td>\n",
              "      <td>0</td>\n",
              "      <td>0</td>\n",
              "      <td>0</td>\n",
              "      <td>0</td>\n",
              "      <td>0</td>\n",
              "      <td>0</td>\n",
              "    </tr>\n",
              "    <tr>\n",
              "      <th>4</th>\n",
              "      <td>2</td>\n",
              "      <td>0</td>\n",
              "      <td>0</td>\n",
              "      <td>0</td>\n",
              "      <td>0</td>\n",
              "      <td>0</td>\n",
              "      <td>0</td>\n",
              "      <td>0</td>\n",
              "      <td>0</td>\n",
              "      <td>0</td>\n",
              "      <td>...</td>\n",
              "      <td>0</td>\n",
              "      <td>0</td>\n",
              "      <td>0</td>\n",
              "      <td>0</td>\n",
              "      <td>0</td>\n",
              "      <td>0</td>\n",
              "      <td>0</td>\n",
              "      <td>0</td>\n",
              "      <td>0</td>\n",
              "      <td>0</td>\n",
              "    </tr>\n",
              "    <tr>\n",
              "      <th>...</th>\n",
              "      <td>...</td>\n",
              "      <td>...</td>\n",
              "      <td>...</td>\n",
              "      <td>...</td>\n",
              "      <td>...</td>\n",
              "      <td>...</td>\n",
              "      <td>...</td>\n",
              "      <td>...</td>\n",
              "      <td>...</td>\n",
              "      <td>...</td>\n",
              "      <td>...</td>\n",
              "      <td>...</td>\n",
              "      <td>...</td>\n",
              "      <td>...</td>\n",
              "      <td>...</td>\n",
              "      <td>...</td>\n",
              "      <td>...</td>\n",
              "      <td>...</td>\n",
              "      <td>...</td>\n",
              "      <td>...</td>\n",
              "      <td>...</td>\n",
              "    </tr>\n",
              "    <tr>\n",
              "      <th>19994</th>\n",
              "      <td>0</td>\n",
              "      <td>0</td>\n",
              "      <td>0</td>\n",
              "      <td>0</td>\n",
              "      <td>0</td>\n",
              "      <td>0</td>\n",
              "      <td>0</td>\n",
              "      <td>0</td>\n",
              "      <td>0</td>\n",
              "      <td>0</td>\n",
              "      <td>...</td>\n",
              "      <td>0</td>\n",
              "      <td>0</td>\n",
              "      <td>0</td>\n",
              "      <td>0</td>\n",
              "      <td>0</td>\n",
              "      <td>0</td>\n",
              "      <td>0</td>\n",
              "      <td>0</td>\n",
              "      <td>0</td>\n",
              "      <td>0</td>\n",
              "    </tr>\n",
              "    <tr>\n",
              "      <th>19995</th>\n",
              "      <td>1</td>\n",
              "      <td>0</td>\n",
              "      <td>0</td>\n",
              "      <td>0</td>\n",
              "      <td>0</td>\n",
              "      <td>0</td>\n",
              "      <td>0</td>\n",
              "      <td>0</td>\n",
              "      <td>0</td>\n",
              "      <td>0</td>\n",
              "      <td>...</td>\n",
              "      <td>0</td>\n",
              "      <td>0</td>\n",
              "      <td>0</td>\n",
              "      <td>0</td>\n",
              "      <td>0</td>\n",
              "      <td>0</td>\n",
              "      <td>0</td>\n",
              "      <td>0</td>\n",
              "      <td>0</td>\n",
              "      <td>0</td>\n",
              "    </tr>\n",
              "    <tr>\n",
              "      <th>19996</th>\n",
              "      <td>2</td>\n",
              "      <td>0</td>\n",
              "      <td>0</td>\n",
              "      <td>0</td>\n",
              "      <td>0</td>\n",
              "      <td>0</td>\n",
              "      <td>0</td>\n",
              "      <td>0</td>\n",
              "      <td>0</td>\n",
              "      <td>0</td>\n",
              "      <td>...</td>\n",
              "      <td>0</td>\n",
              "      <td>0</td>\n",
              "      <td>0</td>\n",
              "      <td>0</td>\n",
              "      <td>0</td>\n",
              "      <td>0</td>\n",
              "      <td>0</td>\n",
              "      <td>0</td>\n",
              "      <td>0</td>\n",
              "      <td>0</td>\n",
              "    </tr>\n",
              "    <tr>\n",
              "      <th>19997</th>\n",
              "      <td>9</td>\n",
              "      <td>0</td>\n",
              "      <td>0</td>\n",
              "      <td>0</td>\n",
              "      <td>0</td>\n",
              "      <td>0</td>\n",
              "      <td>0</td>\n",
              "      <td>0</td>\n",
              "      <td>0</td>\n",
              "      <td>0</td>\n",
              "      <td>...</td>\n",
              "      <td>0</td>\n",
              "      <td>0</td>\n",
              "      <td>0</td>\n",
              "      <td>0</td>\n",
              "      <td>0</td>\n",
              "      <td>0</td>\n",
              "      <td>0</td>\n",
              "      <td>0</td>\n",
              "      <td>0</td>\n",
              "      <td>0</td>\n",
              "    </tr>\n",
              "    <tr>\n",
              "      <th>19998</th>\n",
              "      <td>5</td>\n",
              "      <td>0</td>\n",
              "      <td>0</td>\n",
              "      <td>0</td>\n",
              "      <td>0</td>\n",
              "      <td>0</td>\n",
              "      <td>0</td>\n",
              "      <td>0</td>\n",
              "      <td>0</td>\n",
              "      <td>0</td>\n",
              "      <td>...</td>\n",
              "      <td>0</td>\n",
              "      <td>0</td>\n",
              "      <td>0</td>\n",
              "      <td>0</td>\n",
              "      <td>0</td>\n",
              "      <td>0</td>\n",
              "      <td>0</td>\n",
              "      <td>0</td>\n",
              "      <td>0</td>\n",
              "      <td>0</td>\n",
              "    </tr>\n",
              "  </tbody>\n",
              "</table>\n",
              "<p>19999 rows × 785 columns</p>\n",
              "</div>\n",
              "      <button class=\"colab-df-convert\" onclick=\"convertToInteractive('df-c4097070-d31c-40fa-a6ed-72bf326c9cd7')\"\n",
              "              title=\"Convert this dataframe to an interactive table.\"\n",
              "              style=\"display:none;\">\n",
              "        \n",
              "  <svg xmlns=\"http://www.w3.org/2000/svg\" height=\"24px\"viewBox=\"0 0 24 24\"\n",
              "       width=\"24px\">\n",
              "    <path d=\"M0 0h24v24H0V0z\" fill=\"none\"/>\n",
              "    <path d=\"M18.56 5.44l.94 2.06.94-2.06 2.06-.94-2.06-.94-.94-2.06-.94 2.06-2.06.94zm-11 1L8.5 8.5l.94-2.06 2.06-.94-2.06-.94L8.5 2.5l-.94 2.06-2.06.94zm10 10l.94 2.06.94-2.06 2.06-.94-2.06-.94-.94-2.06-.94 2.06-2.06.94z\"/><path d=\"M17.41 7.96l-1.37-1.37c-.4-.4-.92-.59-1.43-.59-.52 0-1.04.2-1.43.59L10.3 9.45l-7.72 7.72c-.78.78-.78 2.05 0 2.83L4 21.41c.39.39.9.59 1.41.59.51 0 1.02-.2 1.41-.59l7.78-7.78 2.81-2.81c.8-.78.8-2.07 0-2.86zM5.41 20L4 18.59l7.72-7.72 1.47 1.35L5.41 20z\"/>\n",
              "  </svg>\n",
              "      </button>\n",
              "      \n",
              "  <style>\n",
              "    .colab-df-container {\n",
              "      display:flex;\n",
              "      flex-wrap:wrap;\n",
              "      gap: 12px;\n",
              "    }\n",
              "\n",
              "    .colab-df-convert {\n",
              "      background-color: #E8F0FE;\n",
              "      border: none;\n",
              "      border-radius: 50%;\n",
              "      cursor: pointer;\n",
              "      display: none;\n",
              "      fill: #1967D2;\n",
              "      height: 32px;\n",
              "      padding: 0 0 0 0;\n",
              "      width: 32px;\n",
              "    }\n",
              "\n",
              "    .colab-df-convert:hover {\n",
              "      background-color: #E2EBFA;\n",
              "      box-shadow: 0px 1px 2px rgba(60, 64, 67, 0.3), 0px 1px 3px 1px rgba(60, 64, 67, 0.15);\n",
              "      fill: #174EA6;\n",
              "    }\n",
              "\n",
              "    [theme=dark] .colab-df-convert {\n",
              "      background-color: #3B4455;\n",
              "      fill: #D2E3FC;\n",
              "    }\n",
              "\n",
              "    [theme=dark] .colab-df-convert:hover {\n",
              "      background-color: #434B5C;\n",
              "      box-shadow: 0px 1px 3px 1px rgba(0, 0, 0, 0.15);\n",
              "      filter: drop-shadow(0px 1px 2px rgba(0, 0, 0, 0.3));\n",
              "      fill: #FFFFFF;\n",
              "    }\n",
              "  </style>\n",
              "\n",
              "      <script>\n",
              "        const buttonEl =\n",
              "          document.querySelector('#df-c4097070-d31c-40fa-a6ed-72bf326c9cd7 button.colab-df-convert');\n",
              "        buttonEl.style.display =\n",
              "          google.colab.kernel.accessAllowed ? 'block' : 'none';\n",
              "\n",
              "        async function convertToInteractive(key) {\n",
              "          const element = document.querySelector('#df-c4097070-d31c-40fa-a6ed-72bf326c9cd7');\n",
              "          const dataTable =\n",
              "            await google.colab.kernel.invokeFunction('convertToInteractive',\n",
              "                                                     [key], {});\n",
              "          if (!dataTable) return;\n",
              "\n",
              "          const docLinkHtml = 'Like what you see? Visit the ' +\n",
              "            '<a target=\"_blank\" href=https://colab.research.google.com/notebooks/data_table.ipynb>data table notebook</a>'\n",
              "            + ' to learn more about interactive tables.';\n",
              "          element.innerHTML = '';\n",
              "          dataTable['output_type'] = 'display_data';\n",
              "          await google.colab.output.renderOutput(dataTable, element);\n",
              "          const docLink = document.createElement('div');\n",
              "          docLink.innerHTML = docLinkHtml;\n",
              "          element.appendChild(docLink);\n",
              "        }\n",
              "      </script>\n",
              "    </div>\n",
              "  </div>\n",
              "  "
            ]
          },
          "metadata": {},
          "execution_count": 181
        }
      ]
    },
    {
      "cell_type": "markdown",
      "source": [
        "**Combining:**\n",
        "* (Refer: https://www.kaggle.com/code/residentmario/renaming-and-combining#Combining)\n",
        "* Pandas has three core methods for doing this: In order of increasing complexity, these are: *concat()*, *join()*, and *merge()*.\n",
        "* Most of what *merge()* can do can also be done more simply with *join()*.\n"
      ],
      "metadata": {
        "id": "KbO_3Sx1WD1K"
      }
    },
    {
      "cell_type": "markdown",
      "source": [
        "1. *concat()*:\n",
        "  * simplest\n",
        "  * Given a list of elements, this function will smush those elements together along an axis.\n",
        "  * This is useful when we have data in different DataFrame or Series objects but having the same fields (columns).\n",
        "  * **Example:**\n",
        "    * The YouTube Videos dataset, which splits the data up based on country of origin (e.g. Canada and the UK, in this example).\n",
        "    * If we want to study multiple countries simultaneously, we can use concat() to smush them together:\n",
        "    * ```\n",
        "      canadian_youtube = pd.read_csv(\"../input/youtube-new/CAvideos.csv\")\n",
        "british_youtube = pd.read_csv(\"../input/youtube-new/GBvideos.csv\")\n",
        "pd.concat([canadian_youtube, british_youtube])\n",
        "      ```"
      ],
      "metadata": {
        "id": "OdfCtxo2Ws6R"
      }
    },
    {
      "cell_type": "markdown",
      "source": [
        "2. *join()*:\n",
        "  * middle-most combiner in terms of complexity\n",
        "  * *join()* lets us combine different DataFrame objects which have an index in common.\n",
        "  * For example:\n",
        "    * to pull down videos that happened to be trending on the same day in both Canada and the UK, we could do the following:\n",
        "    * ```\n",
        "      left = canadian_youtube.set_index(['title', 'trending_date'])\n",
        "right = british_youtube.set_index(['title', 'trending_date'])\n",
        "left.join(right, lsuffix='_CAN', rsuffix='_UK')\n",
        "      ```\n",
        "    * The *lsuffix* and *rsuffix* parameters are necessary here because the data has the same column names in both British and Canadian datasets.\n",
        "    * If this wasn't true (because, say, we'd renamed them beforehand) we wouldn't need them."
      ],
      "metadata": {
        "id": "UlSVqcwpY1h8"
      }
    }
  ]
}